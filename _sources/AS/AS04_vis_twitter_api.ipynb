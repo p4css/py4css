{
 "cells": [
  {
   "cell_type": "markdown",
   "id": "76cc1e04-776f-47d9-831a-3bea36f60d79",
   "metadata": {},
   "source": [
    "# AS04 Twitter API and Pandas Visualization"
   ]
  },
  {
   "cell_type": "code",
   "execution_count": 94,
   "id": "54604f80-fe01-491c-83fc-ef91c9c5f334",
   "metadata": {},
   "outputs": [],
   "source": [
    "import pandas as pd\n",
    "import requests\n",
    "import os\n",
    "import json\n",
    "\n",
    "bearer_token = \"YOUR_BEARER_TOKEN\"\n",
    "\n",
    "search_url = \"https://api.twitter.com/2/tweets/search/recent\"\n",
    "\n",
    "def bearer_oauth(r):\n",
    "    r.headers[\"Authorization\"] = f\"Bearer {bearer_token}\"\n",
    "    r.headers[\"User-Agent\"] = \"v2RecentSearchPython\"\n",
    "    return r\n",
    "\n",
    "def connect_to_endpoint(url, params):\n",
    "    response = requests.get(url, auth=bearer_oauth, params=params)\n",
    "    print(response.status_code)\n",
    "    if response.status_code != 200:\n",
    "        raise Exception(response.status_code, response.text)\n",
    "    return response.json()"
   ]
  },
  {
   "cell_type": "markdown",
   "id": "22bb478c-56ae-4c60-9a88-6f0da28726cb",
   "metadata": {},
   "source": [
    "## Cleaning twitter data\n",
    "\n",
    "以下程式碼為爬取tweets資料的主要片段，請稍微觀察一下`query_params`怎麼下，和資料怎麼存起來，會有助於答題（Q1~Q3）\n",
    "\n",
    "```\n",
    "query_params = {'query': '(taiwan -is:retweet) OR #taiwan',\n",
    "                'tweet.fields': 'author_id,conversation_id,created_at,id,in_reply_to_user_id,lang,public_metrics,source',\n",
    "                'expansions':'author_id',\n",
    "                'user.fields': 'created_at,description,id,location,name,public_metrics,username,verified,withheld'\n",
    "               }\n",
    "\n",
    "json_response = connect_to_endpoint(search_url, query_params)\n",
    "tweets_all = json_response['data']\n",
    "users_all = json_response['includes']['users']\n",
    "\n",
    "for i in range(10):\n",
    "    query_params['next_token'] =  json_response[\"meta\"][\"next_token\"]\n",
    "    json_response = connect_to_endpoint(search_url, query_params)\n",
    "    tweets_all.extend(json_response['data'])\n",
    "    users_all.extend(json_response['includes']['users'])\n",
    "    print(len(tweets_all), len(users_all))\n",
    "    \n",
    "```\n",
    "\n",
    "\n",
    "以下資料是某一次用上列程式碼撈取資料的結果，users和tweets的資料被分開儲存，但共同儲存在檔案`sample_tweets.json`中。以下列程式碼讀取後，會發現`users_all`有109筆資料，但實際上是由103個不同的user所構成。"
   ]
  },
  {
   "cell_type": "code",
   "execution_count": 154,
   "id": "e919e02d-6ee6-4fc6-8a9a-6fcb583cd3c7",
   "metadata": {},
   "outputs": [
    {
     "name": "stdout",
     "output_type": "stream",
     "text": [
      "--2022-10-18 03:44:33--  https://raw.githubusercontent.com/p4css/py4css/main/data/sample_tweets.json\n",
      "Resolving raw.githubusercontent.com (raw.githubusercontent.com)... 185.199.108.133, 185.199.109.133, 185.199.110.133, ...\n",
      "Connecting to raw.githubusercontent.com (raw.githubusercontent.com)|185.199.108.133|:443... connected.\n",
      "HTTP request sent, awaiting response... 200 OK\n",
      "Length: 103598 (101K) [text/plain]\n",
      "Saving to: 'sample_tweets.json'\n",
      "\n",
      "sample_tweets.json  100%[===================>] 101.17K  --.-KB/s    in 0.1s    \n",
      "\n",
      "2022-10-18 03:44:34 (906 KB/s) - 'sample_tweets.json' saved [103598/103598]\n",
      "\n",
      "資料中共有 109 則tweets\n",
      "資料中共有 109 則不同的tweets\n",
      "資料中共有 109 個users\n",
      "資料中共有 103 個不同的users\n"
     ]
    }
   ],
   "source": [
    "!wget https://raw.githubusercontent.com/p4css/py4css/main/data/sample_tweets.json -O sample_tweets.json\n",
    "data = json.load(open('sample_tweets.json', 'r'))\n",
    "tweets_all = data['tweets']\n",
    "users_all = data['users']\n",
    "\n",
    "print(\"資料中共有\", len(tweets_all), \"則tweets\")\n",
    "print(\"資料中共有\", len(set([t['id'] for t in tweets_all])), \"則不同的tweets\")\n",
    "print(\"資料中共有\", len(users_all), \"個users\")\n",
    "print(\"資料中共有\", len(set([t['id'] for t in users_all])), \"個不同的users\")"
   ]
  },
  {
   "cell_type": "markdown",
   "id": "1ea6e42b-79b0-4690-b3e6-c0377a2702d7",
   "metadata": {},
   "source": [
    "### Q1. Keep unique user\n",
    "\n",
    "前面for-loop在爬取tweets資料時，有可能在不同圈的loop會爬取到相同的users，亦即這些tweets中有些tweets是同一個人發表的。因此造成上面雖然有109個users，但實際上只有103個不同的users。\n",
    "\n",
    "任務：請將`users_all`中相同的使用者資料刪除，保持`users_all`資料的唯一性（uniqueness）"
   ]
  },
  {
   "cell_type": "code",
   "execution_count": 155,
   "id": "869409d2-3a40-43fa-ae1c-a9d847631245",
   "metadata": {},
   "outputs": [],
   "source": [
    "# YOUR CODE SHOULD BE HERE\n",
    "\n",
    "\n"
   ]
  },
  {
   "cell_type": "markdown",
   "id": "1ac0767b-6b99-4e40-a7bb-7c0efca86bd3",
   "metadata": {},
   "source": [
    "#### Q1. Verification\n",
    "\n",
    "執行以下驗證程式碼，驗證結果應該要是\n",
    "```\n",
    "資料中共有 109 則tweets\n",
    "資料中共有 109 則不同的tweets\n",
    "資料中共有 103 個users\n",
    "資料中共有 103 個不同的users\n",
    "```"
   ]
  },
  {
   "cell_type": "code",
   "execution_count": 101,
   "id": "f6085a7c-7c3d-4cd2-a758-cd8a6ada7995",
   "metadata": {},
   "outputs": [
    {
     "name": "stdout",
     "output_type": "stream",
     "text": [
      "資料中共有 109 則tweets\n",
      "資料中共有 109 則不同的tweets\n",
      "資料中共有 103 個users\n",
      "資料中共有 103 個不同的users\n"
     ]
    }
   ],
   "source": [
    "print(\"資料中共有\", len(tweets_all), \"則tweets\")\n",
    "print(\"資料中共有\", len(set([t['id'] for t in tweets_all])), \"則不同的tweets\")\n",
    "print(\"資料中共有\", len(users_all), \"個users\")\n",
    "print(\"資料中共有\", len(set([t['id'] for t in users_all])), \"個不同的users\")"
   ]
  },
  {
   "cell_type": "markdown",
   "id": "179826c9-a40d-402f-8d7c-dc6d42281b6f",
   "metadata": {},
   "source": [
    "### Q2. flatten multi-layered data\n",
    "\n",
    "若單獨列印一筆`users_all`的資料出來觀察，或用pandas.DataFrame來觀察`users_all`，可發現`public_metrics`這個欄位是個階層欄位，如果希望把`followers_count`、`following_count`、`tweet_count`、`listed_count`分別獨立出來變成一個變項，使得用pandas.DataFrame的時候，這四個變項分別為該DataFrame的columns，要怎麼做？"
   ]
  },
  {
   "cell_type": "code",
   "execution_count": 156,
   "id": "bc1d144e-6176-4f7c-9fac-4bd91b6aba33",
   "metadata": {},
   "outputs": [
    {
     "name": "stdout",
     "output_type": "stream",
     "text": [
      "{\n",
      "    \"description\": \"\",\n",
      "    \"verified\": false,\n",
      "    \"username\": \"darleneclarke5\",\n",
      "    \"id\": \"564257648\",\n",
      "    \"created_at\": \"2012-04-27T03:27:25.000Z\",\n",
      "    \"public_metrics\": {\n",
      "        \"followers_count\": 701,\n",
      "        \"following_count\": 1205,\n",
      "        \"tweet_count\": 214782,\n",
      "        \"listed_count\": 1\n",
      "    },\n",
      "    \"name\": \"Darlene Clarke\"\n",
      "}\n"
     ]
    },
    {
     "data": {
      "text/html": [
       "<div>\n",
       "<style scoped>\n",
       "    .dataframe tbody tr th:only-of-type {\n",
       "        vertical-align: middle;\n",
       "    }\n",
       "\n",
       "    .dataframe tbody tr th {\n",
       "        vertical-align: top;\n",
       "    }\n",
       "\n",
       "    .dataframe thead th {\n",
       "        text-align: right;\n",
       "    }\n",
       "</style>\n",
       "<table border=\"1\" class=\"dataframe\">\n",
       "  <thead>\n",
       "    <tr style=\"text-align: right;\">\n",
       "      <th></th>\n",
       "      <th>description</th>\n",
       "      <th>verified</th>\n",
       "      <th>username</th>\n",
       "      <th>id</th>\n",
       "      <th>created_at</th>\n",
       "      <th>public_metrics</th>\n",
       "      <th>name</th>\n",
       "      <th>location</th>\n",
       "    </tr>\n",
       "  </thead>\n",
       "  <tbody>\n",
       "    <tr>\n",
       "      <th>0</th>\n",
       "      <td></td>\n",
       "      <td>False</td>\n",
       "      <td>darleneclarke5</td>\n",
       "      <td>564257648</td>\n",
       "      <td>2012-04-27T03:27:25.000Z</td>\n",
       "      <td>{'followers_count': 701, 'following_count': 12...</td>\n",
       "      <td>Darlene Clarke</td>\n",
       "      <td>NaN</td>\n",
       "    </tr>\n",
       "    <tr>\n",
       "      <th>1</th>\n",
       "      <td>158/38D有腰身的棉花糖 ～我願做林場的管理者也不願吊死在樹上，有趣的靈魂可遇不可求，遇...</td>\n",
       "      <td>False</td>\n",
       "      <td>tokoyuki0527</td>\n",
       "      <td>1196170120940310529</td>\n",
       "      <td>2019-11-17T20:56:08.000Z</td>\n",
       "      <td>{'followers_count': 7110, 'following_count': 2...</td>\n",
       "      <td>阿希</td>\n",
       "      <td>Taichung City, Taiwan</td>\n",
       "    </tr>\n",
       "    <tr>\n",
       "      <th>2</th>\n",
       "      <td>しんこうちゅう勉強二ホンゴ～ワだシは台湾にです，Twitter 執筆オオユソ星占い。\\n\\n...</td>\n",
       "      <td>False</td>\n",
       "      <td>NicolasCheng6</td>\n",
       "      <td>1292734971975618560</td>\n",
       "      <td>2020-08-10T08:10:23.000Z</td>\n",
       "      <td>{'followers_count': 0, 'following_count': 0, '...</td>\n",
       "      <td>Nicolas Cheng</td>\n",
       "      <td>台灣</td>\n",
       "    </tr>\n",
       "    <tr>\n",
       "      <th>3</th>\n",
       "      <td>Freedom of Thought, of Expresson and from Viol...</td>\n",
       "      <td>False</td>\n",
       "      <td>Spectrumofreas1</td>\n",
       "      <td>1306881559463636994</td>\n",
       "      <td>2020-09-18T09:03:51.000Z</td>\n",
       "      <td>{'followers_count': 471, 'following_count': 35...</td>\n",
       "      <td>Spectre of Reason</td>\n",
       "      <td>Lithosphere</td>\n",
       "    </tr>\n",
       "    <tr>\n",
       "      <th>4</th>\n",
       "      <td>Sociólogo, humanista, sobresalido, acelerado, ...</td>\n",
       "      <td>False</td>\n",
       "      <td>ACruzCoutino</td>\n",
       "      <td>839588194433773568</td>\n",
       "      <td>2017-03-08T21:26:39.000Z</td>\n",
       "      <td>{'followers_count': 1370, 'following_count': 1...</td>\n",
       "      <td>Antonio Cruz Coutiño. Dr.</td>\n",
       "      <td>Tuxtla Gutiérrez, Chiapas, Méx</td>\n",
       "    </tr>\n",
       "  </tbody>\n",
       "</table>\n",
       "</div>"
      ],
      "text/plain": [
       "                                         description  verified  \\\n",
       "0                                                        False   \n",
       "1  158/38D有腰身的棉花糖 ～我願做林場的管理者也不願吊死在樹上，有趣的靈魂可遇不可求，遇...     False   \n",
       "2  しんこうちゅう勉強二ホンゴ～ワだシは台湾にです，Twitter 執筆オオユソ星占い。\\n\\n...     False   \n",
       "3  Freedom of Thought, of Expresson and from Viol...     False   \n",
       "4  Sociólogo, humanista, sobresalido, acelerado, ...     False   \n",
       "\n",
       "          username                   id                created_at  \\\n",
       "0   darleneclarke5            564257648  2012-04-27T03:27:25.000Z   \n",
       "1     tokoyuki0527  1196170120940310529  2019-11-17T20:56:08.000Z   \n",
       "2    NicolasCheng6  1292734971975618560  2020-08-10T08:10:23.000Z   \n",
       "3  Spectrumofreas1  1306881559463636994  2020-09-18T09:03:51.000Z   \n",
       "4     ACruzCoutino   839588194433773568  2017-03-08T21:26:39.000Z   \n",
       "\n",
       "                                      public_metrics  \\\n",
       "0  {'followers_count': 701, 'following_count': 12...   \n",
       "1  {'followers_count': 7110, 'following_count': 2...   \n",
       "2  {'followers_count': 0, 'following_count': 0, '...   \n",
       "3  {'followers_count': 471, 'following_count': 35...   \n",
       "4  {'followers_count': 1370, 'following_count': 1...   \n",
       "\n",
       "                        name                        location  \n",
       "0             Darlene Clarke                             NaN  \n",
       "1                         阿希           Taichung City, Taiwan  \n",
       "2              Nicolas Cheng                              台灣  \n",
       "3          Spectre of Reason                     Lithosphere  \n",
       "4  Antonio Cruz Coutiño. Dr.  Tuxtla Gutiérrez, Chiapas, Méx  "
      ]
     },
     "execution_count": 156,
     "metadata": {},
     "output_type": "execute_result"
    }
   ],
   "source": [
    "import pandas as pd\n",
    "print(json.dumps(users_all[0], indent=4))\n",
    "pd.DataFrame(users_all).head()"
   ]
  },
  {
   "cell_type": "code",
   "execution_count": 157,
   "id": "e7a3eaf9-9e79-41bd-b903-9aba461ce374",
   "metadata": {},
   "outputs": [],
   "source": [
    "# YOUR CODE SHOULD BE HERE\n",
    "\n",
    "\n"
   ]
  },
  {
   "cell_type": "markdown",
   "id": "1d8704d9-f644-4f98-b26e-8a88d4ef9907",
   "metadata": {},
   "source": [
    "#### Q2. Verification\n",
    "\n",
    "用下列程式碼列印出結果應該如下，沒有`public_metrics`這個column，但多出了四個裡面的columns：`followers_count`, `following_count`, `tweet_count`, `listed_count`。\n",
    "\n",
    "Following output should be ...\n",
    "\n",
    "```\n",
    "Index(['description', 'verified', 'username', 'id', 'created_at', 'name',\n",
    "       'followers_count', 'following_count', 'tweet_count', 'listed_count',\n",
    "       'location'],\n",
    "      dtype='object')\n",
    "```"
   ]
  },
  {
   "cell_type": "code",
   "execution_count": 158,
   "id": "c85585b2-587d-4950-92a6-563edc3545a4",
   "metadata": {},
   "outputs": [
    {
     "data": {
      "text/plain": [
       "Index(['description', 'verified', 'username', 'id', 'created_at',\n",
       "       'public_metrics', 'name', 'location'],\n",
       "      dtype='object')"
      ]
     },
     "execution_count": 158,
     "metadata": {},
     "output_type": "execute_result"
    }
   ],
   "source": [
    "pd.DataFrame(users_all).columns"
   ]
  },
  {
   "cell_type": "markdown",
   "id": "53abb618-7aee-4ca7-97eb-c450d0731322",
   "metadata": {},
   "source": [
    "### Repeats on tweets data"
   ]
  },
  {
   "cell_type": "code",
   "execution_count": 159,
   "id": "37b35aac-83c4-4f94-870a-b99b3055d8de",
   "metadata": {},
   "outputs": [
    {
     "name": "stdout",
     "output_type": "stream",
     "text": [
      "{\n",
      "    \"lang\": \"en\",\n",
      "    \"created_at\": \"2022-10-17T16:14:34.000Z\",\n",
      "    \"conversation_id\": \"1582042394651873280\",\n",
      "    \"edit_history_tweet_ids\": [\n",
      "        \"1582042394651873280\"\n",
      "    ],\n",
      "    \"text\": \"RT @GordonGChang: #America\\u2019s military analysts think we will have lots of warning of a #Chinese attack on #Taiwan. In fact, we won\\u2019t. See:\\u2026\",\n",
      "    \"id\": \"1582042394651873280\",\n",
      "    \"source\": \"Twitter Web App\",\n",
      "    \"author_id\": \"564257648\",\n",
      "    \"public_metrics\": {\n",
      "        \"retweet_count\": 21,\n",
      "        \"reply_count\": 0,\n",
      "        \"like_count\": 0,\n",
      "        \"quote_count\": 0\n",
      "    }\n",
      "}\n"
     ]
    },
    {
     "data": {
      "text/html": [
       "<div>\n",
       "<style scoped>\n",
       "    .dataframe tbody tr th:only-of-type {\n",
       "        vertical-align: middle;\n",
       "    }\n",
       "\n",
       "    .dataframe tbody tr th {\n",
       "        vertical-align: top;\n",
       "    }\n",
       "\n",
       "    .dataframe thead th {\n",
       "        text-align: right;\n",
       "    }\n",
       "</style>\n",
       "<table border=\"1\" class=\"dataframe\">\n",
       "  <thead>\n",
       "    <tr style=\"text-align: right;\">\n",
       "      <th></th>\n",
       "      <th>lang</th>\n",
       "      <th>created_at</th>\n",
       "      <th>conversation_id</th>\n",
       "      <th>edit_history_tweet_ids</th>\n",
       "      <th>text</th>\n",
       "      <th>id</th>\n",
       "      <th>source</th>\n",
       "      <th>author_id</th>\n",
       "      <th>public_metrics</th>\n",
       "      <th>in_reply_to_user_id</th>\n",
       "    </tr>\n",
       "  </thead>\n",
       "  <tbody>\n",
       "    <tr>\n",
       "      <th>0</th>\n",
       "      <td>en</td>\n",
       "      <td>2022-10-17T16:14:34.000Z</td>\n",
       "      <td>1582042394651873280</td>\n",
       "      <td>[1582042394651873280]</td>\n",
       "      <td>RT @GordonGChang: #America’s military analysts...</td>\n",
       "      <td>1582042394651873280</td>\n",
       "      <td>Twitter Web App</td>\n",
       "      <td>564257648</td>\n",
       "      <td>{'retweet_count': 21, 'reply_count': 0, 'like_...</td>\n",
       "      <td>NaN</td>\n",
       "    </tr>\n",
       "    <tr>\n",
       "      <th>1</th>\n",
       "      <td>zh</td>\n",
       "      <td>2022-10-17T16:14:29.000Z</td>\n",
       "      <td>1582000361283284998</td>\n",
       "      <td>[1582042375706116097]</td>\n",
       "      <td>@taiwan_davidwu 我來了 https://t.co/IbJEPtbJ2t</td>\n",
       "      <td>1582042375706116097</td>\n",
       "      <td>Twitter for iPhone</td>\n",
       "      <td>1196170120940310529</td>\n",
       "      <td>{'retweet_count': 0, 'reply_count': 0, 'like_c...</td>\n",
       "      <td>1530566857123434496</td>\n",
       "    </tr>\n",
       "    <tr>\n",
       "      <th>2</th>\n",
       "      <td>zh</td>\n",
       "      <td>2022-10-17T16:14:14.000Z</td>\n",
       "      <td>1582042309721751553</td>\n",
       "      <td>[1582042309721751553]</td>\n",
       "      <td>Taiwan Constellation \\n2022／10／18的星相顯示：\\n低頻率發生...</td>\n",
       "      <td>1582042309721751553</td>\n",
       "      <td>Twitter for Android</td>\n",
       "      <td>1292734971975618560</td>\n",
       "      <td>{'retweet_count': 0, 'reply_count': 0, 'like_c...</td>\n",
       "      <td>NaN</td>\n",
       "    </tr>\n",
       "    <tr>\n",
       "      <th>3</th>\n",
       "      <td>en</td>\n",
       "      <td>2022-10-17T16:14:04.000Z</td>\n",
       "      <td>1581986552246603776</td>\n",
       "      <td>[1582042269963517952]</td>\n",
       "      <td>@elonmusk @TsicsafPelosi @starrski71 @RenataKo...</td>\n",
       "      <td>1582042269963517952</td>\n",
       "      <td>Twitter for Android</td>\n",
       "      <td>1306881559463636994</td>\n",
       "      <td>{'retweet_count': 1, 'reply_count': 0, 'like_c...</td>\n",
       "      <td>44196397</td>\n",
       "    </tr>\n",
       "    <tr>\n",
       "      <th>4</th>\n",
       "      <td>es</td>\n",
       "      <td>2022-10-17T16:14:00.000Z</td>\n",
       "      <td>1582042182168346627</td>\n",
       "      <td>[1582042252716933120]</td>\n",
       "      <td>Subrayó que las acciones de Pekín jamás irán d...</td>\n",
       "      <td>1582042252716933120</td>\n",
       "      <td>Twitter Web App</td>\n",
       "      <td>839588194433773568</td>\n",
       "      <td>{'retweet_count': 0, 'reply_count': 0, 'like_c...</td>\n",
       "      <td>839588194433773568</td>\n",
       "    </tr>\n",
       "  </tbody>\n",
       "</table>\n",
       "</div>"
      ],
      "text/plain": [
       "  lang                created_at      conversation_id edit_history_tweet_ids  \\\n",
       "0   en  2022-10-17T16:14:34.000Z  1582042394651873280  [1582042394651873280]   \n",
       "1   zh  2022-10-17T16:14:29.000Z  1582000361283284998  [1582042375706116097]   \n",
       "2   zh  2022-10-17T16:14:14.000Z  1582042309721751553  [1582042309721751553]   \n",
       "3   en  2022-10-17T16:14:04.000Z  1581986552246603776  [1582042269963517952]   \n",
       "4   es  2022-10-17T16:14:00.000Z  1582042182168346627  [1582042252716933120]   \n",
       "\n",
       "                                                text                   id  \\\n",
       "0  RT @GordonGChang: #America’s military analysts...  1582042394651873280   \n",
       "1        @taiwan_davidwu 我來了 https://t.co/IbJEPtbJ2t  1582042375706116097   \n",
       "2  Taiwan Constellation \\n2022／10／18的星相顯示：\\n低頻率發生...  1582042309721751553   \n",
       "3  @elonmusk @TsicsafPelosi @starrski71 @RenataKo...  1582042269963517952   \n",
       "4  Subrayó que las acciones de Pekín jamás irán d...  1582042252716933120   \n",
       "\n",
       "                source            author_id  \\\n",
       "0      Twitter Web App            564257648   \n",
       "1   Twitter for iPhone  1196170120940310529   \n",
       "2  Twitter for Android  1292734971975618560   \n",
       "3  Twitter for Android  1306881559463636994   \n",
       "4      Twitter Web App   839588194433773568   \n",
       "\n",
       "                                      public_metrics  in_reply_to_user_id  \n",
       "0  {'retweet_count': 21, 'reply_count': 0, 'like_...                  NaN  \n",
       "1  {'retweet_count': 0, 'reply_count': 0, 'like_c...  1530566857123434496  \n",
       "2  {'retweet_count': 0, 'reply_count': 0, 'like_c...                  NaN  \n",
       "3  {'retweet_count': 1, 'reply_count': 0, 'like_c...             44196397  \n",
       "4  {'retweet_count': 0, 'reply_count': 0, 'like_c...   839588194433773568  "
      ]
     },
     "execution_count": 159,
     "metadata": {},
     "output_type": "execute_result"
    }
   ],
   "source": [
    "print(json.dumps(tweets_all[0], indent=4))\n",
    "pd.DataFrame(tweets_all).head()"
   ]
  },
  {
   "cell_type": "code",
   "execution_count": 160,
   "id": "3e0a342c-05ee-4fa0-8009-11fe0593787f",
   "metadata": {},
   "outputs": [],
   "source": [
    "# YOUR CODE SHOULD BE HERE\n",
    "\n",
    "\n",
    "\n",
    "\n"
   ]
  },
  {
   "cell_type": "markdown",
   "id": "7152f304-f02a-46d4-8fb3-9ab7600b7634",
   "metadata": {},
   "source": [
    "#### Q2. Verification\n",
    "\n",
    "Following output should be ...\n",
    "```\n",
    "Index(['lang', 'created_at', 'conversation_id', 'text', 'id', 'source',\n",
    "       'author_id', 'retweet_count', 'reply_count', 'like_count',\n",
    "       'quote_count', 'in_reply_to_user_id'],\n",
    "      dtype='object')\n",
    "```"
   ]
  },
  {
   "cell_type": "code",
   "execution_count": 116,
   "id": "13e71666-e7ed-4a28-9a8e-c01a39ef9ad5",
   "metadata": {},
   "outputs": [
    {
     "data": {
      "text/plain": [
       "Index(['lang', 'created_at', 'conversation_id', 'text', 'id', 'source',\n",
       "       'author_id', 'retweet_count', 'reply_count', 'like_count',\n",
       "       'quote_count', 'in_reply_to_user_id'],\n",
       "      dtype='object')"
      ]
     },
     "execution_count": 116,
     "metadata": {},
     "output_type": "execute_result"
    }
   ],
   "source": [
    "pd.DataFrame(tweets_all).columns"
   ]
  },
  {
   "cell_type": "markdown",
   "id": "ed2c14f4-10ab-4aef-8cad-2b785cc9e062",
   "metadata": {},
   "source": [
    "### Q3. Join tweets and users data\n",
    "\n",
    "下一個任務是把tweets和users兩個資料整合起來，使得不同的users資料可以根據tweet中的`author_id`加入tweets資料中，整合成一份大的資料。要注意的是，此時，每一則tweets都是唯一的，但不同tweets的作者卻可能相同。要整合這樣的資料有兩種做法，\n",
    "1. 傳統做法是，把每一則tweet掃過一遍，看看他的`author_id`是誰，就從users資料中抽取出該`id`的資料，加入該則tweet中。\n",
    "2. 但我可以把兩個份資料通通轉為DataFrame，然後運用資料庫合併資料表的概念來合併資料。\n",
    "\n",
    "無論用哪一種方法，將資料整合後，最終的結果必須是一個變數名稱為`merged_df`的DataFrame。\n",
    "HINT: 其實本題是希望你嘗試用第二種方法，參考資料如下，這個動作在資料庫稱為LEFT_JOIN。\n",
    "https://towardsdatascience.com/left-join-with-pandas-data-frames-in-python-c29c85089ba4"
   ]
  },
  {
   "cell_type": "code",
   "execution_count": 161,
   "id": "4d2d433f-0be1-41f5-8cbd-ba438f604c35",
   "metadata": {},
   "outputs": [],
   "source": [
    "tweets_df = pd.DataFrame(tweets_all)\n",
    "users_df = pd.DataFrame(users_all)\n",
    "\n",
    "# YOUR CODE SHOULD BE HERE\n",
    "# merged_df = \n",
    "\n",
    "\n",
    "\n"
   ]
  },
  {
   "cell_type": "markdown",
   "id": "f1af8d2b-63fc-4684-b341-c2675df87504",
   "metadata": {},
   "source": [
    "#### Q3. Verification\n",
    "\n",
    "以下程式碼的輸出結果應該是\n",
    "```\n",
    "Index(['lang', 'created_at', 'conversation_id', 'text', 'id', 'source',\n",
    "       'author_id', 'retweet_count', 'reply_count', 'like_count',\n",
    "       'quote_count', 'in_reply_to_user_id', 'description', 'verified',\n",
    "       'username', 'account_created_at', 'name', 'followers_count',\n",
    "       'following_count', 'tweet_count', 'listed_count', 'location'],\n",
    "      dtype='object')\n",
    "```"
   ]
  },
  {
   "cell_type": "code",
   "execution_count": 125,
   "id": "6a8cf0b4-dafa-4fb7-a2e9-1903c0e6507f",
   "metadata": {},
   "outputs": [
    {
     "data": {
      "text/plain": [
       "Index(['lang', 'created_at', 'conversation_id', 'text', 'id', 'source',\n",
       "       'author_id', 'retweet_count', 'reply_count', 'like_count',\n",
       "       'quote_count', 'in_reply_to_user_id', 'description', 'verified',\n",
       "       'username', 'account_created_at', 'name', 'followers_count',\n",
       "       'following_count', 'tweet_count', 'listed_count', 'location'],\n",
       "      dtype='object')"
      ]
     },
     "execution_count": 125,
     "metadata": {},
     "output_type": "execute_result"
    }
   ],
   "source": [
    "merged_df.columns"
   ]
  },
  {
   "cell_type": "markdown",
   "id": "3c417abd-4130-4459-ab94-32e25e03c0b0",
   "metadata": {},
   "source": [
    "## Explore twitter information operation data\n",
    "\n",
    "以下主要作業是練習篩選資料（Filter）、簡單地視覺化資料。\n",
    "\n",
    "閱讀READr關於資訊操作的相關報導：\n",
    "1. READr (2019a). Twitter 大戰中國網軍！？解密被刪帳號資料集 - READr 讀+. READr. https://www.readr.tw/post/2013\n",
    "2. READr (2019b). 【Twitter 大戰中國網軍】剖析網軍互動！長期低度使用、蹭熱點、小夥伴支援 - READr 讀+. READr. https://www.readr.tw/post/2028\n",
    "3. READr (2019c). 【Twitter 大戰中國網軍】Twitter 如何辨認政治網軍？ - READr 讀+. READr. https://www.readr.tw/post/2029\n",
    "\n",
    "以下匯入的資料集，`tweets`包含的是Twitter Transparency Center在2019-08所公布的問題帳號的推特文，摘出2019-03-15之後的推特文。\n",
    "而`users`則包含該次公布的第一個問題帳號集（該次公布了兩個資料集，詳細說明可見這篇報導https://www.readr.tw/post/2029 ）\n"
   ]
  },
  {
   "cell_type": "code",
   "execution_count": 139,
   "id": "f0586dcf-164e-4186-8e71-aea2ee32738d",
   "metadata": {},
   "outputs": [
    {
     "name": "stdout",
     "output_type": "stream",
     "text": [
      "(15579, 31)\n",
      "<class 'pandas.core.frame.DataFrame'>\n",
      "RangeIndex: 15579 entries, 0 to 15578\n",
      "Data columns (total 31 columns):\n",
      " #   Column                    Non-Null Count  Dtype  \n",
      "---  ------                    --------------  -----  \n",
      " 0   tweetid                   15579 non-null  float64\n",
      " 1   userid                    15579 non-null  object \n",
      " 2   user_display_name         15579 non-null  object \n",
      " 3   user_screen_name          15579 non-null  object \n",
      " 4   user_reported_location    12406 non-null  object \n",
      " 5   user_profile_description  12585 non-null  object \n",
      " 6   user_profile_url          658 non-null    object \n",
      " 7   follower_count            15579 non-null  int64  \n",
      " 8   following_count           15579 non-null  int64  \n",
      " 9   account_creation_date     15579 non-null  object \n",
      " 10  account_language          15579 non-null  object \n",
      " 11  tweet_language            15579 non-null  object \n",
      " 12  tweet_text                15579 non-null  object \n",
      " 13  tweet_time                15579 non-null  object \n",
      " 14  tweet_client_name         15579 non-null  object \n",
      " 15  in_reply_to_userid        1096 non-null   object \n",
      " 16  in_reply_to_tweetid       1071 non-null   float64\n",
      " 17  quoted_tweet_tweetid      1138 non-null   float64\n",
      " 18  is_retweet                15579 non-null  bool   \n",
      " 19  retweet_userid            5184 non-null   object \n",
      " 20  retweet_tweetid           5184 non-null   float64\n",
      " 21  latitude                  15579 non-null  object \n",
      " 22  longitude                 15579 non-null  object \n",
      " 23  quote_count               15536 non-null  float64\n",
      " 24  reply_count               15536 non-null  float64\n",
      " 25  like_count                15536 non-null  float64\n",
      " 26  retweet_count             15536 non-null  float64\n",
      " 27  hashtags                  15579 non-null  object \n",
      " 28  urls                      15579 non-null  object \n",
      " 29  user_mentions             15579 non-null  object \n",
      " 30  poll_choices              0 non-null      float64\n",
      "dtypes: bool(1), float64(9), int64(2), object(19)\n",
      "memory usage: 3.6+ MB\n"
     ]
    }
   ],
   "source": [
    "import pandas as pd\n",
    "tweets = pd.read_csv(\"https://raw.githubusercontent.com/p4css/py4css/main/data/tweets20190315.csv\")\n",
    "users = pd.read_csv(\"https://raw.githubusercontent.com/p4css/py4css/main/data/twitter_user1_hashed.csv\")\n",
    "\n",
    "pat = \"港警|逃犯條例|反修例|遊行|修例|反送中|anti-extradition|hongkong|hkpolicebrutality|soshk|hongkongprotesters|HongKongPolice|hkpoliceforce|freedomHK|antiELAB|HongKongProtests|antiextraditionlaw|HongKongProtest|七一|游行|民阵|HongKong|逃犯条例|民陣|撐警|香港眾志|HongKongProterst|林鄭|警队|力撑|HK|香港|港\"\n",
    "print(tweets.shape)\n",
    "tweets.info()"
   ]
  },
  {
   "cell_type": "markdown",
   "id": "93f91607-2615-4124-a3b6-d7e5e5327739",
   "metadata": {},
   "source": [
    "### Q4. Filter HK-related tweets\n",
    "\n",
    "原本`users`共有744個accounts，但希望像報導https://www.readr.tw/post/2013 所做的，嘗試篩選出曾經討論香港反送中運動，或者在那段時間中，討論香港相關議題的tweets和帳號。第一步要先找出，哪些tweets提及香港相關關鍵字。\n",
    "\n",
    "任務：自tweets這個DataFrame中篩選出與香港議題相關的tweets後，指給新變數`hk_tweets`。"
   ]
  },
  {
   "cell_type": "code",
   "execution_count": 162,
   "id": "8ba81d3b-f235-4d21-bd9c-3040d8f1f619",
   "metadata": {},
   "outputs": [
    {
     "data": {
      "text/plain": [
       "(1788, 31)"
      ]
     },
     "execution_count": 162,
     "metadata": {},
     "output_type": "execute_result"
    }
   ],
   "source": [
    "# YOUR CODE SHOULD BE HERE\n",
    "\n",
    "# hk_tweets = \n",
    "\n",
    "## Print out dim of the dataframe\n",
    "hk_tweets.shape"
   ]
  },
  {
   "cell_type": "markdown",
   "id": "b4c473bc-5d52-47fe-9e5c-d6315c16a613",
   "metadata": {},
   "source": [
    "### Q5. Filter users data in HL-related tweets\n",
    "\n",
    "下一步便是找出，發表這些香港相關tweets的帳號有哪些，然後將這些帳號篩選出來。\n",
    "\n",
    "任務：自`users`這個DataFrame中篩選出包含在上題`hk_tweets`中的帳號，指給新變數`hk_users`。\n"
   ]
  },
  {
   "cell_type": "code",
   "execution_count": 149,
   "id": "32aad238-df39-473f-834f-cf4e5f84b39a",
   "metadata": {},
   "outputs": [
    {
     "name": "stdout",
     "output_type": "stream",
     "text": [
      "(744, 10)\n",
      "<class 'pandas.core.frame.DataFrame'>\n",
      "RangeIndex: 744 entries, 0 to 743\n",
      "Data columns (total 10 columns):\n",
      " #   Column                    Non-Null Count  Dtype \n",
      "---  ------                    --------------  ----- \n",
      " 0   userid                    744 non-null    object\n",
      " 1   user_display_name         744 non-null    object\n",
      " 2   user_screen_name          744 non-null    object\n",
      " 3   user_reported_location    182 non-null    object\n",
      " 4   user_profile_description  189 non-null    object\n",
      " 5   user_profile_url          14 non-null     object\n",
      " 6   follower_count            744 non-null    int64 \n",
      " 7   following_count           744 non-null    int64 \n",
      " 8   account_creation_date     744 non-null    object\n",
      " 9   account_language          744 non-null    object\n",
      "dtypes: int64(2), object(8)\n",
      "memory usage: 58.2+ KB\n"
     ]
    }
   ],
   "source": [
    "print(users.shape)\n",
    "users.info()"
   ]
  },
  {
   "cell_type": "code",
   "execution_count": 163,
   "id": "047b2a2e-7796-4662-9677-7d9e9f8cdd39",
   "metadata": {},
   "outputs": [
    {
     "data": {
      "text/plain": [
       "(105, 10)"
      ]
     },
     "execution_count": 163,
     "metadata": {},
     "output_type": "execute_result"
    }
   ],
   "source": [
    "# YOUR CODE SHOULD BE HERE\n",
    "\n",
    "# hk_users = \n",
    "hk_users.shape"
   ]
  },
  {
   "cell_type": "markdown",
   "id": "0ceec9c2-d438-41d0-a951-0b224a45839d",
   "metadata": {},
   "source": [
    "### Q6 Account languages of questionable accounts\n",
    "\n",
    "仿照https://www.readr.tw/post/2013 之「被刪除的帳號註冊語言」一圖，繪製長條圖以視覺化`hk_users`的帳號註冊語言。"
   ]
  },
  {
   "cell_type": "code",
   "execution_count": null,
   "id": "d0681038-a207-4630-83b7-a9cb5a63d1ec",
   "metadata": {},
   "outputs": [],
   "source": [
    "# YOUR CODE SHOULD BE HERE\n",
    "\n",
    "\n",
    "\n"
   ]
  },
  {
   "cell_type": "markdown",
   "id": "e5015656-b988-4f6d-b9fc-dc885dbadc36",
   "metadata": {},
   "source": [
    "### Q7 Activities of questionable accounts \n",
    "\n",
    "仿照https://www.readr.tw/post/2013 之「反送中帳號過去推文時間分佈」一圖，資料繪製折線圖以呈現這些帳號的發文活動。"
   ]
  },
  {
   "cell_type": "code",
   "execution_count": null,
   "id": "77498ef3-42fd-4c3a-857f-3a3a3fc39510",
   "metadata": {},
   "outputs": [],
   "source": [
    "# YOUR CODE SHOULD BE HERE\n",
    "\n",
    "\n",
    "\n"
   ]
  },
  {
   "cell_type": "markdown",
   "id": "b541009a-097f-4ed1-a39f-0d364d365bbe",
   "metadata": {},
   "source": [
    "#### Q8 Social reputation of questionable accounts\n",
    "\n",
    "仿照https://www.readr.tw/post/2029 之「從散佈圖看Twitter網軍的社群行為」一圖的紅點部分，繪製上述`hk_users`的follower/followings人數之散佈圖。"
   ]
  },
  {
   "cell_type": "code",
   "execution_count": null,
   "id": "53c827ee-da90-4a2e-a64f-0f6fa6ce71ba",
   "metadata": {},
   "outputs": [],
   "source": [
    "# YOUR CODE SHOULD BE HERE\n",
    "\n",
    "\n",
    "\n"
   ]
  }
 ],
 "metadata": {
  "kernelspec": {
   "display_name": "Python 3 (ipykernel)",
   "language": "python",
   "name": "python3"
  },
  "language_info": {
   "codemirror_mode": {
    "name": "ipython",
    "version": 3
   },
   "file_extension": ".py",
   "mimetype": "text/x-python",
   "name": "python",
   "nbconvert_exporter": "python",
   "pygments_lexer": "ipython3",
   "version": "3.9.12"
  }
 },
 "nbformat": 4,
 "nbformat_minor": 5
}
