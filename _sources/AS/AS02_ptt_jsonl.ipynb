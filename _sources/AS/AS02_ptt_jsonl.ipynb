{
 "cells": [
  {
   "cell_type": "markdown",
   "metadata": {},
   "source": [
    "# AS02 Reading PTT data\n",
    "\n",
    "在這個作業中，老師給了你一個檔案的資料是g0v所搜集的PTT資料，是2020-01-02當天發佈在Gosshiping版上的貼文及其留言。該檔案用jsonl的方式儲存，每一行是一個json格式的資料，包含了該篇貼文的標題、作者、發文時間、內容、留言等等資訊。你的任務是讀取該檔案，並且回答出該天發文數最多的作者是誰，以及該作者發了幾篇貼文等問題。\n",
    "- 資料鏈結：https://github.com/p4css/py4css/blob/main/data/2020-01-02.jsonl"
   ]
  },
  {
   "cell_type": "markdown",
   "metadata": {},
   "source": [
    "## Q1. 讀取jsonl資料\n",
    "\n",
    "該資料集中共包含幾篇貼文？（成功回答這題代表有成功解開資料，會得到基本的40分）\n",
    "\n",
    "向ChatGPT3.5查詢要如何讀取jsonl資料，並將該檔案讀取到一個list或dict中。理想上，每篇貼文會是一個dict，但在貼文中，還會有一個key所對應到的value是comments，而該comments也是一個list，裡面包含所有該貼文的comment。"
   ]
  },
  {
   "cell_type": "code",
   "execution_count": null,
   "metadata": {},
   "outputs": [],
   "source": [
    "# your code here"
   ]
  },
  {
   "cell_type": "markdown",
   "metadata": {},
   "source": [
    "## Q2. 該資料集中共有幾篇留言？10分\n",
    "\n"
   ]
  },
  {
   "cell_type": "code",
   "execution_count": null,
   "metadata": {},
   "outputs": [],
   "source": [
    "# your code here"
   ]
  },
  {
   "cell_type": "markdown",
   "metadata": {},
   "source": [
    "## Q3. 該資料集中的貼文共有哪些欄位？留言共有哪些欄位？10分"
   ]
  },
  {
   "cell_type": "code",
   "execution_count": null,
   "metadata": {},
   "outputs": [],
   "source": [
    "# your code here"
   ]
  },
  {
   "cell_type": "markdown",
   "metadata": {},
   "source": [
    "## Q4. 該資料集中共有幾位貼文者？（注意，可能同一位版友會張貼超過一篇文章）10分\n",
    "\n",
    "The answer should be like this:\n",
    "```\n",
    "There are totally n users has posts in this dataset.\n",
    "```"
   ]
  },
  {
   "cell_type": "code",
   "execution_count": null,
   "metadata": {},
   "outputs": [],
   "source": [
    "# your code here"
   ]
  },
  {
   "cell_type": "markdown",
   "metadata": {},
   "source": [
    "## Q5. 留言數最高的留言者是誰？10分\n",
    "\n",
    "The answer should be like this:\n",
    "```\n",
    "{'author': 'sirius9453', 'count': 10}\n",
    "```\n"
   ]
  },
  {
   "cell_type": "code",
   "execution_count": null,
   "metadata": {},
   "outputs": [],
   "source": [
    "# your code here"
   ]
  },
  {
   "cell_type": "markdown",
   "metadata": {},
   "source": [
    "## Q6. 留言數最高的前10大留言者是誰？其分別發布了多少篇留言？20分\n",
    "\n",
    "Print out the top 10 authors with the most comments. The output format is as follows:\n",
    "\n",
    "```\n",
    "Top 1: commentor_name, 100 comments\n",
    "Top 2: commentor_name, 99 comments\n",
    "\n",
    "```"
   ]
  },
  {
   "cell_type": "code",
   "execution_count": null,
   "metadata": {},
   "outputs": [],
   "source": [
    "# your code here"
   ]
  }
 ],
 "metadata": {
  "language_info": {
   "name": "python"
  },
  "orig_nbformat": 4
 },
 "nbformat": 4,
 "nbformat_minor": 2
}
