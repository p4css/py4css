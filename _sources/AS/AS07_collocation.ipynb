{
 "cells": [
  {
   "cell_type": "markdown",
   "id": "03583d00",
   "metadata": {
    "id": "9fa53177"
   },
   "source": [
    "# AS07 Collocation for finding enthusiastic commentors\n",
    "\n",
    "在文字探勘的第二單元我們介紹了Collocation來找出significant word pair。同樣的方法，我也可以把他改造來找出，在討論板上哪兩個人老是一起出現。你可以想像說在一個討論板中，某一主題一出來，某些人就會突然冒出來開始Comment。並且A下了Comment後，很快的B也會跟著下Comment。我們可以用Collocation的概念來找出這些總是一起出現的Commentors。但社會科學會把這樣的關係稱為Cooccurrence（共現）。"
   ]
  },
  {
   "cell_type": "markdown",
   "id": "b426ab4f",
   "metadata": {
    "id": "2ae27b36"
   },
   "source": [
    "## Convert Collocation as Network"
   ]
  },
  {
   "cell_type": "code",
   "execution_count": 1,
   "id": "17217312",
   "metadata": {
    "colab": {
     "base_uri": "https://localhost:8080/"
    },
    "executionInfo": {
     "elapsed": 1121,
     "status": "ok",
     "timestamp": 1620621572169,
     "user": {
      "displayName": "JILUNG",
      "photoUrl": "https://lh3.googleusercontent.com/a-/AOh14Gg6zj7prBu9I41dXrwQwaD6D0pMAipXePNpoU-MZ30=s64",
      "userId": "08765716966079614016"
     },
     "user_tz": -480
    },
    "id": "icqKRPt7kTA2",
    "outputId": "e14a5130-7d95-4f28-a6c8-ee3c4d899fb3"
   },
   "outputs": [],
   "source": [
    "# colab\n",
    "import pickle\n",
    "# !wget https://github.com/P4CSS/PSS/raw/master/data/pttpost_20210509_n178.dat -O pttpost_20210509_n178.dat\n",
    "with open(\"data/pttpost_20210509_n178.dat\", \"rb\") as fin:\n",
    "    all_post = pickle.load(fin)"
   ]
  },
  {
   "cell_type": "code",
   "execution_count": 3,
   "metadata": {},
   "outputs": [
    {
     "data": {
      "text/plain": [
       "178"
      ]
     },
     "execution_count": 3,
     "metadata": {},
     "output_type": "execute_result"
    }
   ],
   "source": [
    "import pandas as pd\n",
    "df = pd.DataFrame(all_post)\n",
    "post_df = df[['author', 'title', 'content', 'authorid', 'nickname', 'link', 'timestamp']]\n",
    "import sqlite3\n",
    "conn = sqlite3.connect('data/pttpost.db')\n",
    "post_df.to_sql('posts', conn, if_exists='replace', index=False)"
   ]
  },
  {
   "cell_type": "code",
   "execution_count": 2,
   "id": "b80305d7-83d4-4326-bb2a-93535743fe17",
   "metadata": {},
   "outputs": [
    {
     "name": "stdout",
     "output_type": "stream",
     "text": [
      "dict_keys(['author', 'authorid', 'nickname', 'link', 'title', 'timestamp', 'content', 'comments'])\n",
      "{'tag': '推 ', 'userid': 'shiriri', 'content': ': 有很多了 黑人跟拉丁裔比較高 亞裔跟白人差不多', 'timestamp': ' 05/09 10:59\\n'}\n"
     ]
    },
    {
     "data": {
      "text/plain": [
       "{'author': 's72005ming (QQ)',\n",
       " 'authorid': 's72005ming',\n",
       " 'nickname': 'QQ',\n",
       " 'link': 'https://www.ptt.cc/bbs/Gossiping/M.1620528765.A.DBD.html',\n",
       " 'title': '[問卦] 美國會研究因武漢肺炎死亡的人種嗎？',\n",
       " 'timestamp': 'Sun May  9 10:52:43 2021',\n",
       " 'content': '美國是民族大熔爐\\n\\n全世界各種人種都有\\n\\n但是依照各個人種做研究又有歧視的問題\\n\\n以美國這麼重視人權和觀感的國家\\n\\n會有研究因武漢肺炎死亡人種的論文嗎？\\n\\n\\n好奇如果有哪一個人種死亡數最少\\n\\n我猜是華裔就是了！\\n\\n聽說疫情發生後一堆華裔老人連出門剪頭髮都不敢！--',\n",
       " 'comments': [{'tag': '推 ',\n",
       "   'userid': 'shiriri',\n",
       "   'content': ': 有很多了 黑人跟拉丁裔比較高 亞裔跟白人差不多',\n",
       "   'timestamp': ' 05/09 10:59\\n'},\n",
       "  {'tag': '→ ',\n",
       "   'userid': 'HELLDIVER',\n",
       "   'content': ': 有趣的是 剛開始大爆發時 還說亞洲人比較會得武漢病毒',\n",
       "   'timestamp': ' 05/09 11:01\\n'},\n",
       "  {'tag': '噓 ',\n",
       "   'userid': 'redsa12',\n",
       "   'content': ': 網路即時數據就都有按人種按年齡區分的數據了...',\n",
       "   'timestamp': ' 05/09 11:06\\n'},\n",
       "  {'tag': '→ ',\n",
       "   'userid': 'redsa12',\n",
       "   'content': ': 問之前先估狗好嗎 加油好嗎',\n",
       "   'timestamp': ' 05/09 11:06\\n'}]}"
      ]
     },
     "execution_count": 2,
     "metadata": {},
     "output_type": "execute_result"
    }
   ],
   "source": [
    "print(all_post[0].keys())\n",
    "print(all_post[0]['comments'][0])\n",
    "all_post[0]\n"
   ]
  },
  {
   "cell_type": "code",
   "execution_count": null,
   "id": "6e463d64",
   "metadata": {
    "id": "bc056e0e"
   },
   "outputs": [],
   "source": [
    "# jupyterlab\n",
    "# import pickle\n",
    "# # with open(\"../data/pttpost_20210509_n178.dat\", \"rb\") as fin:\n",
    "#     all_post = pickle.load(fin)"
   ]
  },
  {
   "cell_type": "code",
   "execution_count": 9,
   "id": "91a84c0a",
   "metadata": {
    "colab": {
     "base_uri": "https://localhost:8080/"
    },
    "executionInfo": {
     "elapsed": 618,
     "status": "ok",
     "timestamp": 1620621635053,
     "user": {
      "displayName": "JILUNG",
      "photoUrl": "https://lh3.googleusercontent.com/a-/AOh14Gg6zj7prBu9I41dXrwQwaD6D0pMAipXePNpoU-MZ30=s64",
      "userId": "08765716966079614016"
     },
     "user_tz": -480
    },
    "id": "Zcok9Zt7k5vc",
    "outputId": "ace0aa6c-3672-4907-e964-3f00cef49130"
   },
   "outputs": [
    {
     "name": "stdout",
     "output_type": "stream",
     "text": [
      "178\n",
      "{'author': 's72005ming (QQ)', 'authorid': 's72005ming', 'nickname': 'QQ', 'link': 'https://www.ptt.cc/bbs/Gossiping/M.1620528765.A.DBD.html', 'title': '[問卦] 美國會研究因武漢肺炎死亡的人種嗎？', 'timestamp': 'Sun May  9 10:52:43 2021', 'content': '美國是民族大熔爐\\n\\n全世界各種人種都有\\n\\n但是依照各個人種做研究又有歧視的問題\\n\\n以美國這麼重視人權和觀感的國家\\n\\n會有研究因武漢肺炎死亡人種的論文嗎？\\n\\n\\n好奇如果有哪一個人種死亡數最少\\n\\n我猜是華裔就是了！\\n\\n聽說疫情發生後一堆華裔老人連出門剪頭髮都不敢！--', 'comments': [{'tag': '推 ', 'userid': 'shiriri', 'content': ': 有很多了 黑人跟拉丁裔比較高 亞裔跟白人差不多', 'timestamp': ' 05/09 10:59\\n'}, {'tag': '→ ', 'userid': 'HELLDIVER', 'content': ': 有趣的是 剛開始大爆發時 還說亞洲人比較會得武漢病毒', 'timestamp': ' 05/09 11:01\\n'}, {'tag': '噓 ', 'userid': 'redsa12', 'content': ': 網路即時數據就都有按人種按年齡區分的數據了...', 'timestamp': ' 05/09 11:06\\n'}, {'tag': '→ ', 'userid': 'redsa12', 'content': ': 問之前先估狗好嗎 加油好嗎', 'timestamp': ' 05/09 11:06\\n'}]}\n",
      "--------------------------------------------------------------------------------\n",
      "{'tag': '推 ', 'userid': 'bignoob', 'content': ': 邊抱怨邊打啊 台灣人的不都這樣', 'timestamp': ' 05/08 14:32\\n'}\n",
      "{'tag': '→ ', 'userid': 'ethan0419', 'content': ': 好騙', 'timestamp': ' 05/08 14:32\\n'}\n",
      "{'tag': '噓 ', 'userid': 'geesegeese', 'content': ': 感染源不明出現了，你不打我先打', 'timestamp': ' 05/08 14:33\\n'}\n",
      "{'tag': '→ ', 'userid': 's3z15a3z15a', 'content': ': 沒人搶得時候不急，現在人多就開始搶了', 'timestamp': ' 05/08 14:33\\n'}\n",
      "{'tag': '→ ', 'userid': 'ckvir', 'content': ': 你怎知抱怨的人和打的人是同一個？', 'timestamp': ' 05/08 14:33\\n'}\n",
      "{'tag': '推 ', 'userid': 'clv', 'content': ': 為什麼 就跟當初口罩不夠用有人拿內褲當口罩一樣啊', 'timestamp': ' 05/08 14:34\\n'}\n",
      "{'tag': '→ ', 'userid': 'clv', 'content': ': 怕死啊 沒有最好 只好勉強啦', 'timestamp': ' 05/08 14:34\\n'}\n",
      "{'tag': '噓 ', 'userid': 'Dia149', 'content': ': 以前的我ok你先打呢', 'timestamp': ' 05/08 14:41\\n'}\n",
      "{'tag': '→ ', 'userid': 'Dia149', 'content': ': 綠共真的很善變', 'timestamp': ' 05/08 14:41\\n'}\n",
      "{'tag': '推 ', 'userid': 'radi035', 'content': ': 早在爆發前就先打了 不過小道消息月底莫德那會進來', 'timestamp': ' 05/08 14:44\\n'}\n",
      "{'tag': '→ ', 'userid': 'radi035', 'content': ': 所以符合公費施打的人 可以忍忍  等莫德納', 'timestamp': ' 05/08 14:44\\n'}\n"
     ]
    }
   ],
   "source": [
    "print(len(all_post))\n",
    "print(all_post[0])\n",
    "print(\"-\"*80)\n",
    "for comment in all_post[5]['comments']:\n",
    "    print(comment)"
   ]
  },
  {
   "cell_type": "markdown",
   "id": "bd563870",
   "metadata": {
    "id": "7b3b13b8"
   },
   "source": [
    "### 1. Collocation as Cooccurrence\n",
    "只要在同一則貼文的comments內，我們把任兩個commentor視為有co-comment，也就是Cooccurrence（共現）的關係。請計算出共現於本資料集中，頻率最高的前20對commentor（必須印出Collocation times作為參考）。\n",
    "```\n",
    "s72005ming\tsl11pman\t450\n",
    "loham\tsl11pman\t450\n",
    "sl11pman\ts72005ming\t450\n",
    "sl11pman\tloham\t450\n",
    "cwh0105\tsl11pman\t360\n",
    "sl11pman\tcwh0105\t360\n",
    "iampig951753\tRunna\t294\n",
    "Runna\tiampig951753\t294\n",
    "frank355571\tsl11pman\t270\n",
    "sl11pman\tfrank355571\t270\n",
    "NICEGOGO\tsl11pman\t180\n",
    "sl11pman\tNICEGOGO\t180\n",
    "sl11pman\tdawson0130\t180\n",
    "sl11pman\tuserlance\t180\n",
    "sl11pman\tcarryton\t180\n",
    "sl11pman\tCheshireS\t180\n",
    "sl11pman\tvic4580849\t180\n",
    "sl11pman\tjusteit\t180\n",
    "dawson0130\tsl11pman\t180\n",
    "userlance\tsl11pman\t180\n",
    "```"
   ]
  },
  {
   "cell_type": "code",
   "execution_count": 1,
   "id": "cfa54242",
   "metadata": {
    "id": "947d9200"
   },
   "outputs": [],
   "source": [
    "# YOUR CODE SHOULD BE HERE"
   ]
  },
  {
   "cell_type": "markdown",
   "id": "830cda1b",
   "metadata": {
    "id": "a8842e01"
   },
   "source": [
    "### 2. Using MI\n",
    "MI的計算方式主要是為了要標準化任一字的出現次數和任兩個字的出現次數的影響。請用MI的方式計算出哪兩個人特別常一起出現在同一則貼文的comments中。請用`most_common()`印出M前20大MI的Pairs（必須印出MI值作為參考）。\n",
    "```\n",
    "loham sl11pman 450 5.535381\n",
    "sl11pman loham 450 5.535381\n",
    "frank355571 sl11pman 270 5.535381\n",
    "sl11pman frank355571 270 5.535381\n",
    "NICEGOGO sl11pman 180 5.535381\n",
    "sl11pman NICEGOGO 180 5.535381\n",
    "sl11pman dawson0130 180 5.535381\n",
    "sl11pman CheshireS 180 5.535381\n",
    "sl11pman vic4580849 180 5.535381\n",
    "sl11pman justeit 180 5.535381\n",
    "dawson0130 sl11pman 180 5.535381\n",
    "CheshireS sl11pman 180 5.535381\n",
    "vic4580849 sl11pman 180 5.535381\n",
    "justeit sl11pman 180 5.535381\n",
    "goddamnhuge sl11pman 90 5.535381\n",
    "donyin sl11pman 90 5.535381\n",
    "crazywiwi sl11pman 90 5.535381\n",
    "kaerusiro sl11pman 90 5.535381\n",
    "mmrhahaha sl11pman 90 5.535381\n",
    "EBOD081 sl11pman 90 5.535381\n",
    "\n",
    "```"
   ]
  },
  {
   "cell_type": "code",
   "execution_count": 2,
   "id": "0821f522-6e62-47f6-8571-919051461b59",
   "metadata": {},
   "outputs": [],
   "source": [
    "# YOUR CODE SHOULD BE HERE"
   ]
  },
  {
   "cell_type": "markdown",
   "id": "4ff53827",
   "metadata": {
    "id": "ab92e14c"
   },
   "source": [
    "### 3. Cooccurrence with distance\n",
    "就上述的資料集，我想定義的人與人的關係是「這兩個人老是一前一後出現」，所以我規劃僅計算前後5則以內的comments，也就是說，在同一貼文中，如果A是第一則comment，B是第六則comment，C是第七則，那我不列計A和C的關係，但列計A和B的關係。請用collocation with distance的觀念，計算任兩個comment間的平均距離，並用`most_comment()`列印出平均距離最短的前二十對commentors。\n",
    "```\n",
    "chen0625-Qinsect\t1.500000\t2\n",
    "kenryu-bar1005\t1.500000\t2\n",
    "bar1005-jetalpha\t1.500000\t2\n",
    "typeklng-GARRETH\t1.500000\t2\n",
    "GARRETH-fenix220\t1.500000\t2\n",
    "KaiManSo-nikewang\t1.500000\t2\n",
    "gwenwoo-s359999\t1.500000\t2\n",
    "a410046-apatosaurus\t1.500000\t2\n",
    "apatosaurus-t934140225\t1.500000\t2\n",
    "username1-TsmcEE\t1.500000\t2\n",
    "bigwun73-yheb88\t1.500000\t2\n",
    "l88-sali921\t1.500000\t2\n",
    "ab4daa-cecille\t1.500000\t2\n",
    "kingstongyu-ntlutw\t1.500000\t2\n",
    "ntlutw-kid1a2b3c4d\t1.500000\t2\n",
    "kuan12065-lazarus1121\t1.500000\t2\n",
    "show282-kuosambition\t1.000000\t2\n",
    "Yonhao-jump693\t1.000000\t2\n",
    "sellgd-smalltwo\t1.000000\t2\n",
    "lazarus1121-tenka92417\t1.000000\t2\n",
    "```"
   ]
  },
  {
   "cell_type": "code",
   "execution_count": 3,
   "id": "05792640-0f81-495c-91f2-755bac8740b2",
   "metadata": {},
   "outputs": [],
   "source": [
    "# YOUR CODE SHOULD BE HERE"
   ]
  },
  {
   "cell_type": "markdown",
   "id": "bcb9a34b",
   "metadata": {},
   "source": [
    "## Drawing collocation network\n",
    "以下已經提供給你部分不同網絡的視覺化方法和參數調整方法。如果你要看懂每個函式有可能要查閱Networkx的Document，不過這是為了push你去查閱document來理解這些程式碼。\n",
    "\n",
    "列印出mi值或count值前500大、前1000大、前2000大（會有點吃力）的pairs of user，並觀察該圖型。基於co-commentor的網絡視覺化，你認為這群co-commenter有什麼特性？請多列印幾種版本，並將你的看法寫在以下的ANSWER後："
   ]
  },
  {
   "cell_type": "markdown",
   "id": "73c89a70-daaf-4a81-9f2e-ebfeafe57650",
   "metadata": {},
   "source": [
    "### Construct edgelist dataframe"
   ]
  },
  {
   "cell_type": "code",
   "execution_count": 138,
   "id": "c544931c",
   "metadata": {},
   "outputs": [
    {
     "data": {
      "text/html": [
       "<div>\n",
       "<style scoped>\n",
       "    .dataframe tbody tr th:only-of-type {\n",
       "        vertical-align: middle;\n",
       "    }\n",
       "\n",
       "    .dataframe tbody tr th {\n",
       "        vertical-align: top;\n",
       "    }\n",
       "\n",
       "    .dataframe thead th {\n",
       "        text-align: right;\n",
       "    }\n",
       "</style>\n",
       "<table border=\"1\" class=\"dataframe\">\n",
       "  <thead>\n",
       "    <tr style=\"text-align: right;\">\n",
       "      <th></th>\n",
       "      <th>u1</th>\n",
       "      <th>u2</th>\n",
       "      <th>count</th>\n",
       "      <th>mi</th>\n",
       "    </tr>\n",
       "  </thead>\n",
       "  <tbody>\n",
       "    <tr>\n",
       "      <th>0</th>\n",
       "      <td>devilscry</td>\n",
       "      <td>kinghung88</td>\n",
       "      <td>6</td>\n",
       "      <td>10.892489</td>\n",
       "    </tr>\n",
       "    <tr>\n",
       "      <th>1</th>\n",
       "      <td>kinghung88</td>\n",
       "      <td>devilscry</td>\n",
       "      <td>6</td>\n",
       "      <td>10.892489</td>\n",
       "    </tr>\n",
       "    <tr>\n",
       "      <th>2</th>\n",
       "      <td>SwordGod</td>\n",
       "      <td>duoloveyang</td>\n",
       "      <td>6</td>\n",
       "      <td>10.892489</td>\n",
       "    </tr>\n",
       "    <tr>\n",
       "      <th>3</th>\n",
       "      <td>duoloveyang</td>\n",
       "      <td>SwordGod</td>\n",
       "      <td>6</td>\n",
       "      <td>10.892489</td>\n",
       "    </tr>\n",
       "    <tr>\n",
       "      <th>4</th>\n",
       "      <td>enso</td>\n",
       "      <td>kmaj7</td>\n",
       "      <td>6</td>\n",
       "      <td>10.892489</td>\n",
       "    </tr>\n",
       "    <tr>\n",
       "      <th>...</th>\n",
       "      <td>...</td>\n",
       "      <td>...</td>\n",
       "      <td>...</td>\n",
       "      <td>...</td>\n",
       "    </tr>\n",
       "    <tr>\n",
       "      <th>36349</th>\n",
       "      <td>s505015</td>\n",
       "      <td>jma306</td>\n",
       "      <td>1</td>\n",
       "      <td>2.307526</td>\n",
       "    </tr>\n",
       "    <tr>\n",
       "      <th>36350</th>\n",
       "      <td>gt0404</td>\n",
       "      <td>mudee</td>\n",
       "      <td>1</td>\n",
       "      <td>2.277779</td>\n",
       "    </tr>\n",
       "    <tr>\n",
       "      <th>36351</th>\n",
       "      <td>mudee</td>\n",
       "      <td>gt0404</td>\n",
       "      <td>1</td>\n",
       "      <td>2.277779</td>\n",
       "    </tr>\n",
       "    <tr>\n",
       "      <th>36352</th>\n",
       "      <td>marktak</td>\n",
       "      <td>iampig951753</td>\n",
       "      <td>1</td>\n",
       "      <td>2.130938</td>\n",
       "    </tr>\n",
       "    <tr>\n",
       "      <th>36353</th>\n",
       "      <td>iampig951753</td>\n",
       "      <td>marktak</td>\n",
       "      <td>1</td>\n",
       "      <td>2.130938</td>\n",
       "    </tr>\n",
       "  </tbody>\n",
       "</table>\n",
       "<p>36354 rows × 4 columns</p>\n",
       "</div>"
      ],
      "text/plain": [
       "                 u1            u2  count         mi\n",
       "0         devilscry    kinghung88      6  10.892489\n",
       "1        kinghung88     devilscry      6  10.892489\n",
       "2          SwordGod   duoloveyang      6  10.892489\n",
       "3       duoloveyang      SwordGod      6  10.892489\n",
       "4              enso         kmaj7      6  10.892489\n",
       "...             ...           ...    ...        ...\n",
       "36349       s505015        jma306      1   2.307526\n",
       "36350        gt0404         mudee      1   2.277779\n",
       "36351         mudee        gt0404      1   2.277779\n",
       "36352       marktak  iampig951753      1   2.130938\n",
       "36353  iampig951753       marktak      1   2.130938\n",
       "\n",
       "[36354 rows x 4 columns]"
      ]
     },
     "execution_count": 138,
     "metadata": {},
     "output_type": "execute_result"
    }
   ],
   "source": [
    "import pandas as pd\n",
    "\n",
    "li = [(u1, u2, user_pair_counts[(u1, u2)], mi) for (u1, u2), mi in pmi_scores.most_common()]\n",
    "df = pd.DataFrame.from_records(li, columns =['u1', 'u2', 'count', 'mi'])\n",
    "df"
   ]
  },
  {
   "cell_type": "markdown",
   "id": "1d413bc5-05af-4e4b-8241-7d7fba40b492",
   "metadata": {},
   "source": [
    "### Filter high frequency pairs"
   ]
  },
  {
   "cell_type": "code",
   "execution_count": 5,
   "id": "18fcc127-eeaa-4b1f-b17b-8b35570ce8ca",
   "metadata": {},
   "outputs": [
    {
     "ename": "NameError",
     "evalue": "name 'user_pair_counts' is not defined",
     "output_type": "error",
     "traceback": [
      "\u001b[0;31m---------------------------------------------------------------------------\u001b[0m",
      "\u001b[0;31mNameError\u001b[0m                                 Traceback (most recent call last)",
      "Input \u001b[0;32mIn [5]\u001b[0m, in \u001b[0;36m<cell line: 1>\u001b[0;34m()\u001b[0m\n\u001b[0;32m----> 1\u001b[0m li \u001b[38;5;241m=\u001b[39m [(u1, u2, n)\u001b[38;5;28;01mfor\u001b[39;00m (u1, u2), n \u001b[38;5;129;01min\u001b[39;00m \u001b[43muser_pair_counts\u001b[49m\u001b[38;5;241m.\u001b[39mmost_common() \u001b[38;5;28;01mif\u001b[39;00m n \u001b[38;5;241m>\u001b[39m \u001b[38;5;241m3\u001b[39m]\n\u001b[1;32m      2\u001b[0m df \u001b[38;5;241m=\u001b[39m pd\u001b[38;5;241m.\u001b[39mDataFrame\u001b[38;5;241m.\u001b[39mfrom_records(li, columns \u001b[38;5;241m=\u001b[39m[\u001b[38;5;124m'\u001b[39m\u001b[38;5;124mu1\u001b[39m\u001b[38;5;124m'\u001b[39m, \u001b[38;5;124m'\u001b[39m\u001b[38;5;124mu2\u001b[39m\u001b[38;5;124m'\u001b[39m, \u001b[38;5;124m'\u001b[39m\u001b[38;5;124mn\u001b[39m\u001b[38;5;124m'\u001b[39m])\n\u001b[1;32m      3\u001b[0m df\n",
      "\u001b[0;31mNameError\u001b[0m: name 'user_pair_counts' is not defined"
     ]
    }
   ],
   "source": [
    "li = [(u1, u2, n)for (u1, u2), n in user_pair_counts.most_common() if n > 3]\n",
    "df = pd.DataFrame.from_records(li, columns =['u1', 'u2', 'n'])\n",
    "df"
   ]
  },
  {
   "cell_type": "code",
   "execution_count": null,
   "id": "1a032640-4d73-482f-b67f-8164eaefb93a",
   "metadata": {},
   "outputs": [],
   "source": [
    "import pandas as pd\n",
    "import matplotlib.pyplot as plt\n",
    "li = [(w1, w2, pair_count[(w1, w2)], mi) for (w1, w2), mi in pmi.most_common()]\n",
    "df = pd.DataFrame.from_records(li, columns =['w1', 'w2', 'count', 'mi'])\n",
    "\n",
    "import networkx as nx\n",
    "fig = plt.figure(1, figsize=(30, 30), dpi=60)\n",
    "\n",
    "G = nx.from_pandas_edgelist(df[:2000],\n",
    "                            source = 'w1',\n",
    "                            target = 'w2',\n",
    "                            edge_attr = 'mi')\n",
    "widths = nx.get_edge_attributes(G, 'mi')\n",
    "nodelist = G.nodes()\n",
    "# nx.draw_kamada_kawai(G,\n",
    "#                     node_size = 5,\n",
    "#                     edge_color = \"#8833FF\",\n",
    "#                     with_labels = True)\n",
    "pos = nx.spring_layout(G)\n",
    "# nx.draw_spring(G,\n",
    "#                node_size = 5,\n",
    "#                edge_color = \"#8833FF\",\n",
    "#                font_size = 16,\n",
    "#                with_labels = True)\n",
    "nx.draw_networkx_nodes(G,pos,\n",
    "                       nodelist=nodelist,\n",
    "                       node_size=15,\n",
    "                       node_color='black',\n",
    "                       alpha=0.7)\n",
    "nx.draw_networkx_edges(G,pos,\n",
    "                       edgelist = widths.keys(),\n",
    "                       width=list([w/2 for w in widths.values()]),\n",
    "                       edge_color='black',\n",
    "                       alpha=0.2)\n",
    "nx.draw_networkx_labels(G, pos=pos,\n",
    "                        labels=dict(zip(nodelist,nodelist)),\n",
    "                        font_color='blue')\n",
    "plt.box(False)\n",
    "plt.show()\n"
   ]
  }
 ],
 "metadata": {
  "colab": {
   "collapsed_sections": [
    "7b3b13b8",
    "a8842e01",
    "ab92e14c"
   ],
   "name": "AS07p Collocation.ipynb",
   "provenance": [],
   "toc_visible": true
  },
  "kernelspec": {
   "display_name": "Python 3 (ipykernel)",
   "language": "python",
   "name": "python3"
  },
  "language_info": {
   "codemirror_mode": {
    "name": "ipython",
    "version": 3
   },
   "file_extension": ".py",
   "mimetype": "text/x-python",
   "name": "python",
   "nbconvert_exporter": "python",
   "pygments_lexer": "ipython3",
   "version": "3.9.18"
  },
  "toc-autonumbering": false
 },
 "nbformat": 4,
 "nbformat_minor": 5
}
