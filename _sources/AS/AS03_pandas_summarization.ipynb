{
 "cells": [
  {
   "cell_type": "markdown",
   "metadata": {
    "id": "Hk813arKnWVE"
   },
   "source": [
    "# AS03 Summarize data with Pandas"
   ]
  },
  {
   "cell_type": "markdown",
   "metadata": {},
   "source": [
    "## Download data\n",
    "\n",
    "到內政部開放資料平台上或開放資料平台尋找並下載[「結婚對數按婚姻類型、性別及年齡分(按發生)」](https://data.gov.tw/dataset/130544)資料（CSV）並讀取。或者可以用API讀取`https://od.moi.gov.tw/api/v1/rest/datastore/301000000A-001660-015`。\n"
   ]
  },
  {
   "cell_type": "markdown",
   "metadata": {},
   "source": [
    "### Read from Web API (JSON)"
   ]
  },
  {
   "cell_type": "code",
   "execution_count": 1,
   "metadata": {},
   "outputs": [],
   "source": [
    "import requests\n",
    "import json\n",
    "import pandas as pd\n",
    "\n",
    "# url = \"https://od.moi.gov.tw/api/v1/rest/datastore/301000000A-001660-015\"\n",
    "# res = requests.get(url).json()\n",
    "# # print(res)\n",
    "# df = pd.DataFrame(res['result']['records'])\n",
    "# df = df.iloc[1: , :]\n",
    "# df\n",
    "\n",
    "# df = pd.read_json(url)\n",
    "# df"
   ]
  },
  {
   "cell_type": "markdown",
   "metadata": {},
   "source": [
    "注意觀察資料，這個資料是，某鄉鎮市區（`site_id`）的某一種結婚型態（`marriage_type`）的雙方年齡組（`female_age_or_spouse1`, `male_age_or_spouse2`）有幾對（`marry_pair`）。如果把`marry_pair`全部相加，就會是當年度婚姻的總對數。"
   ]
  },
  {
   "cell_type": "markdown",
   "metadata": {},
   "source": [
    "### Read CSV from web path"
   ]
  },
  {
   "cell_type": "code",
   "execution_count": 22,
   "metadata": {},
   "outputs": [
    {
     "data": {
      "text/html": [
       "<div>\n",
       "<style scoped>\n",
       "    .dataframe tbody tr th:only-of-type {\n",
       "        vertical-align: middle;\n",
       "    }\n",
       "\n",
       "    .dataframe tbody tr th {\n",
       "        vertical-align: top;\n",
       "    }\n",
       "\n",
       "    .dataframe thead th {\n",
       "        text-align: right;\n",
       "    }\n",
       "</style>\n",
       "<table border=\"1\" class=\"dataframe\">\n",
       "  <thead>\n",
       "    <tr style=\"text-align: right;\">\n",
       "      <th></th>\n",
       "      <th>statistic_yyy</th>\n",
       "      <th>according</th>\n",
       "      <th>site_id</th>\n",
       "      <th>marriage_type</th>\n",
       "      <th>female_age_or_spouse1</th>\n",
       "      <th>male_age_or_spouse2</th>\n",
       "      <th>marry_pair</th>\n",
       "    </tr>\n",
       "  </thead>\n",
       "  <tbody>\n",
       "    <tr>\n",
       "      <th>0</th>\n",
       "      <td>110</td>\n",
       "      <td>按發生日期分</td>\n",
       "      <td>新北市板橋區</td>\n",
       "      <td>不同性別</td>\n",
       "      <td>未滿15歲</td>\n",
       "      <td>未滿15歲</td>\n",
       "      <td>0</td>\n",
       "    </tr>\n",
       "    <tr>\n",
       "      <th>1</th>\n",
       "      <td>110</td>\n",
       "      <td>按發生日期分</td>\n",
       "      <td>新北市板橋區</td>\n",
       "      <td>不同性別</td>\n",
       "      <td>未滿15歲</td>\n",
       "      <td>15歲</td>\n",
       "      <td>0</td>\n",
       "    </tr>\n",
       "    <tr>\n",
       "      <th>2</th>\n",
       "      <td>110</td>\n",
       "      <td>按發生日期分</td>\n",
       "      <td>新北市板橋區</td>\n",
       "      <td>不同性別</td>\n",
       "      <td>未滿15歲</td>\n",
       "      <td>16歲</td>\n",
       "      <td>0</td>\n",
       "    </tr>\n",
       "    <tr>\n",
       "      <th>3</th>\n",
       "      <td>110</td>\n",
       "      <td>按發生日期分</td>\n",
       "      <td>新北市板橋區</td>\n",
       "      <td>不同性別</td>\n",
       "      <td>未滿15歲</td>\n",
       "      <td>17歲</td>\n",
       "      <td>0</td>\n",
       "    </tr>\n",
       "    <tr>\n",
       "      <th>4</th>\n",
       "      <td>110</td>\n",
       "      <td>按發生日期分</td>\n",
       "      <td>新北市板橋區</td>\n",
       "      <td>不同性別</td>\n",
       "      <td>未滿15歲</td>\n",
       "      <td>18歲</td>\n",
       "      <td>0</td>\n",
       "    </tr>\n",
       "  </tbody>\n",
       "</table>\n",
       "</div>"
      ],
      "text/plain": [
       "  statistic_yyy according site_id marriage_type female_age_or_spouse1  \\\n",
       "0           110    按發生日期分  新北市板橋區          不同性別                 未滿15歲   \n",
       "1           110    按發生日期分  新北市板橋區          不同性別                 未滿15歲   \n",
       "2           110    按發生日期分  新北市板橋區          不同性別                 未滿15歲   \n",
       "3           110    按發生日期分  新北市板橋區          不同性別                 未滿15歲   \n",
       "4           110    按發生日期分  新北市板橋區          不同性別                 未滿15歲   \n",
       "\n",
       "  male_age_or_spouse2  marry_pair  \n",
       "0               未滿15歲           0  \n",
       "1                 15歲           0  \n",
       "2                 16歲           0  \n",
       "3                 17歲           0  \n",
       "4                 18歲           0  "
      ]
     },
     "execution_count": 22,
     "metadata": {},
     "output_type": "execute_result"
    }
   ],
   "source": [
    "# csv_path = \"https://data.moi.gov.tw/MoiOD/System/DownloadFile.aspx?DATA=D6E64661-DD38-4244-A86B-396F5F00808B\"\n",
    "# df = pd.read_csv(csv_path, skiprows = [1])\n",
    "# df.head()"
   ]
  },
  {
   "cell_type": "markdown",
   "metadata": {},
   "source": [
    "### Alternative-Read local CSV"
   ]
  },
  {
   "cell_type": "code",
   "execution_count": 15,
   "metadata": {
    "colab": {
     "base_uri": "https://localhost:8080/",
     "height": 219
    },
    "executionInfo": {
     "elapsed": 1377,
     "status": "ok",
     "timestamp": 1616047130117,
     "user": {
      "displayName": "JILUNG",
      "photoUrl": "https://lh3.googleusercontent.com/a-/AOh14Gg6zj7prBu9I41dXrwQwaD6D0pMAipXePNpoU-MZ30=s64",
      "userId": "08765716966079614016"
     },
     "user_tz": -480
    },
    "id": "YFNq4OdKoQn7",
    "outputId": "64dd1900-b2a6-4f48-93ce-0debd4cb028e"
   },
   "outputs": [],
   "source": [
    "# Modify the path according to your PC\n",
    "# local_path = \"../../data/opendata108m040.csv\"\n",
    "# df = pd.read_csv(local_path, skiprows = [1])\n",
    "# df.head()"
   ]
  },
  {
   "cell_type": "markdown",
   "metadata": {},
   "source": [
    "## 1. Data Description"
   ]
  },
  {
   "cell_type": "code",
   "execution_count": 2,
   "metadata": {
    "colab": {
     "base_uri": "https://localhost:8080/"
    },
    "executionInfo": {
     "elapsed": 636,
     "status": "ok",
     "timestamp": 1616043383199,
     "user": {
      "displayName": "JILUNG",
      "photoUrl": "https://lh3.googleusercontent.com/a-/AOh14Gg6zj7prBu9I41dXrwQwaD6D0pMAipXePNpoU-MZ30=s64",
      "userId": "08765716966079614016"
     },
     "user_tz": -480
    },
    "id": "KJbIvGrqpl3F",
    "outputId": "429304a7-2cc3-46cc-c354-af81fb53615e"
   },
   "outputs": [],
   "source": [
    "# 列印出所有變數\n",
    "\n",
    "# YOUR CODE SHOULD BE HERE\n",
    "\n",
    "# 列印出所有變項的變數型態\n",
    "# 注意marry_pair這個變項是否為整數，如果不是整數的話，為了後續運算，你需要把它轉整數\n",
    "\n",
    "# YOUR CODE SHOULD BE HERE\n"
   ]
  },
  {
   "cell_type": "code",
   "execution_count": 24,
   "metadata": {
    "colab": {
     "base_uri": "https://localhost:8080/"
    },
    "executionInfo": {
     "elapsed": 750,
     "status": "ok",
     "timestamp": 1616044201107,
     "user": {
      "displayName": "JILUNG",
      "photoUrl": "https://lh3.googleusercontent.com/a-/AOh14Gg6zj7prBu9I41dXrwQwaD6D0pMAipXePNpoU-MZ30=s64",
      "userId": "08765716966079614016"
     },
     "user_tz": -480
    },
    "id": "jMEKarzNvWzh",
    "outputId": "05a5283c-4749-43e4-df40-c024cc3fa13c"
   },
   "outputs": [
    {
     "data": {
      "text/plain": [
       "{'不同性別', '相同性別_女性', '相同性別_男性'}"
      ]
     },
     "execution_count": 24,
     "metadata": {},
     "output_type": "execute_result"
    }
   ],
   "source": [
    "# 列印出marriage_type有哪幾種種類的值\n",
    "\n",
    "# YOUR CODE SHOULD BE HERE"
   ]
  },
  {
   "cell_type": "markdown",
   "metadata": {},
   "source": [
    "## 2. Summarize single variable\n",
    "\n",
    "計算男同、女同、異性婚姻各有幾對。預期結果如下（數字可能不同）：\n",
    "```\n",
    "marriage_type\n",
    "不同性別       112537\n",
    "相同性別_女性      1323\n",
    "相同性別_男性       536\n",
    "Name: marry_pair, dtype: int64\n",
    "\n",
    "```"
   ]
  },
  {
   "cell_type": "code",
   "execution_count": 3,
   "metadata": {},
   "outputs": [],
   "source": [
    "# 計算男同、女同、異性婚姻各有幾對\n",
    "\n",
    "# YOUR CODE SHOULD BE HERE"
   ]
  },
  {
   "cell_type": "markdown",
   "metadata": {},
   "source": [
    "## 3. Summarize two variable hirarchically\n",
    "計算每個鄉鎮市區的男同、女同、異性婚姻人數各有幾對. 你可能會需要謹慎觀看影片或者上網查詢「groupby two variables」。預期結果如下：\n",
    "```\n",
    "site_id  marriage_type\n",
    "南投縣中寮鄉   不同性別              59\n",
    "         相同性別_女性            0\n",
    "         相同性別_男性            0\n",
    "南投縣仁愛鄉   不同性別              84\n",
    "         相同性別_女性            1\n",
    "                         ... \n",
    "高雄市鹽埕區   相同性別_女性            1\n",
    "         相同性別_男性            4\n",
    "高雄市鼓山區   不同性別             716\n",
    "         相同性別_女性           19\n",
    "         相同性別_男性           12\n",
    "Name: marry_pair, Length: 1104, dtype: int64\n",
    "```"
   ]
  },
  {
   "cell_type": "code",
   "execution_count": 4,
   "metadata": {},
   "outputs": [],
   "source": [
    "# 計算每個鄉鎮市區的男同、女同、異性婚姻人數各有幾對\n",
    "\n",
    "# YOUR CODE SHOULD BE HERE"
   ]
  },
  {
   "cell_type": "markdown",
   "metadata": {},
   "source": [
    "## 4. Convert groupby result to dataframe\n",
    "\n",
    "上述groupby的結果會變為series型態，請上網查詢如何把groupby的結果轉為名為`mstat`的dataframe。並把轉出來的dataframe指給變數`mstat`(Hints: `to_frame()`, `reset_index()`)。\n",
    "\n",
    "預期輸出：\n",
    "```\n",
    "\tsite_id\tmarriage_type\tmarry_pair\n",
    "0\t南投縣中寮鄉\t不同性別\t59\n",
    "1\t南投縣中寮鄉\t相同性別_女性\t0\n",
    "2\t南投縣中寮鄉\t相同性別_男性\t0\n",
    "3\t南投縣仁愛鄉\t不同性別\t84\n",
    "4\t南投縣仁愛鄉\t相同性別_女性\t1\n",
    "...\t...\t...\t...\n",
    "1099\t高雄市鹽埕區\t相同性別_女性\t1\n",
    "1100\t高雄市鹽埕區\t相同性別_男性\t4\n",
    "1101\t高雄市鼓山區\t不同性別\t716\n",
    "1102\t高雄市鼓山區\t相同性別_女性\t19\n",
    "1103\t高雄市鼓山區\t相同性別_男性\t12\n",
    "1104 rows × 3 columns\n",
    "```"
   ]
  },
  {
   "cell_type": "code",
   "execution_count": 5,
   "metadata": {},
   "outputs": [],
   "source": [
    "# group-by data and assign to a new variable: mstat \n",
    "\n",
    "# YOUR CODE SHOULD BE HERE\n",
    "# mstat = ...\n",
    "\n",
    "# Show your result by \n",
    "# mstat"
   ]
  },
  {
   "cell_type": "markdown",
   "metadata": {},
   "source": [
    "## 5. Spread marriage_type to wide form\n",
    "\n",
    "基於長表格（long table）的設計，目前結婚類型放在`marriage_type`這個欄位。現在我希望把`marriage_type`的數值（相同性別_女性、不同性別、相同性別_男性）展開在欄（Column）的方向，預計產生如下列型態的dataframe，方法可參考以下pandas對pivot的說明與範例。https://pandas.pydata.org/docs/reference/api/pandas.DataFrame.pivot.html\n",
    "\n",
    "```\n",
    "marriage_type\t不同性別\t相同性別_女性\t相同性別_男性\n",
    "site_id\t\t\t\n",
    "南投縣中寮鄉\t59\t0\t0\n",
    "南投縣仁愛鄉\t84\t1\t0\n",
    "南投縣信義鄉\t97\t0\t0\n",
    "南投縣南投市\t551\t4\t1\n",
    "南投縣名間鄉\t200\t0\t0\n",
    "...\t...\t...\t...\n",
    "高雄市阿蓮區\t156\t2\t0\n",
    "高雄市鳥松區\t280\t2\t1\n",
    "高雄市鳳山區\t2078\t36\t24\n",
    "高雄市鹽埕區\t126\t1\t4\n",
    "高雄市鼓山區\t716\t19\t12\n",
    "368 rows × 3 columns\n",
    "```"
   ]
  },
  {
   "cell_type": "code",
   "execution_count": 6,
   "metadata": {},
   "outputs": [],
   "source": [
    "# Assign pivoting result to a new variable: mstat_wide\n",
    "\n",
    "# YOUR CODE SHOULD BE HERE\n",
    "# mstat_wide = ...\n",
    "\n",
    "# Print out type of it by \n",
    "# print(type(mstat_wide))\n",
    "\n",
    "# Show your result by \n",
    "# mstat_wide"
   ]
  },
  {
   "cell_type": "markdown",
   "metadata": {},
   "source": [
    "## 6. Using reset_index() to convert index to normal column(variable)\n",
    "\n",
    "上題結果將會產生有階層的欄位，如下：\n",
    "```\n",
    "marriage_type    不同性別    相同性別_女性    相同性別_男性\n",
    "site_id         \n",
    "南投縣中寮鄉\t59\t0\t0\n",
    "...\n",
    "```\n",
    "\n",
    "如果希望把這樣的狀況轉為一般的dataframe（如下）可以用`reset_index()`這個函式。參考資料如下連結。https://datatofish.com/index-to-column-pandas-dataframe/ 請照上面網址中的範例嘗試看看，將前一題的`mstat_wide`轉為以下型態。\n",
    "```\n",
    "marriage_type\tsite_id\t不同性別\t相同性別_女性\t相同性別_男性\n",
    "0\t南投縣中寮鄉\t59\t0\t0\n",
    "1\t南投縣仁愛鄉\t84\t1\t0\n",
    "2\t南投縣信義鄉\t97\t0\t0\n",
    "3\t南投縣南投市\t551\t4\t1\n",
    "4\t南投縣名間鄉\t200\t0\t0\n",
    "...\t...\t...\t...\t...\n",
    "363\t高雄市阿蓮區\t156\t2\t0\n",
    "364\t高雄市鳥松區\t280\t2\t1\n",
    "365\t高雄市鳳山區\t2078\t36\t24\n",
    "366\t高雄市鹽埕區\t126\t1\t4\n",
    "367\t高雄市鼓山區\t716\t19\t12\n",
    "```"
   ]
  },
  {
   "cell_type": "code",
   "execution_count": 8,
   "metadata": {},
   "outputs": [],
   "source": [
    "# Re-index and overwrite the original mstat_wide\n",
    "# YOUR CODE SHOULD BE HERE\n",
    "\n",
    "# Print the dataframe out by \n",
    "# mstat_wide"
   ]
  },
  {
   "cell_type": "markdown",
   "metadata": {},
   "source": [
    "## 7. Rename variable names\n",
    "\n",
    "重新修改變數名稱（欄位名稱）為`side_id`, `hetero`, `homoF`, `homoM`"
   ]
  },
  {
   "cell_type": "code",
   "execution_count": 9,
   "metadata": {},
   "outputs": [],
   "source": [
    "# YOUR CODE SHOULD BE HERE\n",
    "\n",
    "# Show your data frame result by \n",
    "# mstat_wide"
   ]
  },
  {
   "cell_type": "markdown",
   "metadata": {},
   "source": [
    "## 8. Mutate new variable\n",
    "\n",
    "設計簡單的運算以產生每個鄉鎮的結婚總對數（`tot`）、同婚總對數（`homotot`）、同婚總對數所佔比例（`homoratio`），請依照題意指定變數名稱。\n",
    "```\n",
    "\tside_id\thetero\thomoF\thomoM\thomotot\ttot\thomoratio\n",
    "0\t南投縣中寮鄉\t59\t0\t0\t0\t59\t0.000000\n",
    "1\t南投縣仁愛鄉\t84\t1\t0\t1\t85\t0.011765\n",
    "2\t南投縣信義鄉\t97\t0\t0\t0\t97\t0.000000\n",
    "3\t南投縣南投市\t551\t4\t1\t5\t556\t0.008993\n",
    "4\t南投縣名間鄉\t200\t0\t0\t0\t200\t0.000000\n",
    "...\t...\t...\t...\t...\t...\t...\t...\n",
    "363\t高雄市阿蓮區\t156\t2\t0\t2\t158\t0.012658\n",
    "364\t高雄市鳥松區\t280\t2\t1\t3\t283\t0.010601\n",
    "365\t高雄市鳳山區\t2078\t36\t24\t60\t2138\t0.028064\n",
    "366\t高雄市鹽埕區\t126\t1\t4\t5\t131\t0.038168\n",
    "367\t高雄市鼓山區\t716\t19\t12\t31\t747\t0.041499\n",
    "```"
   ]
  },
  {
   "cell_type": "code",
   "execution_count": 10,
   "metadata": {},
   "outputs": [],
   "source": [
    "# Create new variables and overwrite original mstat_wide dataframe by assignment =\n",
    "# YOUR CODE SHOULD BE HERE\n",
    "# mstat_wide = \n",
    "\n",
    "# Show your data frame result by \n",
    "# mstat_wide"
   ]
  },
  {
   "cell_type": "markdown",
   "metadata": {},
   "source": [
    "## 9. Sorting\n",
    "\n",
    "為了列印出同婚對數相較於總對數的比例最高的10個鄉鎮市區，請用`sort_values`依前題新產生的變數`homeratio`將該dataframe的列資料重新排序。\n",
    "預期結果應顯示：\n",
    "\n",
    "```\n",
    "side_id\thetero\thomoF\thomoM\thomotot\ttot\thomoratio\n",
    "72\t屏東縣獅子鄉\t31\t3\t0\t3\t34\t0.088235\n",
    "74\t屏東縣瑪家鄉\t51\t3\t1\t4\t55\t0.072727\n",
    "274\t花蓮縣新城鄉\t101\t5\t2\t7\t108\t0.064815\n",
    "78\t屏東縣車城鄉\t31\t1\t1\t2\t33\t0.060606\n",
    "68\t屏東縣泰武鄉\t33\t2\t0\t2\t35\t0.057143\n",
    "272\t花蓮縣壽豐鄉\t83\t5\t0\t5\t88\t0.056818\n",
    "346\t高雄市杉林區\t53\t2\t1\t3\t56\t0.053571\n",
    "130\t新北市烏來區\t53\t3\t0\t3\t56\t0.053571\n",
    "341\t高雄市左營區\t993\t27\t25\t52\t1045\t0.049761\n",
    "277\t花蓮縣秀林鄉\t136\t5\t2\t7\t143\t0.048951\n",
    "```"
   ]
  },
  {
   "cell_type": "code",
   "execution_count": 11,
   "metadata": {},
   "outputs": [],
   "source": [
    "# YOUR CODE SHOULD BE HERE\n"
   ]
  },
  {
   "cell_type": "markdown",
   "metadata": {
    "id": "gGlymOIXo061"
   },
   "source": [
    "## 10. Summarizing by hand\n",
    "\n",
    "在下題中，老師希望你不要用pandas的方式來操作數據，希望你用一般的檔案讀取方法與for-loop來走訪所有資料。並建立一個以縣市為key的dictionary，來統計每個縣市，相同性別_男性、相同性別_女性、不同性別的結婚對數各有幾對。以下兩段程式碼會幫助你處理好資料。\n",
    "\n",
    "1. 第一段程式碼是用`f.read()`來讀取資料，請注意觀察資料讀取後的格式。\n",
    "2. 本段程式碼會需要讀取硬碟中的資料，"
   ]
  },
  {
   "cell_type": "code",
   "execution_count": 38,
   "metadata": {},
   "outputs": [
    {
     "name": "stdout",
     "output_type": "stream",
     "text": [
      "--2022-10-10 16:06:30--  https://raw.githubusercontent.com/p4css/py4css/main/data/opendata110m043.csv\n",
      "Resolving raw.githubusercontent.com (raw.githubusercontent.com)... 185.199.110.133, 185.199.111.133, 185.199.108.133, ...\n",
      "Connecting to raw.githubusercontent.com (raw.githubusercontent.com)|185.199.110.133|:443... connected.\n",
      "HTTP request sent, awaiting response... 200 OK\n",
      "Length: 56768523 (54M) [text/plain]\n",
      "Saving to: 'opendata110m043.csv'\n",
      "\n",
      "opendata110m043.csv 100%[===================>]  54.14M  41.6MB/s    in 1.3s    \n",
      "\n",
      "2022-10-10 16:06:34 (41.6 MB/s) - 'opendata110m043.csv' saved [56768523/56768523]\n",
      "\n",
      "['statistic_yyy', 'according', 'site_id', 'marriage_type', 'female_age_or_spouse1', 'male_age_or_spouse2', 'marry_pair']\n",
      "['統計年度', '按照別', '區域別', '婚姻類型', '女方年齡或配偶一方年齡', '男方年齡或配偶另一方年齡', '結婚對數']\n",
      "['110', '按發生日期分', '新北市板橋區', '不同性別', '未滿15歲', '15歲', '0']\n"
     ]
    }
   ],
   "source": [
    "# !wget https://raw.githubusercontent.com/p4css/py4css/main/data/opendata110m043.csv -O opendata110m043.csv\n",
    "# raw = []\n",
    "# with open(\"opendata110m043.csv\", \"r\", encoding=\"utf-8-sig\") as f:\n",
    "#     for line in f.read().split(\"\\n\"):\n",
    "#         row = line.split(\",\")\n",
    "#         raw.append(row)\n",
    "# print(raw[0])\n",
    "# print(raw[1])\n",
    "# print(raw[3])"
   ]
  },
  {
   "cell_type": "markdown",
   "metadata": {},
   "source": [
    "### Retrieve county name\n",
    "\n",
    "下面這段程式碼已經幫你寫好了，他會將原本的每一筆資料多產生一個變數（dictionary的key）是`county`，方法很簡單就只是將原本的縣市鄉鎮市區取出前三個字，如下面程式碼的`tdict['site_id'][:3]`。請勿修改以下程式碼，以下程式碼會\n",
    "1. 將每筆資料的欄位對應到統一的欄位名稱、\n",
    "2. 拆解出年齡區間並產生新變數`age_group`\n",
    "3. 取得每筆資料的縣市名稱`county`\n",
    "4. 移除不必要的變數\n",
    "\n",
    "```\n",
    "['statistic_yyy', 'according', 'site_id', 'marriage_type', 'female_age_or_spouse1', 'male_age_or_spouse2', 'marry_pair']\n",
    "[{'site_id': '新北市板橋區', 'marriage_type': '不同性別', 'marry_pair': '0', 'age_group': '未滿15歲__未滿15歲', 'county': '新北市'}, {'site_id': '新北市板橋區', 'marriage_type': '不同性別', 'marry_pair': '0', 'age_group': '未滿15歲__15歲', 'county': '新北市'}, {'site_id': '新北市板橋區', 'marriage_type': '不同性別', 'marry_pair': '0', 'age_group': '未滿15歲__16歲', 'county': '新北市'}]\n",
    "```"
   ]
  },
  {
   "cell_type": "code",
   "execution_count": 39,
   "metadata": {},
   "outputs": [
    {
     "name": "stdout",
     "output_type": "stream",
     "text": [
      "['statistic_yyy', 'according', 'site_id', 'marriage_type', 'female_age_or_spouse1', 'male_age_or_spouse2', 'marry_pair']\n",
      "[{'site_id': '新北市板橋區', 'marriage_type': '不同性別', 'marry_pair': '0', 'age_group': '未滿15歲__未滿15歲', 'county': '新北市'}, {'site_id': '新北市板橋區', 'marriage_type': '不同性別', 'marry_pair': '0', 'age_group': '未滿15歲__15歲', 'county': '新北市'}, {'site_id': '新北市板橋區', 'marriage_type': '不同性別', 'marry_pair': '0', 'age_group': '未滿15歲__16歲', 'county': '新北市'}]\n"
     ]
    }
   ],
   "source": [
    "# alldata = []\n",
    "# print(raw[0])\n",
    "# for i, row in enumerate(raw[2:-1]):\n",
    "#     tdict = dict(zip(raw[0], row))\n",
    "#     try:\n",
    "#         tdict['age_group'] = tdict['female_age_or_spouse1'] + \"__\" + tdict['male_age_or_spouse2']\n",
    "#     except:\n",
    "#         print(i, tdict)\n",
    "#     keys_to_remove = ['according', 'statistic_yyy', 'female_age_or_spouse1', 'male_age_or_spouse2']\n",
    "#     tdict['county'] = tdict['site_id'][:3]\n",
    "#     for k in keys_to_remove:\n",
    "#         tdict.pop(k, None)\n",
    "#     alldata.append(tdict)\n",
    "# print(alldata[:3])"
   ]
  },
  {
   "cell_type": "markdown",
   "metadata": {},
   "source": [
    "### Summarize marriage_type by county\n",
    "\n",
    "現在我希望用一個dict去統計，每個縣市（`county`）不同的婚姻類型（`marriage_type`）各有幾對。我的想法是用計數（Counting）的技巧，所以要建立兩層的dict來累計每個county有多少個不同marriage_type的婚姻案例。內層為marriage_type，外層為county。預期結果如下。\n",
    "\n",
    "```json\n",
    "{   '南投縣': {'不同性別': 2189, '相同性別_女性': 12, '相同性別_男性': 6},\n",
    "    '嘉義市': {'不同性別': 1214, '相同性別_女性': 16, '相同性別_男性': 7},\n",
    "    '嘉義縣': {'不同性別': 2071, '相同性別_女性': 11, '相同性別_男性': 4},\n",
    "    '基隆市': {'不同性別': 1644, '相同性別_女性': 28, '相同性別_男性': 6},\n",
    "    '宜蘭縣': {'不同性別': 2137, '相同性別_女性': 25, '相同性別_男性': 7},\n",
    "    '屏東縣': {'不同性別': 3696, '相同性別_女性': 50, '相同性別_男性': 18},\n",
    "    '彰化縣': {'不同性別': 5647, '相同性別_女性': 30, '相同性別_男性': 12},\n",
    "    '新北市': {'不同性別': 18972, '相同性別_女性': 231, '相同性別_男性': 107},\n",
    "    '新竹市': {'不同性別': 2331, '相同性別_女性': 36, '相同性別_男性': 5},\n",
    "    '新竹縣': {'不同性別': 3016, '相同性別_女性': 36, '相同性別_男性': 10},\n",
    "    '桃園市': {'不同性別': 12062, '相同性別_女性': 169, '相同性別_男性': 56},\n",
    "    '澎湖縣': {'不同性別': 528, '相同性別_女性': 4, '相同性別_男性': 1},\n",
    "    '臺中市': {'不同性別': 15155, '相同性別_女性': 167, '相同性別_男性': 69},\n",
    "    '臺北市': {'不同性別': 11083, '相同性別_女性': 127, '相同性別_男性': 81},\n",
    "    '臺南市': {'不同性別': 8775, '相同性別_女性': 111, '相同性別_男性': 29},\n",
    "    '臺東縣': {'不同性別': 955, '相同性別_女性': 24, '相同性別_男性': 6},\n",
    "    '花蓮縣': {'不同性別': 1720, '相同性別_女性': 36, '相同性別_男性': 9},\n",
    "    '苗栗縣': {'不同性別': 2526, '相同性別_女性': 25, '相同性別_男性': 7},\n",
    "    '連江縣': {'不同性別': 66, '相同性別_女性': 0, '相同性別_男性': 0},\n",
    "    '金門縣': {'不同性別': 484, '相同性別_女性': 6, '相同性別_男性': 4},\n",
    "    '雲林縣': {'不同性別': 2828, '相同性別_女性': 18, '相同性別_男性': 4},\n",
    "    '高雄市': {'不同性別': 13438, '相同性別_女性': 161, '相同性別_男性': 88}}\n",
    "```"
   ]
  },
  {
   "cell_type": "code",
   "execution_count": 12,
   "metadata": {},
   "outputs": [],
   "source": [
    "mdict = {}\n",
    "\n",
    "# YOUR CODE SHOULD BE HERE\n",
    "\n",
    "\n",
    "\n",
    "\n",
    "\n",
    "\n",
    "# import pprint\n",
    "# pp = pprint.PrettyPrinter(indent=4)\n",
    "# pp.pprint(mdict)"
   ]
  },
  {
   "cell_type": "markdown",
   "metadata": {},
   "source": [
    "### 將上述結果用for-loop整齊列印出來。\n",
    "\n",
    "預期結果：\n",
    "```\n",
    "county\t不同性別\t相同性別_男性\t相同性別_女性\n",
    "新北市\t18972\t107\t231\n",
    "臺北市\t11083\t81\t127\n",
    "桃園市\t12062\t56\t169\n",
    "臺中市\t15155\t69\t167\n",
    "臺南市\t8775\t29\t111\n",
    "高雄市\t13438\t88\t161\n",
    "宜蘭縣\t2137\t7\t25\n",
    "新竹縣\t3016\t10\t36\n",
    "苗栗縣\t2526\t7\t25\n",
    "彰化縣\t5647\t12\t30\n",
    "南投縣\t2189\t6\t12\n",
    "雲林縣\t2828\t4\t18\n",
    "嘉義縣\t2071\t4\t11\n",
    "屏東縣\t3696\t18\t50\n",
    "臺東縣\t955\t6\t24\n",
    "花蓮縣\t1720\t9\t36\n",
    "澎湖縣\t528\t1\t4\n",
    "基隆市\t1644\t6\t28\n",
    "新竹市\t2331\t5\t36\n",
    "嘉義市\t1214\t7\t16\n",
    "金門縣\t484\t4\t6\n",
    "連江縣\t66\t0\t0\n",
    "\n",
    "\n",
    "```"
   ]
  },
  {
   "cell_type": "code",
   "execution_count": 13,
   "metadata": {
    "colab": {
     "base_uri": "https://localhost:8080/"
    },
    "executionInfo": {
     "elapsed": 61885,
     "status": "ok",
     "timestamp": 1616047198090,
     "user": {
      "displayName": "JILUNG",
      "photoUrl": "https://lh3.googleusercontent.com/a-/AOh14Gg6zj7prBu9I41dXrwQwaD6D0pMAipXePNpoU-MZ30=s64",
      "userId": "08765716966079614016"
     },
     "user_tz": -480
    },
    "id": "O0W-LoU7o8xW",
    "outputId": "69ada5a5-7f44-4546-d2d4-33026d51b42b"
   },
   "outputs": [],
   "source": [
    "# YOUR CODE SHOULD BE HERE"
   ]
  }
 ],
 "metadata": {
  "colab": {
   "authorship_tag": "ABX9TyMCWdH+xZq+tImBkcx+LUEN",
   "collapsed_sections": [],
   "name": "AS03 Reading and Summarizing.ipynb",
   "provenance": []
  },
  "kernelspec": {
   "display_name": "Python 3 (ipykernel)",
   "language": "python",
   "name": "python3"
  },
  "language_info": {
   "codemirror_mode": {
    "name": "ipython",
    "version": 3
   },
   "file_extension": ".py",
   "mimetype": "text/x-python",
   "name": "python",
   "nbconvert_exporter": "python",
   "pygments_lexer": "ipython3",
   "version": "3.10.9"
  }
 },
 "nbformat": 4,
 "nbformat_minor": 4
}
