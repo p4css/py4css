{
 "cells": [
  {
   "cell_type": "markdown",
   "metadata": {},
   "source": [
    "# PART I: Trivial Question with AI "
   ]
  },
  {
   "cell_type": "markdown",
   "metadata": {
    "id": "sQQyD_YkjNxI"
   },
   "source": [
    "## Q1_1: Converting Fahrenheit to Celsius temperature degree\n",
    "\n",
    "請你寫出轉換攝氏溫度為華氏溫度的Code。並輸出為以下型態\n",
    "例如：（攝氏`tc`溫度等於華氏`tf`溫度減`32`後乘以`5/9`）。\n",
    "請你寫出轉換華氏溫度為攝氏溫度的Code。\n",
    "\n",
    "```\n",
    "Sample output: \n",
    "    tc:  10 \ttf:  50.0\n",
    "```"
   ]
  },
  {
   "cell_type": "code",
   "execution_count": 1,
   "metadata": {
    "ExecuteTime": {
     "end_time": "2020-03-17T03:19:33.590969Z",
     "start_time": "2020-03-17T03:19:33.588177Z"
    },
    "id": "b0worFEpjNxM",
    "outputId": "8df0b1e4-4340-4a55-928d-9297db9fad89"
   },
   "outputs": [],
   "source": [
    "tc = 10\n",
    "# Your code should be here\n",
    "\n"
   ]
  },
  {
   "cell_type": "markdown",
   "metadata": {},
   "source": [
    "## Q1_2: 計算一元二次方程的解\n",
    "\n",
    "**題目描述**：已知一個一元二次方程 \\(ax^2 + bx + c = 0\\)，其中 \\(a = 1, b = -3, c = 2\\)，請寫一個 Python 程式計算它的兩個解。\n",
    "\n",
    "解的公式（注意應該會有兩個答案）： $$x = \\frac{-b \\pm \\sqrt{b^2 - 4ac}}{2a}$$"
   ]
  },
  {
   "cell_type": "code",
   "execution_count": null,
   "metadata": {},
   "outputs": [],
   "source": [
    "import math\n",
    "\n",
    "# 已知 a, b, c\n",
    "a = 1\n",
    "b = -3\n",
    "c = 2\n",
    "\n",
    "# 在這裡寫程式碼計算解\n",
    "\n",
    "# 在這裡輸出解"
   ]
  },
  {
   "cell_type": "markdown",
   "metadata": {},
   "source": [
    "## Q1_3: String as list\n",
    "在Python中，string字串也可以用list的方式來存取。如\n",
    "\n",
    "```python\n",
    "word = \"Pneumonoultramicroscopicsilicovolcanoconiosis\" # 實際上存在的單字\n",
    "print(word[3])\n",
    "```\n",
    "\n",
    "請用dictionary計算該字串中每個字元出現過幾次。\n",
    "```\n",
    "Output: \n",
    "    {'P': 1, 'n': 4, 'e': 1, 'u': 2, 'm': 2, 'o': 9, 'l': 3, 't': 1, 'r': 2, 'a': 2, 'i': 6, 'c': 6, 's': 4, 'p': 1, 'v': 1}\n",
    "```"
   ]
  },
  {
   "cell_type": "code",
   "execution_count": null,
   "metadata": {},
   "outputs": [],
   "source": [
    "cdict = {}\n",
    "word = \"Pneumonoultramicroscopicsilicovolcanoconiosis\"\n",
    "\n",
    "# YOUR CODE SHOULD BE HERE\n",
    "\n",
    "\n",
    "\n",
    "print(cdict)"
   ]
  },
  {
   "cell_type": "markdown",
   "metadata": {},
   "source": [
    "# PART II: Accessing Taipei Bus real time data\n",
    "\n",
    "以下是台北市某線公車的即時資料。資料中主要分為兩大塊，包含該線公車的停靠站以及正在路上跑的公車（通常不只一台）及其位置。請觀察該資料並回答以下問題。\n",
    "\n",
    "HINT: 這些題目其實都可以問AI把答案問出來，但要稍微思考一下，要怎麼印。"
   ]
  },
  {
   "cell_type": "code",
   "execution_count": null,
   "metadata": {
    "id": "33uZu8hLjNxP"
   },
   "outputs": [],
   "source": [
    "import requests\n",
    "import json\n",
    "url = \"https://pda.5284.gov.taipei/MQS/RouteDyna?routeid=11763&nocache=1633009377839\"\n",
    "response = requests.get(url)\n",
    "route = json.loads(response.text)\n",
    "print(type(route))\n",
    "\n",
    "route"
   ]
  },
  {
   "cell_type": "markdown",
   "metadata": {},
   "source": [
    "## Q2_1 Accessing data\n",
    "請列印出你所抓到的資料時間。\n",
    "```\n",
    "Output sample:\n",
    "    2023-09-10 14:03:09\n",
    "```"
   ]
  },
  {
   "cell_type": "code",
   "execution_count": 3,
   "metadata": {},
   "outputs": [],
   "source": [
    "# YOUR CODE HERE"
   ]
  },
  {
   "cell_type": "markdown",
   "metadata": {
    "id": "8L04auL5jnqa"
   },
   "source": [
    "## Q2_2: Number of bus\n",
    "請問在你所抓的時間點共有幾台公車？提示：你抓的時間和老師抓的時間可能不同，所以答案可能不同，公車數量可能會不同。\n",
    "```\n",
    "Output sample: \n",
    "    2023-09-10 14:03:09 There are  5 buses\n",
    "```"
   ]
  },
  {
   "cell_type": "code",
   "execution_count": 4,
   "metadata": {
    "id": "wAb1Cgs5jm2g"
   },
   "outputs": [],
   "source": [
    "# YOUR CODE HERE"
   ]
  },
  {
   "cell_type": "markdown",
   "metadata": {},
   "source": [
    "## Q2_3: 該線公車在該時間點共有幾個停靠站？\n",
    "```\n",
    "Output Sample: \n",
    "    Number of stop:  85\n",
    "```"
   ]
  },
  {
   "cell_type": "code",
   "execution_count": 20,
   "metadata": {},
   "outputs": [
    {
     "name": "stdout",
     "output_type": "stream",
     "text": [
      "Number of stop:  85\n"
     ]
    }
   ],
   "source": [
    "# YOUR CODE HERE  "
   ]
  },
  {
   "cell_type": "markdown",
   "metadata": {
    "id": "pL9oa-T3jNxP"
   },
   "source": [
    "##  Q2_4: Print out bus id\n",
    "\n",
    "印出資料抓取時間點的所有公車車牌號碼。\n",
    "```\n",
    "Output sample: \n",
    "    563-FZ\n",
    "    EAL-0102\n",
    "    380-U8\n",
    "    KKA-0668\n",
    "```"
   ]
  },
  {
   "cell_type": "code",
   "execution_count": null,
   "metadata": {
    "id": "Lle4rCIBjNxP"
   },
   "outputs": [
    {
     "name": "stdout",
     "output_type": "stream",
     "text": [
      "563-FZ\n",
      "EAL-0102\n",
      "380-U8\n",
      "KKA-0668\n"
     ]
    }
   ],
   "source": [
    "for bus in route['Bus']:\n",
    "    # YOUR CODE HERE\n",
    "    \n",
    "    "
   ]
  },
  {
   "cell_type": "code",
   "execution_count": null,
   "metadata": {},
   "outputs": [],
   "source": [
    "## YOUR CODE SHOULD BE HERE\n",
    "\n",
    "\n",
    "\n",
    "\n",
    "\n",
    "\n"
   ]
  },
  {
   "cell_type": "markdown",
   "metadata": {},
   "source": [
    "# PART III: Reviewing with AI\n",
    "\n",
    "你只需要把以下問題拿去AI，把AI告訴你的結果，貼在下方的markdown cell即可。\n",
    "但請你借此練習一下使用markdown，把AI告訴你的結果整理好。"
   ]
  },
  {
   "cell_type": "markdown",
   "metadata": {},
   "source": [
    "## Q3_1: 請用公車的資料說明，何謂List？\n"
   ]
  },
  {
   "cell_type": "markdown",
   "metadata": {},
   "source": [
    "\n",
    "## Q3_2: 請用公車的資料說明，何謂Dictionary？"
   ]
  },
  {
   "cell_type": "markdown",
   "metadata": {},
   "source": [
    "## Q3_3: 請用公車的資料說明，for-loop的機制與功能？"
   ]
  },
  {
   "cell_type": "markdown",
   "metadata": {},
   "source": [
    "## Q3_4: 公車的資料除了以上題目外，你還可以用來做什麼？\n",
    "\n",
    "* HINT 1：不單只考慮一條路線？\n",
    "* HINT 2：可否結合視覺化的功能？\n",
    "* HINT 3：是否可以結合其他資料？\n",
    "* HINT 4：可否動態呈現？\n",
    "* HINT 5：還可以做出什麼應用？"
   ]
  }
 ],
 "metadata": {
  "colab": {
   "include_colab_link": true,
   "name": "AS01_basic.ipynb",
   "provenance": []
  },
  "kernelspec": {
   "display_name": "Python 3 (ipykernel)",
   "language": "python",
   "name": "python3"
  },
  "language_info": {
   "codemirror_mode": {
    "name": "ipython",
    "version": 3
   },
   "file_extension": ".py",
   "mimetype": "text/x-python",
   "name": "python",
   "nbconvert_exporter": "python",
   "pygments_lexer": "ipython3",
   "version": "3.9.16"
  },
  "toc": {
   "base_numbering": 1,
   "nav_menu": {},
   "number_sections": true,
   "sideBar": true,
   "skip_h1_title": false,
   "title_cell": "Table of Contents",
   "title_sidebar": "Contents",
   "toc_cell": false,
   "toc_position": {},
   "toc_section_display": true,
   "toc_window_display": true
  },
  "varInspector": {
   "cols": {
    "lenName": 16,
    "lenType": 16,
    "lenVar": 40
   },
   "kernels_config": {
    "python": {
     "delete_cmd_postfix": "",
     "delete_cmd_prefix": "del ",
     "library": "var_list.py",
     "varRefreshCmd": "print(var_dic_list())"
    },
    "r": {
     "delete_cmd_postfix": ") ",
     "delete_cmd_prefix": "rm(",
     "library": "var_list.r",
     "varRefreshCmd": "cat(var_dic_list()) "
    }
   },
   "types_to_exclude": [
    "module",
    "function",
    "builtin_function_or_method",
    "instance",
    "_Feature"
   ],
   "window_display": false
  }
 },
 "nbformat": 4,
 "nbformat_minor": 4
}
