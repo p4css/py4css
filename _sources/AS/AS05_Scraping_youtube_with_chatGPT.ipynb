{
 "cells": [
  {
   "cell_type": "markdown",
   "metadata": {},
   "source": [
    "# AS05. Improving Youtube Scraper with ChatGPT"
   ]
  },
  {
   "cell_type": "markdown",
   "metadata": {},
   "source": [
    "# A workable Youtube scraper"
   ]
  },
  {
   "cell_type": "code",
   "execution_count": 1,
   "metadata": {},
   "outputs": [],
   "source": [
    "api_key = \"YOUR YOUTUBE API KEY\"\n",
    "channel_id = \"YOUTUBE CHANNEL ID\"\n"
   ]
  },
  {
   "cell_type": "markdown",
   "metadata": {},
   "source": [
    "Remember to uncomment the following code"
   ]
  },
  {
   "cell_type": "code",
   "execution_count": 2,
   "metadata": {},
   "outputs": [
    {
     "name": "stdout",
     "output_type": "stream",
     "text": [
      "Number of videos: 300\n"
     ]
    }
   ],
   "source": [
    "\"\"\"\n",
    "from googleapiclient.discovery import build\n",
    "\n",
    "# Create a YouTube API client\n",
    "youtube = build('youtube', 'v3', developerKey=api_key)\n",
    "\n",
    "# Use the channels().list() method to get the default upload playlist ID of the channel\n",
    "channel_response = youtube.channels().list(\n",
    "    part='contentDetails',\n",
    "    id=channel_id\n",
    ").execute()\n",
    "\n",
    "# Extract the upload playlist ID\n",
    "if 'items' in channel_response:\n",
    "    upload_playlist_id = channel_response['items'][0]['contentDetails']['relatedPlaylists']['uploads']\n",
    "\n",
    "    # Use the playlistItems().list() method to get all video items from the upload playlist\n",
    "\n",
    "videos = []\n",
    "next_page_token = None\n",
    "limit = 0\n",
    "\n",
    "# Loop through the pages of the playlist items (videos)\n",
    "while True:\n",
    "    if limit > 5:  # Limit the number of pages to retrieve (adjust as needed)\n",
    "        break\n",
    "    playlist_items_response = youtube.playlistItems().list(\n",
    "        part='snippet',\n",
    "        maxResults=50,  \n",
    "        playlistId=upload_playlist_id,\n",
    "        pageToken=next_page_token\n",
    "    ).execute()\n",
    "\n",
    "    videos.extend(playlist_items_response.get('items', []))\n",
    "\n",
    "    next_page_token = playlist_items_response.get('nextPageToken')\n",
    "    if not next_page_token:\n",
    "        break\n",
    "    limit += 1\n",
    "\n",
    "# Print the number of videos retrieved\n",
    "print(f'Number of videos: {len(videos)}')\n",
    "\"\"\""
   ]
  },
  {
   "cell_type": "code",
   "execution_count": 3,
   "metadata": {},
   "outputs": [
    {
     "data": {
      "text/plain": [
       "{'kind': 'youtube#playlistItem',\n",
       " 'etag': '5NJywTCcQSNfCz8x1yI0FfO4rAc',\n",
       " 'id': 'VVU1bndOVzRLZEMwU3pyaEY5QlhFWU9RLkN6dEhwaXhfdWRn',\n",
       " 'snippet': {'publishedAt': '2023-10-29T12:35:01Z',\n",
       "  'channelId': 'UC5nwNW4KdC0SzrhF9BXEYOQ',\n",
       "  'title': '等好久! 騎士朝「總統車隊」比中指 遭警喝斥｜TVBS新聞 @TVBSNEWS01',\n",
       "  'description': '總統蔡英文的車隊，28號中午行經松山機場附近，有騎士疑似不滿交管等太久，對經過車隊比出不雅手勢，被員警大聲喝斥制止，警方解釋，是擔心對方有危險舉動，最後也沒開單，總統府則回應，依規定實施交管，希望民眾能諒解。\\n#總統蔡英文#總統#蔡英文#松山機場#交管\\n#TVBS新聞 #TVBS直播 #TVBS新聞網\\n\\n●下載【TVBS新聞APP】最即時！立即下載👉https://tvbs.pse.is/44cmph\\n●加入【TVBS娛樂頭條】給你娛樂最大條👉 https://tvbs.pse.is/4rctms\\n●訂閱【TVBS國際+】第一時間掌握全球新聞脈動👉https://tvbs.pse.is/4qg5gc\\n●訂閱【TVBS選新聞】您在乎的事 TVBS幫您選👉https://tvbs.pse.is/4qxn2r\\n●訂閱【TVBSNEWS】最新資訊馬上接收👉https://tvbs.pse.is/4q7gu2\\n●按讚【TVBS新聞FB】帶您掌握即時新資訊👉https://tvbs.pse.is/43gl4x\\n●按讚【TVBS國際+FB】帶您掌握最新國際消息👉https://tvbs.pse.is/44dj55\\n●追蹤【TVBS新聞IG】與您討論「您該在乎的事」👉https://tvbs.pse.is/433j4g\\n●【TVBS新聞網】👉https://tvbs.pse.is/4r422h',\n",
       "  'thumbnails': {'default': {'url': 'https://i.ytimg.com/vi/CztHpix_udg/default.jpg',\n",
       "    'width': 120,\n",
       "    'height': 90},\n",
       "   'medium': {'url': 'https://i.ytimg.com/vi/CztHpix_udg/mqdefault.jpg',\n",
       "    'width': 320,\n",
       "    'height': 180},\n",
       "   'high': {'url': 'https://i.ytimg.com/vi/CztHpix_udg/hqdefault.jpg',\n",
       "    'width': 480,\n",
       "    'height': 360},\n",
       "   'standard': {'url': 'https://i.ytimg.com/vi/CztHpix_udg/sddefault.jpg',\n",
       "    'width': 640,\n",
       "    'height': 480},\n",
       "   'maxres': {'url': 'https://i.ytimg.com/vi/CztHpix_udg/maxresdefault.jpg',\n",
       "    'width': 1280,\n",
       "    'height': 720}},\n",
       "  'channelTitle': 'TVBS NEWS',\n",
       "  'playlistId': 'UU5nwNW4KdC0SzrhF9BXEYOQ',\n",
       "  'position': 0,\n",
       "  'resourceId': {'kind': 'youtube#video', 'videoId': 'CztHpix_udg'},\n",
       "  'videoOwnerChannelTitle': 'TVBS NEWS',\n",
       "  'videoOwnerChannelId': 'UC5nwNW4KdC0SzrhF9BXEYOQ'}}"
      ]
     },
     "execution_count": 3,
     "metadata": {},
     "output_type": "execute_result"
    }
   ],
   "source": [
    "videos[0]"
   ]
  },
  {
   "cell_type": "markdown",
   "metadata": {},
   "source": [
    "# 1. Get more Youtube data (40%)\n",
    "1. Choose one youtue channel of large news media such as TVBS, 關鍵時刻, 三立新聞, ... \n",
    "2. Modify the above sample code if needs\n",
    "3. Get back more than 10,000 video's video id, description, title, published time\n",
    "4. Store the crawled data into a dataframe `video_df` with columns `['title', 'videoId', 'title', 'description', 'publishedAt']`\n",
    "5. Print the head of the dataframe\n",
    "6. Print the shape of the dataframe"
   ]
  },
  {
   "cell_type": "code",
   "execution_count": 6,
   "metadata": {},
   "outputs": [],
   "source": [
    "# your code here"
   ]
  },
  {
   "cell_type": "markdown",
   "metadata": {},
   "source": [
    "# 2. Cleaning and observing data"
   ]
  },
  {
   "cell_type": "markdown",
   "metadata": {},
   "source": [
    "## 2.1 Detect if there are duplicated rows (10%)\n",
    "\n",
    "1. Print the number of duplicated rows by <br>\n",
    "   \n",
    "   ```python\n",
    "   print(f\"There are {nDuplicated} rows\")\n",
    "   ```\n",
    "\n",
    "2. Drop duplicated rows and print the shape of the cleaned dataframe\n",
    "\n",
    "   ```python\n",
    "   print(\"The shape of cleaned dataframe is\", ...)\n",
    "   ```"
   ]
  },
  {
   "cell_type": "code",
   "execution_count": null,
   "metadata": {},
   "outputs": [],
   "source": [
    "# your code here"
   ]
  },
  {
   "cell_type": "markdown",
   "metadata": {},
   "source": [
    "## 2.2 Plot data timeline (10%)\n",
    "\n",
    "Each Video  has a `publishedAt` variable which is the uploaded time of the video.\n",
    "Plot a **bar chart** to show the productivity of the channel **by hour(0~23)**."
   ]
  },
  {
   "cell_type": "code",
   "execution_count": null,
   "metadata": {},
   "outputs": [],
   "source": [
    "# your code here"
   ]
  },
  {
   "cell_type": "markdown",
   "metadata": {},
   "source": [
    "## 3. Filter videos (10%)\n",
    "\n",
    "Detect whether there are one or more keywords such as \"以色列\" or \"Israel\" in the video title or description. If so, filter out these videos and save them as a new dataframe (e.g., related_df)"
   ]
  },
  {
   "cell_type": "code",
   "execution_count": null,
   "metadata": {},
   "outputs": [],
   "source": [
    "# your code here"
   ]
  },
  {
   "cell_type": "markdown",
   "metadata": {},
   "source": [
    "## 4. Scraping comments of these videos (30%)\n",
    "\n",
    "For the previously crawled Israel-related videos, scrape all the comments from these videos and save them in a dataframe. Each row of your data should represent a single comment, and you should retain the videoId in the dataframe so that you know which video each comment belongs to.\n",
    "1. Print head() of the dataframe\n",
    "2. Print the shape of the dataframe"
   ]
  },
  {
   "cell_type": "code",
   "execution_count": null,
   "metadata": {},
   "outputs": [],
   "source": [
    "# your code here"
   ]
  },
  {
   "cell_type": "markdown",
   "metadata": {},
   "source": [
    "# 5. Stored as sqlite (Optional)\n",
    "\n",
    "Take use of ChatGPT to understand how to use SQLite"
   ]
  },
  {
   "cell_type": "markdown",
   "metadata": {},
   "source": [
    "## 5.1 Dataframe to SQLite DB (10%)\n",
    "\n",
    "Storing the dataframe into an sqlite database' table `videos`"
   ]
  },
  {
   "cell_type": "code",
   "execution_count": 7,
   "metadata": {},
   "outputs": [],
   "source": [
    "# your code here"
   ]
  },
  {
   "cell_type": "markdown",
   "metadata": {},
   "source": [
    "## 5.2 SQLite Query 1: Counting records (10%)\n",
    "\n",
    "Send an SQLite query in python to print the number of records in the `videos` table. "
   ]
  },
  {
   "cell_type": "code",
   "execution_count": null,
   "metadata": {},
   "outputs": [],
   "source": [
    "# your code here"
   ]
  },
  {
   "cell_type": "markdown",
   "metadata": {},
   "source": [
    "## 5.3 SQLite Query: Filter records (10%)\n",
    "\n",
    "Send an SQLite query in python to filter how many videos' titles have the keywords \"以巴\" or \"巴勒斯坦\", or \"以色列\""
   ]
  },
  {
   "cell_type": "code",
   "execution_count": null,
   "metadata": {},
   "outputs": [],
   "source": [
    "# your code here"
   ]
  }
 ],
 "metadata": {
  "kernelspec": {
   "display_name": "new_tm",
   "language": "python",
   "name": "python3"
  },
  "language_info": {
   "codemirror_mode": {
    "name": "ipython",
    "version": 3
   },
   "file_extension": ".py",
   "mimetype": "text/x-python",
   "name": "python",
   "nbconvert_exporter": "python",
   "pygments_lexer": "ipython3",
   "version": "3.9.18"
  }
 },
 "nbformat": 4,
 "nbformat_minor": 2
}
