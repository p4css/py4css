{
 "cells": [
  {
   "cell_type": "markdown",
   "id": "91cdfde3-2856-431b-a3ad-a3615e724f20",
   "metadata": {},
   "source": [
    "# AS05 Scraping youtube"
   ]
  },
  {
   "cell_type": "markdown",
   "id": "dbd02bc7-6daf-4631-9098-d9b1f9dd4ccf",
   "metadata": {},
   "source": [
    "Youtube API與Twitter API打撈的方法類似，都是利用Web API來打撈。請上網搜尋並學習如何打撈下則Youtube影片的留言資料。不可使用第三方套件。\n",
    "\n",
    "目標影片：[(39) 2021/6/4 14:00 中央流行疫情指揮中心嚴重特殊傳染性肺炎記者會 - YouTube](https://www.youtube.com/watch?v=9cvN_92orKc&ab_channel=%E8%A1%9B%E7%94%9F%E7%A6%8F%E5%88%A9%E9%83%A8%E7%96%BE%E7%97%85%E7%AE%A1%E5%88%B6%E7%BD%B2)\n",
    "\n",
    "* 撈回超過100則：5 points\n",
    "* 撈不到100則：4.5 points\n",
    "* 撈回留言數恰為2022/11/01時顯示的262則：6 points\n",
    "\n",
    "```python\n",
    "video_id = '9cvN_92orKc'\n",
    "all_comment = []\n",
    "all_comment # print out the dataframe\n",
    "```\n"
   ]
  }
 ],
 "metadata": {
  "kernelspec": {
   "display_name": "Python 3 (ipykernel)",
   "language": "python",
   "name": "python3"
  },
  "language_info": {
   "codemirror_mode": {
    "name": "ipython",
    "version": 3
   },
   "file_extension": ".py",
   "mimetype": "text/x-python",
   "name": "python",
   "nbconvert_exporter": "python",
   "pygments_lexer": "ipython3",
   "version": "3.9.12"
  }
 },
 "nbformat": 4,
 "nbformat_minor": 5
}
