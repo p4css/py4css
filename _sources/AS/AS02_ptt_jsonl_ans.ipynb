{
 "cells": [
  {
   "cell_type": "markdown",
   "metadata": {},
   "source": [
    "# AS02 Reading PTT data\n",
    "\n",
    "在這個作業中，老師給了你一個檔案的資料是g0v所搜集的PTT資料，是2020-01-02當天發佈在Gosshiping版上的貼文及其留言。該檔案用jsonl的方式儲存，每一行是一個json格式的資料，包含了該篇貼文的標題、作者、發文時間、內容、留言等等資訊。你的任務是讀取該檔案，並且回答出該天發文數最多的作者是誰，以及該作者發了幾篇貼文等問題。\n",
    "- 資料鏈結：https://github.com/p4css/py4css/blob/main/data/2020-01-02.jsonl"
   ]
  },
  {
   "cell_type": "markdown",
   "metadata": {},
   "source": [
    "## Q1. 讀取jsonl資料\n",
    "\n",
    "該資料集中共包含幾篇貼文？（成功回答這題代表有成功解開資料，會得到基本的40分）\n",
    "\n",
    "向ChatGPT3.5查詢要如何讀取jsonl資料，並將該檔案讀取到一個list或dict中。理想上，每篇貼文會是一個dict，但在貼文中，還會有一個key所對應到的value是comments，而該comments也是一個list，裡面包含所有該貼文的comment。"
   ]
  },
  {
   "cell_type": "code",
   "execution_count": 1,
   "metadata": {},
   "outputs": [],
   "source": [
    "import json\n",
    "\n",
    "# 創建一個空的列表，用於存儲字典\n",
    "post_list = []\n",
    "\n",
    "# 開啟 JSONL 檔案，一行一行讀取並解析 JSON\n",
    "with open(\"../_build/html/data/2020-01-02.jsonl\", \"r\", encoding=\"utf-8\") as file:\n",
    "    for line in file:\n",
    "        try:\n",
    "            # 解析 JSON 字典並加入到列表中\n",
    "            post = json.loads(line)\n",
    "            post_list.append(post)\n",
    "        except json.JSONDecodeError as e:\n",
    "            # 處理解析錯誤\n",
    "            print(f\"解析 JSON 時出錯: {str(e)}\")\n",
    "\n",
    "# 現在，post_list 中包含了所有的字典，每個字典代表一篇貼文"
   ]
  },
  {
   "cell_type": "code",
   "execution_count": 6,
   "metadata": {},
   "outputs": [
    {
     "name": "stdout",
     "output_type": "stream",
     "text": [
      "Number of comments:  234\n"
     ]
    }
   ],
   "source": [
    "type(post_list)\n",
    "post_list[0]\n",
    "post_list[0]['comments']\n",
    "print(\"Number of comments: \", len(post_list[0]['comments']))"
   ]
  },
  {
   "cell_type": "markdown",
   "metadata": {},
   "source": [
    "## Q2. 該資料集中共有幾篇留言？10分\n",
    "\n"
   ]
  },
  {
   "cell_type": "code",
   "execution_count": 8,
   "metadata": {},
   "outputs": [
    {
     "data": {
      "text/plain": [
       "6501"
      ]
     },
     "execution_count": 8,
     "metadata": {},
     "output_type": "execute_result"
    }
   ],
   "source": [
    "# The answer is written with list comprehension, which is a bit more advanced.\n",
    "# You can also use a for loop to do the same thing.\n",
    "# Ask ChatGPT or me if you have any questions.\n",
    "\n",
    "sum([len(post['comments']) for post in post_list])"
   ]
  },
  {
   "cell_type": "markdown",
   "metadata": {},
   "source": [
    "## Q3. 該資料集中的貼文共有哪些欄位？留言共有哪些欄位？10分"
   ]
  },
  {
   "cell_type": "code",
   "execution_count": 16,
   "metadata": {},
   "outputs": [
    {
     "name": "stdout",
     "output_type": "stream",
     "text": [
      "Fields of posts: \n",
      " version, canonical_url, title, author, connect_from, published_at, first_seen_at, last_updated_at, id, producer_id, text, urls, image_urls, hashtags, keywords, tags, metadata, comments\n",
      "\n",
      "Fields of comments: \n",
      " id, reaction, author, text, published_at, connect_from\n"
     ]
    }
   ],
   "source": [
    "print(\"Fields of posts: \\n\", \", \".join(list(post_list[0].keys())))\n",
    "print()\n",
    "print(\"Fields of comments: \\n\", \", \".join(list(post_list[0]['comments'][0].keys())))\n"
   ]
  },
  {
   "cell_type": "markdown",
   "metadata": {},
   "source": [
    "## Q4. 該資料集中共有幾位貼文者？（注意，可能同一位版友會張貼超過一篇文章）10分\n",
    "\n",
    "The answer should be like this:\n",
    "```\n",
    "There are totally n users has posts in this dataset.\n",
    "```"
   ]
  },
  {
   "cell_type": "code",
   "execution_count": 19,
   "metadata": {},
   "outputs": [
    {
     "name": "stdout",
     "output_type": "stream",
     "text": [
      "There are totally 113 users has posts in this dataset.\n"
     ]
    }
   ],
   "source": [
    "# Here we use a list comprehension to get all the authors of the posts.\n",
    "# Then we use the Counter class to count the number of unique authors.\n",
    "# You can also use a for loop to do the same thing.\n",
    "\n",
    "from collections import Counter\n",
    "n_author = len(Counter([post['author'] for post in post_list]))\n",
    "print(f\"There are totally {n_author} users has posts in this dataset.\")\n",
    "    "
   ]
  },
  {
   "cell_type": "markdown",
   "metadata": {},
   "source": [
    "## Q5. 留言數最高的留言者是誰？10分\n",
    "\n",
    "The answer should be like this:\n",
    "```\n",
    "{'author': 'sirius9453', 'count': 10}\n",
    "```\n"
   ]
  },
  {
   "cell_type": "code",
   "execution_count": 21,
   "metadata": {},
   "outputs": [
    {
     "data": {
      "text/plain": [
       "{'author': 'valentian', 'count': 40}"
      ]
     },
     "execution_count": 21,
     "metadata": {},
     "output_type": "execute_result"
    }
   ],
   "source": [
    "c_author_counter = Counter()\n",
    "for post in post_list:\n",
    "    c_authors = [comment['author'] for comment in post['comments']]\n",
    "    c_author_counter.update(c_authors)\n",
    "\n",
    "top_c_authors = c_author_counter.most_common(10)\n",
    "top_c_authors_list = [{'author': author, 'count': count} for author, count in top_c_authors]\n",
    "top_c_authors_list[0]"
   ]
  },
  {
   "cell_type": "markdown",
   "metadata": {},
   "source": [
    "## Q6. 留言數最高的前10大留言者是誰？其分別發布了多少篇留言？20分\n",
    "\n",
    "Print out the top 10 authors with the most comments. The output format is as follows:\n",
    "\n",
    "```\n",
    "Top 1: commentor_name, 100 comments\n",
    "Top 2: commentor_name, 99 comments\n",
    "\n",
    "```"
   ]
  },
  {
   "cell_type": "code",
   "execution_count": 22,
   "metadata": {},
   "outputs": [
    {
     "name": "stdout",
     "output_type": "stream",
     "text": [
      "Top 1: valentian, 40 comments\n",
      "Top 2: electronicyi, 27 comments\n",
      "Top 3: q12341234, 25 comments\n",
      "Top 4: lasekoutkast, 24 comments\n",
      "Top 5: Tchachavsky, 22 comments\n",
      "Top 6: THAO168, 18 comments\n",
      "Top 7: soria, 17 comments\n",
      "Top 8: scratch01, 16 comments\n",
      "Top 9: kent, 16 comments\n",
      "Top 10: zebra01, 16 comments\n"
     ]
    }
   ],
   "source": [
    "c_author_counter = Counter()\n",
    "for post in post_list:\n",
    "    c_authors = [comment['author'] for comment in post['comments']]\n",
    "    c_author_counter.update(c_authors)\n",
    "\n",
    "top_c_authors = c_author_counter.most_common(10)\n",
    "for i, (author, count) in enumerate(top_c_authors, 1):\n",
    "    print(f\"Top {i}: {author}, {count} comments\")"
   ]
  }
 ],
 "metadata": {
  "kernelspec": {
   "display_name": "base",
   "language": "python",
   "name": "python3"
  },
  "language_info": {
   "codemirror_mode": {
    "name": "ipython",
    "version": 3
   },
   "file_extension": ".py",
   "mimetype": "text/x-python",
   "name": "python",
   "nbconvert_exporter": "python",
   "pygments_lexer": "ipython3",
   "version": "3.10.9"
  },
  "orig_nbformat": 4
 },
 "nbformat": 4,
 "nbformat_minor": 2
}
