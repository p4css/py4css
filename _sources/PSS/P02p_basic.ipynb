{
 "cells": [
  {
   "cell_type": "markdown",
   "metadata": {},
   "source": [
    "# Practices 02 for Python basic\n",
    "\n",
    "## Type conversion\n",
    "\n",
    "1. 哪些Python函數用於型態轉換？\n",
    "    ```\n",
    "    type()\n",
    "    len()\n",
    "    int()\n",
    "    str()\n",
    "    float()\n",
    "    ```\n",
    "\n",
    "2. 請修正以下程式碼以完成型態轉換：\n",
    "\n",
    "    ```\n",
    "    a = \"123\"\n",
    "    b = 456\n",
    "    c = a + b  # 這裡會發生錯誤，請修正它。\n",
    "    ```\n",
    "\n",
    "3. 解釋以下程式碼的輸出會是什麼？如果有錯誤，請指出。\n",
    "\n",
    "    ```\n",
    "    x = \"5.9\"\n",
    "    y = int(float(x))\n",
    "    print(y)\n",
    "    ```"
   ]
  },
  {
   "cell_type": "markdown",
   "metadata": {},
   "source": [
    "## 求兩點之間的距離\n",
    "\n",
    "**題目描述：**：在二維空間中，已知有兩點 \\( A(1, 2) \\) 和 \\( B(4, 6) \\)，請使用Python程式計算並輸出這兩點之間的歐式距離。歐式距離的計算公式為：\n",
    "\n",
    "$$\n",
    "\\text{距離} = \\sqrt{(x_2 - x_1)^2 + (y_2 - y_1)^2}\n",
    "$$\n",
    "\n",
    "給定的x1, x2, y1, y2分別代表兩點的x座標和y座標，在程式碼中必須以變數呈現。\n",
    "\n",
    "**提示：**：你可能會需要使用到 `math.sqrt()` 函數來計算平方根。"
   ]
  },
  {
   "cell_type": "code",
   "execution_count": null,
   "metadata": {},
   "outputs": [],
   "source": [
    "# 產生兩個點(x1, y1)與(x2, y2)，值分別為座標點 A(1, 2) 和 B(4, 6)\n",
    "\n",
    "# 在這裡計算距離並儲存至一個變數中\n",
    "\n",
    "# 在這裡使用print()輸出距離"
   ]
  },
  {
   "cell_type": "markdown",
   "metadata": {},
   "source": [
    "## 檢測直角三角形\n",
    "\n",
    "**題目描述：**： 已知一個三角形的三邊長為 \\(a = 3\\), \\(b = 4\\), \\(c = 5\\)，請使用Python程式來判斷這是否是一個直角三角形。直角三角形的判斷條件是滿足畢氏定理：\\(a^2 + b^2 = c^2\\)\n",
    "\n",
    "**提示：**：使用 `==` 來檢查兩個數是否相等。"
   ]
  },
  {
   "cell_type": "code",
   "execution_count": 1,
   "metadata": {},
   "outputs": [],
   "source": [
    "# 給定三個邊長\n",
    "a = 3\n",
    "b = 4\n",
    "c = 5\n",
    "\n",
    "# 在這裡寫程式碼來判斷是否為直角三角形，輸出True或False\n",
    "\n",
    "# 在這裡輸出結果\n"
   ]
  },
  {
   "cell_type": "markdown",
   "metadata": {},
   "source": [
    "## 計算一元二次方程的解\n",
    "\n",
    "**題目描述**：已知一個一元二次方程 \\(ax^2 + bx + c = 0\\)，其中 \\(a = 1, b = -3, c = 2\\)，請寫一個 Python 程式計算它的兩個解。\n",
    "\n",
    "解的公式（注意應該會有兩個答案）： $$x = \\frac{-b \\pm \\sqrt{b^2 - 4ac}}{2a}$$"
   ]
  },
  {
   "cell_type": "code",
   "execution_count": null,
   "metadata": {},
   "outputs": [],
   "source": [
    "import math\n",
    "\n",
    "# 已知 a, b, c\n",
    "a = 1\n",
    "b = -3\n",
    "c = 2\n",
    "\n",
    "# 在這裡寫程式碼計算解\n",
    "\n",
    "# 在這裡輸出解"
   ]
  },
  {
   "cell_type": "markdown",
   "metadata": {},
   "source": [
    "## 華氏溫度轉攝氏溫度程式\n",
    "\n",
    "請撰寫一個Python程式，將使用者輸入的華氏溫度轉換為攝氏溫度。\n",
    "\n",
    "**方程式**: 攝氏溫度 \\( C \\) 和華氏溫度 \\( F \\) 之間的轉換方程式如下：\n",
    "\n",
    "$$\n",
    "C = \\frac{(F - 32) \\times 5}{9}\n",
    "$$\n",
    "\n",
    "**程式需求**\n",
    "\n",
    "1. 程式應該先提示使用者輸入華氏溫度。\n",
    "2. 接著，應使用上面提供的方程式進行溫度轉換。\n",
    "3. 最後，輸出轉換後的攝氏溫度。\n",
    "\n",
    "### Step 1 \n",
    "\n",
    "先設定一個變數`F=100`，然後寫好該轉換程式，把`C`的值給印出來。"
   ]
  },
  {
   "cell_type": "code",
   "execution_count": null,
   "metadata": {},
   "outputs": [],
   "source": [
    "# Your code should be here"
   ]
  },
  {
   "cell_type": "markdown",
   "metadata": {},
   "source": [
    "### Step 2\n",
    "\n",
    "你可以問問ChatGPT怎麼做到讓使用者輸入資料\n",
    "\n",
    "**範例輸出**\n",
    "```\n",
    "請輸入華氏溫度：98.6\n",
    "轉換後的攝氏溫度為：37.0°C\n",
    "```"
   ]
  },
  {
   "cell_type": "code",
   "execution_count": null,
   "metadata": {},
   "outputs": [],
   "source": [
    "# Your code should be here"
   ]
  },
  {
   "cell_type": "markdown",
   "metadata": {},
   "source": [
    "### Step 3\n",
    "\n",
    "如果我希望能夠產出以下輸出，那我可以怎麼做？注意Formatting String的用法。\n",
    "```\n",
    "    1 ==>   -17.22\n",
    "    2 ==>   -16.67\n",
    "    3 ==>   -16.11\n",
    "    4 ==>   -15.56\n",
    "    5 ==>   -15.00\n",
    "    6 ==>   -14.44\n",
    "    7 ==>   -13.89\n",
    "    8 ==>   -13.33\n",
    "    9 ==>   -12.78\n",
    "```"
   ]
  },
  {
   "cell_type": "code",
   "execution_count": null,
   "metadata": {},
   "outputs": [],
   "source": [
    "# Your code should be here"
   ]
  }
 ],
 "metadata": {
  "kernelspec": {
   "display_name": "tm",
   "language": "python",
   "name": "python3"
  },
  "language_info": {
   "codemirror_mode": {
    "name": "ipython",
    "version": 3
   },
   "file_extension": ".py",
   "mimetype": "text/x-python",
   "name": "python",
   "nbconvert_exporter": "python",
   "pygments_lexer": "ipython3",
   "version": "3.9.16"
  },
  "orig_nbformat": 4
 },
 "nbformat": 4,
 "nbformat_minor": 2
}
