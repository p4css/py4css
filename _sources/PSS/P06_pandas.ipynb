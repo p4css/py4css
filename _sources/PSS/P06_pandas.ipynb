{
 "cells": [
  {
   "cell_type": "markdown",
   "id": "3d0eef1e-9926-43fd-9f6c-3cf2f638349f",
   "metadata": {},
   "source": [
    "# P06 Pandas\n",
    "\n",
    "- [Slide: Py06 Pandas and data manipulation](https://docs.google.com/presentation/d/1OP8GcjUUWc9MWxfPNW2Ch47iENpXyOKeMKGzSth1UPs/edit?usp=sharing)\n",
    "- Pandas cheat sheet: https://pandas.pydata.org/Pandas_Cheat_Sheet.pdf\n",
    "- [stackoverflow: Convert to json](https://stackoverflow.com/questions/20638006/convert-list-of-dictionaries-to-dataframe)\n",
    "\n",
    "## Pandas DataFrame\n",
    "\n",
    "* Pandas模仿Matlab或R的dataframe的函式庫。在資料科學逐漸發展的過程，這些資料大多以類似統計軟體或者Excel等試算表（Sheet）的狀態儲存，也就是二維的表格，且通常是直欄為變數、而橫列為資料列。\n",
    "* 把這些資料讀進Python時，固然可以讀成List-of-dictionary或List-of-list的型態，但大部分資料操作的思考邏輯，都是以欄和列為基礎，例如增加一個欄是refactor以後的結果、或者篩選出某些變數符合條件的資料列，或者依據某個欄來重新排列資料列的位置。而Pandas可以說就是被設計來滿足這樣的需求的，\n",
    "* 隨著資料科學受世人重視，而發展的越來越完整。例如，Pandas中便有以下函式：\n",
    "  1. Reading files: `pd.read_csv('data.csv')`或讀取JSON `pd.read_json('data.json')`\n",
    "  2. Filtering data: Slicing data `df[0:10]`、Selecting data `df['col1']`、Filtering data `df[df['col1'] > 0]`\n",
    "  3. Mutating a new variable(on column), Observing a variable, Changing data type\n",
    "  4. Arranging (Sorting) data: `df.sort_values(by = 'col1')`\n",
    "  5. Summarizing data (group by columns): `df.groupby('col1').mean()`\n",
    "  6. NA removal: `df.dropna()`, Duplicate removal: `df.drop_duplicates(inplace = True)`\n",
    "  7. Basic correlation: `df.corr()`\n",
    "  8. Pivot table and reshape data: `df.pivot_table(index = 'col1', columns = 'col2', values = 'col3')`\n",
    "  9. Joining data: `pd.merge(df1, df2, on = 'col1')`\n",
    "  10. Concatenating data: `pd.concat([df1, df2])`\n",
    "\n",
    "學習資源：[Pandas cheat sheet (from pandas)](https://pandas.pydata.org/Pandas_Cheat_Sheet.pdf)\n"
   ]
  },
  {
   "cell_type": "markdown",
   "id": "a0b7cbae",
   "metadata": {},
   "source": [
    "\n",
    "## 1. Dict, List, and Pandas DataFrame\n",
    "\n",
    "通常使用Pandas DataFrame是為了處理「表格狀」的資料。因此，不會只像一層的List或Dict，而是會有多層的List或Dict，或是多個List或Dict組成的List或Dict。以下是一個典型List of Dicts轉為DataFrame的例子：\n",
    "\n"
   ]
  },
  {
   "cell_type": "code",
   "execution_count": null,
   "id": "85706f7b",
   "metadata": {},
   "outputs": [
    {
     "data": {
      "text/html": [
       "<div>\n",
       "<style scoped>\n",
       "    .dataframe tbody tr th:only-of-type {\n",
       "        vertical-align: middle;\n",
       "    }\n",
       "\n",
       "    .dataframe tbody tr th {\n",
       "        vertical-align: top;\n",
       "    }\n",
       "\n",
       "    .dataframe thead th {\n",
       "        text-align: right;\n",
       "    }\n",
       "</style>\n",
       "<table border=\"1\" class=\"dataframe\">\n",
       "  <thead>\n",
       "    <tr style=\"text-align: right;\">\n",
       "      <th></th>\n",
       "      <th>姓名</th>\n",
       "      <th>年齡</th>\n",
       "      <th>城市</th>\n",
       "    </tr>\n",
       "  </thead>\n",
       "  <tbody>\n",
       "    <tr>\n",
       "      <th>0</th>\n",
       "      <td>John</td>\n",
       "      <td>25</td>\n",
       "      <td>紐約</td>\n",
       "    </tr>\n",
       "    <tr>\n",
       "      <th>1</th>\n",
       "      <td>Andy</td>\n",
       "      <td>22</td>\n",
       "      <td>東京</td>\n",
       "    </tr>\n",
       "    <tr>\n",
       "      <th>2</th>\n",
       "      <td>Zoey</td>\n",
       "      <td>28</td>\n",
       "      <td>台北</td>\n",
       "    </tr>\n",
       "  </tbody>\n",
       "</table>\n",
       "</div>"
      ],
      "text/plain": [
       "     姓名  年齡  城市\n",
       "0  John  25  紐約\n",
       "1  Andy  22  東京\n",
       "2  Zoey  28  台北"
      ]
     },
     "execution_count": 2,
     "metadata": {},
     "output_type": "execute_result"
    }
   ],
   "source": [
    "import pandas as pd\n",
    "\n",
    "list_of_dict = [\n",
    "    {\"姓名\":\"John\",\"年齡\":\"25\",\"城市\":\"紐約\"},\n",
    "    {\"姓名\":\"Andy\",\"年齡\":\"22\",\"城市\":\"東京\"},\n",
    "    {\"姓名\":\"Zoey\",\"年齡\":\"28\",\"城市\":\"台北\"},\n",
    "]\n",
    "\n",
    "df = pd.DataFrame(list_of_dict)\n",
    "df\n"
   ]
  },
  {
   "cell_type": "markdown",
   "id": "615653bc",
   "metadata": {},
   "source": [
    "## 2. Read/Write by Pandas\n",
    "\n",
    "這門課，尤其是資料科學，會傾向於用Pandas DataFrame來操作資料，對於初期的觀察資料，或者資料的排序、彙整、計數、篩選、儲存與檔案轉換等，都非常方便。你會用到Pandas Dataframe來操作資料可能會有以下幾種情形：\n",
    "1. 將CSV或EXCEL檔案讀入成為Pandas DataFrame（常用）\n",
    "2. 將JSON檔案讀入成為Pandas DataFrame（常用）\n",
    "3. 將Pandas DataFrame寫入成為CSV或EXCEL檔案（常用）\n",
    "4. 將Pandas DataFrame寫入成為JSON檔案（常用）\n",
    "5. 將List of Dicts轉為Pandas DataFrame（常用）\n",
    "6. 將List of Lists轉為Pandas DataFrame\n",
    "7. 將Pandas DataFrame轉為List of Dicts\n",
    "8. 將Pandas DataFrame轉為List of Lists\n",
    "\n",
    "![Alt text](img/image-6-1.png)"
   ]
  },
  {
   "cell_type": "markdown",
   "id": "7bde2291",
   "metadata": {},
   "source": [
    "### Convert list of dicts to DataFrame\n"
   ]
  },
  {
   "cell_type": "code",
   "execution_count": 4,
   "id": "015d4a8e",
   "metadata": {},
   "outputs": [
    {
     "data": {
      "text/html": [
       "<div>\n",
       "<style scoped>\n",
       "    .dataframe tbody tr th:only-of-type {\n",
       "        vertical-align: middle;\n",
       "    }\n",
       "\n",
       "    .dataframe tbody tr th {\n",
       "        vertical-align: top;\n",
       "    }\n",
       "\n",
       "    .dataframe thead th {\n",
       "        text-align: right;\n",
       "    }\n",
       "</style>\n",
       "<table border=\"1\" class=\"dataframe\">\n",
       "  <thead>\n",
       "    <tr style=\"text-align: right;\">\n",
       "      <th></th>\n",
       "      <th>姓名</th>\n",
       "      <th>年齡</th>\n",
       "      <th>城市</th>\n",
       "    </tr>\n",
       "  </thead>\n",
       "  <tbody>\n",
       "    <tr>\n",
       "      <th>0</th>\n",
       "      <td>John</td>\n",
       "      <td>25</td>\n",
       "      <td>紐約</td>\n",
       "    </tr>\n",
       "    <tr>\n",
       "      <th>1</th>\n",
       "      <td>Andy</td>\n",
       "      <td>22</td>\n",
       "      <td>東京</td>\n",
       "    </tr>\n",
       "    <tr>\n",
       "      <th>2</th>\n",
       "      <td>Zoey</td>\n",
       "      <td>28</td>\n",
       "      <td>台北</td>\n",
       "    </tr>\n",
       "  </tbody>\n",
       "</table>\n",
       "</div>"
      ],
      "text/plain": [
       "     姓名  年齡  城市\n",
       "0  John  25  紐約\n",
       "1  Andy  22  東京\n",
       "2  Zoey  28  台北"
      ]
     },
     "execution_count": 4,
     "metadata": {},
     "output_type": "execute_result"
    }
   ],
   "source": [
    "import pandas as pd\n",
    "\n",
    "list_of_dict = [\n",
    "    {\"姓名\":\"John\",\"年齡\":\"25\",\"城市\":\"紐約\"},\n",
    "    {\"姓名\":\"Andy\",\"年齡\":\"22\",\"城市\":\"東京\"},\n",
    "    {\"姓名\":\"Zoey\",\"年齡\":\"28\",\"城市\":\"台北\"},\n",
    "]\n",
    "\n",
    "df = pd.DataFrame(list_of_dict)\n",
    "df"
   ]
  },
  {
   "cell_type": "markdown",
   "id": "d09c9a80",
   "metadata": {},
   "source": [
    "### Write DataFrame to CSV file\n",
    "\n",
    "```python\n",
    "\n",
    "df.to_csv('data1.csv', index=False)\n",
    "\n",
    "```\n",
    "\n",
    "### Read CSV file to DataFrame\n",
    "\n",
    "```python\n",
    "\n",
    "df = pd.read_csv('data1.csv')\n",
    "\n",
    "```\n",
    "\n",
    "### Write DataFrame to JSON file\n",
    "\n",
    "```python\n",
    "\n",
    "df.to_json('data1.json', orient='records')\n",
    "\n",
    "```\n",
    "\n",
    "### Read JSON file to DataFrame\n",
    "\n",
    "```python\n",
    "\n",
    "df = pd.read_json('data1.json', orient='records')\n",
    "\n",
    "```"
   ]
  }
 ],
 "metadata": {
  "kernelspec": {
   "display_name": "Python 3 (ipykernel)",
   "language": "python",
   "name": "python3"
  },
  "language_info": {
   "codemirror_mode": {
    "name": "ipython",
    "version": 3
   },
   "file_extension": ".py",
   "mimetype": "text/x-python",
   "name": "python",
   "nbconvert_exporter": "python",
   "pygments_lexer": "ipython3",
   "version": "3.9.18"
  }
 },
 "nbformat": 4,
 "nbformat_minor": 5
}
