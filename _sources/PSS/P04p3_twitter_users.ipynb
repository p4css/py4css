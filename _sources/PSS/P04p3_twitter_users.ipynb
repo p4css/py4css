{
 "cells": [
  {
   "cell_type": "markdown",
   "id": "a4c69e34-fbad-400e-8dde-204c54746f77",
   "metadata": {},
   "source": [
    "# P04 Practice03 Twitter Users"
   ]
  },
  {
   "cell_type": "markdown",
   "id": "fb3072ae-00cc-460d-977a-34caddb0f61a",
   "metadata": {},
   "source": [
    "## Read twitter users data"
   ]
  },
  {
   "cell_type": "code",
   "execution_count": 62,
   "id": "82ff0c70-f4f2-401c-bcbb-f4be6ca5898b",
   "metadata": {},
   "outputs": [
    {
     "name": "stdout",
     "output_type": "stream",
     "text": [
      "--2022-09-27 18:20:11--  https://raw.githubusercontent.com/p4css/py4css/main/data/twitter_user1_hashed.csv\n",
      "Resolving raw.githubusercontent.com (raw.githubusercontent.com)... 185.199.109.133, 185.199.108.133, 185.199.110.133, ...\n",
      "Connecting to raw.githubusercontent.com (raw.githubusercontent.com)|185.199.109.133|:443... connected.\n",
      "HTTP request sent, awaiting response... 200 OK\n",
      "Length: 98747 (96K) [text/plain]\n",
      "Saving to: 'twitter_user1_hashed.csv'\n",
      "\n",
      "twitter_user1_hashe 100%[===================>]  96.43K  --.-KB/s    in 0.1s    \n",
      "\n",
      "2022-09-27 18:20:12 (976 KB/s) - 'twitter_user1_hashed.csv' saved [98747/98747]\n",
      "\n"
     ]
    },
    {
     "data": {
      "text/plain": [
       "list"
      ]
     },
     "execution_count": 62,
     "metadata": {},
     "output_type": "execute_result"
    }
   ],
   "source": [
    "# Colab or Jupyterlab\n",
    "!wget https://raw.githubusercontent.com/p4css/py4css/main/data/twitter_user1_hashed.csv -O twitter_user1_hashed.csv\n",
    "fpath = \"twitter_user1_hashed.csv\"\n",
    "import pandas as pd\n",
    "df = pd.read_csv(fpath, on_bad_lines='skip') \n",
    "users = df.to_dict('records')\n",
    "type(users)"
   ]
  },
  {
   "cell_type": "markdown",
   "id": "3d945925-5c5a-4121-a45a-a63917d4d0e5",
   "metadata": {},
   "source": [
    "Download the file and put into your working directory\n",
    "https://raw.githubusercontent.com/p4css/py4css/main/data/twitter_user1_hashed.csv -o twitter_user1_hashed.csv"
   ]
  },
  {
   "cell_type": "code",
   "execution_count": 1,
   "id": "318b6b76-2990-4f23-b511-357e55a38d79",
   "metadata": {},
   "outputs": [
    {
     "data": {
      "text/plain": [
       "list"
      ]
     },
     "execution_count": 1,
     "metadata": {},
     "output_type": "execute_result"
    }
   ],
   "source": [
    "# Jupyterlab\n",
    "fpath = \"../_build/html/data/twitter_user1_hashed.csv\"\n",
    "import pandas as pd\n",
    "df = pd.read_csv(fpath, on_bad_lines='skip') \n",
    "users = df.to_dict('records')\n",
    "type(users)"
   ]
  },
  {
   "cell_type": "code",
   "execution_count": 63,
   "id": "73402c65-277d-4d63-a46b-6d5d731f1d95",
   "metadata": {},
   "outputs": [
    {
     "name": "stdout",
     "output_type": "stream",
     "text": [
      "744\n",
      "<class 'dict'>\n",
      "dict_keys(['userid', 'user_display_name', 'user_screen_name', 'user_reported_location', 'user_profile_description', 'user_profile_url', 'follower_count', 'following_count', 'account_creation_date', 'account_language'])\n"
     ]
    },
    {
     "data": {
      "text/plain": [
       "{'userid': 'vMm2zemFOF7kmXoDyX24Bo+TorqhNutpZlATYyxsE=',\n",
       " 'user_display_name': 'vMm2zemFOF7kmXoDyX24Bo+TorqhNutpZlATYyxsE=',\n",
       " 'user_screen_name': 'vMm2zemFOF7kmXoDyX24Bo+TorqhNutpZlATYyxsE=',\n",
       " 'user_reported_location': nan,\n",
       " 'user_profile_description': nan,\n",
       " 'user_profile_url': nan,\n",
       " 'follower_count': 1,\n",
       " 'following_count': 52,\n",
       " 'account_creation_date': '2017-08-30',\n",
       " 'account_language': 'zh-cn'}"
      ]
     },
     "execution_count": 63,
     "metadata": {},
     "output_type": "execute_result"
    }
   ],
   "source": [
    "print(len(users))\n",
    "print(type(users[0]))\n",
    "print(users[0].keys())\n",
    "users[0]"
   ]
  },
  {
   "cell_type": "markdown",
   "id": "df5e1777-c511-438b-a242-c8790320fc96",
   "metadata": {},
   "source": [
    "## Counting\n",
    "\n",
    "### Count by for-each"
   ]
  },
  {
   "cell_type": "code",
   "execution_count": 64,
   "id": "47a4bb2d-0915-4b5a-9079-bd618f3c70d3",
   "metadata": {},
   "outputs": [
    {
     "name": "stdout",
     "output_type": "stream",
     "text": [
      "zh-cn\t569 zh-cn\n",
      "zh-cn\t569 zh-cn\n",
      "zh-cn\t569 zh-cn\n",
      "zh-cn\t569 zh-cn\n",
      "en\t104 en\n",
      "en\t104 en\n",
      "en\t104 en\n",
      "en\t104 en\n",
      "ru\t36  ru\n",
      "ru\t36  ru\n",
      "ru\t 36 ru\n",
      "ru\t 36 ru\n",
      "zh-CN\t13  zh-CN\n",
      "zh-CN\t13  zh-CN\n",
      "zh-CN\t 13 zh-CN\n",
      "zh-CN\t 13 zh-CN\n",
      "zh-tw\t10  zh-tw\n",
      "zh-tw\t10  zh-tw\n",
      "zh-tw\t 10 zh-tw\n",
      "zh-tw\t 10 zh-tw\n",
      "es\t8   es\n",
      "es\t8   es\n",
      "es\t  8 es\n",
      "es\t  8 es\n",
      "en-gb\t3   en-gb\n",
      "en-gb\t3   en-gb\n",
      "en-gb\t  3 en-gb\n",
      "en-gb\t  3 en-gb\n",
      "ja\t1   ja\n",
      "ja\t1   ja\n",
      "ja\t  1 ja\n",
      "ja\t  1 ja\n"
     ]
    }
   ],
   "source": [
    "from collections import Counter\n",
    "lang_dict = Counter()\n",
    "for user in users:\n",
    "    lang_dict[user['account_language']] += 1\n",
    "\n",
    "for k, v in lang_dict.most_common(10):\n",
    "    print(\"{}\\t{:<3} {}\".format(k, v, k))\n",
    "    print(\"%s\\t%-3s %s\"%(k, v, k))\n",
    "    print(\"{}\\t{:>3} {}\".format(k, v, k))\n",
    "    print(\"%s\\t%3s %s\"%(k, v, k))\n",
    "    # print(\"{:3}\\t{:-3d}\\t{:3}\".format(k, v, k))"
   ]
  },
  {
   "cell_type": "markdown",
   "id": "14da67ff-99fc-4b1d-af68-431ab832289f",
   "metadata": {},
   "source": [
    "## Sampling"
   ]
  },
  {
   "cell_type": "markdown",
   "id": "9a4bfb7d-256c-4281-8bde-92d84945c9e9",
   "metadata": {},
   "source": [
    "### Traverse list by index and `range()`\n",
    "\n",
    "如果你要做sampling，只想均勻地取出一半的資料出來做分析，那要怎麼做？"
   ]
  },
  {
   "cell_type": "code",
   "execution_count": 65,
   "id": "7078188d-138e-4dd8-89d6-f24b877f1eca",
   "metadata": {},
   "outputs": [
    {
     "name": "stdout",
     "output_type": "stream",
     "text": [
      "zh-cn\t275\n",
      "en\t63\n",
      "ru\t18\n",
      "zh-CN\t6\n",
      "es\t5\n",
      "zh-tw\t4\n",
      "en-gb\t1\n"
     ]
    }
   ],
   "source": [
    "lang_dict = Counter()\n",
    "for i in range(len(users)):\n",
    "    if i%2==0:\n",
    "        lang_dict[users[i]['account_language']] += 1\n",
    "for k, v in lang_dict.most_common(10):\n",
    "    print(\"{}\\t{}\".format(k, v)) "
   ]
  },
  {
   "cell_type": "markdown",
   "id": "7b10d2e8-e8cc-4b18-b04a-daee8bf5be94",
   "metadata": {},
   "source": [
    "### Traverse list by `enumerate()`\n",
    "\n",
    "如果你要做sampling，只想均勻地取出一半的資料出來做分析，那要怎麼做？"
   ]
  },
  {
   "cell_type": "code",
   "execution_count": 66,
   "id": "cdb6ff14-d084-4489-a10c-aa73495c72a8",
   "metadata": {},
   "outputs": [
    {
     "name": "stdout",
     "output_type": "stream",
     "text": [
      "zh-cn\t275\n",
      "en\t63\n",
      "ru\t18\n",
      "zh-CN\t6\n",
      "es\t5\n",
      "zh-tw\t4\n",
      "en-gb\t1\n"
     ]
    }
   ],
   "source": [
    "lang_dict = Counter()\n",
    "for i, user in enumerate(users):\n",
    "    if i%2==0:\n",
    "        lang_dict[user['account_language']] += 1\n",
    "for k, v in lang_dict.most_common(10):\n",
    "    print(\"{}\\t{}\".format(k, v))"
   ]
  },
  {
   "cell_type": "markdown",
   "id": "6cbdc860-58d8-470a-bba3-ceab7e253d6d",
   "metadata": {},
   "source": [
    "### Traverse list by list slicing\n",
    "\n",
    "如果你要做sampling，只想均勻地取出一半的資料出來做分析，那要怎麼做？"
   ]
  },
  {
   "cell_type": "code",
   "execution_count": 67,
   "id": "4a09adfc-bef7-4fc1-b392-1c27853312e8",
   "metadata": {},
   "outputs": [
    {
     "name": "stdout",
     "output_type": "stream",
     "text": [
      "zh-cn\t275\n",
      "en\t63\n",
      "ru\t18\n",
      "zh-CN\t6\n",
      "es\t5\n",
      "zh-tw\t4\n",
      "en-gb\t1\n"
     ]
    }
   ],
   "source": [
    "lang_dict = Counter()\n",
    "for user in users[::2]:\n",
    "    lang_dict[user['account_language']] += 1\n",
    "for k, v in lang_dict.most_common(10):\n",
    "    print(\"{}\\t{}\".format(k, v))"
   ]
  },
  {
   "cell_type": "markdown",
   "id": "68e995ed-26bf-4ba6-9ad5-ba628e4a6499",
   "metadata": {},
   "source": [
    "## Sorting a list of dict by dict value"
   ]
  },
  {
   "cell_type": "markdown",
   "id": "2d50bbc6-c6a7-4725-a051-06dfe630c295",
   "metadata": {},
   "source": [
    "### Trick 1"
   ]
  },
  {
   "cell_type": "code",
   "execution_count": 60,
   "id": "47befff5-c016-4088-85a3-3fb02a7f6dd7",
   "metadata": {},
   "outputs": [
    {
     "name": "stdout",
     "output_type": "stream",
     "text": [
      "     benjaminkudla39\t170155\n",
      "         nurlanyc5sr\t130077\n",
      "           motor0529\t105754\n",
      "       zhangbide9600\t105215\n",
      "           nessniven\t100847\n",
      "        Trina31Owens\t93490\n",
      "          _srk_Ciell\t84772\n",
      "     Rodrigu14132402\t76750\n",
      "       homerbros7780\t76718\n",
      "      Rodrigu_beauty\t69841\n",
      "     mH6OwMaYxK33tpT\t69659\n",
      "         tattazueva2\t67522\n",
      "        wangduoyu121\t66675\n",
      "     oDrjiwIOmq09XaZ\t65063\n",
      "       CarriexWalker\t64519\n",
      "     ISfVQ1b1vwAK9IP\t64398\n",
      "     belousovasofiy2\t63602\n",
      "       bobylevamaina\t63428\n",
      "     jiajiashijiajia\t61815\n",
      "     3xrVKytdmflyeox\t58880\n"
     ]
    }
   ],
   "source": [
    "sorted_users = sorted(users, key=lambda d: d['follower_count'], reverse=True) \n",
    "for user in sorted_users[:20]:\n",
    "    print(\"{:>20}\\t{}\".format(user[\"user_screen_name\"], user[\"follower_count\"]))"
   ]
  },
  {
   "cell_type": "markdown",
   "id": "e4fc26f3-e756-4c0f-b6e3-16dd8a99b189",
   "metadata": {},
   "source": [
    "### Trick 2"
   ]
  },
  {
   "cell_type": "code",
   "execution_count": 61,
   "id": "08452718-cbdc-41fb-a4bf-48dde3ddba73",
   "metadata": {},
   "outputs": [
    {
     "name": "stdout",
     "output_type": "stream",
     "text": [
      "     benjaminkudla39\t170155\n",
      "         nurlanyc5sr\t130077\n",
      "           motor0529\t105754\n",
      "       zhangbide9600\t105215\n",
      "           nessniven\t100847\n",
      "        Trina31Owens\t93490\n",
      "          _srk_Ciell\t84772\n",
      "     Rodrigu14132402\t76750\n",
      "       homerbros7780\t76718\n",
      "      Rodrigu_beauty\t69841\n",
      "     mH6OwMaYxK33tpT\t69659\n",
      "         tattazueva2\t67522\n",
      "        wangduoyu121\t66675\n",
      "     oDrjiwIOmq09XaZ\t65063\n",
      "       CarriexWalker\t64519\n",
      "     ISfVQ1b1vwAK9IP\t64398\n",
      "     belousovasofiy2\t63602\n",
      "       bobylevamaina\t63428\n",
      "     jiajiashijiajia\t61815\n",
      "     3xrVKytdmflyeox\t58880\n"
     ]
    }
   ],
   "source": [
    "from operator import itemgetter\n",
    "sorted_users2 = sorted(users, key=itemgetter('follower_count'), reverse=True) \n",
    "for user in sorted_users2[:20]:\n",
    "    print(\"{:>20}\\t{}\".format(user[\"user_screen_name\"], user[\"follower_count\"]))"
   ]
  }
 ],
 "metadata": {
  "kernelspec": {
   "display_name": "Python 3 (ipykernel)",
   "language": "python",
   "name": "python3"
  },
  "language_info": {
   "codemirror_mode": {
    "name": "ipython",
    "version": 3
   },
   "file_extension": ".py",
   "mimetype": "text/x-python",
   "name": "python",
   "nbconvert_exporter": "python",
   "pygments_lexer": "ipython3",
   "version": "3.9.12"
  }
 },
 "nbformat": 4,
 "nbformat_minor": 5
}
