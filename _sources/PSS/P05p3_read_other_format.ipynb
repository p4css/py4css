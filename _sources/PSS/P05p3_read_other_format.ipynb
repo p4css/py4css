{
 "cells": [
  {
   "cell_type": "markdown",
   "id": "87de9b66-4eed-428c-acd0-8df0e90af1f7",
   "metadata": {},
   "source": [
    "# Read more formats"
   ]
  },
  {
   "cell_type": "markdown",
   "id": "300f1294-cf01-4674-a8d1-00f5b5baf20f",
   "metadata": {},
   "source": [
    "## Read Google sheets\n",
    "\n",
    "```python\n",
    "\n",
    "import pandas as pd\n",
    "sheet_id = '18tEk0FJTXEqZsa709DMmQzluUXJ6eoI2JmsZuqd1soE'\n",
    "sheet_name = 'Sheet1'\n",
    "url = f'https://docs.google.com/spreadsheets/d/{sheet_id}/gviz/tq?tqx=out:csv&sheet={sheet_name}'\n",
    "df = pd.read_csv(url)\n",
    "df.head()\n",
    "\n",
    "```"
   ]
  },
  {
   "cell_type": "markdown",
   "id": "182a07be-7243-40f0-b705-ea7aa7b37a34",
   "metadata": {},
   "source": [
    "## Read jsonl\n"
   ]
  },
  {
   "cell_type": "code",
   "execution_count": 4,
   "id": "79ea5074-a911-48c6-b90e-83f19eb4b087",
   "metadata": {},
   "outputs": [],
   "source": [
    "import json\n",
    "def read_jsonl(file):\n",
    "    list_of_dics = []\n",
    "    with open(file, 'r') as f:\n",
    "        json_list = list(f)\n",
    "        for string in json_list:\n",
    "            list_of_dics += [json.loads(string)]\n",
    "    return list_of_dics"
   ]
  },
  {
   "cell_type": "markdown",
   "id": "34dd00e4-29f1-4604-874c-1906d7ceb1be",
   "metadata": {},
   "source": [
    "## Read Pickle"
   ]
  },
  {
   "cell_type": "markdown",
   "id": "957540de-9fef-4d2a-95fc-3dff382082b1",
   "metadata": {},
   "source": [
    "```python\n",
    "import pickle5 as pickle\n",
    "\n",
    "posts = pickle.load(open(\"./jsonl/filtered_post.pickle\", \"rb\"))\n",
    "with open(\"./jsonl/filtered_comment.pickle\", \"rb\") as fin:\n",
    "    comments = pickle.load(fin)\n",
    "\n",
    "print(\"N of posts:\", len(posts))\n",
    "print(\"N of comments:\", len(comments))\n",
    "```"
   ]
  },
  {
   "cell_type": "markdown",
   "id": "8b3d58c7-338e-46aa-9175-be07203a89b9",
   "metadata": {},
   "source": [
    "## Read R RDA"
   ]
  },
  {
   "cell_type": "markdown",
   "id": "818207f3-fa55-45fe-960c-a3b961e29572",
   "metadata": {},
   "source": [
    "```python\n",
    "import pyreadr\n",
    "raw = pyreadr.read_r(\"Boy-Girl_20210627.rda\")\n",
    "raw['allp.df']\n",
    "```"
   ]
  },
  {
   "cell_type": "markdown",
   "id": "4851fb01-eda6-470c-b335-72a4da7d6593",
   "metadata": {},
   "source": [
    "### Read feather\n",
    "\n",
    "* https://arrow.apache.org/docs/r/index.html\n",
    "* https://arrow.apache.org/docs/python/index.html"
   ]
  },
  {
   "cell_type": "code",
   "execution_count": null,
   "id": "4bb9c9fc-785b-4c12-98b4-8dda8d45c7d4",
   "metadata": {},
   "outputs": [],
   "source": []
  }
 ],
 "metadata": {
  "kernelspec": {
   "display_name": "Python 3 (ipykernel)",
   "language": "python",
   "name": "python3"
  },
  "language_info": {
   "codemirror_mode": {
    "name": "ipython",
    "version": 3
   },
   "file_extension": ".py",
   "mimetype": "text/x-python",
   "name": "python",
   "nbconvert_exporter": "python",
   "pygments_lexer": "ipython3",
   "version": "3.9.18"
  }
 },
 "nbformat": 4,
 "nbformat_minor": 5
}
