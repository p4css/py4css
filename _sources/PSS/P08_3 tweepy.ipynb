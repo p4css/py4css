{
 "cells": [
  {
   "cell_type": "markdown",
   "id": "47d9b2ec-5fad-4831-a600-3a8b4ff69e58",
   "metadata": {},
   "source": [
    "# Tweepy for twitter API 2.0\n",
    "\n",
    "\"An easy-to-use Python library for accessing the Twitter API\"\n",
    "\n",
    "由於如果要打撈Twitter資料就必須去看懂Twitter API，有些熱心的程式設計師可能會為了自己方便並與別人分享，而設計一個第三方的函式庫，裡面有一些算好用的函式可以避免讀者必須查閱Twitter API才會知道有哪些欄位或哪些資料可以取用。而Tweepy就是Twitter API的第三方client-side函式庫。不是Twitter官方提供的，而是熱心的一群人所提供的。\n",
    "\n",
    "但好不好用見仁見智。若以「好用」的觀點來看的話，tweepy有將回傳資料的推特文和使用者打包為物件導向的資料，甚至也已經把字串型態的時間戳記給轉為Python的Datetime物件，也是可以避免掉使用者的一些麻煩的。若以「不好用」的觀點來看的話，如果很熟悉Twitter API的話，那有哪些欄位可以取用都是很清楚的，而使用Tweepy一樣要看懂有哪些欄位可以取用，反而是如果Twitter API一改，而tweepy還沒改的話，就有一些功能不能用，偏偏，這種社群網站的API為了隱私或倫理的問題，是經常更動的。而且，因為被打包為物件，所以必須要懂得tweepy把這些資料打包為什麼樣的物件，反而還要多弄懂tweepy怎麼存放資料。因此，有些人是寧可用原生Twitter API來爬取資料的。"
   ]
  },
  {
   "cell_type": "markdown",
   "id": "a9af5606-6ba1-4f32-b8ae-05de45033396",
   "metadata": {},
   "source": [
    "## API 2.0 with tweepy"
   ]
  },
  {
   "cell_type": "markdown",
   "id": "d5bfdc4a-d1d8-46cc-b8b6-bb0d3332880a",
   "metadata": {},
   "source": [
    "以下是搭配tweepy for Twitter API 2.0的函式操作結果\n",
    "* `wait_on_rate_limit`: 由於Twitter對於每個App在一段時間內（15分鐘、1個月內）能取用多少資料（[rate limit](https://developer.twitter.com/en/docs/twitter-api/rate-limits)），當爬取速度高於速度限制時，程式往往就會終止。但在tweepy在初始化`Client`時提供`wait_on_rate_limit`的選項，讓程式在超過速度限制而被Twitter拒絕回傳資料時，可以自動等候，而不會跳開程式執行。\n",
    "* `return_type`: tweepy所抓回來的結果預設為tweepy所自己設計的Response型態，但也可以透過設定`return_type = dict`要求將回傳的資料以Dictionary型態來表示。就看程式寫作者習慣用哪一種型態。如果傳回預設的Tweepy Response型態，因為Twitter API傳回來的資料有時間，就會被自動轉為Datetime物件；如果要求要傳回Dictionary型態，那自然不會自動幫忙把字面上的時間轉為Datetime型態，而是以字串的型態來紀錄。\n",
    "\n",
    "```python\n",
    "client = tweepy.Client(bearer_token=bearer_token, \n",
    "                       consumer_key=consumer_key, \n",
    "                       consumer_secret=consumer_secret, \n",
    "                       access_token=access_token, \n",
    "                       access_token_secret=access_token_secret, \n",
    "                       # default:Response\n",
    "                       return_type = requests.Response, \n",
    "                       # return_type = dict,\n",
    "                       wait_on_rate_limit=True)\n",
    "```                       "
   ]
  },
  {
   "cell_type": "markdown",
   "id": "8ddc9503-8935-4db6-ba3a-41127eeb91a5",
   "metadata": {},
   "source": [
    "### Insitaize a client"
   ]
  },
  {
   "cell_type": "markdown",
   "id": "e79fc1c2-6498-461f-a924-f766e80d1f88",
   "metadata": {},
   "source": [
    "```python\n",
    "import tweepy\n",
    "\n",
    "# token for essentials\n",
    "bearer_token = 'YOUR TOKEN'\n",
    "\n",
    "# client = tweepy.Client(bearer_token, wait_on_rate_limit=True, return_type=dict)\n",
    "client = tweepy.Client(bearer_token, \n",
    "                       # return_type = dict,\n",
    "                       wait_on_rate_limit=True)\n",
    "api = tweepy.API(client)\n",
    "```"
   ]
  },
  {
   "cell_type": "markdown",
   "id": "0de00d22-3fbc-4605-8943-aa3679e259b8",
   "metadata": {},
   "source": [
    "### Query: Recent search\n",
    "\n",
    "* https://docs.tweepy.org/en/stable/client.html#tweepy.Client.search_all_tweets\n",
    "* https://towardsdatascience.com/an-extensive-guide-to-collecting-tweets-from-twitter-api-v2-for-academic-research-using-python-3-518fcb71df2a\n",
    "* Very Useful! https://dev.to/twitterdev/a-comprehensive-guide-for-using-the-twitter-api-v2-using-tweepy-in-python-15d9\n",
    "\n",
    "\n",
    "Queries:\n",
    "* `query = 'from:BarackObama -is:retweet'`\n",
    "\n",
    "Fields: \n",
    "* https://developer.twitter.com/en/docs/twitter-api/fields"
   ]
  },
  {
   "cell_type": "markdown",
   "id": "4e9fbb06-bb9e-493e-bea3-9aeda39a1da7",
   "metadata": {},
   "source": [
    "```python\n",
    "tweets = client.search_recent_tweets(\"#pelosi is:retweet\", \n",
    "                                  tweet_fields =['id','text','author_id','in_reply_to_user_id',\n",
    "                                                 'geo','conversation_id','created_at','lang',\n",
    "                                                 'public_metrics','referenced_tweets','source'],\n",
    "                                  user_fields=['name','username','created_at','public_metrics'],\n",
    "                                  expansions='author_id',\n",
    "                                  max_results=10)\n",
    "```"
   ]
  },
  {
   "cell_type": "markdown",
   "id": "d9478331-d570-4519-83e2-66d8ea18e899",
   "metadata": {},
   "source": [
    "```python\n",
    "tweets.data\n",
    "```"
   ]
  },
  {
   "cell_type": "markdown",
   "id": "d4c0f613-2a08-424f-bebc-da1b202b2a40",
   "metadata": {},
   "source": [
    "```python\n",
    "print(tweets.meta['next_token'])\n",
    "print(tweets.meta['newest_id'])\n",
    "print(tweets.meta['oldest_id'])\n",
    "tweets.includes['users']\n",
    "```"
   ]
  },
  {
   "cell_type": "markdown",
   "id": "9d2022b5-00c8-4f6c-8b64-f5a648bf7567",
   "metadata": {},
   "source": [
    "```python\n",
    "# print(tweets.data[1].text)\n",
    "tweets.data[1].created_at\n",
    "tweets.data[1].public_metrics\n",
    "dict(tweets.data[1])\n",
    "```"
   ]
  },
  {
   "cell_type": "markdown",
   "id": "acfc5dfb-6bc7-4e3b-a189-6d7db5bc9ac2",
   "metadata": {},
   "source": [
    "```python\n",
    "# Initialization\n",
    "\n",
    "all_tweets = []\n",
    "all_users = []\n",
    "tweets = client.search_recent_tweets(\"#pelosi is:retweet\", \n",
    "                                  tweet_fields =['id','text','author_id','in_reply_to_user_id',\n",
    "                                                 'geo','conversation_id','created_at','lang',\n",
    "                                                 'public_metrics','referenced_tweets','source'],\n",
    "                                  user_fields=['name','username','created_at','public_metrics','profile_image_url'],\n",
    "                                  expansions='author_id',\n",
    "                                  max_results=10)\n",
    "all_tweets = tweets.data\n",
    "all_users = tweets.includes['users']\n",
    "```"
   ]
  },
  {
   "cell_type": "markdown",
   "id": "d8919fbb-5fb4-4fd7-8cfe-89ebeb6ad1bb",
   "metadata": {},
   "source": [
    "```python\n",
    "\n",
    "for i in range(10):\n",
    "    tweets = client.search_recent_tweets(\"#pelosi is:retweet\", \n",
    "                                         tweet_fields =['id','text','author_id','in_reply_to_user_id',\n",
    "                                                        'geo','conversation_id','created_at','lang',\n",
    "                                                        'public_metrics','referenced_tweets','source'],\n",
    "                                         user_fields=['name','username','created_at','public_metrics','profile_image_url'],\n",
    "                                         expansions='author_id',\n",
    "                                         next_token=tweets.meta[\"next_token\"],\n",
    "                                         max_results=10)\n",
    "    all_tweets.extend(tweets.data)\n",
    "    all_users.extend(tweets.includes['users'])\n",
    "    print(\"All(n={:4}) {}\\t{}\".format(len(all_tweets), tweets.meta[\"newest_id\"], tweets.meta[\"oldest_id\"])) \n",
    "```"
   ]
  },
  {
   "cell_type": "markdown",
   "id": "371fb3e6-b795-4867-97d8-dd8e10bbe762",
   "metadata": {},
   "source": [
    "## Expansions"
   ]
  },
  {
   "cell_type": "markdown",
   "id": "819bfc56-ef5c-4e7f-80dd-cf5a715f7ad3",
   "metadata": {},
   "source": [
    "### Get user info"
   ]
  },
  {
   "cell_type": "markdown",
   "id": "ae32bc21-6d3c-427a-b496-dde931520e07",
   "metadata": {},
   "source": [
    "```python\n",
    "for user in all_users[:10]:\n",
    "    print(user.username, user.profile_image_url)\n",
    "```    "
   ]
  },
  {
   "cell_type": "markdown",
   "id": "a341ff16-f1c4-4a84-9870-96475709ca99",
   "metadata": {},
   "source": [
    "### Get media"
   ]
  },
  {
   "cell_type": "markdown",
   "id": "555a0029-6df4-4f6b-8c19-5fcd58daf39f",
   "metadata": {},
   "source": [
    "```python\n",
    "import tweepy\n",
    "\n",
    "# Replace with your own search query\n",
    "query = 'covid -is:retweet has:media'\n",
    "\n",
    "tweets = client.search_recent_tweets(query=query, tweet_fields=['context_annotations', 'created_at'],\n",
    "                                     media_fields=['preview_image_url'], expansions='attachments.media_keys',\n",
    "                                     max_results=10)\n",
    "tweets.includes['media']\n",
    "```"
   ]
  },
  {
   "cell_type": "markdown",
   "id": "bb285142-d95b-4632-9961-9eb5abbb0047",
   "metadata": {},
   "source": [
    "```python\n",
    "for tweet in tweets.data:\n",
    "    print(tweet.text)\n",
    "    if len(tweet.context_annotations) > 0:\n",
    "        print(tweet.context_annotations)\n",
    "```"
   ]
  }
 ],
 "metadata": {
  "kernelspec": {
   "display_name": "Python 3 (ipykernel)",
   "language": "python",
   "name": "python3"
  },
  "language_info": {
   "codemirror_mode": {
    "name": "ipython",
    "version": 3
   },
   "file_extension": ".py",
   "mimetype": "text/x-python",
   "name": "python",
   "nbconvert_exporter": "python",
   "pygments_lexer": "ipython3",
   "version": "3.9.12"
  }
 },
 "nbformat": 4,
 "nbformat_minor": 5
}
