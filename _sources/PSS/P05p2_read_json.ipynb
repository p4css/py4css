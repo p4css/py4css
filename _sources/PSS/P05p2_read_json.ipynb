{
 "cells": [
  {
   "cell_type": "markdown",
   "metadata": {
    "id": "RFRYjjGZGl7d"
   },
   "source": [
    "# P05-2 Load and dump ubike json data\n",
    "\n",
    "這個例子載入了台北市ubike的即時資料，該資料以JSON格式儲存，但他並非List of dict(s)的型態，而是Dict of dict(s)的型態，在最外面亦多一層Dictionary包裹著資料和回傳是否傳輸成功的確認碼。因此，和一般的例子比較起來，這個例子必須要找到資料的節點，在解出為Python的物件時，也要考慮如何處理資料中兩層的Dictionary。\n",
    "\n",
    "\n"
   ]
  },
  {
   "cell_type": "markdown",
   "metadata": {
    "id": "dtah5k-IGl7p"
   },
   "source": [
    "## Read and Write JSON\n",
    "\n",
    "### Step 1. Requests to get data from internet\n",
    "在以下的程式碼中，我用`requests`這個套件發出一個`get()`要求，然後我嘗試列印出一些該要求的回傳資料，以確認我成功地獲得我要求的資料。"
   ]
  },
  {
   "cell_type": "code",
   "execution_count": 1,
   "metadata": {
    "ExecuteTime": {
     "end_time": "2020-03-14T14:59:15.035249Z",
     "start_time": "2020-03-14T14:59:13.983694Z"
    },
    "colab": {
     "base_uri": "https://localhost:8080/"
    },
    "executionInfo": {
     "elapsed": 2555,
     "status": "ok",
     "timestamp": 1615347035433,
     "user": {
      "displayName": "JILUNG",
      "photoUrl": "https://lh3.googleusercontent.com/a-/AOh14Gg6zj7prBu9I41dXrwQwaD6D0pMAipXePNpoU-MZ30=s64",
      "userId": "08765716966079614016"
     },
     "user_tz": -480
    },
    "id": "434LY8skGl7p",
    "outputId": "7cf8692c-e2cb-47ca-fb3b-4612781d20db"
   },
   "outputs": [
    {
     "name": "stdout",
     "output_type": "stream",
     "text": [
      "<Response [200]>\n",
      "200\n",
      "{'Content-Length': '30165', 'Content-Type': 'application/octet-stream', 'Content-Encoding': 'gzip', 'Content-MD5': 'EFQuHfXNKFZPZRyOMXoYhA==', 'Last-Modified': 'Sun, 30 Oct 2022 10:53:49 GMT', 'ETag': '0x8DABA6507095944', 'Server': 'Windows-Azure-Blob/1.0 Microsoft-HTTPAPI/2.0', 'x-ms-request-id': 'd3747082-d01e-00fe-5a50-f4c6b6000000', 'x-ms-version': '2009-09-19', 'x-ms-lease-status': 'unlocked', 'x-ms-blob-type': 'BlockBlob', 'Access-Control-Allow-Origin': '*', 'Date': 'Sun, 01 Oct 2023 10:18:55 GMT'}\n",
      "<class 'requests.models.Response'>\n",
      "<class 'str'>\n"
     ]
    }
   ],
   "source": [
    "import requests\n",
    "import json\n",
    "response = requests.get('https://tcgbusfs.blob.core.windows.net/blobyoubike/YouBikeTP.gz')\n",
    "print(response)\n",
    "print(response.status_code)\n",
    "print(response.headers)\n",
    "print(type(response)) # <class 'requests.models.Response'>\n",
    "print(type(response.text)) # <class 'str'>"
   ]
  },
  {
   "cell_type": "markdown",
   "metadata": {
    "id": "0mbL97lFGl7p"
   },
   "source": [
    "把前500個字元印出來可以看到這裡面只有大括號，而且在資料（`retVal`所對應到的那個大括號）外面還有一層，也就是`retCode`和`retVal`所在的那一層大括號。"
   ]
  },
  {
   "cell_type": "code",
   "execution_count": 2,
   "metadata": {
    "ExecuteTime": {
     "end_time": "2020-03-14T15:00:16.919359Z",
     "start_time": "2020-03-14T15:00:16.004128Z"
    },
    "id": "PDiDzoZ0Gl7p",
    "outputId": "2d83326b-2e28-4637-f5e5-26bed51687f3"
   },
   "outputs": [
    {
     "data": {
      "text/plain": [
       "'{\"retCode\":1,\"retVal\":{\"0001\":{\"sno\": \"0001\", \"sna\": \"捷運市政府站(3號出口)\", \"tot\": \"84\", \"sbi\": \"74\", \"sarea\": \"信義區\", \"mday\": \"20221030185227\", \"lat\": \"25.0408578889\", \"lng\": \"121.567904444\", \"ar\": \"忠孝東路/松仁路(東南側)\", \"sareaen\": \"Xinyi Dist.\", \"snaen\": \"MRT Taipei City Hall Stataion(Exit 3)-2\", \"aren\": \"The S.W. side of Road Zhongxiao East Road & Road Chung Yan.\", \"bemp\": \"10\", \"act\": \"1\"},\"0002\":{\"sno\": \"0002\", \"sna\": \"捷運國父紀念館站(2號出口)\", \"tot\": \"16\", \"sbi\": \"4\", \"sarea\": \"大安區\", \"mday\": \"20221030185231\", \"l'"
      ]
     },
     "execution_count": 2,
     "metadata": {},
     "output_type": "execute_result"
    }
   ],
   "source": [
    "response.text[:500]"
   ]
  },
  {
   "cell_type": "markdown",
   "metadata": {
    "id": "4NGBgoiJGl7p"
   },
   "source": [
    "### Step 2. Convert json text to python objects"
   ]
  },
  {
   "cell_type": "code",
   "execution_count": 3,
   "metadata": {
    "ExecuteTime": {
     "end_time": "2020-03-14T15:01:20.974966Z",
     "start_time": "2020-03-14T15:01:20.059094Z"
    },
    "colab": {
     "base_uri": "https://localhost:8080/"
    },
    "executionInfo": {
     "elapsed": 1355,
     "status": "ok",
     "timestamp": 1615347372387,
     "user": {
      "displayName": "JILUNG",
      "photoUrl": "https://lh3.googleusercontent.com/a-/AOh14Gg6zj7prBu9I41dXrwQwaD6D0pMAipXePNpoU-MZ30=s64",
      "userId": "08765716966079614016"
     },
     "user_tz": -480
    },
    "id": "1m8HvG5nGl7q",
    "outputId": "97b9dd52-75c5-4dc3-92c8-4a6c0c663a4f"
   },
   "outputs": [
    {
     "name": "stdout",
     "output_type": "stream",
     "text": [
      "<class 'dict'>\n",
      "<class 'dict'>\n",
      "<class 'int'>\n",
      "369\n"
     ]
    }
   ],
   "source": [
    "json_obj = json.loads(response.text)\n",
    "print(type(json_obj))\n",
    "print(type(json_obj[\"retVal\"]))\n",
    "print(type(json_obj[\"retCode\"]))\n",
    "print(len(json_obj[\"retVal\"]))"
   ]
  },
  {
   "cell_type": "markdown",
   "metadata": {},
   "source": [
    "### Step 3. Save data to json \n",
    "\n",
    "```python\n",
    "\n",
    "json.dump(json_obj, open('ubike.json', 'w'))\n",
    "\n",
    "```"
   ]
  },
  {
   "cell_type": "markdown",
   "metadata": {},
   "source": [
    "## Load/Dump Pickle\n",
    "\n",
    "Pickle有點類似暫存檔，把什麼東西dump-out，當load-in回來時就會是原本的樣子。不用再重新Parsing。甚至如果原本資料型態\n",
    "\n",
    "### Dump to Pickle\n",
    "```Python\n",
    "import pickle\n",
    "with open(\"output.p\", \"wb\") as fout:\n",
    "    pickle.dump(json_obj, fout)\n",
    "```\n",
    "\n",
    "### Load Pickle data\n",
    "```Python\n",
    "with open(\"output.p\", \"rb\") as fin:\n",
    "    ubike_data = pickle.load(fin)\n",
    "```"
   ]
  },
  {
   "cell_type": "markdown",
   "metadata": {
    "id": "wLtGa1AnGl7r"
   },
   "source": [
    "## Convert CSV to JSON\n",
    "\n",
    "現在我想做的是，假設我有一個檔案是CSV檔，但我希望用手動方式把它改為JSON檔，要怎麼做？做法其實就是先把CSV第一列取出來儲存為Key，然後把這個Key一一和每一列的值給對應起來結合成一個又一個的Dictionary，最後把每列所產生的Dictionary用`append()`加入一個List中，就會是一個List of dictionaries結構的JSON格式。\n"
   ]
  },
  {
   "cell_type": "markdown",
   "metadata": {},
   "source": [
    "\n",
    "### Step 1: Read CSV to list of list\n",
    "\n",
    "```python\n",
    "all_list = []\n",
    "with open(\"drug_156_2.csv\", \"r\", encoding=\"utf-8-sig\") as f:\n",
    "    for line in f.read().split(\"\\n\"):\n",
    "        row = line.split(\",\")\n",
    "        all_list.append(row)\n",
    "#         print(len(row))\n",
    "print(all_list[1][-2])\n",
    "print(all_list[1])\n",
    "\n",
    "keys = all_list[0]\n",
    "```\n"
   ]
  },
  {
   "cell_type": "markdown",
   "metadata": {},
   "source": [
    "\n",
    "### Step 2: Convert list of list to list of dict\n",
    "```python\n",
    "json_list = []\n",
    "for row in all_list[1:]:\n",
    "    temp_dict = dict(zip(keys, row))\n",
    "    json_list.append(temp_dict)\n",
    "json_list[:3]\n",
    "```"
   ]
  },
  {
   "cell_type": "markdown",
   "metadata": {},
   "source": [
    "### Step 3: Dump to json\n",
    "\n",
    "```python\n",
    "\n",
    "json.dump(json_obj, open('ubike.json', 'w'))\n",
    "\n",
    "```"
   ]
  }
 ],
 "metadata": {
  "colab": {
   "collapsed_sections": [],
   "name": "P05_read_csv_json.ipynb",
   "provenance": [
    {
     "file_id": "1JVorXfUiLWA5pkLFiTGPChD9PdxhySq8",
     "timestamp": 1616037915685
    }
   ],
   "toc_visible": true
  },
  "kernelspec": {
   "display_name": "Python 3 (ipykernel)",
   "language": "python",
   "name": "python3"
  },
  "language_info": {
   "codemirror_mode": {
    "name": "ipython",
    "version": 3
   },
   "file_extension": ".py",
   "mimetype": "text/x-python",
   "name": "python",
   "nbconvert_exporter": "python",
   "pygments_lexer": "ipython3",
   "version": "3.9.18"
  },
  "toc": {
   "base_numbering": 1,
   "nav_menu": {},
   "number_sections": true,
   "sideBar": true,
   "skip_h1_title": false,
   "title_cell": "Table of Contents",
   "title_sidebar": "Contents",
   "toc_cell": false,
   "toc_position": {},
   "toc_section_display": true,
   "toc_window_display": true
  },
  "toc-autonumbering": false,
  "toc-showcode": false,
  "toc-showmarkdowntxt": false,
  "toc-showtags": false
 },
 "nbformat": 4,
 "nbformat_minor": 4
}
