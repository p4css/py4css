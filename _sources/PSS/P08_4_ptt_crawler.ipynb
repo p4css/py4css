{
 "cells": [
  {
   "cell_type": "markdown",
   "metadata": {},
   "source": [
    "# P08 HTML Parsing - Crawling PTT\n",
    "\n",
    "* Using BeautifulSoup Extract Text without Tags http://stackoverflow.com/questions/23380171/using-beautifulsoup-extract-text-without-tags\n",
    "* Scraper: [comparing beautifulsoup vs. scrapy](https://stackoverflow.com/questions/19687421/difference-between-beautifulsoup-and-scrapy-crawler)\n",
    "* [comparing beautifulsoup vs. scrapy 2](https://blog.michaelyin.info/scrapy-tutorial-1-scrapy-vs-beautiful-soup/)"
   ]
  },
  {
   "cell_type": "markdown",
   "metadata": {},
   "source": [
    "## I. Introduction\n",
    "\n",
    "### 1.1 Get url content by requests\n",
    "* Try to get the following links (click and observe them, get them by `request.get()`)\n",
    "    * https://www.ptt.cc/bbs/Boy-Girl/index.html\n",
    "    * https://www.ptt.cc/bbs/Gossiping/index.html\n",
    "    * http://ecshweb.pchome.com.tw/search/v3.3/?q=iphone"
   ]
  },
  {
   "cell_type": "code",
   "execution_count": 4,
   "metadata": {},
   "outputs": [
    {
     "name": "stdout",
     "output_type": "stream",
     "text": [
      "https://www.ptt.cc/bbs/Boy-Girl/index.html\n",
      "<!DOCTYPE html>\n",
      "<html>\n",
      "\t<head>\n",
      "\t\t<meta charset=\"utf-8\">\n",
      "\t\t\n",
      "\n",
      "<meta name=\"viewport\" content=\"width=device-width, initial-scale=1\">\n",
      "\n",
      "<title>看板 Boy-Girl 文章列表 - 批踢踢實業坊</title>\n",
      "\n",
      "<link rel=\"stylesheet\" type=\"text/css\" href=\"//images.ptt.cc/bbs/v2.27/bbs-common.css\">\n",
      "<link rel=\"stylesheet\" type=\"text/css\" href=\"//images.ptt.cc/bbs/v2.27/bbs-base.css\" media=\"screen\">\n",
      "<link rel=\"stylesheet\" type=\"text/css\" href=\"//images.ptt.cc/bbs/v2.27/bbs-custom.css\">\n",
      "<link rel=\"stylesheet\" type=\"text/css\" href=\"//imag\n"
     ]
    }
   ],
   "source": [
    "import requests\n",
    "url = 'https://www.ptt.cc/bbs/Boy-Girl/index.html'\n",
    "print(url)\n",
    "\n",
    "response = requests.get(url, timeout=(2, 3))\n",
    "print(response.text[:500])"
   ]
  },
  {
   "cell_type": "markdown",
   "metadata": {},
   "source": [
    "### 1.2 Using Chrome DevTools to get right elements\n",
    "\n",
    "* [Slide: Inspecting HTML by Chrome DevTools](https://docs.google.com/presentation/d/e/2PACX-1vSrIfJQJpr_24wwIjMaTMKiq_xrhZ5n-J26G7xbXC1HIMMKWfMsm6zFWOsX8NxNEN_S46z9PnsASj32/pub?start=false&loop=false&delayms=3000)"
   ]
  },
  {
   "cell_type": "markdown",
   "metadata": {},
   "source": [
    "### 1.3 Parsing url content by beautifulsoup\n",
    "\n",
    "* Beautifulsoup4 https://www.crummy.com/software/BeautifulSoup/bs4/doc/"
   ]
  },
  {
   "cell_type": "markdown",
   "metadata": {},
   "source": [
    "## II. Get links from a page"
   ]
  },
  {
   "cell_type": "markdown",
   "metadata": {},
   "source": [
    "### 2.1 Getting response"
   ]
  },
  {
   "cell_type": "code",
   "execution_count": 2,
   "metadata": {},
   "outputs": [],
   "source": [
    "import requests\n",
    "from bs4 import BeautifulSoup\n",
    "\n",
    "url = 'https://www.ptt.cc/bbs/Boy-Girl/index.html'\n",
    "response = requests.get(url, timeout=(2, 3))"
   ]
  },
  {
   "cell_type": "markdown",
   "metadata": {},
   "source": [
    "### 2.2 Converting webpage to a soup object"
   ]
  },
  {
   "cell_type": "code",
   "execution_count": 3,
   "metadata": {
    "tags": []
   },
   "outputs": [
    {
     "name": "stdout",
     "output_type": "stream",
     "text": [
      "<class 'bs4.BeautifulSoup'>\n",
      "<!DOCTYPE html>\n",
      "<html>\n",
      " <head>\n",
      "  <meta charset=\"utf-8\"/>\n",
      "  <meta content=\"width=device-width, initial-scale=1\" name=\"viewport\"/>\n",
      "  <title>\n",
      "   看板 Boy-Girl 文章列表 - 批踢踢實業坊\n",
      "  </title>\n",
      "  <link href=\"//images.ptt.cc/bbs/v2.27/bbs-common.css\" rel=\"stylesheet\" type=\"text/css\"/>\n",
      "  <link href=\"//images.ptt.cc/bbs/v2.27/bbs-base.css\" media=\"screen\" rel=\"stylesheet\" type=\"text/css\"/>\n",
      "  <link href=\"//images.ptt.cc/bbs/v2.27/bbs-custom.css\" rel=\"stylesheet\" type=\"text/css\"/>\n",
      "  <link href=\"//images.ptt.cc/bbs/v2.27/pushstream.css\" media=\"screen\" rel=\"stylesheet\" type=\"text/css\"/>\n",
      "  <link href=\"//images.ptt.cc/bbs/v2.27/bbs-print.css\" media=\"print\" rel=\"stylesheet\" type=\"text/css\"/>\n",
      " </head>\n",
      " <body>\n",
      "  <div id=\"topbar-container\">\n",
      "   <div class=\"bbs-content\" id=\"topbar\">\n",
      "    <a href=\"/bbs/\" id=\"logo\">\n",
      "     批踢踢實業坊\n",
      "    </a>\n",
      "    <span>\n",
      "     ›\n",
      "    </span>\n",
      "    <a class=\"board\" href=\"/bbs/Boy-Girl/index.html\">\n",
      "     <span class=\"board-label\">\n",
      "      看板\n",
      "     </span>\n",
      "     Boy-Girl\n",
      "    </a>\n",
      "    <a class=\"right small\" href=\"/about.html\">\n",
      "     關於我們\n",
      "    </a>\n",
      "    <a class=\"right small\" href=\"/contact.html\">\n",
      "     聯絡資訊\n",
      "    </a>\n",
      "   </div>\n",
      "  </div>\n",
      "  <div id=\"main-container\">\n",
      "   <div id=\"action-bar-container\">\n",
      "    <div class=\"action-bar\">\n",
      "     <div class=\"btn-group btn-group-dir\">\n",
      "      <a class=\"btn selected\" href=\"/bbs/Boy-Girl/index.html\">\n",
      "       看板\n",
      "      </a>\n",
      "      <a class=\"btn\" href=\"/man/Boy-Girl/index.html\">\n",
      "       精華區\n",
      "      </a>\n",
      "     </div>\n",
      "     <div class=\"btn-group btn-group-paging\">\n",
      "      <a class=\"btn wide\" href=\"/bbs/Boy-Girl/index1.html\">\n",
      "       最舊\n",
      "      </a>\n",
      "      <a class=\"btn wide\" href=\"/bbs/Boy-Girl/index5537.html\">\n",
      "       ‹ 上頁\n",
      "      </a>\n",
      "      <a class=\"btn wide disabled\">\n",
      "       下頁 ›\n",
      "      </a>\n",
      "      <a class=\"btn wide\" href=\"/bbs/Boy-Girl/index.html\">\n",
      "       最新\n",
      "      </a>\n",
      "     </div>\n",
      "    </div>\n",
      "   </div>\n",
      "   <div class=\"r-list-container action-bar-margin bbs-screen\">\n",
      "    <div class=\"search-bar\">\n",
      "     <form action=\"search\" id=\"search-bar\" type=\"get\">\n",
      "      <input class=\"query\" name=\"q\" placeholder=\"搜尋文章⋯\" type=\"text\" value=\"\"/>\n",
      "     </form>\n",
      "    </div>\n",
      "    <div class=\"r-ent\">\n",
      "     <div class=\"nrec\">\n",
      "      <span class=\"hl f3\">\n",
      "       28\n",
      "      </span>\n",
      "     </div>\n",
      "     <div class=\"title\">\n",
      "      <a href=\"/bbs/Boy-Girl/M.1636276845.A.58A.html\">\n",
      "       [求助] 因無法陪伴而被劈腿是否該放手\n",
      "      </a>\n",
      "     </div>\n",
      "     <div class=\"meta\">\n",
      "      <div class=\"author\">\n",
      "       EEBGL\n",
      "      </div>\n",
      "      <div class=\"article-menu\">\n",
      "       <div class=\"trigger\">\n",
      "        ⋯\n",
      "       </div>\n",
      "       <div class=\"dropdown\">\n",
      "        <div class=\"item\">\n",
      "         <a href=\"/bbs/Boy-Girl/search?q=thread%3A%5B%E6%B1%82%E5%8A%A9%5D+%E5%9B%A0%E7%84%A1%E6%B3%95%E9%99%AA%E4%BC%B4%E8%80%8C%E8%A2%AB%E5%8A%88%E8%85%BF%E6%98%AF%E5%90%A6%E8%A9%B2%E6%94%BE%E6%89%8B\">\n",
      "          搜尋同標題文章\n",
      "         </a>\n",
      "        </div>\n",
      "        <div class=\"item\">\n",
      "         <a href=\"/bbs/Boy-Girl/search?q=author%3AEEBGL\">\n",
      "          搜尋看板內 EEBGL 的文章\n",
      "         </a>\n",
      "        </div>\n",
      "       </div>\n",
      "      </div>\n",
      "      <div class=\"date\">\n",
      "       11/07\n",
      "      </div>\n",
      "      <div class=\"mark\">\n",
      "      </div>\n",
      "     </div>\n",
      "    </div>\n",
      "    <div class=\"r-ent\">\n",
      "     <div class=\"nrec\">\n",
      "      <span class=\"hl f2\">\n",
      "       1\n",
      "      </span>\n",
      "     </div>\n",
      "     <div class=\"title\">\n",
      "      <a href=\"/bbs/Boy-Girl/M.1636277263.A.F73.html\">\n",
      "       Re: [求助] 曖昧到最後無疾而終\n",
      "      </a>\n",
      "     </div>\n",
      "     <div class=\"meta\">\n",
      "      <div class=\"author\">\n",
      "       cloud72426\n",
      "      </div>\n",
      "      <div class=\"article-menu\">\n",
      "       <div class=\"trigger\">\n",
      "        ⋯\n",
      "       </div>\n",
      "       <div class=\"dropdown\">\n",
      "        <div class=\"item\">\n",
      "         <a href=\"/bbs/Boy-Girl/search?q=thread%3A%5B%E6%B1%82%E5%8A%A9%5D+%E6%9B%96%E6%98%A7%E5%88%B0%E6%9C%80%E5%BE%8C%E7%84%A1%E7%96%BE%E8%80%8C%E7%B5%82\">\n",
      "          搜尋同標題文章\n",
      "         </a>\n",
      "        </div>\n",
      "        <div class=\"item\">\n",
      "         <a href=\"/bbs/Boy-Girl/search?q=author%3Acloud72426\">\n",
      "          搜尋看板內 cloud72426 的文章\n",
      "         </a>\n",
      "        </div>\n",
      "       </div>\n",
      "      </div>\n",
      "      <div class=\"date\">\n",
      "       11/07\n",
      "      </div>\n",
      "      <div class=\"mark\">\n",
      "      </div>\n",
      "     </div>\n",
      "    </div>\n",
      "    <div class=\"r-ent\">\n",
      "     <div class=\"nrec\">\n",
      "     </div>\n",
      "     <div class=\"title\">\n",
      "      (本文已被刪除) [ss61512tw]\n",
      "     </div>\n",
      "     <div class=\"meta\">\n",
      "      <div class=\"author\">\n",
      "       -\n",
      "      </div>\n",
      "      <div class=\"article-menu\">\n",
      "      </div>\n",
      "      <div class=\"date\">\n",
      "       11/07\n",
      "      </div>\n",
      "      <div class=\"mark\">\n",
      "      </div>\n",
      "     </div>\n",
      "    </div>\n",
      "    <div class=\"r-ent\">\n",
      "     <div class=\"nrec\">\n",
      "      <span class=\"hl f3\">\n",
      "       14\n",
      "      </span>\n",
      "     </div>\n",
      "     <div class=\"title\">\n",
      "      <a href=\"/bbs/Boy-Girl/M.1636283415.A.644.html\">\n",
      "       [討論] 你們是怎麼度過尬聊期的\n",
      "      </a>\n",
      "     </div>\n",
      "     <div class=\"meta\">\n",
      "      <div class=\"author\">\n",
      "       A22813079\n",
      "      </div>\n",
      "      <div class=\"article-menu\">\n",
      "       <div class=\"trigger\">\n",
      "        ⋯\n",
      "       </div>\n",
      "       <div class=\"dropdown\">\n",
      "        <div class=\"item\">\n",
      "         <a href=\"/bbs/Boy-Girl/search?q=thread%3A%5B%E8%A8%8E%E8%AB%96%5D+%E4%BD%A0%E5%80%91%E6%98%AF%E6%80%8E%E9%BA%BC%E5%BA%A6%E9%81%8E%E5%B0%AC%E8%81%8A%E6%9C%9F%E7%9A%84\">\n",
      "          搜尋同標題文章\n",
      "         </a>\n",
      "        </div>\n",
      "        <div class=\"item\">\n",
      "         <a href=\"/bbs/Boy-Girl/search?q=author%3AA22813079\">\n",
      "          搜尋看板內 A22813079 的文章\n",
      "         </a>\n",
      "        </div>\n",
      "       </div>\n",
      "      </div>\n",
      "      <div class=\"date\">\n",
      "       11/07\n",
      "      </div>\n",
      "      <div class=\"mark\">\n",
      "      </div>\n",
      "     </div>\n",
      "    </div>\n",
      "    <div class=\"r-ent\">\n",
      "     <div class=\"nrec\">\n",
      "     </div>\n",
      "     <div class=\"title\">\n",
      "      <a href=\"/bbs/Boy-Girl/M.1636287054.A.17D.html\">\n",
      "       [討論] 板上的人是不是都太年輕啊？\n",
      "      </a>\n",
      "     </div>\n",
      "     <div class=\"meta\">\n",
      "      <div class=\"author\">\n",
      "       pttkobe\n",
      "      </div>\n",
      "      <div class=\"article-menu\">\n",
      "       <div class=\"trigger\">\n",
      "        ⋯\n",
      "       </div>\n",
      "       <div class=\"dropdown\">\n",
      "        <div class=\"item\">\n",
      "         <a href=\"/bbs/Boy-Girl/search?q=thread%3A%5B%E8%A8%8E%E8%AB%96%5D+%E6%9D%BF%E4%B8%8A%E7%9A%84%E4%BA%BA%E6%98%AF%E4%B8%8D%E6%98%AF%E9%83%BD%E5%A4%AA%E5%B9%B4%E8%BC%95%E5%95%8A%EF%BC%9F\">\n",
      "          搜尋同標題文章\n",
      "         </a>\n",
      "        </div>\n",
      "        <div class=\"item\">\n",
      "         <a href=\"/bbs/Boy-Girl/search?q=author%3Apttkobe\">\n",
      "          搜尋看板內 pttkobe 的文章\n",
      "         </a>\n",
      "        </div>\n",
      "       </div>\n",
      "      </div>\n",
      "      <div class=\"date\">\n",
      "       11/07\n",
      "      </div>\n",
      "      <div class=\"mark\">\n",
      "      </div>\n",
      "     </div>\n",
      "    </div>\n",
      "    <div class=\"r-ent\">\n",
      "     <div class=\"nrec\">\n",
      "     </div>\n",
      "     <div class=\"title\">\n",
      "      <a href=\"/bbs/Boy-Girl/M.1636290612.A.9DB.html\">\n",
      "       [討論] 如果用學術的角度切入\n",
      "      </a>\n",
      "     </div>\n",
      "     <div class=\"meta\">\n",
      "      <div class=\"author\">\n",
      "       kittor\n",
      "      </div>\n",
      "      <div class=\"article-menu\">\n",
      "       <div class=\"trigger\">\n",
      "        ⋯\n",
      "       </div>\n",
      "       <div class=\"dropdown\">\n",
      "        <div class=\"item\">\n",
      "         <a href=\"/bbs/Boy-Girl/search?q=thread%3A%5B%E8%A8%8E%E8%AB%96%5D+%E5%A6%82%E6%9E%9C%E7%94%A8%E5%AD%B8%E8%A1%93%E7%9A%84%E8%A7%92%E5%BA%A6%E5%88%87%E5%85%A5\">\n",
      "          搜尋同標題文章\n",
      "         </a>\n",
      "        </div>\n",
      "        <div class=\"item\">\n",
      "         <a href=\"/bbs/Boy-Girl/search?q=author%3Akittor\">\n",
      "          搜尋看板內 kittor 的文章\n",
      "         </a>\n",
      "        </div>\n",
      "       </div>\n",
      "      </div>\n",
      "      <div class=\"date\">\n",
      "       11/07\n",
      "      </div>\n",
      "      <div class=\"mark\">\n",
      "      </div>\n",
      "     </div>\n",
      "    </div>\n",
      "    <div class=\"r-list-sep\">\n",
      "    </div>\n",
      "    <div class=\"r-ent\">\n",
      "     <div class=\"nrec\">\n",
      "      <span class=\"hl f2\">\n",
      "       6\n",
      "      </span>\n",
      "     </div>\n",
      "     <div class=\"title\">\n",
      "      <a href=\"/bbs/Boy-Girl/M.1399818891.A.D72.html\">\n",
      "       [公告] 關於新制板規說明（必讀）\n",
      "      </a>\n",
      "     </div>\n",
      "     <div class=\"meta\">\n",
      "      <div class=\"author\">\n",
      "       snda\n",
      "      </div>\n",
      "      <div class=\"article-menu\">\n",
      "       <div class=\"trigger\">\n",
      "        ⋯\n",
      "       </div>\n",
      "       <div class=\"dropdown\">\n",
      "        <div class=\"item\">\n",
      "         <a href=\"/bbs/Boy-Girl/search?q=thread%3A%5B%E5%85%AC%E5%91%8A%5D+%E9%97%9C%E6%96%BC%E6%96%B0%E5%88%B6%E6%9D%BF%E8%A6%8F%E8%AA%AA%E6%98%8E%EF%BC%88%E5%BF%85%E8%AE%80%EF%BC%89\">\n",
      "          搜尋同標題文章\n",
      "         </a>\n",
      "        </div>\n",
      "        <div class=\"item\">\n",
      "         <a href=\"/bbs/Boy-Girl/search?q=author%3Asnda\">\n",
      "          搜尋看板內 snda 的文章\n",
      "         </a>\n",
      "        </div>\n",
      "       </div>\n",
      "      </div>\n",
      "      <div class=\"date\">\n",
      "       5/11\n",
      "      </div>\n",
      "      <div class=\"mark\">\n",
      "       !\n",
      "      </div>\n",
      "     </div>\n",
      "    </div>\n",
      "    <div class=\"r-ent\">\n",
      "     <div class=\"nrec\">\n",
      "     </div>\n",
      "     <div class=\"title\">\n",
      "      <a href=\"/bbs/Boy-Girl/M.1554727003.A.986.html\">\n",
      "       [公告] 檢舉格式教學\n",
      "      </a>\n",
      "     </div>\n",
      "     <div class=\"meta\">\n",
      "      <div class=\"author\">\n",
      "       ChenDao\n",
      "      </div>\n",
      "      <div class=\"article-menu\">\n",
      "       <div class=\"trigger\">\n",
      "        ⋯\n",
      "       </div>\n",
      "       <div class=\"dropdown\">\n",
      "        <div class=\"item\">\n",
      "         <a href=\"/bbs/Boy-Girl/search?q=thread%3A%5B%E5%85%AC%E5%91%8A%5D+%E6%AA%A2%E8%88%89%E6%A0%BC%E5%BC%8F%E6%95%99%E5%AD%B8\">\n",
      "          搜尋同標題文章\n",
      "         </a>\n",
      "        </div>\n",
      "        <div class=\"item\">\n",
      "         <a href=\"/bbs/Boy-Girl/search?q=author%3AChenDao\">\n",
      "          搜尋看板內 ChenDao 的文章\n",
      "         </a>\n",
      "        </div>\n",
      "       </div>\n",
      "      </div>\n",
      "      <div class=\"date\">\n",
      "       4/08\n",
      "      </div>\n",
      "      <div class=\"mark\">\n",
      "       !\n",
      "      </div>\n",
      "     </div>\n",
      "    </div>\n",
      "    <div class=\"r-ent\">\n",
      "     <div class=\"nrec\">\n",
      "     </div>\n",
      "     <div class=\"title\">\n",
      "      <a href=\"/bbs/Boy-Girl/M.1560802697.A.8E6.html\">\n",
      "       [公告] 有關於\"問卷文申請\"\n",
      "      </a>\n",
      "     </div>\n",
      "     <div class=\"meta\">\n",
      "      <div class=\"author\">\n",
      "       ChenDao\n",
      "      </div>\n",
      "      <div class=\"article-menu\">\n",
      "       <div class=\"trigger\">\n",
      "        ⋯\n",
      "       </div>\n",
      "       <div class=\"dropdown\">\n",
      "        <div class=\"item\">\n",
      "         <a href=\"/bbs/Boy-Girl/search?q=thread%3A%5B%E5%85%AC%E5%91%8A%5D+%E6%9C%89%E9%97%9C%E6%96%BC%22%E5%95%8F%E5%8D%B7%E6%96%87%E7%94%B3%E8%AB%8B%22\">\n",
      "          搜尋同標題文章\n",
      "         </a>\n",
      "        </div>\n",
      "        <div class=\"item\">\n",
      "         <a href=\"/bbs/Boy-Girl/search?q=author%3AChenDao\">\n",
      "          搜尋看板內 ChenDao 的文章\n",
      "         </a>\n",
      "        </div>\n",
      "       </div>\n",
      "      </div>\n",
      "      <div class=\"date\">\n",
      "       6/18\n",
      "      </div>\n",
      "      <div class=\"mark\">\n",
      "       !\n",
      "      </div>\n",
      "     </div>\n",
      "    </div>\n",
      "    <div class=\"r-ent\">\n",
      "     <div class=\"nrec\">\n",
      "     </div>\n",
      "     <div class=\"title\">\n",
      "      <a href=\"/bbs/Boy-Girl/M.1565730811.A.BDC.html\">\n",
      "       [公告] 男女板板規\n",
      "      </a>\n",
      "     </div>\n",
      "     <div class=\"meta\">\n",
      "      <div class=\"author\">\n",
      "       ChenDao\n",
      "      </div>\n",
      "      <div class=\"article-menu\">\n",
      "       <div class=\"trigger\">\n",
      "        ⋯\n",
      "       </div>\n",
      "       <div class=\"dropdown\">\n",
      "        <div class=\"item\">\n",
      "         <a href=\"/bbs/Boy-Girl/search?q=thread%3A%5B%E5%85%AC%E5%91%8A%5D+%E7%94%B7%E5%A5%B3%E6%9D%BF%E6%9D%BF%E8%A6%8F\">\n",
      "          搜尋同標題文章\n",
      "         </a>\n",
      "        </div>\n",
      "        <div class=\"item\">\n",
      "         <a href=\"/bbs/Boy-Girl/search?q=author%3AChenDao\">\n",
      "          搜尋看板內 ChenDao 的文章\n",
      "         </a>\n",
      "        </div>\n",
      "       </div>\n",
      "      </div>\n",
      "      <div class=\"date\">\n",
      "       8/14\n",
      "      </div>\n",
      "      <div class=\"mark\">\n",
      "       !\n",
      "      </div>\n",
      "     </div>\n",
      "    </div>\n",
      "    <div class=\"r-ent\">\n",
      "     <div class=\"nrec\">\n",
      "     </div>\n",
      "     <div class=\"title\">\n",
      "      <a href=\"/bbs/Boy-Girl/M.1631115662.A.014.html\">\n",
      "       Fw: [情報] 34th 小天使招考（9/5～9/15）\n",
      "      </a>\n",
      "     </div>\n",
      "     <div class=\"meta\">\n",
      "      <div class=\"author\">\n",
      "       ChenDao\n",
      "      </div>\n",
      "      <div class=\"article-menu\">\n",
      "       <div class=\"trigger\">\n",
      "        ⋯\n",
      "       </div>\n",
      "       <div class=\"dropdown\">\n",
      "        <div class=\"item\">\n",
      "         <a href=\"/bbs/Boy-Girl/search?q=thread%3A%5B%E6%83%85%E5%A0%B1%5D+34th+%E5%B0%8F%E5%A4%A9%E4%BD%BF%E6%8B%9B%E8%80%83%EF%BC%889%2F5%EF%BD%9E9%2F15%EF%BC%89+\">\n",
      "          搜尋同標題文章\n",
      "         </a>\n",
      "        </div>\n",
      "        <div class=\"item\">\n",
      "         <a href=\"/bbs/Boy-Girl/search?q=author%3AChenDao\">\n",
      "          搜尋看板內 ChenDao 的文章\n",
      "         </a>\n",
      "        </div>\n",
      "       </div>\n",
      "      </div>\n",
      "      <div class=\"date\">\n",
      "       9/08\n",
      "      </div>\n",
      "      <div class=\"mark\">\n",
      "       M\n",
      "      </div>\n",
      "     </div>\n",
      "    </div>\n",
      "   </div>\n",
      "  </div>\n",
      "  <script>\n",
      "   (function(i,s,o,g,r,a,m){i['GoogleAnalyticsObject']=r;i[r]=i[r]||function(){\n",
      "  (i[r].q=i[r].q||[]).push(arguments)},i[r].l=1*new Date();a=s.createElement(o),\n",
      "  m=s.getElementsByTagName(o)[0];a.async=1;a.src=g;m.parentNode.insertBefore(a,m)\n",
      "  })(window,document,'script','https://www.google-analytics.com/analytics.js','ga');\n",
      "\n",
      "  ga('create', 'UA-32365737-1', {\n",
      "    cookieDomain: 'ptt.cc',\n",
      "    legacyCookieDomain: 'ptt.cc'\n",
      "  });\n",
      "  ga('send', 'pageview');\n",
      "  </script>\n",
      "  <script src=\"//ajax.googleapis.com/ajax/libs/jquery/2.1.1/jquery.min.js\">\n",
      "  </script>\n",
      "  <script src=\"//images.ptt.cc/bbs/v2.27/bbs.js\">\n",
      "  </script>\n",
      " </body>\n",
      "</html>\n",
      "\n"
     ]
    }
   ],
   "source": [
    "soup = BeautifulSoup(response.text, 'html.parser')\n",
    "print(type(soup))\n",
    "print(soup.prettify())"
   ]
  },
  {
   "cell_type": "markdown",
   "metadata": {},
   "source": [
    "### 2.3 Traversing an html file by soup"
   ]
  },
  {
   "cell_type": "code",
   "execution_count": 4,
   "metadata": {},
   "outputs": [
    {
     "name": "stdout",
     "output_type": "stream",
     "text": [
      "<title>看板 Boy-Girl 文章列表 - 批踢踢實業坊</title>\n",
      "title\n",
      "看板 Boy-Girl 文章列表 - 批踢踢實業坊\n",
      "head\n"
     ]
    }
   ],
   "source": [
    "print(soup.title)\n",
    "print(soup.title.name)\n",
    "print(soup.title.string)\n",
    "print(soup.title.parent.name)"
   ]
  },
  {
   "cell_type": "markdown",
   "metadata": {},
   "source": [
    "### 2.4 Finding all links in the doc"
   ]
  },
  {
   "cell_type": "code",
   "execution_count": 5,
   "metadata": {},
   "outputs": [
    {
     "name": "stdout",
     "output_type": "stream",
     "text": [
      "<class 'bs4.element.ResultSet'>\n",
      "40\n"
     ]
    },
    {
     "data": {
      "text/plain": [
       "[<a href=\"/bbs/\" id=\"logo\">批踢踢實業坊</a>,\n",
       " <a class=\"board\" href=\"/bbs/Boy-Girl/index.html\"><span class=\"board-label\">看板 </span>Boy-Girl</a>,\n",
       " <a class=\"right small\" href=\"/about.html\">關於我們</a>,\n",
       " <a class=\"right small\" href=\"/contact.html\">聯絡資訊</a>,\n",
       " <a class=\"btn selected\" href=\"/bbs/Boy-Girl/index.html\">看板</a>]"
      ]
     },
     "execution_count": 5,
     "metadata": {},
     "output_type": "execute_result"
    }
   ],
   "source": [
    "print(type(soup.find_all(\"a\")))\n",
    "print(len(soup.find_all(\"a\")))\n",
    "soup.find_all(\"a\")[:5]"
   ]
  },
  {
   "cell_type": "markdown",
   "metadata": {},
   "source": [
    "### 2.5 Extracting element content and attribute"
   ]
  },
  {
   "cell_type": "code",
   "execution_count": 6,
   "metadata": {},
   "outputs": [
    {
     "name": "stdout",
     "output_type": "stream",
     "text": [
      "<a href=\"/bbs/\" id=\"logo\">批踢踢實業坊</a>\n",
      "批踢踢實業坊\n",
      "/bbs/\n"
     ]
    }
   ],
   "source": [
    "nodes_a = soup.find_all('a')\n",
    "print(nodes_a[0])\n",
    "print(nodes_a[0].text)\n",
    "print(nodes_a[0].get('href'))"
   ]
  },
  {
   "cell_type": "code",
   "execution_count": 7,
   "metadata": {},
   "outputs": [
    {
     "name": "stdout",
     "output_type": "stream",
     "text": [
      "/bbs/\n",
      "/bbs/Boy-Girl/index.html\n",
      "/about.html\n",
      "/contact.html\n",
      "/bbs/Boy-Girl/index.html\n"
     ]
    }
   ],
   "source": [
    "for link in soup.find_all('a')[:5]:\n",
    "    print(link.get('href'))"
   ]
  },
  {
   "cell_type": "markdown",
   "metadata": {},
   "source": [
    "### 2.6 `append()` links into a list"
   ]
  },
  {
   "cell_type": "code",
   "execution_count": 8,
   "metadata": {},
   "outputs": [
    {
     "name": "stdout",
     "output_type": "stream",
     "text": [
      "40\n"
     ]
    }
   ],
   "source": [
    "links = []\n",
    "for link in soup.find_all('a'):\n",
    "    links.append(link.get('href'))\n",
    "print(len(links))"
   ]
  },
  {
   "cell_type": "markdown",
   "metadata": {},
   "source": [
    "## III. Get article links from the first page\n",
    "* 注意這行code的class的寫法`for link in soup.find_all(class_ = \"r-ent\"):`\n",
    "* `str.strip()`可以幫你把一個字串前後的空白拿掉。\n",
    "```\n",
    "astring = \"     123123   \\n123123     \"\n",
    "astring.strip()\n",
    "[out]:\"123123   \\n123123\"\n",
    "```\n",
    "\n"
   ]
  },
  {
   "cell_type": "markdown",
   "metadata": {},
   "source": [
    "### 3.1 Get elements by a specific class"
   ]
  },
  {
   "cell_type": "code",
   "execution_count": 9,
   "metadata": {},
   "outputs": [],
   "source": [
    "# Just re-run this\n",
    "import requests\n",
    "from bs4 import BeautifulSoup\n",
    "\n",
    "url = 'https://www.ptt.cc/bbs/Boy-Girl/index.html'\n",
    "response = requests.get(url, timeout=(2, 3))\n",
    "soup = BeautifulSoup(response.text, 'html.parser')"
   ]
  },
  {
   "cell_type": "code",
   "execution_count": 10,
   "metadata": {},
   "outputs": [
    {
     "name": "stdout",
     "output_type": "stream",
     "text": [
      "<div class=\"r-ent\">\n",
      " <div class=\"nrec\">\n",
      "  <span class=\"hl f3\">\n",
      "   28\n",
      "  </span>\n",
      " </div>\n",
      " <div class=\"title\">\n",
      "  <a href=\"/bbs/Boy-Girl/M.1636276845.A.58A.html\">\n",
      "   [求助] 因無法陪伴而被劈腿是否該放手\n",
      "  </a>\n",
      " </div>\n",
      " <div class=\"meta\">\n",
      "  <div class=\"author\">\n",
      "   EEBGL\n",
      "  </div>\n",
      "  <div class=\"article-menu\">\n",
      "   <div class=\"trigger\">\n",
      "    ⋯\n",
      "   </div>\n",
      "   <div class=\"dropdown\">\n",
      "    <div class=\"item\">\n",
      "     <a href=\"/bbs/Boy-Girl/search?q=thread%3A%5B%E6%B1%82%E5%8A%A9%5D+%E5%9B%A0%E7%84%A1%E6%B3%95%E9%99%AA%E4%BC%B4%E8%80%8C%E8%A2%AB%E5%8A%88%E8%85%BF%E6%98%AF%E5%90%A6%E8%A9%B2%E6%94%BE%E6%89%8B\">\n",
      "      搜尋同標題文章\n",
      "     </a>\n",
      "    </div>\n",
      "    <div class=\"item\">\n",
      "     <a href=\"/bbs/Boy-Girl/search?q=author%3AEEBGL\">\n",
      "      搜尋看板內 EEBGL 的文章\n",
      "     </a>\n",
      "    </div>\n",
      "   </div>\n",
      "  </div>\n",
      "  <div class=\"date\">\n",
      "   11/07\n",
      "  </div>\n",
      "  <div class=\"mark\">\n",
      "  </div>\n",
      " </div>\n",
      "</div>\n",
      "\n",
      "--------------------------------------------------------------------------------\n",
      "<div class=\"r-ent\">\n",
      " <div class=\"nrec\">\n",
      "  <span class=\"hl f2\">\n",
      "   1\n",
      "  </span>\n",
      " </div>\n",
      " <div class=\"title\">\n",
      "  <a href=\"/bbs/Boy-Girl/M.1636277263.A.F73.html\">\n",
      "   Re: [求助] 曖昧到最後無疾而終\n",
      "  </a>\n",
      " </div>\n",
      " <div class=\"meta\">\n",
      "  <div class=\"author\">\n",
      "   cloud72426\n",
      "  </div>\n",
      "  <div class=\"article-menu\">\n",
      "   <div class=\"trigger\">\n",
      "    ⋯\n",
      "   </div>\n",
      "   <div class=\"dropdown\">\n",
      "    <div class=\"item\">\n",
      "     <a href=\"/bbs/Boy-Girl/search?q=thread%3A%5B%E6%B1%82%E5%8A%A9%5D+%E6%9B%96%E6%98%A7%E5%88%B0%E6%9C%80%E5%BE%8C%E7%84%A1%E7%96%BE%E8%80%8C%E7%B5%82\">\n",
      "      搜尋同標題文章\n",
      "     </a>\n",
      "    </div>\n",
      "    <div class=\"item\">\n",
      "     <a href=\"/bbs/Boy-Girl/search?q=author%3Acloud72426\">\n",
      "      搜尋看板內 cloud72426 的文章\n",
      "     </a>\n",
      "    </div>\n",
      "   </div>\n",
      "  </div>\n",
      "  <div class=\"date\">\n",
      "   11/07\n",
      "  </div>\n",
      "  <div class=\"mark\">\n",
      "  </div>\n",
      " </div>\n",
      "</div>\n",
      "\n",
      "--------------------------------------------------------------------------------\n",
      "<div class=\"r-ent\">\n",
      " <div class=\"nrec\">\n",
      " </div>\n",
      " <div class=\"title\">\n",
      "  (本文已被刪除) [ss61512tw]\n",
      " </div>\n",
      " <div class=\"meta\">\n",
      "  <div class=\"author\">\n",
      "   -\n",
      "  </div>\n",
      "  <div class=\"article-menu\">\n",
      "  </div>\n",
      "  <div class=\"date\">\n",
      "   11/07\n",
      "  </div>\n",
      "  <div class=\"mark\">\n",
      "  </div>\n",
      " </div>\n",
      "</div>\n",
      "\n",
      "--------------------------------------------------------------------------------\n"
     ]
    }
   ],
   "source": [
    "for div in soup.find_all(class_ = \"r-ent\")[:3]:\n",
    "    print(div.prettify())\n",
    "    print(\"-\"*80)"
   ]
  },
  {
   "cell_type": "markdown",
   "metadata": {},
   "source": [
    "#### 3.2 `soup.select()` with CSS selector"
   ]
  },
  {
   "cell_type": "code",
   "execution_count": 11,
   "metadata": {},
   "outputs": [
    {
     "name": "stdout",
     "output_type": "stream",
     "text": [
      "28[求助] 因無法陪伴而被劈腿是否該放手EEBGL⋯搜尋同標題文章搜尋看板內 EEBGL 的文章11/07\n",
      "--------------------------------------------------------------------------------\n",
      "1Re: [求助] 曖昧到最後無疾而終cloud72426⋯搜尋同標題文章搜尋看板內 cloud72426 的文章11/07\n",
      "--------------------------------------------------------------------------------\n",
      "(本文已被刪除) [ss61512tw]-11/07\n",
      "--------------------------------------------------------------------------------\n",
      "14[討論] 你們是怎麼度過尬聊期的A22813079⋯搜尋同標題文章搜尋看板內 A22813079 的文章11/07\n",
      "--------------------------------------------------------------------------------\n",
      "[討論] 板上的人是不是都太年輕啊？pttkobe⋯搜尋同標題文章搜尋看板內 pttkobe 的文章11/07\n",
      "--------------------------------------------------------------------------------\n",
      "[討論] 如果用學術的角度切入kittor⋯搜尋同標題文章搜尋看板內 kittor 的文章11/07\n",
      "--------------------------------------------------------------------------------\n",
      "6[公告] 關於新制板規說明（必讀）snda⋯搜尋同標題文章搜尋看板內 snda 的文章5/11!\n",
      "--------------------------------------------------------------------------------\n",
      "[公告] 檢舉格式教學ChenDao⋯搜尋同標題文章搜尋看板內 ChenDao 的文章4/08!\n",
      "--------------------------------------------------------------------------------\n",
      "[公告] 有關於\"問卷文申請\"ChenDao⋯搜尋同標題文章搜尋看板內 ChenDao 的文章6/18!\n",
      "--------------------------------------------------------------------------------\n",
      "[公告] 男女板板規ChenDao⋯搜尋同標題文章搜尋看板內 ChenDao 的文章8/14!\n",
      "--------------------------------------------------------------------------------\n"
     ]
    }
   ],
   "source": [
    "for div in soup.select(\".r-ent\")[:10]:\n",
    "    print(div.get_text(strip = True))\n",
    "    print(\"-\"*80)"
   ]
  },
  {
   "cell_type": "code",
   "execution_count": 12,
   "metadata": {},
   "outputs": [
    {
     "name": "stdout",
     "output_type": "stream",
     "text": [
      "28[求助] 因無法陪伴而被劈腿是否該放手EEBGL⋯搜尋同標題文章搜尋看板內 EEBGL 的文章11/07\n",
      "--------------------------------------------------------------------------------\n",
      "1Re: [求助] 曖昧到最後無疾而終cloud72426⋯搜尋同標題文章搜尋看板內 cloud72426 的文章11/07\n",
      "--------------------------------------------------------------------------------\n",
      "(本文已被刪除) [ss61512tw]-11/07\n",
      "--------------------------------------------------------------------------------\n",
      "14[討論] 你們是怎麼度過尬聊期的A22813079⋯搜尋同標題文章搜尋看板內 A22813079 的文章11/07\n",
      "--------------------------------------------------------------------------------\n",
      "[討論] 板上的人是不是都太年輕啊？pttkobe⋯搜尋同標題文章搜尋看板內 pttkobe 的文章11/07\n",
      "--------------------------------------------------------------------------------\n",
      "[討論] 如果用學術的角度切入kittor⋯搜尋同標題文章搜尋看板內 kittor 的文章11/07\n",
      "--------------------------------------------------------------------------------\n",
      "6[公告] 關於新制板規說明（必讀）snda⋯搜尋同標題文章搜尋看板內 snda 的文章5/11!\n",
      "--------------------------------------------------------------------------------\n",
      "[公告] 檢舉格式教學ChenDao⋯搜尋同標題文章搜尋看板內 ChenDao 的文章4/08!\n",
      "--------------------------------------------------------------------------------\n",
      "[公告] 有關於\"問卷文申請\"ChenDao⋯搜尋同標題文章搜尋看板內 ChenDao 的文章6/18!\n",
      "--------------------------------------------------------------------------------\n",
      "[公告] 男女板板規ChenDao⋯搜尋同標題文章搜尋看板內 ChenDao 的文章8/14!\n",
      "--------------------------------------------------------------------------------\n"
     ]
    }
   ],
   "source": [
    "for div in soup.find_all(class_ = \"r-ent\")[:10]:\n",
    "    print(div.get_text(strip = True))\n",
    "    print(\"-\"*80)"
   ]
  },
  {
   "cell_type": "markdown",
   "metadata": {},
   "source": [
    "#### Get `href` of `<a>`"
   ]
  },
  {
   "cell_type": "code",
   "execution_count": 5,
   "metadata": {},
   "outputs": [
    {
     "ename": "NameError",
     "evalue": "name 'soup' is not defined",
     "output_type": "error",
     "traceback": [
      "\u001b[0;31m---------------------------------------------------------------------------\u001b[0m",
      "\u001b[0;31mNameError\u001b[0m                                 Traceback (most recent call last)",
      "\u001b[1;32m/Users/jirlong/Library/CloudStorage/Dropbox/Programming/pssbook/PSS/P08_4_ptt_crawler.ipynb 儲存格 28\u001b[0m line \u001b[0;36m<cell line: 1>\u001b[0;34m()\u001b[0m\n\u001b[0;32m----> <a href='vscode-notebook-cell:/Users/jirlong/Library/CloudStorage/Dropbox/Programming/pssbook/PSS/P08_4_ptt_crawler.ipynb#X36sZmlsZQ%3D%3D?line=0'>1</a>\u001b[0m \u001b[39mfor\u001b[39;00m div \u001b[39min\u001b[39;00m soup\u001b[39m.\u001b[39mfind_all(class_ \u001b[39m=\u001b[39m \u001b[39m\"\u001b[39m\u001b[39mr-ent\u001b[39m\u001b[39m\"\u001b[39m)[:\u001b[39m5\u001b[39m]:\n\u001b[1;32m      <a href='vscode-notebook-cell:/Users/jirlong/Library/CloudStorage/Dropbox/Programming/pssbook/PSS/P08_4_ptt_crawler.ipynb#X36sZmlsZQ%3D%3D?line=1'>2</a>\u001b[0m     \u001b[39mprint\u001b[39m(div\u001b[39m.\u001b[39mfind(class_\u001b[39m=\u001b[39m\u001b[39m'\u001b[39m\u001b[39mnrec\u001b[39m\u001b[39m'\u001b[39m)\u001b[39m.\u001b[39mtext\u001b[39m.\u001b[39mstrip())\n\u001b[1;32m      <a href='vscode-notebook-cell:/Users/jirlong/Library/CloudStorage/Dropbox/Programming/pssbook/PSS/P08_4_ptt_crawler.ipynb#X36sZmlsZQ%3D%3D?line=2'>3</a>\u001b[0m     \u001b[39mprint\u001b[39m(div\u001b[39m.\u001b[39mfind(class_\u001b[39m=\u001b[39m\u001b[39m'\u001b[39m\u001b[39mdate\u001b[39m\u001b[39m'\u001b[39m)\u001b[39m.\u001b[39mtext\u001b[39m.\u001b[39mstrip())\n",
      "\u001b[0;31mNameError\u001b[0m: name 'soup' is not defined"
     ]
    }
   ],
   "source": [
    "for div in soup.find_all(class_ = \"r-ent\")[:5]:\n",
    "    print(div.find(class_='nrec').text.strip())\n",
    "    print(div.find(class_='date').text.strip())\n",
    "    print(div.find(class_='author').text.strip())\n",
    "    print(div.find(class_=\"title\").text.strip())\n",
    "    print(div.find(class_='title').a['href'])\n",
    "    print(\"-\"*80)"
   ]
  },
  {
   "cell_type": "markdown",
   "metadata": {},
   "source": [
    "### 3.3 Using `try` and `except` to handle exception"
   ]
  },
  {
   "cell_type": "code",
   "execution_count": 15,
   "metadata": {},
   "outputs": [
    {
     "name": "stdout",
     "output_type": "stream",
     "text": [
      "[求助] 因無法陪伴而被劈腿是否該放手\n",
      "/bbs/Boy-Girl/M.1636276845.A.58A.html\n",
      "Re: [求助] 曖昧到最後無疾而終\n",
      "/bbs/Boy-Girl/M.1636277263.A.F73.html\n",
      "(本文已被刪除) [ss61512tw]\n",
      "The Page was removed\n"
     ]
    }
   ],
   "source": [
    "url = 'https://www.ptt.cc/bbs/Boy-Girl/index.html'\n",
    "response = requests.get(url, timeout = (1, 2))\n",
    "soup = BeautifulSoup(response.text, 'html.parser')\n",
    "\n",
    "for div in soup.find_all(class_ = \"r-ent\")[:3]:\n",
    "    print(div.find(class_=\"title\").text.strip())\n",
    "    try:\n",
    "        print(div.find(class_='title').a['href'])\n",
    "    except:\n",
    "        print(\"The Page was removed\")"
   ]
  },
  {
   "cell_type": "markdown",
   "metadata": {},
   "source": [
    "### 3.4 Add the prefix url to each url"
   ]
  },
  {
   "cell_type": "code",
   "execution_count": 16,
   "metadata": {},
   "outputs": [
    {
     "name": "stdout",
     "output_type": "stream",
     "text": [
      "[求助] 因無法陪伴而被劈腿是否該放手\n",
      "https://www.ptt.cc/bbs/Boy-Girl/M.1636276845.A.58A.html\n",
      "Re: [求助] 曖昧到最後無疾而終\n",
      "https://www.ptt.cc/bbs/Boy-Girl/M.1636277263.A.F73.html\n",
      "(本文已被刪除) [ss61512tw]\n",
      "[討論] 你們是怎麼度過尬聊期的\n",
      "https://www.ptt.cc/bbs/Boy-Girl/M.1636283415.A.644.html\n",
      "[討論] 板上的人是不是都太年輕啊？\n",
      "https://www.ptt.cc/bbs/Boy-Girl/M.1636287054.A.17D.html\n",
      "[討論] 如果用學術的角度切入\n",
      "https://www.ptt.cc/bbs/Boy-Girl/M.1636290612.A.9DB.html\n",
      "[公告] 關於新制板規說明（必讀）\n",
      "https://www.ptt.cc/bbs/Boy-Girl/M.1399818891.A.D72.html\n",
      "[公告] 檢舉格式教學\n",
      "https://www.ptt.cc/bbs/Boy-Girl/M.1554727003.A.986.html\n",
      "[公告] 有關於\"問卷文申請\"\n",
      "https://www.ptt.cc/bbs/Boy-Girl/M.1560802697.A.8E6.html\n",
      "[公告] 男女板板規\n",
      "https://www.ptt.cc/bbs/Boy-Girl/M.1565730811.A.BDC.html\n",
      "Fw: [情報] 34th 小天使招考（9/5～9/15）\n",
      "https://www.ptt.cc/bbs/Boy-Girl/M.1631115662.A.014.html\n"
     ]
    }
   ],
   "source": [
    "pre = 'https://www.ptt.cc'\n",
    "url = 'https://www.ptt.cc/bbs/Boy-Girl/index.html'\n",
    "response = requests.get(url, timeout=(2, 3))\n",
    "soup = BeautifulSoup(response.text, 'html.parser')\n",
    "for div in soup.find_all(class_ = \"r-ent\"):\n",
    "    print(div.find(class_=\"title\").text.strip())\n",
    "    try:\n",
    "        print(pre + div.find(class_='title').a['href'])\n",
    "    except:\n",
    "        pass"
   ]
  },
  {
   "cell_type": "markdown",
   "metadata": {},
   "source": [
    "### 3.5 Appending scraped urls to a list"
   ]
  },
  {
   "cell_type": "code",
   "execution_count": 17,
   "metadata": {},
   "outputs": [
    {
     "name": "stdout",
     "output_type": "stream",
     "text": [
      "10\n"
     ]
    }
   ],
   "source": [
    "links = []\n",
    "pre = 'https://www.ptt.cc'\n",
    "\n",
    "url = 'https://www.ptt.cc/bbs/Boy-Girl/index.html'\n",
    "response = requests.get(url, timeout=(2, 3))\n",
    "soup = BeautifulSoup(response.text, 'html.parser')\n",
    "\n",
    "for div in soup.find_all(class_ = \"r-ent\"):\n",
    "    try:\n",
    "        links.append(pre + div.find(class_='title').a['href'])\n",
    "    except:\n",
    "        pass\n",
    "print(len(links))"
   ]
  },
  {
   "cell_type": "markdown",
   "metadata": {},
   "source": [
    "## IV. Get more links from more pages\n",
    "```\n",
    "https://www.ptt.cc/bbs/Boy-Girl/M.1463279135.A.825.html\n",
    "https://www.ptt.cc/bbs/Boy-Girl/M.1463280694.A.659.html\n",
    "https://www.ptt.cc/bbs/Boy-Girl/M.1463280951.A.42C.html\n",
    "https://www.ptt.cc/bbs/Boy-Girl/M.1463281950.A.094.html\n",
    "https://www.ptt.cc/bbs/Boy-Girl/M.1463281956.A.CE1.html\n",
    "https://www.ptt.cc/bbs/Boy-Girl/M.1463286737.A.ECC.html\n",
    "...\n",
    "```"
   ]
  },
  {
   "cell_type": "markdown",
   "metadata": {},
   "source": [
    "### 4.1 Get the last page"
   ]
  },
  {
   "cell_type": "code",
   "execution_count": 18,
   "metadata": {},
   "outputs": [
    {
     "name": "stdout",
     "output_type": "stream",
     "text": [
      "/bbs/Boy-Girl/index5537.html\n",
      "5538\n"
     ]
    }
   ],
   "source": [
    "import re\n",
    "\n",
    "url = 'https://www.ptt.cc/bbs/Boy-Girl/index.html'\n",
    "response = requests.get(url, timeout=(1, 2))\n",
    "soup = BeautifulSoup(response.text, 'html.parser')\n",
    "last2nd = soup.find(class_='action-bar').find(class_='btn-group-paging').find_all(class_='btn')[1].get('href')\n",
    "print(last2nd)\n",
    "lastpage = int(re.search(\"index(.+?)\\.html\", last2nd).group(1)) + 1\n",
    "print(lastpage)"
   ]
  },
  {
   "cell_type": "markdown",
   "metadata": {},
   "source": [
    "### 4.2 Get the last 10 pages"
   ]
  },
  {
   "cell_type": "code",
   "execution_count": 19,
   "metadata": {},
   "outputs": [
    {
     "name": "stdout",
     "output_type": "stream",
     "text": [
      "5303 \t 20\n",
      "5302 \t 40\n",
      "5301 \t 60\n",
      "5300 \t 80\n",
      "5299 \t 100\n",
      "5298 \t 120\n",
      "5297 \t 140\n",
      "5296 \t 160\n",
      "5295 \t 180\n",
      "5294 \t 200\n"
     ]
    }
   ],
   "source": [
    "pre = 'https://www.ptt.cc'\n",
    "links = []\n",
    "lastpage = 5303\n",
    "for i in range(lastpage, lastpage-10, -1):\n",
    "    url = 'https://www.ptt.cc/bbs/Boy-Girl/index{}.html'.format(i)\n",
    "    response = requests.get(url, timeout=(1, 2))\n",
    "    soup = BeautifulSoup(response.text, 'html.parser')\n",
    "    for div in soup.find_all(class_='r-ent'):\n",
    "        try:\n",
    "            links.append(pre + div.find(class_='title').a['href'])\n",
    "        except:\n",
    "            pass\n",
    "    print(i, \"\\t\", len(links))\n"
   ]
  },
  {
   "cell_type": "markdown",
   "metadata": {},
   "source": [
    "### Notes: break, continue, and pass\n",
    "* `break`: 符合條件的時候，就跳出迴圈，別再執行了。\n",
    "* `continue`: 符合條件的時候，就不要執行這一圈了，接下去執行下一圈\n",
    "* `pass`: 不做任何事"
   ]
  },
  {
   "cell_type": "markdown",
   "metadata": {},
   "source": [
    "## V. Getting post content for each post link\n",
    "* Beautifulsoup has two ways to detect elements and its attributes\n",
    "    * `soup.find()`, `soup.find_all()`\n",
    "    * `soup.select()` <-- You can input CSS selector by this way"
   ]
  },
  {
   "cell_type": "code",
   "execution_count": 20,
   "metadata": {},
   "outputs": [
    {
     "data": {
      "text/plain": [
       "200"
      ]
     },
     "execution_count": 20,
     "metadata": {},
     "output_type": "execute_result"
    }
   ],
   "source": [
    "len(links)"
   ]
  },
  {
   "cell_type": "code",
   "execution_count": 21,
   "metadata": {},
   "outputs": [
    {
     "name": "stdout",
     "output_type": "stream",
     "text": [
      "https://www.ptt.cc/bbs/Boy-Girl/M.1620027067.A.B37.html\n",
      "https://www.ptt.cc/bbs/Boy-Girl/M.1620031172.A.255.html\n",
      "https://www.ptt.cc/bbs/Boy-Girl/M.1620032241.A.610.html\n",
      "https://www.ptt.cc/bbs/Boy-Girl/M.1620034856.A.1BD.html\n",
      "https://www.ptt.cc/bbs/Boy-Girl/M.1620039447.A.4AE.html\n"
     ]
    }
   ],
   "source": [
    "for link in links[:5]:\n",
    "    print(link)"
   ]
  },
  {
   "cell_type": "code",
   "execution_count": 22,
   "metadata": {},
   "outputs": [
    {
     "name": "stdout",
     "output_type": "stream",
     "text": [
      "<class 'bs4.BeautifulSoup'>\n",
      "<class 'bs4.BeautifulSoup'>\n",
      "<class 'bs4.BeautifulSoup'>\n",
      "<class 'bs4.BeautifulSoup'>\n",
      "<class 'bs4.BeautifulSoup'>\n"
     ]
    }
   ],
   "source": [
    "for link in links[:5]:\n",
    "    res = requests.get(link, timeout=(1,2))\n",
    "    soup = BeautifulSoup(res.text, 'html.parser')\n",
    "    print(type(soup))"
   ]
  },
  {
   "cell_type": "markdown",
   "metadata": {},
   "source": [
    "### 5.1 Get metadata"
   ]
  },
  {
   "cell_type": "code",
   "execution_count": 23,
   "metadata": {},
   "outputs": [
    {
     "name": "stdout",
     "output_type": "stream",
     "text": [
      "https://www.ptt.cc/bbs/Boy-Girl/M.1620027067.A.B37.html\n",
      "4\n",
      "talkmyself (休息中)\n",
      "Boy-Girl\n",
      "Re: [討論] 男生真的會重視女生的付出嗎\n",
      "https://www.ptt.cc/bbs/Boy-Girl/M.1620031172.A.255.html\n",
      "4\n",
      "ciza (執行力才是主道)\n",
      "Boy-Girl\n",
      "Re: [討論] 男生真的會重視女生的付出嗎\n",
      "https://www.ptt.cc/bbs/Boy-Girl/M.1620032241.A.610.html\n",
      "4\n",
      "sumade (斬卍凱蒂貓卍佛)\n",
      "Boy-Girl\n",
      "Re: [討論] 男生真的會重視女生的付出嗎\n",
      "https://www.ptt.cc/bbs/Boy-Girl/M.1620034856.A.1BD.html\n",
      "4\n",
      "eulbos (心想事成)\n",
      "Boy-Girl\n",
      "Re: [討論] 如果另一半騎車讓你覺得很危險\n",
      "https://www.ptt.cc/bbs/Boy-Girl/M.1620039447.A.4AE.html\n",
      "4\n",
      "foam0406 (南山南)\n",
      "Boy-Girl\n",
      "[討論] 會不喜歡吃飯吃很慢的異性嗎\n"
     ]
    }
   ],
   "source": [
    "for link in links[:5]:\n",
    "    print(link)\n",
    "    res = requests.get(link, timeout=(1, 2))\n",
    "    soup = BeautifulSoup(res.text, \"html.parser\")\n",
    "    metas = soup.find_all(class_='article-meta-value')\n",
    "    print(len(metas))\n",
    "    print(metas[0].text)\n",
    "    print(metas[1].text)\n",
    "    print(metas[2].text)"
   ]
  },
  {
   "cell_type": "markdown",
   "metadata": {},
   "source": [
    "### 5.2 Assign data to variables"
   ]
  },
  {
   "cell_type": "code",
   "execution_count": 24,
   "metadata": {},
   "outputs": [
    {
     "name": "stdout",
     "output_type": "stream",
     "text": [
      "https://www.ptt.cc/bbs/Boy-Girl/M.1620027067.A.B37.html\n",
      "https://www.ptt.cc/bbs/Boy-Girl/M.1620031172.A.255.html\n",
      "https://www.ptt.cc/bbs/Boy-Girl/M.1620032241.A.610.html\n",
      "https://www.ptt.cc/bbs/Boy-Girl/M.1620034856.A.1BD.html\n",
      "https://www.ptt.cc/bbs/Boy-Girl/M.1620039447.A.4AE.html\n",
      "https://www.ptt.cc/bbs/Boy-Girl/M.1620039732.A.98A.html\n",
      "https://www.ptt.cc/bbs/Boy-Girl/M.1620040499.A.8A3.html\n",
      "https://www.ptt.cc/bbs/Boy-Girl/M.1620040898.A.285.html\n",
      "https://www.ptt.cc/bbs/Boy-Girl/M.1620042170.A.A25.html\n",
      "https://www.ptt.cc/bbs/Boy-Girl/M.1620042553.A.EC5.html\n",
      "https://www.ptt.cc/bbs/Boy-Girl/M.1620045051.A.48A.html\n",
      "https://www.ptt.cc/bbs/Boy-Girl/M.1620055542.A.837.html\n",
      "https://www.ptt.cc/bbs/Boy-Girl/M.1620060517.A.9EB.html\n",
      "https://www.ptt.cc/bbs/Boy-Girl/M.1620061213.A.C17.html\n",
      "https://www.ptt.cc/bbs/Boy-Girl/M.1620063054.A.D99.html\n",
      "https://www.ptt.cc/bbs/Boy-Girl/M.1620065259.A.F5D.html\n",
      "https://www.ptt.cc/bbs/Boy-Girl/M.1620085306.A.B07.html\n",
      "https://www.ptt.cc/bbs/Boy-Girl/M.1620093356.A.423.html\n",
      "https://www.ptt.cc/bbs/Boy-Girl/M.1620098540.A.C47.html\n",
      "https://www.ptt.cc/bbs/Boy-Girl/M.1620103519.A.C06.html\n",
      "https://www.ptt.cc/bbs/Boy-Girl/M.1619961711.A.EFB.html\n",
      "https://www.ptt.cc/bbs/Boy-Girl/M.1619964845.A.D49.html\n",
      "https://www.ptt.cc/bbs/Boy-Girl/M.1619970265.A.900.html\n",
      "https://www.ptt.cc/bbs/Boy-Girl/M.1619972186.A.18E.html\n",
      "https://www.ptt.cc/bbs/Boy-Girl/M.1619975881.A.B99.html\n",
      "https://www.ptt.cc/bbs/Boy-Girl/M.1619981772.A.FEB.html\n",
      "https://www.ptt.cc/bbs/Boy-Girl/M.1619983630.A.064.html\n",
      "https://www.ptt.cc/bbs/Boy-Girl/M.1619996266.A.E22.html\n",
      "https://www.ptt.cc/bbs/Boy-Girl/M.1619997853.A.2E6.html\n",
      "https://www.ptt.cc/bbs/Boy-Girl/M.1619998212.A.1D2.html\n",
      "https://www.ptt.cc/bbs/Boy-Girl/M.1620004556.A.AC3.html\n",
      "https://www.ptt.cc/bbs/Boy-Girl/M.1620005138.A.BE6.html\n",
      "https://www.ptt.cc/bbs/Boy-Girl/M.1620005171.A.13B.html\n",
      "https://www.ptt.cc/bbs/Boy-Girl/M.1620007345.A.FAA.html\n",
      "https://www.ptt.cc/bbs/Boy-Girl/M.1620009770.A.A85.html\n",
      "https://www.ptt.cc/bbs/Boy-Girl/M.1620011393.A.A32.html\n",
      "https://www.ptt.cc/bbs/Boy-Girl/M.1620012320.A.3F5.html\n",
      "https://www.ptt.cc/bbs/Boy-Girl/M.1620016130.A.B86.html\n",
      "https://www.ptt.cc/bbs/Boy-Girl/M.1620022874.A.F49.html\n",
      "https://www.ptt.cc/bbs/Boy-Girl/M.1620026364.A.B17.html\n",
      "https://www.ptt.cc/bbs/Boy-Girl/M.1619902750.A.D83.html\n",
      "https://www.ptt.cc/bbs/Boy-Girl/M.1619913359.A.B3E.html\n",
      "https://www.ptt.cc/bbs/Boy-Girl/M.1619915561.A.1CD.html\n",
      "https://www.ptt.cc/bbs/Boy-Girl/M.1619917700.A.8A7.html\n",
      "https://www.ptt.cc/bbs/Boy-Girl/M.1619918473.A.0E7.html\n",
      "https://www.ptt.cc/bbs/Boy-Girl/M.1619918670.A.6A7.html\n",
      "https://www.ptt.cc/bbs/Boy-Girl/M.1619919973.A.5FF.html\n",
      "https://www.ptt.cc/bbs/Boy-Girl/M.1619928309.A.3D0.html\n",
      "https://www.ptt.cc/bbs/Boy-Girl/M.1619932230.A.7C3.html\n",
      "https://www.ptt.cc/bbs/Boy-Girl/M.1619936446.A.A5F.html\n",
      "https://www.ptt.cc/bbs/Boy-Girl/M.1619936474.A.D3D.html\n",
      "https://www.ptt.cc/bbs/Boy-Girl/M.1619938577.A.CBC.html\n",
      "https://www.ptt.cc/bbs/Boy-Girl/M.1619942809.A.17E.html\n",
      "https://www.ptt.cc/bbs/Boy-Girl/M.1619943516.A.39C.html\n",
      "https://www.ptt.cc/bbs/Boy-Girl/M.1619945343.A.968.html\n",
      "https://www.ptt.cc/bbs/Boy-Girl/M.1619948936.A.169.html\n",
      "https://www.ptt.cc/bbs/Boy-Girl/M.1619950809.A.0B6.html\n",
      "https://www.ptt.cc/bbs/Boy-Girl/M.1619951084.A.30E.html\n",
      "https://www.ptt.cc/bbs/Boy-Girl/M.1619953357.A.913.html\n",
      "https://www.ptt.cc/bbs/Boy-Girl/M.1619958245.A.094.html\n",
      "https://www.ptt.cc/bbs/Boy-Girl/M.1619767051.A.AD9.html\n",
      "https://www.ptt.cc/bbs/Boy-Girl/M.1619768917.A.F6E.html\n",
      "https://www.ptt.cc/bbs/Boy-Girl/M.1619772411.A.AA1.html\n",
      "https://www.ptt.cc/bbs/Boy-Girl/M.1619774069.A.856.html\n",
      "https://www.ptt.cc/bbs/Boy-Girl/M.1619774502.A.7AA.html\n",
      "https://www.ptt.cc/bbs/Boy-Girl/M.1619777336.A.F11.html\n",
      "https://www.ptt.cc/bbs/Boy-Girl/M.1619777831.A.DD7.html\n",
      "https://www.ptt.cc/bbs/Boy-Girl/M.1619778918.A.BD4.html\n",
      "https://www.ptt.cc/bbs/Boy-Girl/M.1619787520.A.B9A.html\n",
      "https://www.ptt.cc/bbs/Boy-Girl/M.1619793014.A.054.html\n",
      "https://www.ptt.cc/bbs/Boy-Girl/M.1619795999.A.E06.html\n",
      "https://www.ptt.cc/bbs/Boy-Girl/M.1619799387.A.9D4.html\n",
      "https://www.ptt.cc/bbs/Boy-Girl/M.1619802002.A.6C1.html\n",
      "https://www.ptt.cc/bbs/Boy-Girl/M.1619835120.A.3B9.html\n",
      "https://www.ptt.cc/bbs/Boy-Girl/M.1619839771.A.76E.html\n",
      "https://www.ptt.cc/bbs/Boy-Girl/M.1619842060.A.09E.html\n",
      "https://www.ptt.cc/bbs/Boy-Girl/M.1619845258.A.024.html\n",
      "https://www.ptt.cc/bbs/Boy-Girl/M.1619872024.A.68D.html\n",
      "https://www.ptt.cc/bbs/Boy-Girl/M.1619885220.A.456.html\n",
      "https://www.ptt.cc/bbs/Boy-Girl/M.1619893209.A.B23.html\n"
     ]
    },
    {
     "ename": "KeyboardInterrupt",
     "evalue": "",
     "output_type": "error",
     "traceback": [
      "\u001b[0;31m---------------------------------------------------------------------------\u001b[0m",
      "\u001b[0;31mKeyboardInterrupt\u001b[0m                         Traceback (most recent call last)",
      "\u001b[0;32m<ipython-input-24-7811ca6c724b>\u001b[0m in \u001b[0;36m<module>\u001b[0;34m\u001b[0m\n\u001b[1;32m      2\u001b[0m     \u001b[0mprint\u001b[0m\u001b[0;34m(\u001b[0m\u001b[0mlink\u001b[0m\u001b[0;34m)\u001b[0m\u001b[0;34m\u001b[0m\u001b[0;34m\u001b[0m\u001b[0m\n\u001b[1;32m      3\u001b[0m     \u001b[0mres\u001b[0m \u001b[0;34m=\u001b[0m \u001b[0mrequests\u001b[0m\u001b[0;34m.\u001b[0m\u001b[0mget\u001b[0m\u001b[0;34m(\u001b[0m\u001b[0mlink\u001b[0m\u001b[0;34m,\u001b[0m \u001b[0mtimeout\u001b[0m\u001b[0;34m=\u001b[0m\u001b[0;34m(\u001b[0m\u001b[0;36m1\u001b[0m\u001b[0;34m,\u001b[0m \u001b[0;36m2\u001b[0m\u001b[0;34m)\u001b[0m\u001b[0;34m)\u001b[0m\u001b[0;34m\u001b[0m\u001b[0;34m\u001b[0m\u001b[0m\n\u001b[0;32m----> 4\u001b[0;31m     \u001b[0msoup\u001b[0m \u001b[0;34m=\u001b[0m \u001b[0mBeautifulSoup\u001b[0m\u001b[0;34m(\u001b[0m\u001b[0mres\u001b[0m\u001b[0;34m.\u001b[0m\u001b[0mtext\u001b[0m\u001b[0;34m,\u001b[0m \u001b[0;34m\"html.parser\"\u001b[0m\u001b[0;34m)\u001b[0m\u001b[0;34m\u001b[0m\u001b[0;34m\u001b[0m\u001b[0m\n\u001b[0m\u001b[1;32m      5\u001b[0m     \u001b[0mmetas\u001b[0m \u001b[0;34m=\u001b[0m \u001b[0msoup\u001b[0m\u001b[0;34m.\u001b[0m\u001b[0mfind_all\u001b[0m\u001b[0;34m(\u001b[0m\u001b[0mclass_\u001b[0m\u001b[0;34m=\u001b[0m\u001b[0;34m'article-meta-value'\u001b[0m\u001b[0;34m)\u001b[0m\u001b[0;34m\u001b[0m\u001b[0;34m\u001b[0m\u001b[0m\n\u001b[1;32m      6\u001b[0m     \u001b[0mauthor\u001b[0m \u001b[0;34m=\u001b[0m \u001b[0mmetas\u001b[0m\u001b[0;34m[\u001b[0m\u001b[0;36m0\u001b[0m\u001b[0;34m]\u001b[0m\u001b[0;34m.\u001b[0m\u001b[0mtext\u001b[0m\u001b[0;34m\u001b[0m\u001b[0;34m\u001b[0m\u001b[0m\n",
      "\u001b[0;32m~/opt/anaconda3/lib/python3.7/site-packages/bs4/__init__.py\u001b[0m in \u001b[0;36m__init__\u001b[0;34m(self, markup, features, builder, parse_only, from_encoding, exclude_encodings, element_classes, **kwargs)\u001b[0m\n\u001b[1;32m    346\u001b[0m             \u001b[0mself\u001b[0m\u001b[0;34m.\u001b[0m\u001b[0mreset\u001b[0m\u001b[0;34m(\u001b[0m\u001b[0;34m)\u001b[0m\u001b[0;34m\u001b[0m\u001b[0;34m\u001b[0m\u001b[0m\n\u001b[1;32m    347\u001b[0m             \u001b[0;32mtry\u001b[0m\u001b[0;34m:\u001b[0m\u001b[0;34m\u001b[0m\u001b[0;34m\u001b[0m\u001b[0m\n\u001b[0;32m--> 348\u001b[0;31m                 \u001b[0mself\u001b[0m\u001b[0;34m.\u001b[0m\u001b[0m_feed\u001b[0m\u001b[0;34m(\u001b[0m\u001b[0;34m)\u001b[0m\u001b[0;34m\u001b[0m\u001b[0;34m\u001b[0m\u001b[0m\n\u001b[0m\u001b[1;32m    349\u001b[0m                 \u001b[0msuccess\u001b[0m \u001b[0;34m=\u001b[0m \u001b[0;32mTrue\u001b[0m\u001b[0;34m\u001b[0m\u001b[0;34m\u001b[0m\u001b[0m\n\u001b[1;32m    350\u001b[0m                 \u001b[0;32mbreak\u001b[0m\u001b[0;34m\u001b[0m\u001b[0;34m\u001b[0m\u001b[0m\n",
      "\u001b[0;32m~/opt/anaconda3/lib/python3.7/site-packages/bs4/__init__.py\u001b[0m in \u001b[0;36m_feed\u001b[0;34m(self)\u001b[0m\n\u001b[1;32m    432\u001b[0m         \u001b[0mself\u001b[0m\u001b[0;34m.\u001b[0m\u001b[0mbuilder\u001b[0m\u001b[0;34m.\u001b[0m\u001b[0mreset\u001b[0m\u001b[0;34m(\u001b[0m\u001b[0;34m)\u001b[0m\u001b[0;34m\u001b[0m\u001b[0;34m\u001b[0m\u001b[0m\n\u001b[1;32m    433\u001b[0m \u001b[0;34m\u001b[0m\u001b[0m\n\u001b[0;32m--> 434\u001b[0;31m         \u001b[0mself\u001b[0m\u001b[0;34m.\u001b[0m\u001b[0mbuilder\u001b[0m\u001b[0;34m.\u001b[0m\u001b[0mfeed\u001b[0m\u001b[0;34m(\u001b[0m\u001b[0mself\u001b[0m\u001b[0;34m.\u001b[0m\u001b[0mmarkup\u001b[0m\u001b[0;34m)\u001b[0m\u001b[0;34m\u001b[0m\u001b[0;34m\u001b[0m\u001b[0m\n\u001b[0m\u001b[1;32m    435\u001b[0m         \u001b[0;31m# Close out any unfinished strings and close all the open tags.\u001b[0m\u001b[0;34m\u001b[0m\u001b[0;34m\u001b[0m\u001b[0;34m\u001b[0m\u001b[0m\n\u001b[1;32m    436\u001b[0m         \u001b[0mself\u001b[0m\u001b[0;34m.\u001b[0m\u001b[0mendData\u001b[0m\u001b[0;34m(\u001b[0m\u001b[0;34m)\u001b[0m\u001b[0;34m\u001b[0m\u001b[0;34m\u001b[0m\u001b[0m\n",
      "\u001b[0;32m~/opt/anaconda3/lib/python3.7/site-packages/bs4/builder/_htmlparser.py\u001b[0m in \u001b[0;36mfeed\u001b[0;34m(self, markup)\u001b[0m\n\u001b[1;32m    375\u001b[0m         \u001b[0mparser\u001b[0m\u001b[0;34m.\u001b[0m\u001b[0msoup\u001b[0m \u001b[0;34m=\u001b[0m \u001b[0mself\u001b[0m\u001b[0;34m.\u001b[0m\u001b[0msoup\u001b[0m\u001b[0;34m\u001b[0m\u001b[0;34m\u001b[0m\u001b[0m\n\u001b[1;32m    376\u001b[0m         \u001b[0;32mtry\u001b[0m\u001b[0;34m:\u001b[0m\u001b[0;34m\u001b[0m\u001b[0;34m\u001b[0m\u001b[0m\n\u001b[0;32m--> 377\u001b[0;31m             \u001b[0mparser\u001b[0m\u001b[0;34m.\u001b[0m\u001b[0mfeed\u001b[0m\u001b[0;34m(\u001b[0m\u001b[0mmarkup\u001b[0m\u001b[0;34m)\u001b[0m\u001b[0;34m\u001b[0m\u001b[0;34m\u001b[0m\u001b[0m\n\u001b[0m\u001b[1;32m    378\u001b[0m             \u001b[0mparser\u001b[0m\u001b[0;34m.\u001b[0m\u001b[0mclose\u001b[0m\u001b[0;34m(\u001b[0m\u001b[0;34m)\u001b[0m\u001b[0;34m\u001b[0m\u001b[0;34m\u001b[0m\u001b[0m\n\u001b[1;32m    379\u001b[0m         \u001b[0;32mexcept\u001b[0m \u001b[0mHTMLParseError\u001b[0m \u001b[0;32mas\u001b[0m \u001b[0me\u001b[0m\u001b[0;34m:\u001b[0m\u001b[0;34m\u001b[0m\u001b[0;34m\u001b[0m\u001b[0m\n",
      "\u001b[0;32m~/opt/anaconda3/lib/python3.7/html/parser.py\u001b[0m in \u001b[0;36mfeed\u001b[0;34m(self, data)\u001b[0m\n\u001b[1;32m    109\u001b[0m         \"\"\"\n\u001b[1;32m    110\u001b[0m         \u001b[0mself\u001b[0m\u001b[0;34m.\u001b[0m\u001b[0mrawdata\u001b[0m \u001b[0;34m=\u001b[0m \u001b[0mself\u001b[0m\u001b[0;34m.\u001b[0m\u001b[0mrawdata\u001b[0m \u001b[0;34m+\u001b[0m \u001b[0mdata\u001b[0m\u001b[0;34m\u001b[0m\u001b[0;34m\u001b[0m\u001b[0m\n\u001b[0;32m--> 111\u001b[0;31m         \u001b[0mself\u001b[0m\u001b[0;34m.\u001b[0m\u001b[0mgoahead\u001b[0m\u001b[0;34m(\u001b[0m\u001b[0;36m0\u001b[0m\u001b[0;34m)\u001b[0m\u001b[0;34m\u001b[0m\u001b[0;34m\u001b[0m\u001b[0m\n\u001b[0m\u001b[1;32m    112\u001b[0m \u001b[0;34m\u001b[0m\u001b[0m\n\u001b[1;32m    113\u001b[0m     \u001b[0;32mdef\u001b[0m \u001b[0mclose\u001b[0m\u001b[0;34m(\u001b[0m\u001b[0mself\u001b[0m\u001b[0;34m)\u001b[0m\u001b[0;34m:\u001b[0m\u001b[0;34m\u001b[0m\u001b[0;34m\u001b[0m\u001b[0m\n",
      "\u001b[0;32m~/opt/anaconda3/lib/python3.7/html/parser.py\u001b[0m in \u001b[0;36mgoahead\u001b[0;34m(self, end)\u001b[0m\n\u001b[1;32m    169\u001b[0m             \u001b[0;32mif\u001b[0m \u001b[0mstartswith\u001b[0m\u001b[0;34m(\u001b[0m\u001b[0;34m'<'\u001b[0m\u001b[0;34m,\u001b[0m \u001b[0mi\u001b[0m\u001b[0;34m)\u001b[0m\u001b[0;34m:\u001b[0m\u001b[0;34m\u001b[0m\u001b[0;34m\u001b[0m\u001b[0m\n\u001b[1;32m    170\u001b[0m                 \u001b[0;32mif\u001b[0m \u001b[0mstarttagopen\u001b[0m\u001b[0;34m.\u001b[0m\u001b[0mmatch\u001b[0m\u001b[0;34m(\u001b[0m\u001b[0mrawdata\u001b[0m\u001b[0;34m,\u001b[0m \u001b[0mi\u001b[0m\u001b[0;34m)\u001b[0m\u001b[0;34m:\u001b[0m \u001b[0;31m# < + letter\u001b[0m\u001b[0;34m\u001b[0m\u001b[0;34m\u001b[0m\u001b[0m\n\u001b[0;32m--> 171\u001b[0;31m                     \u001b[0mk\u001b[0m \u001b[0;34m=\u001b[0m \u001b[0mself\u001b[0m\u001b[0;34m.\u001b[0m\u001b[0mparse_starttag\u001b[0m\u001b[0;34m(\u001b[0m\u001b[0mi\u001b[0m\u001b[0;34m)\u001b[0m\u001b[0;34m\u001b[0m\u001b[0;34m\u001b[0m\u001b[0m\n\u001b[0m\u001b[1;32m    172\u001b[0m                 \u001b[0;32melif\u001b[0m \u001b[0mstartswith\u001b[0m\u001b[0;34m(\u001b[0m\u001b[0;34m\"</\"\u001b[0m\u001b[0;34m,\u001b[0m \u001b[0mi\u001b[0m\u001b[0;34m)\u001b[0m\u001b[0;34m:\u001b[0m\u001b[0;34m\u001b[0m\u001b[0;34m\u001b[0m\u001b[0m\n\u001b[1;32m    173\u001b[0m                     \u001b[0mk\u001b[0m \u001b[0;34m=\u001b[0m \u001b[0mself\u001b[0m\u001b[0;34m.\u001b[0m\u001b[0mparse_endtag\u001b[0m\u001b[0;34m(\u001b[0m\u001b[0mi\u001b[0m\u001b[0;34m)\u001b[0m\u001b[0;34m\u001b[0m\u001b[0;34m\u001b[0m\u001b[0m\n",
      "\u001b[0;32m~/opt/anaconda3/lib/python3.7/html/parser.py\u001b[0m in \u001b[0;36mparse_starttag\u001b[0;34m(self, i)\u001b[0m\n\u001b[1;32m    343\u001b[0m             \u001b[0mself\u001b[0m\u001b[0;34m.\u001b[0m\u001b[0mhandle_startendtag\u001b[0m\u001b[0;34m(\u001b[0m\u001b[0mtag\u001b[0m\u001b[0;34m,\u001b[0m \u001b[0mattrs\u001b[0m\u001b[0;34m)\u001b[0m\u001b[0;34m\u001b[0m\u001b[0;34m\u001b[0m\u001b[0m\n\u001b[1;32m    344\u001b[0m         \u001b[0;32melse\u001b[0m\u001b[0;34m:\u001b[0m\u001b[0;34m\u001b[0m\u001b[0;34m\u001b[0m\u001b[0m\n\u001b[0;32m--> 345\u001b[0;31m             \u001b[0mself\u001b[0m\u001b[0;34m.\u001b[0m\u001b[0mhandle_starttag\u001b[0m\u001b[0;34m(\u001b[0m\u001b[0mtag\u001b[0m\u001b[0;34m,\u001b[0m \u001b[0mattrs\u001b[0m\u001b[0;34m)\u001b[0m\u001b[0;34m\u001b[0m\u001b[0;34m\u001b[0m\u001b[0m\n\u001b[0m\u001b[1;32m    346\u001b[0m             \u001b[0;32mif\u001b[0m \u001b[0mtag\u001b[0m \u001b[0;32min\u001b[0m \u001b[0mself\u001b[0m\u001b[0;34m.\u001b[0m\u001b[0mCDATA_CONTENT_ELEMENTS\u001b[0m\u001b[0;34m:\u001b[0m\u001b[0;34m\u001b[0m\u001b[0;34m\u001b[0m\u001b[0m\n\u001b[1;32m    347\u001b[0m                 \u001b[0mself\u001b[0m\u001b[0;34m.\u001b[0m\u001b[0mset_cdata_mode\u001b[0m\u001b[0;34m(\u001b[0m\u001b[0mtag\u001b[0m\u001b[0;34m)\u001b[0m\u001b[0;34m\u001b[0m\u001b[0;34m\u001b[0m\u001b[0m\n",
      "\u001b[0;32m~/opt/anaconda3/lib/python3.7/site-packages/bs4/builder/_htmlparser.py\u001b[0m in \u001b[0;36mhandle_starttag\u001b[0;34m(self, name, attrs, handle_empty_element)\u001b[0m\n\u001b[1;32m    151\u001b[0m         tag = self.soup.handle_starttag(\n\u001b[1;32m    152\u001b[0m             \u001b[0mname\u001b[0m\u001b[0;34m,\u001b[0m \u001b[0;32mNone\u001b[0m\u001b[0;34m,\u001b[0m \u001b[0;32mNone\u001b[0m\u001b[0;34m,\u001b[0m \u001b[0mattr_dict\u001b[0m\u001b[0;34m,\u001b[0m \u001b[0msourceline\u001b[0m\u001b[0;34m=\u001b[0m\u001b[0msourceline\u001b[0m\u001b[0;34m,\u001b[0m\u001b[0;34m\u001b[0m\u001b[0;34m\u001b[0m\u001b[0m\n\u001b[0;32m--> 153\u001b[0;31m             \u001b[0msourcepos\u001b[0m\u001b[0;34m=\u001b[0m\u001b[0msourcepos\u001b[0m\u001b[0;34m\u001b[0m\u001b[0;34m\u001b[0m\u001b[0m\n\u001b[0m\u001b[1;32m    154\u001b[0m         )\n\u001b[1;32m    155\u001b[0m         \u001b[0;32mif\u001b[0m \u001b[0mtag\u001b[0m \u001b[0;32mand\u001b[0m \u001b[0mtag\u001b[0m\u001b[0;34m.\u001b[0m\u001b[0mis_empty_element\u001b[0m \u001b[0;32mand\u001b[0m \u001b[0mhandle_empty_element\u001b[0m\u001b[0;34m:\u001b[0m\u001b[0;34m\u001b[0m\u001b[0;34m\u001b[0m\u001b[0m\n",
      "\u001b[0;32m~/opt/anaconda3/lib/python3.7/site-packages/bs4/__init__.py\u001b[0m in \u001b[0;36mhandle_starttag\u001b[0;34m(self, name, namespace, nsprefix, attrs, sourceline, sourcepos)\u001b[0m\n\u001b[1;32m    704\u001b[0m             \u001b[0mself\u001b[0m\u001b[0;34m,\u001b[0m \u001b[0mself\u001b[0m\u001b[0;34m.\u001b[0m\u001b[0mbuilder\u001b[0m\u001b[0;34m,\u001b[0m \u001b[0mname\u001b[0m\u001b[0;34m,\u001b[0m \u001b[0mnamespace\u001b[0m\u001b[0;34m,\u001b[0m \u001b[0mnsprefix\u001b[0m\u001b[0;34m,\u001b[0m \u001b[0mattrs\u001b[0m\u001b[0;34m,\u001b[0m\u001b[0;34m\u001b[0m\u001b[0;34m\u001b[0m\u001b[0m\n\u001b[1;32m    705\u001b[0m             \u001b[0mself\u001b[0m\u001b[0;34m.\u001b[0m\u001b[0mcurrentTag\u001b[0m\u001b[0;34m,\u001b[0m \u001b[0mself\u001b[0m\u001b[0;34m.\u001b[0m\u001b[0m_most_recent_element\u001b[0m\u001b[0;34m,\u001b[0m\u001b[0;34m\u001b[0m\u001b[0;34m\u001b[0m\u001b[0m\n\u001b[0;32m--> 706\u001b[0;31m             \u001b[0msourceline\u001b[0m\u001b[0;34m=\u001b[0m\u001b[0msourceline\u001b[0m\u001b[0;34m,\u001b[0m \u001b[0msourcepos\u001b[0m\u001b[0;34m=\u001b[0m\u001b[0msourcepos\u001b[0m\u001b[0;34m\u001b[0m\u001b[0;34m\u001b[0m\u001b[0m\n\u001b[0m\u001b[1;32m    707\u001b[0m         )\n\u001b[1;32m    708\u001b[0m         \u001b[0;32mif\u001b[0m \u001b[0mtag\u001b[0m \u001b[0;32mis\u001b[0m \u001b[0;32mNone\u001b[0m\u001b[0;34m:\u001b[0m\u001b[0;34m\u001b[0m\u001b[0;34m\u001b[0m\u001b[0m\n",
      "\u001b[0;32m~/opt/anaconda3/lib/python3.7/site-packages/bs4/element.py\u001b[0m in \u001b[0;36m__init__\u001b[0;34m(self, parser, builder, name, namespace, prefix, attrs, parent, previous, is_xml, sourceline, sourcepos, can_be_empty_element, cdata_list_attributes, preserve_whitespace_tags)\u001b[0m\n\u001b[1;32m   1102\u001b[0m             \u001b[0;31m# We don't actually store the parser object: that lets extracted\u001b[0m\u001b[0;34m\u001b[0m\u001b[0;34m\u001b[0m\u001b[0;34m\u001b[0m\u001b[0m\n\u001b[1;32m   1103\u001b[0m             \u001b[0;31m# chunks be garbage-collected.\u001b[0m\u001b[0;34m\u001b[0m\u001b[0;34m\u001b[0m\u001b[0;34m\u001b[0m\u001b[0m\n\u001b[0;32m-> 1104\u001b[0;31m             \u001b[0mself\u001b[0m\u001b[0;34m.\u001b[0m\u001b[0mparser_class\u001b[0m \u001b[0;34m=\u001b[0m \u001b[0mparser\u001b[0m\u001b[0;34m.\u001b[0m\u001b[0m__class__\u001b[0m\u001b[0;34m\u001b[0m\u001b[0;34m\u001b[0m\u001b[0m\n\u001b[0m\u001b[1;32m   1105\u001b[0m         \u001b[0;32mif\u001b[0m \u001b[0mname\u001b[0m \u001b[0;32mis\u001b[0m \u001b[0;32mNone\u001b[0m\u001b[0;34m:\u001b[0m\u001b[0;34m\u001b[0m\u001b[0;34m\u001b[0m\u001b[0m\n\u001b[1;32m   1106\u001b[0m             \u001b[0;32mraise\u001b[0m \u001b[0mValueError\u001b[0m\u001b[0;34m(\u001b[0m\u001b[0;34m\"No value provided for new tag's name.\"\u001b[0m\u001b[0;34m)\u001b[0m\u001b[0;34m\u001b[0m\u001b[0;34m\u001b[0m\u001b[0m\n",
      "\u001b[0;31mKeyboardInterrupt\u001b[0m: "
     ]
    }
   ],
   "source": [
    "for link in links:\n",
    "    print(link)\n",
    "    res = requests.get(link, timeout=(1, 2))\n",
    "    soup = BeautifulSoup(res.text, \"html.parser\")\n",
    "    metas = soup.find_all(class_='article-meta-value')\n",
    "    author = metas[0].text\n",
    "    title = metas[-2].text\n",
    "    timestamp = metas[-1].text"
   ]
  },
  {
   "cell_type": "markdown",
   "metadata": {},
   "source": [
    "### 5.3 Get all content\n",
    "```\n",
    "alist = [1, 2, 3]\n",
    "print(isinstance(alist, tuple))\n",
    ": False\n",
    "```"
   ]
  },
  {
   "cell_type": "code",
   "execution_count": 25,
   "metadata": {},
   "outputs": [
    {
     "name": "stdout",
     "output_type": "stream",
     "text": [
      "https://www.ptt.cc/bbs/Boy-Girl/M.1620027067.A.B37.html\n",
      "421\n",
      "https://www.ptt.cc/bbs/Boy-Girl/M.1620031172.A.255.html\n",
      "557\n",
      "https://www.ptt.cc/bbs/Boy-Girl/M.1620032241.A.610.html\n",
      "1090\n"
     ]
    }
   ],
   "source": [
    "from bs4 import NavigableString\n",
    "for link in links[:3]:\n",
    "    print(link)\n",
    "    res = requests.get(link, timeout=(1, 2))\n",
    "    soup = BeautifulSoup(res.text, \"html.parser\")\n",
    "    metas = soup.find_all(class_='article-meta-value')\n",
    "    if len(metas) == 0: \n",
    "        continue\n",
    "    author = metas[0].text\n",
    "    title = metas[-2].text\n",
    "    timestamp = metas[-1].text\n",
    "    \n",
    "    content = ''\n",
    "    for text in soup.find(id='main-content'):\n",
    "        if isinstance(text, NavigableString):\n",
    "            content += text.strip()\n",
    "    print(len(content)) # calculating number of words"
   ]
  },
  {
   "cell_type": "markdown",
   "metadata": {},
   "source": [
    "### 5.4 Save them all to a dictionary and append to a list"
   ]
  },
  {
   "cell_type": "code",
   "execution_count": 26,
   "metadata": {},
   "outputs": [
    {
     "name": "stdout",
     "output_type": "stream",
     "text": [
      "https://www.ptt.cc/bbs/Boy-Girl/M.1620027067.A.B37.html\n",
      "https://www.ptt.cc/bbs/Boy-Girl/M.1620031172.A.255.html\n",
      "https://www.ptt.cc/bbs/Boy-Girl/M.1620032241.A.610.html\n",
      "https://www.ptt.cc/bbs/Boy-Girl/M.1620034856.A.1BD.html\n",
      "https://www.ptt.cc/bbs/Boy-Girl/M.1620039447.A.4AE.html\n"
     ]
    }
   ],
   "source": [
    "from bs4 import NavigableString\n",
    "all_post = []\n",
    "for link in links[:5]:\n",
    "    print(link)\n",
    "    res = requests.get(link, timeout=(1, 2))\n",
    "    soup = BeautifulSoup(res.text, \"html.parser\")\n",
    "    metas = soup.find_all(class_='article-meta-value')\n",
    "    if len(metas) == 0: \n",
    "        continue\n",
    "    author = metas[0].text\n",
    "    title = metas[-2].text\n",
    "    timestamp = metas[-1].text\n",
    "    \n",
    "    content = ''\n",
    "    for text in soup.find(id='main-content'):\n",
    "        if isinstance(text, NavigableString):\n",
    "            content += text.strip()\n",
    "    \n",
    "    all_post.append({'author':author, \n",
    "                     'link':link,\n",
    "                      'title':title, \n",
    "                      'timestamp':timestamp, \n",
    "                      'content':content}) "
   ]
  },
  {
   "cell_type": "code",
   "execution_count": 27,
   "metadata": {},
   "outputs": [
    {
     "data": {
      "text/html": [
       "<div>\n",
       "<style scoped>\n",
       "    .dataframe tbody tr th:only-of-type {\n",
       "        vertical-align: middle;\n",
       "    }\n",
       "\n",
       "    .dataframe tbody tr th {\n",
       "        vertical-align: top;\n",
       "    }\n",
       "\n",
       "    .dataframe thead th {\n",
       "        text-align: right;\n",
       "    }\n",
       "</style>\n",
       "<table border=\"1\" class=\"dataframe\">\n",
       "  <thead>\n",
       "    <tr style=\"text-align: right;\">\n",
       "      <th></th>\n",
       "      <th>author</th>\n",
       "      <th>link</th>\n",
       "      <th>title</th>\n",
       "      <th>timestamp</th>\n",
       "      <th>content</th>\n",
       "    </tr>\n",
       "  </thead>\n",
       "  <tbody>\n",
       "    <tr>\n",
       "      <th>0</th>\n",
       "      <td>talkmyself (休息中)</td>\n",
       "      <td>https://www.ptt.cc/bbs/Boy-Girl/M.1620027067.A...</td>\n",
       "      <td>Re: [討論] 男生真的會重視女生的付出嗎</td>\n",
       "      <td>Mon May  3 15:31:03 2021</td>\n",
       "      <td>你是邏輯有問題嗎?\\n男生的付出\"只有\"金錢? 直接輕描淡寫的帶過\\n女生的付出洋洋灑灑長篇...</td>\n",
       "    </tr>\n",
       "    <tr>\n",
       "      <th>1</th>\n",
       "      <td>ciza (執行力才是主道)</td>\n",
       "      <td>https://www.ptt.cc/bbs/Boy-Girl/M.1620031172.A...</td>\n",
       "      <td>Re: [討論] 男生真的會重視女生的付出嗎</td>\n",
       "      <td>Mon May  3 16:39:29 2021</td>\n",
       "      <td>不要仇女啦\\n\\n好女孩可能就只是你還沒遇到而已啦\\n\\n像我就很感謝我老婆的付出阿\\n\\n...</td>\n",
       "    </tr>\n",
       "    <tr>\n",
       "      <th>2</th>\n",
       "      <td>sumade (斬卍凱蒂貓卍佛)</td>\n",
       "      <td>https://www.ptt.cc/bbs/Boy-Girl/M.1620032241.A...</td>\n",
       "      <td>Re: [討論] 男生真的會重視女生的付出嗎</td>\n",
       "      <td>Mon May  3 16:57:19 2021</td>\n",
       "      <td>看到你推這句  就知道你根本沒把大家的意見聽進去\\n\\n只覺得自己好可憐  為什麼鄉民都欺負...</td>\n",
       "    </tr>\n",
       "    <tr>\n",
       "      <th>3</th>\n",
       "      <td>eulbos (心想事成)</td>\n",
       "      <td>https://www.ptt.cc/bbs/Boy-Girl/M.1620034856.A...</td>\n",
       "      <td>Re: [討論] 如果另一半騎車讓你覺得很危險</td>\n",
       "      <td>Mon May  3 17:40:53 2021</td>\n",
       "      <td>我阿肥啦，因為開車技術太差不敢交女朋友QQ\\n\\n阿肥建議啦，真的要花點心思練車才好開車門也...</td>\n",
       "    </tr>\n",
       "    <tr>\n",
       "      <th>4</th>\n",
       "      <td>foam0406 (南山南)</td>\n",
       "      <td>https://www.ptt.cc/bbs/Boy-Girl/M.1620039447.A...</td>\n",
       "      <td>[討論] 會不喜歡吃飯吃很慢的異性嗎</td>\n",
       "      <td>Mon May  3 18:57:25 2021</td>\n",
       "      <td>如題\\n小魯認識一個女生\\n之前跟她吃火鍋\\n下班吃的\\n\\n\\n\\n七點開始吃\\n我大概八...</td>\n",
       "    </tr>\n",
       "  </tbody>\n",
       "</table>\n",
       "</div>"
      ],
      "text/plain": [
       "             author                                               link  \\\n",
       "0  talkmyself (休息中)  https://www.ptt.cc/bbs/Boy-Girl/M.1620027067.A...   \n",
       "1    ciza (執行力才是主道)  https://www.ptt.cc/bbs/Boy-Girl/M.1620031172.A...   \n",
       "2  sumade (斬卍凱蒂貓卍佛)  https://www.ptt.cc/bbs/Boy-Girl/M.1620032241.A...   \n",
       "3     eulbos (心想事成)  https://www.ptt.cc/bbs/Boy-Girl/M.1620034856.A...   \n",
       "4    foam0406 (南山南)  https://www.ptt.cc/bbs/Boy-Girl/M.1620039447.A...   \n",
       "\n",
       "                     title                 timestamp  \\\n",
       "0   Re: [討論] 男生真的會重視女生的付出嗎  Mon May  3 15:31:03 2021   \n",
       "1   Re: [討論] 男生真的會重視女生的付出嗎  Mon May  3 16:39:29 2021   \n",
       "2   Re: [討論] 男生真的會重視女生的付出嗎  Mon May  3 16:57:19 2021   \n",
       "3  Re: [討論] 如果另一半騎車讓你覺得很危險  Mon May  3 17:40:53 2021   \n",
       "4       [討論] 會不喜歡吃飯吃很慢的異性嗎  Mon May  3 18:57:25 2021   \n",
       "\n",
       "                                             content  \n",
       "0  你是邏輯有問題嗎?\\n男生的付出\"只有\"金錢? 直接輕描淡寫的帶過\\n女生的付出洋洋灑灑長篇...  \n",
       "1  不要仇女啦\\n\\n好女孩可能就只是你還沒遇到而已啦\\n\\n像我就很感謝我老婆的付出阿\\n\\n...  \n",
       "2  看到你推這句  就知道你根本沒把大家的意見聽進去\\n\\n只覺得自己好可憐  為什麼鄉民都欺負...  \n",
       "3  我阿肥啦，因為開車技術太差不敢交女朋友QQ\\n\\n阿肥建議啦，真的要花點心思練車才好開車門也...  \n",
       "4  如題\\n小魯認識一個女生\\n之前跟她吃火鍋\\n下班吃的\\n\\n\\n\\n七點開始吃\\n我大概八...  "
      ]
     },
     "execution_count": 27,
     "metadata": {},
     "output_type": "execute_result"
    }
   ],
   "source": [
    "import pandas as pd\n",
    "pd.DataFrame(all_post)"
   ]
  },
  {
   "cell_type": "markdown",
   "metadata": {},
   "source": [
    "## VI. Scraping comments\n"
   ]
  },
  {
   "cell_type": "code",
   "execution_count": 28,
   "metadata": {},
   "outputs": [
    {
     "name": "stdout",
     "output_type": "stream",
     "text": [
      "https://www.ptt.cc/bbs/Boy-Girl/M.1620027067.A.B37.html\n",
      "https://www.ptt.cc/bbs/Boy-Girl/M.1620031172.A.255.html\n",
      "https://www.ptt.cc/bbs/Boy-Girl/M.1620032241.A.610.html\n",
      "https://www.ptt.cc/bbs/Boy-Girl/M.1620034856.A.1BD.html\n",
      "https://www.ptt.cc/bbs/Boy-Girl/M.1620039447.A.4AE.html\n"
     ]
    }
   ],
   "source": [
    "from bs4 import NavigableString\n",
    "all_post = []\n",
    "for link in links[:5]:\n",
    "    print(link)\n",
    "    resulrests = requests.get(link, timeout=(1, 2))\n",
    "    soup = BeautifulSoup(res.text, \"html.parser\")\n",
    "    metas = soup.find_all(class_='article-meta-value')\n",
    "    if len(metas) == 0: \n",
    "        continue\n",
    "    author = metas[0].text\n",
    "    title = metas[-2].text\n",
    "    timestamp = metas[-1].text\n",
    "    \n",
    "    content = ''\n",
    "    for text in soup.find(id='main-content'):\n",
    "        if isinstance(text, NavigableString):\n",
    "            content += text.strip()\n",
    "    \n",
    "    comments = []\n",
    "    for push in soup.find_all(class_=\"push\"):\n",
    "        push_tag = push.find(class_='push-tag').text\n",
    "        push_userid = push.find(class_='push-userid').text\n",
    "        push_content = push.find(class_='push-content').text\n",
    "        push_ipdatetime = push.find(class_='push-ipdatetime').text\n",
    "\n",
    "        #print push_userid, push_content, push_ipdatetime\n",
    "        comments.append({'tag': push_tag,'userid':push_userid, \n",
    "                         'content':push_content, \n",
    "                         'timestamp':push_ipdatetime})\n",
    "    all_post.append({'author':author, \n",
    "                     'link':link,\n",
    "                      'title':title, \n",
    "                      'timestamp':timestamp, \n",
    "                      'content':content, \n",
    "                      'comments':comments}) "
   ]
  },
  {
   "cell_type": "code",
   "execution_count": 29,
   "metadata": {},
   "outputs": [
    {
     "data": {
      "text/html": [
       "<div>\n",
       "<style scoped>\n",
       "    .dataframe tbody tr th:only-of-type {\n",
       "        vertical-align: middle;\n",
       "    }\n",
       "\n",
       "    .dataframe tbody tr th {\n",
       "        vertical-align: top;\n",
       "    }\n",
       "\n",
       "    .dataframe thead th {\n",
       "        text-align: right;\n",
       "    }\n",
       "</style>\n",
       "<table border=\"1\" class=\"dataframe\">\n",
       "  <thead>\n",
       "    <tr style=\"text-align: right;\">\n",
       "      <th></th>\n",
       "      <th>author</th>\n",
       "      <th>link</th>\n",
       "      <th>title</th>\n",
       "      <th>timestamp</th>\n",
       "      <th>content</th>\n",
       "      <th>comments</th>\n",
       "    </tr>\n",
       "  </thead>\n",
       "  <tbody>\n",
       "    <tr>\n",
       "      <th>0</th>\n",
       "      <td>foam0406 (南山南)</td>\n",
       "      <td>https://www.ptt.cc/bbs/Boy-Girl/M.1620027067.A...</td>\n",
       "      <td>[討論] 會不喜歡吃飯吃很慢的異性嗎</td>\n",
       "      <td>Mon May  3 18:57:25 2021</td>\n",
       "      <td>如題\\n小魯認識一個女生\\n之前跟她吃火鍋\\n下班吃的\\n\\n\\n\\n七點開始吃\\n我大概八...</td>\n",
       "      <td>[{'tag': '推 ', 'userid': 'mintsnow', 'content'...</td>\n",
       "    </tr>\n",
       "    <tr>\n",
       "      <th>1</th>\n",
       "      <td>foam0406 (南山南)</td>\n",
       "      <td>https://www.ptt.cc/bbs/Boy-Girl/M.1620031172.A...</td>\n",
       "      <td>[討論] 會不喜歡吃飯吃很慢的異性嗎</td>\n",
       "      <td>Mon May  3 18:57:25 2021</td>\n",
       "      <td>如題\\n小魯認識一個女生\\n之前跟她吃火鍋\\n下班吃的\\n\\n\\n\\n七點開始吃\\n我大概八...</td>\n",
       "      <td>[{'tag': '推 ', 'userid': 'mintsnow', 'content'...</td>\n",
       "    </tr>\n",
       "    <tr>\n",
       "      <th>2</th>\n",
       "      <td>foam0406 (南山南)</td>\n",
       "      <td>https://www.ptt.cc/bbs/Boy-Girl/M.1620032241.A...</td>\n",
       "      <td>[討論] 會不喜歡吃飯吃很慢的異性嗎</td>\n",
       "      <td>Mon May  3 18:57:25 2021</td>\n",
       "      <td>如題\\n小魯認識一個女生\\n之前跟她吃火鍋\\n下班吃的\\n\\n\\n\\n七點開始吃\\n我大概八...</td>\n",
       "      <td>[{'tag': '推 ', 'userid': 'mintsnow', 'content'...</td>\n",
       "    </tr>\n",
       "    <tr>\n",
       "      <th>3</th>\n",
       "      <td>foam0406 (南山南)</td>\n",
       "      <td>https://www.ptt.cc/bbs/Boy-Girl/M.1620034856.A...</td>\n",
       "      <td>[討論] 會不喜歡吃飯吃很慢的異性嗎</td>\n",
       "      <td>Mon May  3 18:57:25 2021</td>\n",
       "      <td>如題\\n小魯認識一個女生\\n之前跟她吃火鍋\\n下班吃的\\n\\n\\n\\n七點開始吃\\n我大概八...</td>\n",
       "      <td>[{'tag': '推 ', 'userid': 'mintsnow', 'content'...</td>\n",
       "    </tr>\n",
       "    <tr>\n",
       "      <th>4</th>\n",
       "      <td>foam0406 (南山南)</td>\n",
       "      <td>https://www.ptt.cc/bbs/Boy-Girl/M.1620039447.A...</td>\n",
       "      <td>[討論] 會不喜歡吃飯吃很慢的異性嗎</td>\n",
       "      <td>Mon May  3 18:57:25 2021</td>\n",
       "      <td>如題\\n小魯認識一個女生\\n之前跟她吃火鍋\\n下班吃的\\n\\n\\n\\n七點開始吃\\n我大概八...</td>\n",
       "      <td>[{'tag': '推 ', 'userid': 'mintsnow', 'content'...</td>\n",
       "    </tr>\n",
       "  </tbody>\n",
       "</table>\n",
       "</div>"
      ],
      "text/plain": [
       "           author                                               link  \\\n",
       "0  foam0406 (南山南)  https://www.ptt.cc/bbs/Boy-Girl/M.1620027067.A...   \n",
       "1  foam0406 (南山南)  https://www.ptt.cc/bbs/Boy-Girl/M.1620031172.A...   \n",
       "2  foam0406 (南山南)  https://www.ptt.cc/bbs/Boy-Girl/M.1620032241.A...   \n",
       "3  foam0406 (南山南)  https://www.ptt.cc/bbs/Boy-Girl/M.1620034856.A...   \n",
       "4  foam0406 (南山南)  https://www.ptt.cc/bbs/Boy-Girl/M.1620039447.A...   \n",
       "\n",
       "                title                 timestamp  \\\n",
       "0  [討論] 會不喜歡吃飯吃很慢的異性嗎  Mon May  3 18:57:25 2021   \n",
       "1  [討論] 會不喜歡吃飯吃很慢的異性嗎  Mon May  3 18:57:25 2021   \n",
       "2  [討論] 會不喜歡吃飯吃很慢的異性嗎  Mon May  3 18:57:25 2021   \n",
       "3  [討論] 會不喜歡吃飯吃很慢的異性嗎  Mon May  3 18:57:25 2021   \n",
       "4  [討論] 會不喜歡吃飯吃很慢的異性嗎  Mon May  3 18:57:25 2021   \n",
       "\n",
       "                                             content  \\\n",
       "0  如題\\n小魯認識一個女生\\n之前跟她吃火鍋\\n下班吃的\\n\\n\\n\\n七點開始吃\\n我大概八...   \n",
       "1  如題\\n小魯認識一個女生\\n之前跟她吃火鍋\\n下班吃的\\n\\n\\n\\n七點開始吃\\n我大概八...   \n",
       "2  如題\\n小魯認識一個女生\\n之前跟她吃火鍋\\n下班吃的\\n\\n\\n\\n七點開始吃\\n我大概八...   \n",
       "3  如題\\n小魯認識一個女生\\n之前跟她吃火鍋\\n下班吃的\\n\\n\\n\\n七點開始吃\\n我大概八...   \n",
       "4  如題\\n小魯認識一個女生\\n之前跟她吃火鍋\\n下班吃的\\n\\n\\n\\n七點開始吃\\n我大概八...   \n",
       "\n",
       "                                            comments  \n",
       "0  [{'tag': '推 ', 'userid': 'mintsnow', 'content'...  \n",
       "1  [{'tag': '推 ', 'userid': 'mintsnow', 'content'...  \n",
       "2  [{'tag': '推 ', 'userid': 'mintsnow', 'content'...  \n",
       "3  [{'tag': '推 ', 'userid': 'mintsnow', 'content'...  \n",
       "4  [{'tag': '推 ', 'userid': 'mintsnow', 'content'...  "
      ]
     },
     "execution_count": 29,
     "metadata": {},
     "output_type": "execute_result"
    }
   ],
   "source": [
    "pd.DataFrame(all_post)"
   ]
  },
  {
   "cell_type": "code",
   "execution_count": 30,
   "metadata": {},
   "outputs": [
    {
     "data": {
      "text/html": [
       "<div>\n",
       "<style scoped>\n",
       "    .dataframe tbody tr th:only-of-type {\n",
       "        vertical-align: middle;\n",
       "    }\n",
       "\n",
       "    .dataframe tbody tr th {\n",
       "        vertical-align: top;\n",
       "    }\n",
       "\n",
       "    .dataframe thead th {\n",
       "        text-align: right;\n",
       "    }\n",
       "</style>\n",
       "<table border=\"1\" class=\"dataframe\">\n",
       "  <thead>\n",
       "    <tr style=\"text-align: right;\">\n",
       "      <th></th>\n",
       "      <th>author</th>\n",
       "      <th>link</th>\n",
       "      <th>title</th>\n",
       "      <th>timestamp</th>\n",
       "      <th>content</th>\n",
       "      <th>comments</th>\n",
       "    </tr>\n",
       "  </thead>\n",
       "  <tbody>\n",
       "    <tr>\n",
       "      <th>0</th>\n",
       "      <td>foam0406 (南山南)</td>\n",
       "      <td>https://www.ptt.cc/bbs/Boy-Girl/M.1620027067.A...</td>\n",
       "      <td>[討論] 會不喜歡吃飯吃很慢的異性嗎</td>\n",
       "      <td>Mon May  3 18:57:25 2021</td>\n",
       "      <td>如題\\n小魯認識一個女生\\n之前跟她吃火鍋\\n下班吃的\\n\\n\\n\\n七點開始吃\\n我大概八...</td>\n",
       "      <td>{'tag': '推 ', 'userid': 'mintsnow', 'content':...</td>\n",
       "    </tr>\n",
       "    <tr>\n",
       "      <th>0</th>\n",
       "      <td>foam0406 (南山南)</td>\n",
       "      <td>https://www.ptt.cc/bbs/Boy-Girl/M.1620027067.A...</td>\n",
       "      <td>[討論] 會不喜歡吃飯吃很慢的異性嗎</td>\n",
       "      <td>Mon May  3 18:57:25 2021</td>\n",
       "      <td>如題\\n小魯認識一個女生\\n之前跟她吃火鍋\\n下班吃的\\n\\n\\n\\n七點開始吃\\n我大概八...</td>\n",
       "      <td>{'tag': '→ ', 'userid': 'onizuka7kimo', 'conte...</td>\n",
       "    </tr>\n",
       "    <tr>\n",
       "      <th>0</th>\n",
       "      <td>foam0406 (南山南)</td>\n",
       "      <td>https://www.ptt.cc/bbs/Boy-Girl/M.1620027067.A...</td>\n",
       "      <td>[討論] 會不喜歡吃飯吃很慢的異性嗎</td>\n",
       "      <td>Mon May  3 18:57:25 2021</td>\n",
       "      <td>如題\\n小魯認識一個女生\\n之前跟她吃火鍋\\n下班吃的\\n\\n\\n\\n七點開始吃\\n我大概八...</td>\n",
       "      <td>{'tag': '推 ', 'userid': 'wl843907', 'content':...</td>\n",
       "    </tr>\n",
       "    <tr>\n",
       "      <th>0</th>\n",
       "      <td>foam0406 (南山南)</td>\n",
       "      <td>https://www.ptt.cc/bbs/Boy-Girl/M.1620027067.A...</td>\n",
       "      <td>[討論] 會不喜歡吃飯吃很慢的異性嗎</td>\n",
       "      <td>Mon May  3 18:57:25 2021</td>\n",
       "      <td>如題\\n小魯認識一個女生\\n之前跟她吃火鍋\\n下班吃的\\n\\n\\n\\n七點開始吃\\n我大概八...</td>\n",
       "      <td>{'tag': '推 ', 'userid': 'mind324', 'content': ...</td>\n",
       "    </tr>\n",
       "    <tr>\n",
       "      <th>0</th>\n",
       "      <td>foam0406 (南山南)</td>\n",
       "      <td>https://www.ptt.cc/bbs/Boy-Girl/M.1620027067.A...</td>\n",
       "      <td>[討論] 會不喜歡吃飯吃很慢的異性嗎</td>\n",
       "      <td>Mon May  3 18:57:25 2021</td>\n",
       "      <td>如題\\n小魯認識一個女生\\n之前跟她吃火鍋\\n下班吃的\\n\\n\\n\\n七點開始吃\\n我大概八...</td>\n",
       "      <td>{'tag': '推 ', 'userid': 'Alan1988', 'content':...</td>\n",
       "    </tr>\n",
       "    <tr>\n",
       "      <th>...</th>\n",
       "      <td>...</td>\n",
       "      <td>...</td>\n",
       "      <td>...</td>\n",
       "      <td>...</td>\n",
       "      <td>...</td>\n",
       "      <td>...</td>\n",
       "    </tr>\n",
       "    <tr>\n",
       "      <th>4</th>\n",
       "      <td>foam0406 (南山南)</td>\n",
       "      <td>https://www.ptt.cc/bbs/Boy-Girl/M.1620039447.A...</td>\n",
       "      <td>[討論] 會不喜歡吃飯吃很慢的異性嗎</td>\n",
       "      <td>Mon May  3 18:57:25 2021</td>\n",
       "      <td>如題\\n小魯認識一個女生\\n之前跟她吃火鍋\\n下班吃的\\n\\n\\n\\n七點開始吃\\n我大概八...</td>\n",
       "      <td>{'tag': '推 ', 'userid': 'fanfan0113', 'content...</td>\n",
       "    </tr>\n",
       "    <tr>\n",
       "      <th>4</th>\n",
       "      <td>foam0406 (南山南)</td>\n",
       "      <td>https://www.ptt.cc/bbs/Boy-Girl/M.1620039447.A...</td>\n",
       "      <td>[討論] 會不喜歡吃飯吃很慢的異性嗎</td>\n",
       "      <td>Mon May  3 18:57:25 2021</td>\n",
       "      <td>如題\\n小魯認識一個女生\\n之前跟她吃火鍋\\n下班吃的\\n\\n\\n\\n七點開始吃\\n我大概八...</td>\n",
       "      <td>{'tag': '推 ', 'userid': 'edc3', 'content': ': ...</td>\n",
       "    </tr>\n",
       "    <tr>\n",
       "      <th>4</th>\n",
       "      <td>foam0406 (南山南)</td>\n",
       "      <td>https://www.ptt.cc/bbs/Boy-Girl/M.1620039447.A...</td>\n",
       "      <td>[討論] 會不喜歡吃飯吃很慢的異性嗎</td>\n",
       "      <td>Mon May  3 18:57:25 2021</td>\n",
       "      <td>如題\\n小魯認識一個女生\\n之前跟她吃火鍋\\n下班吃的\\n\\n\\n\\n七點開始吃\\n我大概八...</td>\n",
       "      <td>{'tag': '推 ', 'userid': 'fix78', 'content': ':...</td>\n",
       "    </tr>\n",
       "    <tr>\n",
       "      <th>4</th>\n",
       "      <td>foam0406 (南山南)</td>\n",
       "      <td>https://www.ptt.cc/bbs/Boy-Girl/M.1620039447.A...</td>\n",
       "      <td>[討論] 會不喜歡吃飯吃很慢的異性嗎</td>\n",
       "      <td>Mon May  3 18:57:25 2021</td>\n",
       "      <td>如題\\n小魯認識一個女生\\n之前跟她吃火鍋\\n下班吃的\\n\\n\\n\\n七點開始吃\\n我大概八...</td>\n",
       "      <td>{'tag': '→ ', 'userid': 'windgaia', 'content':...</td>\n",
       "    </tr>\n",
       "    <tr>\n",
       "      <th>4</th>\n",
       "      <td>foam0406 (南山南)</td>\n",
       "      <td>https://www.ptt.cc/bbs/Boy-Girl/M.1620039447.A...</td>\n",
       "      <td>[討論] 會不喜歡吃飯吃很慢的異性嗎</td>\n",
       "      <td>Mon May  3 18:57:25 2021</td>\n",
       "      <td>如題\\n小魯認識一個女生\\n之前跟她吃火鍋\\n下班吃的\\n\\n\\n\\n七點開始吃\\n我大概八...</td>\n",
       "      <td>{'tag': '推 ', 'userid': 'enemyli', 'content': ...</td>\n",
       "    </tr>\n",
       "  </tbody>\n",
       "</table>\n",
       "<p>1020 rows × 6 columns</p>\n",
       "</div>"
      ],
      "text/plain": [
       "            author                                               link  \\\n",
       "0   foam0406 (南山南)  https://www.ptt.cc/bbs/Boy-Girl/M.1620027067.A...   \n",
       "0   foam0406 (南山南)  https://www.ptt.cc/bbs/Boy-Girl/M.1620027067.A...   \n",
       "0   foam0406 (南山南)  https://www.ptt.cc/bbs/Boy-Girl/M.1620027067.A...   \n",
       "0   foam0406 (南山南)  https://www.ptt.cc/bbs/Boy-Girl/M.1620027067.A...   \n",
       "0   foam0406 (南山南)  https://www.ptt.cc/bbs/Boy-Girl/M.1620027067.A...   \n",
       "..             ...                                                ...   \n",
       "4   foam0406 (南山南)  https://www.ptt.cc/bbs/Boy-Girl/M.1620039447.A...   \n",
       "4   foam0406 (南山南)  https://www.ptt.cc/bbs/Boy-Girl/M.1620039447.A...   \n",
       "4   foam0406 (南山南)  https://www.ptt.cc/bbs/Boy-Girl/M.1620039447.A...   \n",
       "4   foam0406 (南山南)  https://www.ptt.cc/bbs/Boy-Girl/M.1620039447.A...   \n",
       "4   foam0406 (南山南)  https://www.ptt.cc/bbs/Boy-Girl/M.1620039447.A...   \n",
       "\n",
       "                 title                 timestamp  \\\n",
       "0   [討論] 會不喜歡吃飯吃很慢的異性嗎  Mon May  3 18:57:25 2021   \n",
       "0   [討論] 會不喜歡吃飯吃很慢的異性嗎  Mon May  3 18:57:25 2021   \n",
       "0   [討論] 會不喜歡吃飯吃很慢的異性嗎  Mon May  3 18:57:25 2021   \n",
       "0   [討論] 會不喜歡吃飯吃很慢的異性嗎  Mon May  3 18:57:25 2021   \n",
       "0   [討論] 會不喜歡吃飯吃很慢的異性嗎  Mon May  3 18:57:25 2021   \n",
       "..                 ...                       ...   \n",
       "4   [討論] 會不喜歡吃飯吃很慢的異性嗎  Mon May  3 18:57:25 2021   \n",
       "4   [討論] 會不喜歡吃飯吃很慢的異性嗎  Mon May  3 18:57:25 2021   \n",
       "4   [討論] 會不喜歡吃飯吃很慢的異性嗎  Mon May  3 18:57:25 2021   \n",
       "4   [討論] 會不喜歡吃飯吃很慢的異性嗎  Mon May  3 18:57:25 2021   \n",
       "4   [討論] 會不喜歡吃飯吃很慢的異性嗎  Mon May  3 18:57:25 2021   \n",
       "\n",
       "                                              content  \\\n",
       "0   如題\\n小魯認識一個女生\\n之前跟她吃火鍋\\n下班吃的\\n\\n\\n\\n七點開始吃\\n我大概八...   \n",
       "0   如題\\n小魯認識一個女生\\n之前跟她吃火鍋\\n下班吃的\\n\\n\\n\\n七點開始吃\\n我大概八...   \n",
       "0   如題\\n小魯認識一個女生\\n之前跟她吃火鍋\\n下班吃的\\n\\n\\n\\n七點開始吃\\n我大概八...   \n",
       "0   如題\\n小魯認識一個女生\\n之前跟她吃火鍋\\n下班吃的\\n\\n\\n\\n七點開始吃\\n我大概八...   \n",
       "0   如題\\n小魯認識一個女生\\n之前跟她吃火鍋\\n下班吃的\\n\\n\\n\\n七點開始吃\\n我大概八...   \n",
       "..                                                ...   \n",
       "4   如題\\n小魯認識一個女生\\n之前跟她吃火鍋\\n下班吃的\\n\\n\\n\\n七點開始吃\\n我大概八...   \n",
       "4   如題\\n小魯認識一個女生\\n之前跟她吃火鍋\\n下班吃的\\n\\n\\n\\n七點開始吃\\n我大概八...   \n",
       "4   如題\\n小魯認識一個女生\\n之前跟她吃火鍋\\n下班吃的\\n\\n\\n\\n七點開始吃\\n我大概八...   \n",
       "4   如題\\n小魯認識一個女生\\n之前跟她吃火鍋\\n下班吃的\\n\\n\\n\\n七點開始吃\\n我大概八...   \n",
       "4   如題\\n小魯認識一個女生\\n之前跟她吃火鍋\\n下班吃的\\n\\n\\n\\n七點開始吃\\n我大概八...   \n",
       "\n",
       "                                             comments  \n",
       "0   {'tag': '推 ', 'userid': 'mintsnow', 'content':...  \n",
       "0   {'tag': '→ ', 'userid': 'onizuka7kimo', 'conte...  \n",
       "0   {'tag': '推 ', 'userid': 'wl843907', 'content':...  \n",
       "0   {'tag': '推 ', 'userid': 'mind324', 'content': ...  \n",
       "0   {'tag': '推 ', 'userid': 'Alan1988', 'content':...  \n",
       "..                                                ...  \n",
       "4   {'tag': '推 ', 'userid': 'fanfan0113', 'content...  \n",
       "4   {'tag': '推 ', 'userid': 'edc3', 'content': ': ...  \n",
       "4   {'tag': '推 ', 'userid': 'fix78', 'content': ':...  \n",
       "4   {'tag': '→ ', 'userid': 'windgaia', 'content':...  \n",
       "4   {'tag': '推 ', 'userid': 'enemyli', 'content': ...  \n",
       "\n",
       "[1020 rows x 6 columns]"
      ]
     },
     "execution_count": 30,
     "metadata": {},
     "output_type": "execute_result"
    }
   ],
   "source": [
    "pd.DataFrame(all_post).explode('comments')"
   ]
  },
  {
   "cell_type": "markdown",
   "metadata": {},
   "source": [
    "## VII. Saving data"
   ]
  },
  {
   "cell_type": "code",
   "execution_count": 32,
   "metadata": {},
   "outputs": [],
   "source": [
    "import pickle\n",
    "# with open('ptt1092_testing.pkl', 'wb') as fout:  # Python 3: open(..., 'wb')\n",
    "#     pickle.dump(all_post, fout)"
   ]
  },
  {
   "cell_type": "markdown",
   "metadata": {},
   "source": [
    "## VIII. Scraping with Cookies"
   ]
  },
  {
   "cell_type": "code",
   "execution_count": 1,
   "metadata": {},
   "outputs": [
    {
     "name": "stdout",
     "output_type": "stream",
     "text": [
      "<!DOCTYPE html>\n",
      "<html>\n",
      "\t<head>\n",
      "\t\t<meta charset=\"utf-8\">\n",
      "\t\t\n",
      "\n",
      "<meta name=\"viewport\" content=\"width=device-width, initial-scale=1\">\n",
      "\n",
      "<title>批踢踢實業坊</title>\n",
      "\n",
      "<link rel=\"stylesheet\" type=\"text/css\" href=\"//images.ptt.cc/bbs/v2.27/bbs-common.css\">\n",
      "<link rel=\"stylesheet\" type=\"text/css\" href=\"//images.ptt.cc/bbs/v2.27/bbs-base.css\" media=\"screen\">\n",
      "<link rel=\"stylesheet\" type=\"text/css\" href=\"//images.ptt.cc/bbs/v2.27/bbs-custom.css\">\n",
      "<link rel=\"stylesheet\" type=\"text/css\" href=\"//images.ptt.cc/bbs/v2.27/pushstream.css\" media=\"screen\">\n",
      "<link rel=\"stylesheet\" type=\"text/css\" href=\"//images.ptt.cc/bbs/v2.27/bbs-print.css\" media=\"print\">\n",
      "\n",
      "\n",
      "\n",
      "\n",
      "\t</head>\n",
      "    <body>\n",
      "\t\t\n",
      "<div class=\"bbs-screen bbs-content\">\n",
      "    <div class=\"over18-notice\">\n",
      "        <p>本網站已依網站內容分級規定處理</p>\n",
      "\n",
      "        <p>警告︰您即將進入之看板內容需滿十八歲方可瀏覽。</p>\n",
      "\n",
      "        <p>若您尚未年滿十八歲，請點選離開。若您已滿十八歲，亦不可將本區之內容派發、傳閱、出售、出租、交給或借予年齡未滿18歲的人士瀏覽，或將本網站內容向該人士出示、播放或放映。</p>\n",
      "    </div>\n",
      "</div>\n",
      "\n",
      "<div class=\"bbs-screen bbs-content center clear\">\n",
      "    <form action=\"/ask/over18\" method=\"post\">\n",
      "        <input type=\"hidden\" name=\"from\" value=\"/bbs/Gossiping/index.html\">\n",
      "        <div class=\"over18-button-container\">\n",
      "            <button class=\"btn-big\" type=\"submit\" name=\"yes\" value=\"yes\">我同意，我已年滿十八歲<br><small>進入</small></button>\n",
      "        </div>\n",
      "        <div class=\"over18-button-container\">\n",
      "            <button class=\"btn-big\" type=\"submit\" name=\"no\" value=\"no\">未滿十八歲或不同意本條款<br><small>離開</small></button>\n",
      "        </div>\n",
      "    </form>\n",
      "</div>\n",
      "\n",
      "\t\t\n",
      "\n",
      "\n",
      "\n",
      "<script async src=\"https://www.googletagmanager.com/gtag/js?id=G-DZ6Y3BY9GW\"></script>\n",
      "<script>\n",
      "      window.dataLayer = window.dataLayer || [];\n",
      "      function gtag(){dataLayer.push(arguments);}\n",
      "      gtag('js', new Date());\n",
      "\n",
      "      gtag('config', 'G-DZ6Y3BY9GW');\n",
      "</script>\n",
      "<script>\n",
      "  (function(i,s,o,g,r,a,m){i['GoogleAnalyticsObject']=r;i[r]=i[r]||function(){\n",
      "  (i[r].q=i[r].q||[]).push(arguments)},i[r].l=1*new Date();a=s.createElement(o),\n",
      "  m=s.getElementsByTagName(o)[0];a.async=1;a.src=g;m.parentNode.insertBefore(a,m)\n",
      "  })(window,document,'script','https://www.google-analytics.com/analytics.js','ga');\n",
      "\n",
      "  ga('create', 'UA-32365737-1', {\n",
      "    cookieDomain: 'ptt.cc',\n",
      "    legacyCookieDomain: 'ptt.cc'\n",
      "  });\n",
      "  ga('send', 'pageview');\n",
      "</script>\n",
      "\n",
      "\n",
      "\t\t\n",
      "<script src=\"//ajax.googleapis.com/ajax/libs/jquery/2.1.1/jquery.min.js\"></script>\n",
      "<script src=\"//images.ptt.cc/bbs/v2.27/bbs.js\"></script>\n",
      "\n",
      "    <script defer src=\"https://static.cloudflareinsights.com/beacon.min.js/v84a3a4012de94ce1a686ba8c167c359c1696973893317\" integrity=\"sha512-euoFGowhlaLqXsPWQ48qSkBSCFs3DPRyiwVu3FjR96cMPx+Fr+gpWRhIafcHwqwCqWS42RZhIudOvEI+Ckf6MA==\" data-cf-beacon='{\"rayId\":\"81d0e56dba3a2105\",\"version\":\"2023.10.0\",\"r\":1,\"token\":\"515615eb5fab4c9b91a11e9bf529e6cf\",\"b\":1}' crossorigin=\"anonymous\"></script>\n",
      "</body>\n",
      "</html>\n",
      "\n"
     ]
    }
   ],
   "source": [
    "import requests\n",
    "from bs4 import BeautifulSoup\n",
    "\n",
    "url = 'https://www.ptt.cc/bbs/Gossiping/index.html'\n",
    "response = requests.get(url, timeout=(1, 2))\n",
    "print(response.text)"
   ]
  },
  {
   "cell_type": "markdown",
   "metadata": {},
   "source": [
    "### 8.1 Adding cookies"
   ]
  },
  {
   "cell_type": "code",
   "execution_count": 2,
   "metadata": {},
   "outputs": [
    {
     "data": {
      "text/plain": [
       "'<!DOCTYPE html>\\n<html>\\n\\t<head>\\n\\t\\t<meta charset=\"utf-8\">\\n\\t\\t\\n\\n<meta name=\"viewport\" content=\"width=device-width, initial-scale=1\">\\n\\n<title>看板 Gossiping 文章列表 - 批踢踢實業坊</title>\\n\\n<link rel=\"stylesheet\" type=\"text/css\" href=\"//images.ptt.cc/bbs/v2.27/bbs-common.css\">\\n<link rel=\"stylesheet\" type=\"text/css\" href=\"//images.ptt.cc/bbs/v2.27/bbs-base.css\" media=\"screen\">\\n<link rel=\"stylesheet\" type=\"text/css\" href=\"//images.ptt.cc/bbs/v2.27/bbs-custom.css\">\\n<link rel=\"stylesheet\" type=\"text/css\" href=\"//images.ptt.cc/bbs/v2.27/pushstream.css\" media=\"screen\">\\n<link rel=\"stylesheet\" type=\"text/css\" href=\"//images.ptt.cc/bbs/v2.27/bbs-print.css\" media=\"print\">\\n\\n\\n\\n\\n\\t</head>\\n    <body>\\n\\t\\t\\n<div id=\"topbar-container\">\\n\\t<div id=\"topbar\" class=\"bbs-content\">\\n\\t\\t<a id=\"logo\" href=\"/bbs/\">批踢踢實業坊</a>\\n\\t\\t<span>&rsaquo;</span>\\n\\t\\t<a class=\"board\" href=\"/bbs/Gossiping/index.html\"><span class=\"board-label\">看板 </span>Gossiping</a>\\n\\t\\t<a class=\"right small\" href=\"/about.html\">關於我們</a>\\n\\t\\t<a class=\"right small\" href=\"/contact.html\">聯絡資訊</a>\\n\\t</div>\\n</div>\\n\\n<div id=\"main-container\">\\n\\t<div id=\"action-bar-container\">\\n\\t\\t<div class=\"action-bar\">\\n\\t\\t\\t<div class=\"btn-group btn-group-dir\">\\n\\t\\t\\t\\t<a class=\"btn selected\" href=\"/bbs/Gossiping/index.html\">看板</a>\\n\\t\\t\\t\\t<a class=\"btn\" href=\"/man/Gossiping/index.html\">精華區</a>\\n\\t\\t\\t</div>\\n\\t\\t\\t<div class=\"btn-group btn-group-paging\">\\n\\t\\t\\t\\t<a class=\"btn wide\" href=\"/bbs/Gossiping/index1.html\">最舊</a>\\n\\t\\t\\t\\t<a class=\"btn wide\" href=\"/bbs/Gossiping/index39378.html\">&lsaquo; 上頁</a>\\n\\t\\t\\t\\t<a class=\"btn wide disabled\">下頁 &rsaquo;</a>\\n\\t\\t\\t\\t<a class=\"btn wide\" href=\"/bbs/Gossiping/index.html\">最新</a>\\n\\t\\t\\t</div>\\n\\t\\t</div>\\n\\t</div>\\n\\n\\t<div class=\"r-list-container action-bar-margin bbs-screen\">\\n\\t\\t<div class=\"search-bar\">\\n\\t\\t\\t<form type=\"get\" action=\"search\" id=\"search-bar\">\\n\\t\\t\\t\\t<input class=\"query\" type=\"text\" name=\"q\" value=\"\" placeholder=\"搜尋文章&#x22ef;\">\\n\\t\\t\\t</form>\\n\\t\\t</div>\\n\\n\\t\\t\\n\\t\\t\\n            \\n        \\n        \\n\\t\\t<div class=\"r-ent\">\\n\\t\\t\\t<div class=\"nrec\"><span class=\"hl f2\">2</span></div>\\n\\t\\t\\t<div class=\"title\">\\n\\t\\t\\t\\n\\t\\t\\t\\t<a href=\"/bbs/Gossiping/M.1698471864.A.658.html\">[問卦] 台女說今天台北的男生都不理她～？</a>\\n\\t\\t\\t\\n\\t\\t\\t</div>\\n\\t\\t\\t<div class=\"meta\">\\n\\t\\t\\t\\t<div class=\"author\">lw5575</div>\\n\\t\\t\\t\\t<div class=\"article-menu\">\\n\\t\\t\\t\\t\\t\\n\\t\\t\\t\\t\\t<div class=\"trigger\">&#x22ef;</div>\\n\\t\\t\\t\\t\\t<div class=\"dropdown\">\\n\\t\\t\\t\\t\\t\\t<div class=\"item\"><a href=\"/bbs/Gossiping/search?q=thread%3A%5B%E5%95%8F%E5%8D%A6%5D&#43;%E5%8F%B0%E5%A5%B3%E8%AA%AA%E4%BB%8A%E5%A4%A9%E5%8F%B0%E5%8C%97%E7%9A%84%E7%94%B7%E7%94%9F%E9%83%BD%E4%B8%8D%E7%90%86%E5%A5%B9%EF%BD%9E%EF%BC%9F\">搜尋同標題文章</a></div>\\n\\t\\t\\t\\t\\t\\t\\n\\t\\t\\t\\t\\t\\t<div class=\"item\"><a href=\"/bbs/Gossiping/search?q=author%3Alw5575\">搜尋看板內 lw5575 的文章</a></div>\\n\\t\\t\\t\\t\\t\\t\\n\\t\\t\\t\\t\\t</div>\\n\\t\\t\\t\\t\\t\\n\\t\\t\\t\\t</div>\\n\\t\\t\\t\\t<div class=\"date\">10/28</div>\\n\\t\\t\\t\\t<div class=\"mark\"></div>\\n\\t\\t\\t</div>\\n\\t\\t</div>\\n\\n\\t\\t\\n            \\n        \\n        \\n\\t\\t<div class=\"r-ent\">\\n\\t\\t\\t<div class=\"nrec\"><span class=\"hl f2\">1</span></div>\\n\\t\\t\\t<div class=\"title\">\\n\\t\\t\\t\\n\\t\\t\\t\\t<a href=\"/bbs/Gossiping/M.1698471925.A.E01.html\">Re: [新聞]「打仗可以啊！民進黨員站第一線」館長陳</a>\\n\\t\\t\\t\\n\\t\\t\\t</div>\\n\\t\\t\\t<div class=\"meta\">\\n\\t\\t\\t\\t<div class=\"author\">eythans</div>\\n\\t\\t\\t\\t<div class=\"article-menu\">\\n\\t\\t\\t\\t\\t\\n\\t\\t\\t\\t\\t<div class=\"trigger\">&#x22ef;</div>\\n\\t\\t\\t\\t\\t<div class=\"dropdown\">\\n\\t\\t\\t\\t\\t\\t<div class=\"item\"><a href=\"/bbs/Gossiping/search?q=thread%3A%5B%E6%96%B0%E8%81%9E%5D%E3%80%8C%E6%89%93%E4%BB%97%E5%8F%AF%E4%BB%A5%E5%95%8A%EF%BC%81%E6%B0%91%E9%80%B2%E9%BB%A8%E5%93%A1%E7%AB%99%E7%AC%AC%E4%B8%80%E7%B7%9A%E3%80%8D%E9%A4%A8%E9%95%B7%E9%99%B3\">搜尋同標題文章</a></div>\\n\\t\\t\\t\\t\\t\\t\\n\\t\\t\\t\\t\\t\\t<div class=\"item\"><a href=\"/bbs/Gossiping/search?q=author%3Aeythans\">搜尋看板內 eythans 的文章</a></div>\\n\\t\\t\\t\\t\\t\\t\\n\\t\\t\\t\\t\\t</div>\\n\\t\\t\\t\\t\\t\\n\\t\\t\\t\\t</div>\\n\\t\\t\\t\\t<div class=\"date\">10/28</div>\\n\\t\\t\\t\\t<div class=\"mark\"></div>\\n\\t\\t\\t</div>\\n\\t\\t</div>\\n\\n\\t\\t\\n            \\n        \\n        \\n\\t\\t<div class=\"r-ent\">\\n\\t\\t\\t<div class=\"nrec\"><span class=\"hl f3\">12</span></div>\\n\\t\\t\\t<div class=\"title\">\\n\\t\\t\\t\\n\\t\\t\\t\\t<a href=\"/bbs/Gossiping/M.1698472007.A.BEF.html\">[新聞] 陳沂獲不起訴…送鄭家純律師黑菊！律師</a>\\n\\t\\t\\t\\n\\t\\t\\t</div>\\n\\t\\t\\t<div class=\"meta\">\\n\\t\\t\\t\\t<div class=\"author\">Chang0212</div>\\n\\t\\t\\t\\t<div class=\"article-menu\">\\n\\t\\t\\t\\t\\t\\n\\t\\t\\t\\t\\t<div class=\"trigger\">&#x22ef;</div>\\n\\t\\t\\t\\t\\t<div class=\"dropdown\">\\n\\t\\t\\t\\t\\t\\t<div class=\"item\"><a href=\"/bbs/Gossiping/search?q=thread%3A%5B%E6%96%B0%E8%81%9E%5D&#43;%E9%99%B3%E6%B2%82%E7%8D%B2%E4%B8%8D%E8%B5%B7%E8%A8%B4%E2%80%A6%E9%80%81%E9%84%AD%E5%AE%B6%E7%B4%94%E5%BE%8B%E5%B8%AB%E9%BB%91%E8%8F%8A%EF%BC%81%E5%BE%8B%E5%B8%AB\">搜尋同標題文章</a></div>\\n\\t\\t\\t\\t\\t\\t\\n\\t\\t\\t\\t\\t\\t<div class=\"item\"><a href=\"/bbs/Gossiping/search?q=author%3AChang0212\">搜尋看板內 Chang0212 的文章</a></div>\\n\\t\\t\\t\\t\\t\\t\\n\\t\\t\\t\\t\\t</div>\\n\\t\\t\\t\\t\\t\\n\\t\\t\\t\\t</div>\\n\\t\\t\\t\\t<div class=\"date\">10/28</div>\\n\\t\\t\\t\\t<div class=\"mark\"></div>\\n\\t\\t\\t</div>\\n\\t\\t</div>\\n\\n\\t\\t\\n            \\n        \\n        \\n\\t\\t<div class=\"r-ent\">\\n\\t\\t\\t<div class=\"nrec\"></div>\\n\\t\\t\\t<div class=\"title\">\\n\\t\\t\\t\\n\\t\\t\\t\\t<a href=\"/bbs/Gossiping/M.1698472136.A.AFA.html\">Re: [新聞] 中國西藏建寄宿學校強制漢化 藏人憂失去</a>\\n\\t\\t\\t\\n\\t\\t\\t</div>\\n\\t\\t\\t<div class=\"meta\">\\n\\t\\t\\t\\t<div class=\"author\">longyin</div>\\n\\t\\t\\t\\t<div class=\"article-menu\">\\n\\t\\t\\t\\t\\t\\n\\t\\t\\t\\t\\t<div class=\"trigger\">&#x22ef;</div>\\n\\t\\t\\t\\t\\t<div class=\"dropdown\">\\n\\t\\t\\t\\t\\t\\t<div class=\"item\"><a href=\"/bbs/Gossiping/search?q=thread%3A%5B%E6%96%B0%E8%81%9E%5D&#43;%E4%B8%AD%E5%9C%8B%E8%A5%BF%E8%97%8F%E5%BB%BA%E5%AF%84%E5%AE%BF%E5%AD%B8%E6%A0%A1%E5%BC%B7%E5%88%B6%E6%BC%A2%E5%8C%96&#43;%E8%97%8F%E4%BA%BA%E6%86%82%E5%A4%B1%E5%8E%BB\">搜尋同標題文章</a></div>\\n\\t\\t\\t\\t\\t\\t\\n\\t\\t\\t\\t\\t\\t<div class=\"item\"><a href=\"/bbs/Gossiping/search?q=author%3Alongyin\">搜尋看板內 longyin 的文章</a></div>\\n\\t\\t\\t\\t\\t\\t\\n\\t\\t\\t\\t\\t</div>\\n\\t\\t\\t\\t\\t\\n\\t\\t\\t\\t</div>\\n\\t\\t\\t\\t<div class=\"date\">10/28</div>\\n\\t\\t\\t\\t<div class=\"mark\"></div>\\n\\t\\t\\t</div>\\n\\t\\t</div>\\n\\n\\t\\t\\n            \\n        \\n        \\n\\t\\t<div class=\"r-ent\">\\n\\t\\t\\t<div class=\"nrec\"></div>\\n\\t\\t\\t<div class=\"title\">\\n\\t\\t\\t\\n\\t\\t\\t\\t<a href=\"/bbs/Gossiping/M.1698472155.A.A5D.html\">[問卦] 陸配的選舉權？</a>\\n\\t\\t\\t\\n\\t\\t\\t</div>\\n\\t\\t\\t<div class=\"meta\">\\n\\t\\t\\t\\t<div class=\"author\">Nick87061319</div>\\n\\t\\t\\t\\t<div class=\"article-menu\">\\n\\t\\t\\t\\t\\t\\n\\t\\t\\t\\t\\t<div class=\"trigger\">&#x22ef;</div>\\n\\t\\t\\t\\t\\t<div class=\"dropdown\">\\n\\t\\t\\t\\t\\t\\t<div class=\"item\"><a href=\"/bbs/Gossiping/search?q=thread%3A%5B%E5%95%8F%E5%8D%A6%5D&#43;%E9%99%B8%E9%85%8D%E7%9A%84%E9%81%B8%E8%88%89%E6%AC%8A%EF%BC%9F\">搜尋同標題文章</a></div>\\n\\t\\t\\t\\t\\t\\t\\n\\t\\t\\t\\t\\t\\t<div class=\"item\"><a href=\"/bbs/Gossiping/search?q=author%3ANick87061319\">搜尋看板內 Nick87061319 的文章</a></div>\\n\\t\\t\\t\\t\\t\\t\\n\\t\\t\\t\\t\\t</div>\\n\\t\\t\\t\\t\\t\\n\\t\\t\\t\\t</div>\\n\\t\\t\\t\\t<div class=\"date\">10/28</div>\\n\\t\\t\\t\\t<div class=\"mark\"></div>\\n\\t\\t\\t</div>\\n\\t\\t</div>\\n\\n\\t\\t\\n        \\n        <div class=\"r-list-sep\"></div>\\n            \\n                \\n        \\n        \\n\\t\\t<div class=\"r-ent\">\\n\\t\\t\\t<div class=\"nrec\"></div>\\n\\t\\t\\t<div class=\"title\">\\n\\t\\t\\t\\n\\t\\t\\t\\t<a href=\"/bbs/Gossiping/M.1694428619.A.DBA.html\">[公告] 八卦板板規(2023.09.11)</a>\\n\\t\\t\\t\\n\\t\\t\\t</div>\\n\\t\\t\\t<div class=\"meta\">\\n\\t\\t\\t\\t<div class=\"author\">lwt501cx</div>\\n\\t\\t\\t\\t<div class=\"article-menu\">\\n\\t\\t\\t\\t\\t\\n\\t\\t\\t\\t\\t<div class=\"trigger\">&#x22ef;</div>\\n\\t\\t\\t\\t\\t<div class=\"dropdown\">\\n\\t\\t\\t\\t\\t\\t<div class=\"item\"><a href=\"/bbs/Gossiping/search?q=thread%3A%5B%E5%85%AC%E5%91%8A%5D&#43;%E5%85%AB%E5%8D%A6%E6%9D%BF%E6%9D%BF%E8%A6%8F%282023.09.11%29\">搜尋同標題文章</a></div>\\n\\t\\t\\t\\t\\t\\t\\n\\t\\t\\t\\t\\t\\t<div class=\"item\"><a href=\"/bbs/Gossiping/search?q=author%3Alwt501cx\">搜尋看板內 lwt501cx 的文章</a></div>\\n\\t\\t\\t\\t\\t\\t\\n\\t\\t\\t\\t\\t</div>\\n\\t\\t\\t\\t\\t\\n\\t\\t\\t\\t</div>\\n\\t\\t\\t\\t<div class=\"date\"> 9/11</div>\\n\\t\\t\\t\\t<div class=\"mark\">!</div>\\n\\t\\t\\t</div>\\n\\t\\t</div>\\n\\n            \\n                \\n        \\n        \\n\\t\\t<div class=\"r-ent\">\\n\\t\\t\\t<div class=\"nrec\"><span class=\"hl f3\">52</span></div>\\n\\t\\t\\t<div class=\"title\">\\n\\t\\t\\t\\n\\t\\t\\t\\t<a href=\"/bbs/Gossiping/M.1697705608.A.A7A.html\">[協尋] 長輩憂鬱開車離家</a>\\n\\t\\t\\t\\n\\t\\t\\t</div>\\n\\t\\t\\t<div class=\"meta\">\\n\\t\\t\\t\\t<div class=\"author\">xup6gjcjo4</div>\\n\\t\\t\\t\\t<div class=\"article-menu\">\\n\\t\\t\\t\\t\\t\\n\\t\\t\\t\\t\\t<div class=\"trigger\">&#x22ef;</div>\\n\\t\\t\\t\\t\\t<div class=\"dropdown\">\\n\\t\\t\\t\\t\\t\\t<div class=\"item\"><a href=\"/bbs/Gossiping/search?q=thread%3A%5B%E5%8D%94%E5%B0%8B%5D&#43;%E9%95%B7%E8%BC%A9%E6%86%82%E9%AC%B1%E9%96%8B%E8%BB%8A%E9%9B%A2%E5%AE%B6\">搜尋同標題文章</a></div>\\n\\t\\t\\t\\t\\t\\t\\n\\t\\t\\t\\t\\t\\t<div class=\"item\"><a href=\"/bbs/Gossiping/search?q=author%3Axup6gjcjo4\">搜尋看板內 xup6gjcjo4 的文章</a></div>\\n\\t\\t\\t\\t\\t\\t\\n\\t\\t\\t\\t\\t</div>\\n\\t\\t\\t\\t\\t\\n\\t\\t\\t\\t</div>\\n\\t\\t\\t\\t<div class=\"date\">10/19</div>\\n\\t\\t\\t\\t<div class=\"mark\"></div>\\n\\t\\t\\t</div>\\n\\t\\t</div>\\n\\n            \\n                \\n        \\n        \\n\\t\\t<div class=\"r-ent\">\\n\\t\\t\\t<div class=\"nrec\"><span class=\"hl f3\">29</span></div>\\n\\t\\t\\t<div class=\"title\">\\n\\t\\t\\t\\n\\t\\t\\t\\t<a href=\"/bbs/Gossiping/M.1698059216.A.7CA.html\">[公告] 八卦板板主候選名單暨投票獎勵</a>\\n\\t\\t\\t\\n\\t\\t\\t</div>\\n\\t\\t\\t<div class=\"meta\">\\n\\t\\t\\t\\t<div class=\"author\">lwt501cx</div>\\n\\t\\t\\t\\t<div class=\"article-menu\">\\n\\t\\t\\t\\t\\t\\n\\t\\t\\t\\t\\t<div class=\"trigger\">&#x22ef;</div>\\n\\t\\t\\t\\t\\t<div class=\"dropdown\">\\n\\t\\t\\t\\t\\t\\t<div class=\"item\"><a href=\"/bbs/Gossiping/search?q=thread%3A%5B%E5%85%AC%E5%91%8A%5D&#43;%E5%85%AB%E5%8D%A6%E6%9D%BF%E6%9D%BF%E4%B8%BB%E5%80%99%E9%81%B8%E5%90%8D%E5%96%AE%E6%9A%A8%E6%8A%95%E7%A5%A8%E7%8D%8E%E5%8B%B5\">搜尋同標題文章</a></div>\\n\\t\\t\\t\\t\\t\\t\\n\\t\\t\\t\\t\\t\\t<div class=\"item\"><a href=\"/bbs/Gossiping/search?q=author%3Alwt501cx\">搜尋看板內 lwt501cx 的文章</a></div>\\n\\t\\t\\t\\t\\t\\t\\n\\t\\t\\t\\t\\t</div>\\n\\t\\t\\t\\t\\t\\n\\t\\t\\t\\t</div>\\n\\t\\t\\t\\t<div class=\"date\">10/23</div>\\n\\t\\t\\t\\t<div class=\"mark\"></div>\\n\\t\\t\\t</div>\\n\\t\\t</div>\\n\\n            \\n                \\n        \\n        \\n\\t\\t<div class=\"r-ent\">\\n\\t\\t\\t<div class=\"nrec\"><span class=\"hl f2\">5</span></div>\\n\\t\\t\\t<div class=\"title\">\\n\\t\\t\\t\\n\\t\\t\\t\\t<a href=\"/bbs/Gossiping/M.1697930406.A.ADB.html\">[協尋] 10/20 20:40湖口鄉行車記錄器</a>\\n\\t\\t\\t\\n\\t\\t\\t</div>\\n\\t\\t\\t<div class=\"meta\">\\n\\t\\t\\t\\t<div class=\"author\">x193hql</div>\\n\\t\\t\\t\\t<div class=\"article-menu\">\\n\\t\\t\\t\\t\\t\\n\\t\\t\\t\\t\\t<div class=\"trigger\">&#x22ef;</div>\\n\\t\\t\\t\\t\\t<div class=\"dropdown\">\\n\\t\\t\\t\\t\\t\\t<div class=\"item\"><a href=\"/bbs/Gossiping/search?q=thread%3A%5B%E5%8D%94%E5%B0%8B%5D&#43;10%2F20&#43;20%3A40%E6%B9%96%E5%8F%A3%E9%84%89%E8%A1%8C%E8%BB%8A%E8%A8%98%E9%8C%84%E5%99%A8\">搜尋同標題文章</a></div>\\n\\t\\t\\t\\t\\t\\t\\n\\t\\t\\t\\t\\t\\t<div class=\"item\"><a href=\"/bbs/Gossiping/search?q=author%3Ax193hql\">搜尋看板內 x193hql 的文章</a></div>\\n\\t\\t\\t\\t\\t\\t\\n\\t\\t\\t\\t\\t</div>\\n\\t\\t\\t\\t\\t\\n\\t\\t\\t\\t</div>\\n\\t\\t\\t\\t<div class=\"date\">10/22</div>\\n\\t\\t\\t\\t<div class=\"mark\"></div>\\n\\t\\t\\t</div>\\n\\t\\t</div>\\n\\n            \\n                \\n        \\n        \\n\\t\\t<div class=\"r-ent\">\\n\\t\\t\\t<div class=\"nrec\"><span class=\"hl f3\">42</span></div>\\n\\t\\t\\t<div class=\"title\">\\n\\t\\t\\t\\n\\t\\t\\t\\t<a href=\"/bbs/Gossiping/M.1698230028.A.084.html\">[公告] Pitt手機投票教學</a>\\n\\t\\t\\t\\n\\t\\t\\t</div>\\n\\t\\t\\t<div class=\"meta\">\\n\\t\\t\\t\\t<div class=\"author\">lwt501cx</div>\\n\\t\\t\\t\\t<div class=\"article-menu\">\\n\\t\\t\\t\\t\\t\\n\\t\\t\\t\\t\\t<div class=\"trigger\">&#x22ef;</div>\\n\\t\\t\\t\\t\\t<div class=\"dropdown\">\\n\\t\\t\\t\\t\\t\\t<div class=\"item\"><a href=\"/bbs/Gossiping/search?q=thread%3A%5B%E5%85%AC%E5%91%8A%5D&#43;Pitt%E6%89%8B%E6%A9%9F%E6%8A%95%E7%A5%A8%E6%95%99%E5%AD%B8\">搜尋同標題文章</a></div>\\n\\t\\t\\t\\t\\t\\t\\n\\t\\t\\t\\t\\t\\t<div class=\"item\"><a href=\"/bbs/Gossiping/search?q=author%3Alwt501cx\">搜尋看板內 lwt501cx 的文章</a></div>\\n\\t\\t\\t\\t\\t\\t\\n\\t\\t\\t\\t\\t</div>\\n\\t\\t\\t\\t\\t\\n\\t\\t\\t\\t</div>\\n\\t\\t\\t\\t<div class=\"date\">10/25</div>\\n\\t\\t\\t\\t<div class=\"mark\">M</div>\\n\\t\\t\\t</div>\\n\\t\\t</div>\\n\\n            \\n        \\n\\t</div>\\n\\n    \\n<div class=\"bbs-screen bbs-footer-message\">本網站已依台灣網站內容分級規定處理。此區域為限制級，未滿十八歲者不得瀏覽。</div>\\n\\n</div>\\n\\n\\t\\t\\n\\n\\n\\n<script async src=\"https://www.googletagmanager.com/gtag/js?id=G-DZ6Y3BY9GW\"></script>\\n<script>\\n      window.dataLayer = window.dataLayer || [];\\n      function gtag(){dataLayer.push(arguments);}\\n      gtag(\\'js\\', new Date());\\n\\n      gtag(\\'config\\', \\'G-DZ6Y3BY9GW\\');\\n</script>\\n<script>\\n  (function(i,s,o,g,r,a,m){i[\\'GoogleAnalyticsObject\\']=r;i[r]=i[r]||function(){\\n  (i[r].q=i[r].q||[]).push(arguments)},i[r].l=1*new Date();a=s.createElement(o),\\n  m=s.getElementsByTagName(o)[0];a.async=1;a.src=g;m.parentNode.insertBefore(a,m)\\n  })(window,document,\\'script\\',\\'https://www.google-analytics.com/analytics.js\\',\\'ga\\');\\n\\n  ga(\\'create\\', \\'UA-32365737-1\\', {\\n    cookieDomain: \\'ptt.cc\\',\\n    legacyCookieDomain: \\'ptt.cc\\'\\n  });\\n  ga(\\'send\\', \\'pageview\\');\\n</script>\\n\\n\\n\\t\\t\\n<script src=\"//ajax.googleapis.com/ajax/libs/jquery/2.1.1/jquery.min.js\"></script>\\n<script src=\"//images.ptt.cc/bbs/v2.27/bbs.js\"></script>\\n\\n    <script defer src=\"https://static.cloudflareinsights.com/beacon.min.js/v84a3a4012de94ce1a686ba8c167c359c1696973893317\" integrity=\"sha512-euoFGowhlaLqXsPWQ48qSkBSCFs3DPRyiwVu3FjR96cMPx+Fr+gpWRhIafcHwqwCqWS42RZhIudOvEI+Ckf6MA==\" data-cf-beacon=\\'{\"rayId\":\"81d0e594afb66e4f\",\"version\":\"2023.10.0\",\"r\":1,\"token\":\"515615eb5fab4c9b91a11e9bf529e6cf\",\"b\":1}\\' crossorigin=\"anonymous\"></script>\\n</body>\\n</html>\\n'"
      ]
     },
     "execution_count": 2,
     "metadata": {},
     "output_type": "execute_result"
    }
   ],
   "source": [
    "cookies = {'over18': '1'}\n",
    "res = requests.get(url, timeout=(1, 2), cookies = cookies)\n",
    "res.text"
   ]
  },
  {
   "cell_type": "code",
   "execution_count": null,
   "metadata": {},
   "outputs": [],
   "source": []
  }
 ],
 "metadata": {
  "kernelspec": {
   "display_name": "Python 3 (ipykernel)",
   "language": "python",
   "name": "python3"
  },
  "language_info": {
   "codemirror_mode": {
    "name": "ipython",
    "version": 3
   },
   "file_extension": ".py",
   "mimetype": "text/x-python",
   "name": "python",
   "nbconvert_exporter": "python",
   "pygments_lexer": "ipython3",
   "version": "3.9.12"
  },
  "toc": {
   "base_numbering": 1,
   "nav_menu": {},
   "number_sections": true,
   "sideBar": true,
   "skip_h1_title": false,
   "title_cell": "Table of Contents",
   "title_sidebar": "Contents",
   "toc_cell": false,
   "toc_position": {
    "height": "calc(100% - 180px)",
    "left": "10px",
    "top": "150px",
    "width": "375px"
   },
   "toc_section_display": true,
   "toc_window_display": true
  },
  "toc-autonumbering": false
 },
 "nbformat": 4,
 "nbformat_minor": 4
}
