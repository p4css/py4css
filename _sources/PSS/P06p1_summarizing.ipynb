{
 "cells": [
  {
   "cell_type": "markdown",
   "metadata": {
    "id": "QCxvR9MfB4xl"
   },
   "source": [
    "# Pandas: Counting and Summarizing\n",
    "\n",
    "這個章節將更系統化地用實際案例來介紹，\n",
    "1. Reading files: `pd.read_csv('data.csv')`或讀取JSON `pd.read_json('data.json')`\n",
    "2. Filtering data: Slicing data `df[0:10]`、Selecting data `df['col1']`、Filtering data `df[df['col1'] > 0]`\n",
    "3. Mutating a new variable(on column), Observing a variable, Changing data type\n",
    "4. Summarizing data (group by columns): `df.groupby('col1').mean()`\n",
    "5. Arranging (Sorting) data: `df.sort_values(by = 'col1')`\n",
    "6.  Concatenating data: `pd.concat([df1, df2])`"
   ]
  },
  {
   "cell_type": "markdown",
   "metadata": {},
   "source": [
    "## P1. Read data\n",
    "\n",
    "### 1.1 Read CSV: 違規藥品廣告\n",
    "\n",
    "違規藥品廣告資料集 https://data.nat.gov.tw/dataset/14196"
   ]
  },
  {
   "cell_type": "code",
   "execution_count": 2,
   "metadata": {},
   "outputs": [
    {
     "data": {
      "text/html": [
       "<div>\n",
       "<style scoped>\n",
       "    .dataframe tbody tr th:only-of-type {\n",
       "        vertical-align: middle;\n",
       "    }\n",
       "\n",
       "    .dataframe tbody tr th {\n",
       "        vertical-align: top;\n",
       "    }\n",
       "\n",
       "    .dataframe thead th {\n",
       "        text-align: right;\n",
       "    }\n",
       "</style>\n",
       "<table border=\"1\" class=\"dataframe\">\n",
       "  <thead>\n",
       "    <tr style=\"text-align: right;\">\n",
       "      <th></th>\n",
       "      <th>違規產品名稱</th>\n",
       "      <th>違規廠商名稱或負責人</th>\n",
       "      <th>處分機關</th>\n",
       "      <th>處分日期</th>\n",
       "      <th>處分法條</th>\n",
       "      <th>違規情節</th>\n",
       "      <th>刊播日期</th>\n",
       "      <th>刊播媒體類別</th>\n",
       "      <th>刊播媒體</th>\n",
       "      <th>查處情形</th>\n",
       "    </tr>\n",
       "  </thead>\n",
       "  <tbody>\n",
       "    <tr>\n",
       "      <th>0</th>\n",
       "      <td>維他肝</td>\n",
       "      <td>豐怡生化科技股份有限公司/朱O</td>\n",
       "      <td>NaN</td>\n",
       "      <td>03 31 2022 12:00AM</td>\n",
       "      <td>NaN</td>\n",
       "      <td>廣告內容誇大不實</td>\n",
       "      <td>02 2 2022 12:00AM</td>\n",
       "      <td>廣播電台</td>\n",
       "      <td>噶瑪蘭廣播電台股份有限公司</td>\n",
       "      <td>NaN</td>\n",
       "    </tr>\n",
       "    <tr>\n",
       "      <th>1</th>\n",
       "      <td>現貨澳洲Swisse ULTIBOOST維他命D片calcium vitamin VITAM...</td>\n",
       "      <td>張O雯/張O雯</td>\n",
       "      <td>NaN</td>\n",
       "      <td>01 21 2022 12:00AM</td>\n",
       "      <td>NaN</td>\n",
       "      <td>廣告違規</td>\n",
       "      <td>11 30 2021 12:00AM</td>\n",
       "      <td>網路</td>\n",
       "      <td>蝦皮購物</td>\n",
       "      <td>輔導結案</td>\n",
       "    </tr>\n",
       "    <tr>\n",
       "      <th>2</th>\n",
       "      <td>✈日本 代購 參天製藥 處方簽點眼液</td>\n",
       "      <td>蘇O涵/蘇O涵</td>\n",
       "      <td>NaN</td>\n",
       "      <td>01 25 2022 12:00AM</td>\n",
       "      <td>NaN</td>\n",
       "      <td>無照藥商</td>\n",
       "      <td>08 27 2021 12:00AM</td>\n",
       "      <td>網路</td>\n",
       "      <td>蝦皮購物</td>\n",
       "      <td>NaN</td>\n",
       "    </tr>\n",
       "    <tr>\n",
       "      <th>3</th>\n",
       "      <td>✈日本 代購 TSUMURA 中將湯 24天包裝</td>\n",
       "      <td>蘇O涵/蘇O涵</td>\n",
       "      <td>NaN</td>\n",
       "      <td>01 25 2022 12:00AM</td>\n",
       "      <td>NaN</td>\n",
       "      <td>無照藥商</td>\n",
       "      <td>08 27 2021 12:00AM</td>\n",
       "      <td>網路</td>\n",
       "      <td>蝦皮購物</td>\n",
       "      <td>輔導結案</td>\n",
       "    </tr>\n",
       "    <tr>\n",
       "      <th>4</th>\n",
       "      <td>_Salty.shop 日本代購 樂敦小花</td>\n",
       "      <td>曾O嫺/曾O嫺</td>\n",
       "      <td>NaN</td>\n",
       "      <td>02 17 2022 12:00AM</td>\n",
       "      <td>藥事法第27條</td>\n",
       "      <td>無照藥商</td>\n",
       "      <td>12 6 2021 12:00AM</td>\n",
       "      <td>網路</td>\n",
       "      <td>蝦皮購物</td>\n",
       "      <td>處分結案</td>\n",
       "    </tr>\n",
       "  </tbody>\n",
       "</table>\n",
       "</div>"
      ],
      "text/plain": [
       "                                              違規產品名稱       違規廠商名稱或負責人 處分機關  \\\n",
       "0                                                維他肝  豐怡生化科技股份有限公司/朱O  NaN   \n",
       "1  現貨澳洲Swisse ULTIBOOST維他命D片calcium vitamin VITAM...          張O雯/張O雯  NaN   \n",
       "2                                 ✈日本 代購 參天製藥 處方簽點眼液          蘇O涵/蘇O涵  NaN   \n",
       "3                           ✈日本 代購 TSUMURA 中將湯 24天包裝          蘇O涵/蘇O涵  NaN   \n",
       "4                              _Salty.shop 日本代購 樂敦小花          曾O嫺/曾O嫺  NaN   \n",
       "\n",
       "                 處分日期     處分法條      違規情節                刊播日期 刊播媒體類別  \\\n",
       "0  03 31 2022 12:00AM      NaN  廣告內容誇大不實   02 2 2022 12:00AM   廣播電台   \n",
       "1  01 21 2022 12:00AM      NaN      廣告違規  11 30 2021 12:00AM     網路   \n",
       "2  01 25 2022 12:00AM      NaN      無照藥商  08 27 2021 12:00AM     網路   \n",
       "3  01 25 2022 12:00AM      NaN      無照藥商  08 27 2021 12:00AM     網路   \n",
       "4  02 17 2022 12:00AM  藥事法第27條      無照藥商   12 6 2021 12:00AM     網路   \n",
       "\n",
       "            刊播媒體  查處情形  \n",
       "0  噶瑪蘭廣播電台股份有限公司   NaN  \n",
       "1           蝦皮購物  輔導結案  \n",
       "2           蝦皮購物   NaN  \n",
       "3           蝦皮購物  輔導結案  \n",
       "4           蝦皮購物  處分結案  "
      ]
     },
     "execution_count": 2,
     "metadata": {},
     "output_type": "execute_result"
    }
   ],
   "source": [
    "import pandas as pd\n",
    "drug_df = pd.read_csv('https://raw.githubusercontent.com/p4css/py4css/main/data/drug_156_2.csv')\n",
    "# drug_df\n",
    "drug_df.head()"
   ]
  },
  {
   "cell_type": "code",
   "execution_count": 3,
   "metadata": {},
   "outputs": [
    {
     "name": "stdout",
     "output_type": "stream",
     "text": [
      "Counter\t drug_df\t pd\t \n"
     ]
    }
   ],
   "source": [
    "# `%who` is a magic command that lists all variables of the current session\n",
    "%who"
   ]
  },
  {
   "cell_type": "markdown",
   "metadata": {},
   "source": [
    "### 1.2 Display and rename columns\n",
    "\n",
    "1. 要大概觀察DataFrame的內容，我們可以使用`.head()`方法。這個方法將預設顯示DataFrame的前5行資料，以便我們快速查看資料的結構和內容。\n",
    "2. 有時候，我們可能想要更改DataFrame中欄位的名稱，以使其更具描述性或符合我們的需求。可以像下面一樣直接將所有新欄位名稱傳遞給`.columns`屬性，或者使用`.rename()`方法來將舊欄位名稱映射到新欄位名稱。例如`df.rename(columns={'Name': 'Full Name', 'Age': 'Years Old'}, inplace=True)`"
   ]
  },
  {
   "cell_type": "code",
   "execution_count": 4,
   "metadata": {},
   "outputs": [
    {
     "data": {
      "text/plain": [
       "Index(['違規產品名稱', '違規廠商名稱或負責人', '處分機關', '處分日期', '處分法條', '違規情節', '刊播日期',\n",
       "       '刊播媒體類別', '刊播媒體', '查處情形'],\n",
       "      dtype='object')"
      ]
     },
     "execution_count": 4,
     "metadata": {},
     "output_type": "execute_result"
    }
   ],
   "source": [
    "# Check all variables of the dataframe\n",
    "drug_df.columns"
   ]
  },
  {
   "cell_type": "code",
   "execution_count": 5,
   "metadata": {},
   "outputs": [
    {
     "data": {
      "text/html": [
       "<div>\n",
       "<style scoped>\n",
       "    .dataframe tbody tr th:only-of-type {\n",
       "        vertical-align: middle;\n",
       "    }\n",
       "\n",
       "    .dataframe tbody tr th {\n",
       "        vertical-align: top;\n",
       "    }\n",
       "\n",
       "    .dataframe thead th {\n",
       "        text-align: right;\n",
       "    }\n",
       "</style>\n",
       "<table border=\"1\" class=\"dataframe\">\n",
       "  <thead>\n",
       "    <tr style=\"text-align: right;\">\n",
       "      <th></th>\n",
       "      <th>pname</th>\n",
       "      <th>cname</th>\n",
       "      <th>agency</th>\n",
       "      <th>issuedate</th>\n",
       "      <th>law</th>\n",
       "      <th>fact</th>\n",
       "      <th>pubDate</th>\n",
       "      <th>pubMediaType</th>\n",
       "      <th>pubMedia</th>\n",
       "      <th>trace</th>\n",
       "    </tr>\n",
       "  </thead>\n",
       "  <tbody>\n",
       "    <tr>\n",
       "      <th>0</th>\n",
       "      <td>維他肝</td>\n",
       "      <td>豐怡生化科技股份有限公司/朱O</td>\n",
       "      <td>NaN</td>\n",
       "      <td>03 31 2022 12:00AM</td>\n",
       "      <td>NaN</td>\n",
       "      <td>廣告內容誇大不實</td>\n",
       "      <td>02 2 2022 12:00AM</td>\n",
       "      <td>廣播電台</td>\n",
       "      <td>噶瑪蘭廣播電台股份有限公司</td>\n",
       "      <td>NaN</td>\n",
       "    </tr>\n",
       "    <tr>\n",
       "      <th>1</th>\n",
       "      <td>現貨澳洲Swisse ULTIBOOST維他命D片calcium vitamin VITAM...</td>\n",
       "      <td>張O雯/張O雯</td>\n",
       "      <td>NaN</td>\n",
       "      <td>01 21 2022 12:00AM</td>\n",
       "      <td>NaN</td>\n",
       "      <td>廣告違規</td>\n",
       "      <td>11 30 2021 12:00AM</td>\n",
       "      <td>網路</td>\n",
       "      <td>蝦皮購物</td>\n",
       "      <td>輔導結案</td>\n",
       "    </tr>\n",
       "    <tr>\n",
       "      <th>2</th>\n",
       "      <td>✈日本 代購 參天製藥 處方簽點眼液</td>\n",
       "      <td>蘇O涵/蘇O涵</td>\n",
       "      <td>NaN</td>\n",
       "      <td>01 25 2022 12:00AM</td>\n",
       "      <td>NaN</td>\n",
       "      <td>無照藥商</td>\n",
       "      <td>08 27 2021 12:00AM</td>\n",
       "      <td>網路</td>\n",
       "      <td>蝦皮購物</td>\n",
       "      <td>NaN</td>\n",
       "    </tr>\n",
       "    <tr>\n",
       "      <th>3</th>\n",
       "      <td>✈日本 代購 TSUMURA 中將湯 24天包裝</td>\n",
       "      <td>蘇O涵/蘇O涵</td>\n",
       "      <td>NaN</td>\n",
       "      <td>01 25 2022 12:00AM</td>\n",
       "      <td>NaN</td>\n",
       "      <td>無照藥商</td>\n",
       "      <td>08 27 2021 12:00AM</td>\n",
       "      <td>網路</td>\n",
       "      <td>蝦皮購物</td>\n",
       "      <td>輔導結案</td>\n",
       "    </tr>\n",
       "    <tr>\n",
       "      <th>4</th>\n",
       "      <td>_Salty.shop 日本代購 樂敦小花</td>\n",
       "      <td>曾O嫺/曾O嫺</td>\n",
       "      <td>NaN</td>\n",
       "      <td>02 17 2022 12:00AM</td>\n",
       "      <td>藥事法第27條</td>\n",
       "      <td>無照藥商</td>\n",
       "      <td>12 6 2021 12:00AM</td>\n",
       "      <td>網路</td>\n",
       "      <td>蝦皮購物</td>\n",
       "      <td>處分結案</td>\n",
       "    </tr>\n",
       "  </tbody>\n",
       "</table>\n",
       "</div>"
      ],
      "text/plain": [
       "                                               pname            cname agency  \\\n",
       "0                                                維他肝  豐怡生化科技股份有限公司/朱O    NaN   \n",
       "1  現貨澳洲Swisse ULTIBOOST維他命D片calcium vitamin VITAM...          張O雯/張O雯    NaN   \n",
       "2                                 ✈日本 代購 參天製藥 處方簽點眼液          蘇O涵/蘇O涵    NaN   \n",
       "3                           ✈日本 代購 TSUMURA 中將湯 24天包裝          蘇O涵/蘇O涵    NaN   \n",
       "4                              _Salty.shop 日本代購 樂敦小花          曾O嫺/曾O嫺    NaN   \n",
       "\n",
       "            issuedate      law      fact             pubDate pubMediaType  \\\n",
       "0  03 31 2022 12:00AM      NaN  廣告內容誇大不實   02 2 2022 12:00AM         廣播電台   \n",
       "1  01 21 2022 12:00AM      NaN      廣告違規  11 30 2021 12:00AM           網路   \n",
       "2  01 25 2022 12:00AM      NaN      無照藥商  08 27 2021 12:00AM           網路   \n",
       "3  01 25 2022 12:00AM      NaN      無照藥商  08 27 2021 12:00AM           網路   \n",
       "4  02 17 2022 12:00AM  藥事法第27條      無照藥商   12 6 2021 12:00AM           網路   \n",
       "\n",
       "        pubMedia trace  \n",
       "0  噶瑪蘭廣播電台股份有限公司   NaN  \n",
       "1           蝦皮購物  輔導結案  \n",
       "2           蝦皮購物   NaN  \n",
       "3           蝦皮購物  輔導結案  \n",
       "4           蝦皮購物  處分結案  "
      ]
     },
     "execution_count": 5,
     "metadata": {},
     "output_type": "execute_result"
    }
   ],
   "source": [
    "drug_df.columns = [\n",
    "    'pname', 'cname', 'agency', 'issuedate', 'law', 'fact', \n",
    "    'pubDate', 'pubMediaType', 'pubMedia', 'trace']\n",
    "drug_df.columns\n",
    "drug_df.head()"
   ]
  },
  {
   "cell_type": "markdown",
   "metadata": {},
   "source": [
    "### 1.3 Pandas series\n",
    "\n",
    "Pandas Series 是一種一維陣列結構，用於存儲同類型的資料，並且每個資料點都有一個與之相關聯的索引。與 Python 的原生 list 不同，Pandas Series 提供了更豐富的功能和操作，包括但不限於資料對齊、切片、過濾以及集成的描述性統計方法。除了這些，Pandas Series 支援更多複雜的資料類型，並且能夠更高效地進行向量化操作。簡而言之，雖然 Pandas Series 和 list 都可以用於存儲一維資料，但 Series 提供了更多專為數據分析而設計的功能和優化。"
   ]
  },
  {
   "cell_type": "code",
   "execution_count": 6,
   "metadata": {},
   "outputs": [
    {
     "name": "stdout",
     "output_type": "stream",
     "text": [
      "<class 'pandas.core.series.Series'>\n",
      "<class 'list'>\n"
     ]
    },
    {
     "data": {
      "text/plain": [
       "0       廣播電台\n",
       "1         網路\n",
       "2         網路\n",
       "3         網路\n",
       "4         網路\n",
       "        ... \n",
       "2967      網路\n",
       "2968      網路\n",
       "2969      網路\n",
       "2970      網路\n",
       "2971      網路\n",
       "Name: pubMediaType, Length: 2972, dtype: object"
      ]
     },
     "execution_count": 6,
     "metadata": {},
     "output_type": "execute_result"
    }
   ],
   "source": [
    "print(type(drug_df.pubMediaType))\n",
    "pubMediaType = list(drug_df.pubMediaType)\n",
    "print(type(pubMediaType))\n",
    "\n",
    "drug_df.pubMediaType\n",
    "# print(set(drug_df.pubMediaType))\n",
    "# drug_df"
   ]
  },
  {
   "cell_type": "markdown",
   "metadata": {},
   "source": [
    "### 1.4 Counting\n",
    "\n",
    "接下來希望計算一下每個廣告類型`pubMediaType`的數量，以便我們可以了解哪些類型的廣告最多。\n",
    "\n",
    "過去我們會用`collections`套件的`Counter`方法來計算。但是現在我們可以使用`.value_counts()`方法來計算每個類型的廣告數量。這個方法將返回一個包含每個類型廣告數量的 Pandas Series，其中索引是廣告類型，值是廣告數量。"
   ]
  },
  {
   "cell_type": "code",
   "execution_count": 7,
   "metadata": {
    "ExecuteTime": {
     "end_time": "2020-03-31T07:26:51.571939Z",
     "start_time": "2020-03-31T07:26:51.568659Z"
    },
    "id": "Y3lAImYIB4xr",
    "outputId": "7fdc4044-c5e2-4f11-a234-c0f738521ae9"
   },
   "outputs": [
    {
     "name": "stdout",
     "output_type": "stream",
     "text": [
      "Counter({'網路': 2609, '廣播電台': 119, '平面媒體': 117, '電視': 109, '其他': 16, nan: 2})\n",
      "[('無照藥商', 1434), ('廣告違規', 248), ('無違規', 185), ('其刊登或宣播之廣告內容與原核准廣告內容不符', 134), (nan, 132), ('非藥商刊登或宣播藥物廣告', 108), ('藥品未申請查驗登記', 94), ('刊播未申請核准之廣告', 85), ('廣告內容誇大不實', 67), ('禁藥', 40)]\n"
     ]
    }
   ],
   "source": [
    "# Using `Counter` to count the number of each type of publication media\n",
    "from collections import Counter\n",
    "\n",
    "type_dict = Counter(drug_df.pubMediaType)\n",
    "print(type_dict)\n",
    "print(Counter(drug_df.fact).most_common(10))"
   ]
  },
  {
   "cell_type": "code",
   "execution_count": 10,
   "metadata": {
    "id": "DNx5enTSB4xr",
    "outputId": "d2e322bd-7747-47bd-a6a6-af860e4757f7"
   },
   "outputs": [
    {
     "data": {
      "text/plain": [
       "pubMediaType\n",
       "網路      2609\n",
       "廣播電台     119\n",
       "平面媒體     117\n",
       "電視       109\n",
       "其他        16\n",
       "Name: count, dtype: int64"
      ]
     },
     "execution_count": 10,
     "metadata": {},
     "output_type": "execute_result"
    }
   ],
   "source": [
    "drug_df.pubMediaType.value_counts()\n",
    "# drug_df['pubMediaType'].value_counts()"
   ]
  },
  {
   "cell_type": "markdown",
   "metadata": {
    "id": "Z8OeNTljB4xt"
   },
   "source": [
    "## P2. Read JSON : Youbike"
   ]
  },
  {
   "cell_type": "markdown",
   "metadata": {},
   "source": [
    "### 2.1 Convert dict of dict to list of dict, then to DataFrame"
   ]
  },
  {
   "cell_type": "code",
   "execution_count": 24,
   "metadata": {
    "ExecuteTime": {
     "end_time": "2020-03-31T07:36:47.011339Z",
     "start_time": "2020-03-31T07:36:46.799507Z"
    },
    "id": "CHKeoi0AB4xt",
    "outputId": "007b17f5-0d32-4f19-efc4-60714b97ebf9"
   },
   "outputs": [],
   "source": [
    "import pandas as pd\n",
    "\n",
    "pd.set_option('display.max_columns', None)  # 顯示所有欄位\n",
    "\n",
    "import requests\n",
    "data = requests.get('https://tcgbusfs.blob.core.windows.net/blobyoubike/YouBikeTP.gz').json()\n",
    "\n",
    "\n",
    "\n",
    "# Convert dict of dict to list of dict\n",
    "all_list = []\n",
    "for k, v in data[\"retVal\"].items():\n",
    "    all_list.append(v)\n",
    "\n",
    "# Using list comprehension\n",
    "# all_list = [v for v in data[\"retVal\"].values()]\n",
    "    \n",
    "\n",
    "ubike_df = pd.DataFrame(all_list)"
   ]
  },
  {
   "cell_type": "markdown",
   "metadata": {},
   "source": [
    "### 2.2 Display part of columns\n",
    "\n",
    "1. Subsetting them by passing a list of column names inside the square brackets `df[['col1', 'col2']]`\n",
    "2. Using the `.drop()` method to drop columns `df.drop(['col1', 'col2'], axis=1)`"
   ]
  },
  {
   "cell_type": "code",
   "execution_count": 26,
   "metadata": {},
   "outputs": [
    {
     "data": {
      "text/html": [
       "<div>\n",
       "<style scoped>\n",
       "    .dataframe tbody tr th:only-of-type {\n",
       "        vertical-align: middle;\n",
       "    }\n",
       "\n",
       "    .dataframe tbody tr th {\n",
       "        vertical-align: top;\n",
       "    }\n",
       "\n",
       "    .dataframe thead th {\n",
       "        text-align: right;\n",
       "    }\n",
       "</style>\n",
       "<table border=\"1\" class=\"dataframe\">\n",
       "  <thead>\n",
       "    <tr style=\"text-align: center;\">\n",
       "      <th></th>\n",
       "      <th>sno</th>\n",
       "      <th>sna</th>\n",
       "      <th>tot</th>\n",
       "      <th>sbi</th>\n",
       "      <th>sarea</th>\n",
       "      <th>mday</th>\n",
       "      <th>sareaen</th>\n",
       "      <th>bemp</th>\n",
       "      <th>act</th>\n",
       "    </tr>\n",
       "  </thead>\n",
       "  <tbody>\n",
       "    <tr>\n",
       "      <th>0001</th>\n",
       "      <td>0001</td>\n",
       "      <td>捷運市政府站(3號出口)</td>\n",
       "      <td>84</td>\n",
       "      <td>74</td>\n",
       "      <td>信義區</td>\n",
       "      <td>20221030185227</td>\n",
       "      <td>Xinyi Dist.</td>\n",
       "      <td>10</td>\n",
       "      <td>1</td>\n",
       "    </tr>\n",
       "    <tr>\n",
       "      <th>0002</th>\n",
       "      <td>0002</td>\n",
       "      <td>捷運國父紀念館站(2號出口)</td>\n",
       "      <td>16</td>\n",
       "      <td>4</td>\n",
       "      <td>大安區</td>\n",
       "      <td>20221030185231</td>\n",
       "      <td>Daan Dist.</td>\n",
       "      <td>12</td>\n",
       "      <td>1</td>\n",
       "    </tr>\n",
       "    <tr>\n",
       "      <th>0004</th>\n",
       "      <td>0004</td>\n",
       "      <td>市民廣場</td>\n",
       "      <td>32</td>\n",
       "      <td>0</td>\n",
       "      <td>信義區</td>\n",
       "      <td>20221030185217</td>\n",
       "      <td>Xinyi Dist.</td>\n",
       "      <td>31</td>\n",
       "      <td>1</td>\n",
       "    </tr>\n",
       "    <tr>\n",
       "      <th>0005</th>\n",
       "      <td>0005</td>\n",
       "      <td>興雅國中</td>\n",
       "      <td>10</td>\n",
       "      <td>1</td>\n",
       "      <td>信義區</td>\n",
       "      <td>20221030185241</td>\n",
       "      <td>Xinyi Dist.</td>\n",
       "      <td>9</td>\n",
       "      <td>1</td>\n",
       "    </tr>\n",
       "    <tr>\n",
       "      <th>0006</th>\n",
       "      <td>0006</td>\n",
       "      <td>臺北南山廣場</td>\n",
       "      <td>54</td>\n",
       "      <td>11</td>\n",
       "      <td>信義區</td>\n",
       "      <td>20221030185230</td>\n",
       "      <td>Xinyi Dist.</td>\n",
       "      <td>43</td>\n",
       "      <td>1</td>\n",
       "    </tr>\n",
       "  </tbody>\n",
       "</table>\n",
       "</div>"
      ],
      "text/plain": [
       "      sno        sna       tot sbi sarea       mday        sareaen    bemp act\n",
       "0001  0001    捷運市政府站(3號出口)  84  74   信義區  20221030185227  Xinyi Dist.  10    1\n",
       "0002  0002  捷運國父紀念館站(2號出口)  16   4   大安區  20221030185231   Daan Dist.  12    1\n",
       "0004  0004            市民廣場  32   0   信義區  20221030185217  Xinyi Dist.  31    1\n",
       "0005  0005            興雅國中  10   1   信義區  20221030185241  Xinyi Dist.   9    1\n",
       "0006  0006          臺北南山廣場  54  11   信義區  20221030185230  Xinyi Dist.  43    1"
      ]
     },
     "execution_count": 26,
     "metadata": {},
     "output_type": "execute_result"
    }
   ],
   "source": [
    "ubike_df[['sno', 'sna', 'tot', 'sbi', 'sarea']].head()\n",
    "ubike_df.drop(['ar', 'aren', 'snaen', 'lat', 'lng'], axis=1).head()"
   ]
  },
  {
   "cell_type": "markdown",
   "metadata": {},
   "source": [
    "### 2.3 Using built-in function to pandas"
   ]
  },
  {
   "cell_type": "code",
   "execution_count": 25,
   "metadata": {
    "ExecuteTime": {
     "end_time": "2020-03-31T07:37:35.607573Z",
     "start_time": "2020-03-31T07:37:35.375555Z"
    },
    "id": "zG4eiLFmB4xt",
    "outputId": "f4963cc0-89db-497f-a554-ccc6249ba2fc"
   },
   "outputs": [],
   "source": [
    "# Using pandas built-in function to convert dictionary to pandas df\n",
    "\n",
    "import requests\n",
    "data = requests.get('https://tcgbusfs.blob.core.windows.net/blobyoubike/YouBikeTP.gz').json()\n",
    "ubike_df = pd.DataFrame.from_dict(data['retVal'], orient='index')"
   ]
  },
  {
   "cell_type": "markdown",
   "metadata": {
    "id": "KEVLH6U3B4xt"
   },
   "source": [
    "## P2. Observing data\n",
    "\n",
    "**Oberserving data** `df.info()` and `df.describe()` 觀察各個變數的分佈 to check data type or get basic summary of data 。"
   ]
  },
  {
   "cell_type": "markdown",
   "metadata": {},
   "source": [
    "### 2.4 Overview whole df"
   ]
  },
  {
   "cell_type": "code",
   "execution_count": 27,
   "metadata": {},
   "outputs": [
    {
     "data": {
      "text/plain": [
       "(369, 14)"
      ]
     },
     "execution_count": 27,
     "metadata": {},
     "output_type": "execute_result"
    }
   ],
   "source": [
    "ubike_df.shape"
   ]
  },
  {
   "cell_type": "code",
   "execution_count": 14,
   "metadata": {},
   "outputs": [
    {
     "data": {
      "text/html": [
       "<div>\n",
       "<style scoped>\n",
       "    .dataframe tbody tr th:only-of-type {\n",
       "        vertical-align: middle;\n",
       "    }\n",
       "\n",
       "    .dataframe tbody tr th {\n",
       "        vertical-align: top;\n",
       "    }\n",
       "\n",
       "    .dataframe thead th {\n",
       "        text-align: right;\n",
       "    }\n",
       "</style>\n",
       "<table border=\"1\" class=\"dataframe\">\n",
       "  <thead>\n",
       "    <tr style=\"text-align: right;\">\n",
       "      <th></th>\n",
       "      <th>sno</th>\n",
       "      <th>sna</th>\n",
       "      <th>tot</th>\n",
       "      <th>sbi</th>\n",
       "      <th>sarea</th>\n",
       "      <th>mday</th>\n",
       "      <th>lat</th>\n",
       "      <th>lng</th>\n",
       "      <th>ar</th>\n",
       "      <th>sareaen</th>\n",
       "      <th>snaen</th>\n",
       "      <th>aren</th>\n",
       "      <th>bemp</th>\n",
       "      <th>act</th>\n",
       "    </tr>\n",
       "  </thead>\n",
       "  <tbody>\n",
       "    <tr>\n",
       "      <th>count</th>\n",
       "      <td>371</td>\n",
       "      <td>371</td>\n",
       "      <td>371</td>\n",
       "      <td>371</td>\n",
       "      <td>371</td>\n",
       "      <td>371</td>\n",
       "      <td>371</td>\n",
       "      <td>371</td>\n",
       "      <td>371</td>\n",
       "      <td>371</td>\n",
       "      <td>371</td>\n",
       "      <td>371</td>\n",
       "      <td>371</td>\n",
       "      <td>371</td>\n",
       "    </tr>\n",
       "    <tr>\n",
       "      <th>unique</th>\n",
       "      <td>371</td>\n",
       "      <td>371</td>\n",
       "      <td>27</td>\n",
       "      <td>30</td>\n",
       "      <td>12</td>\n",
       "      <td>41</td>\n",
       "      <td>369</td>\n",
       "      <td>370</td>\n",
       "      <td>371</td>\n",
       "      <td>12</td>\n",
       "      <td>370</td>\n",
       "      <td>369</td>\n",
       "      <td>40</td>\n",
       "      <td>1</td>\n",
       "    </tr>\n",
       "    <tr>\n",
       "      <th>top</th>\n",
       "      <td>0001</td>\n",
       "      <td>捷運市政府站(3號出口)</td>\n",
       "      <td>12</td>\n",
       "      <td>0</td>\n",
       "      <td>中山區</td>\n",
       "      <td>20220922232223</td>\n",
       "      <td>25.068530</td>\n",
       "      <td>121.525322</td>\n",
       "      <td>忠孝東路/松仁路(東南側)</td>\n",
       "      <td>Zhongshan Dist.</td>\n",
       "      <td>Nangang Park</td>\n",
       "      <td>The N.S. side of Lianyun St. &amp; Sec. 2, Xinyi Rd.</td>\n",
       "      <td>7</td>\n",
       "      <td>1</td>\n",
       "    </tr>\n",
       "    <tr>\n",
       "      <th>freq</th>\n",
       "      <td>1</td>\n",
       "      <td>1</td>\n",
       "      <td>50</td>\n",
       "      <td>54</td>\n",
       "      <td>44</td>\n",
       "      <td>18</td>\n",
       "      <td>2</td>\n",
       "      <td>2</td>\n",
       "      <td>1</td>\n",
       "      <td>44</td>\n",
       "      <td>2</td>\n",
       "      <td>2</td>\n",
       "      <td>32</td>\n",
       "      <td>371</td>\n",
       "    </tr>\n",
       "  </tbody>\n",
       "</table>\n",
       "</div>"
      ],
      "text/plain": [
       "         sno           sna  tot  sbi sarea            mday        lat  \\\n",
       "count    371           371  371  371   371             371        371   \n",
       "unique   371           371   27   30    12              41        369   \n",
       "top     0001  捷運市政府站(3號出口)   12    0   中山區  20220922232223  25.068530   \n",
       "freq       1             1   50   54    44              18          2   \n",
       "\n",
       "               lng             ar          sareaen         snaen  \\\n",
       "count          371            371              371           371   \n",
       "unique         370            371               12           370   \n",
       "top     121.525322  忠孝東路/松仁路(東南側)  Zhongshan Dist.  Nangang Park   \n",
       "freq             2              1               44             2   \n",
       "\n",
       "                                                    aren bemp  act  \n",
       "count                                                371  371  371  \n",
       "unique                                               369   40    1  \n",
       "top     The N.S. side of Lianyun St. & Sec. 2, Xinyi Rd.    7    1  \n",
       "freq                                                   2   32  371  "
      ]
     },
     "execution_count": 14,
     "metadata": {},
     "output_type": "execute_result"
    }
   ],
   "source": [
    "ubike_df.describe()"
   ]
  },
  {
   "cell_type": "markdown",
   "metadata": {},
   "source": [
    "### 2.5 Access data by index"
   ]
  },
  {
   "cell_type": "code",
   "execution_count": 30,
   "metadata": {},
   "outputs": [
    {
     "data": {
      "text/plain": [
       "sno                                                 0004\n",
       "sna                                                 市民廣場\n",
       "tot                                                   32\n",
       "sbi                                                    0\n",
       "sarea                                                信義區\n",
       "mday                                      20221030185217\n",
       "lat                                        25.0360361111\n",
       "lng                                           121.562325\n",
       "ar                  市府路/松壽路(西北側)(鄰近台北101/台北世界貿易中心/台北探索館)\n",
       "sareaen                                      Xinyi Dist.\n",
       "snaen                                     Citizen Square\n",
       "aren       The N.W. side of Road Shifu & Road Song Shou.\n",
       "bemp                                                  31\n",
       "act                                                    1\n",
       "Name: 0004, dtype: object"
      ]
     },
     "execution_count": 30,
     "metadata": {},
     "output_type": "execute_result"
    }
   ],
   "source": [
    "# Access single row\n",
    "ubike_df.iloc[2]"
   ]
  },
  {
   "cell_type": "code",
   "execution_count": 31,
   "metadata": {},
   "outputs": [
    {
     "data": {
      "text/plain": [
       "'0004'"
      ]
     },
     "execution_count": 31,
     "metadata": {},
     "output_type": "execute_result"
    }
   ],
   "source": [
    "# Access single cell\n",
    "ubike_df.iloc[2, 0]"
   ]
  },
  {
   "cell_type": "markdown",
   "metadata": {},
   "source": [
    "### 2.6 Slice and access data"
   ]
  },
  {
   "cell_type": "code",
   "execution_count": 34,
   "metadata": {},
   "outputs": [
    {
     "data": {
      "text/html": [
       "<div>\n",
       "<style scoped>\n",
       "    .dataframe tbody tr th:only-of-type {\n",
       "        vertical-align: middle;\n",
       "    }\n",
       "\n",
       "    .dataframe tbody tr th {\n",
       "        vertical-align: top;\n",
       "    }\n",
       "\n",
       "    .dataframe thead th {\n",
       "        text-align: right;\n",
       "    }\n",
       "</style>\n",
       "<table border=\"1\" class=\"dataframe\">\n",
       "  <thead>\n",
       "    <tr style=\"text-align: center;\">\n",
       "      <th></th>\n",
       "      <th>sno</th>\n",
       "      <th>sna</th>\n",
       "      <th>tot</th>\n",
       "      <th>sbi</th>\n",
       "      <th>sarea</th>\n",
       "    </tr>\n",
       "  </thead>\n",
       "  <tbody>\n",
       "    <tr>\n",
       "      <th>0001</th>\n",
       "      <td>0001</td>\n",
       "      <td>捷運市政府站(3號出口)</td>\n",
       "      <td>84</td>\n",
       "      <td>74</td>\n",
       "      <td>信義區</td>\n",
       "    </tr>\n",
       "    <tr>\n",
       "      <th>0002</th>\n",
       "      <td>0002</td>\n",
       "      <td>捷運國父紀念館站(2號出口)</td>\n",
       "      <td>16</td>\n",
       "      <td>4</td>\n",
       "      <td>大安區</td>\n",
       "    </tr>\n",
       "    <tr>\n",
       "      <th>0004</th>\n",
       "      <td>0004</td>\n",
       "      <td>市民廣場</td>\n",
       "      <td>32</td>\n",
       "      <td>0</td>\n",
       "      <td>信義區</td>\n",
       "    </tr>\n",
       "  </tbody>\n",
       "</table>\n",
       "</div>"
      ],
      "text/plain": [
       "      sno        sna       tot sbi sarea\n",
       "0001  0001    捷運市政府站(3號出口)  84  74   信義區\n",
       "0002  0002  捷運國父紀念館站(2號出口)  16   4   大安區\n",
       "0004  0004            市民廣場  32   0   信義區"
      ]
     },
     "execution_count": 34,
     "metadata": {},
     "output_type": "execute_result"
    }
   ],
   "source": [
    "ubike_df[:3][['sno', 'sna', 'tot', 'sbi', 'sarea']]"
   ]
  },
  {
   "cell_type": "markdown",
   "metadata": {},
   "source": [
    "### 2.7 Convert variable type\n",
    "\n",
    "**Cleaning data** `pd.to_numeric(var)` 修改變數型態 to convert data type \n"
   ]
  },
  {
   "cell_type": "code",
   "execution_count": 35,
   "metadata": {},
   "outputs": [
    {
     "name": "stdout",
     "output_type": "stream",
     "text": [
      "<class 'pandas.core.series.Series'>\n"
     ]
    },
    {
     "data": {
      "text/html": [
       "<div>\n",
       "<style scoped>\n",
       "    .dataframe tbody tr th:only-of-type {\n",
       "        vertical-align: middle;\n",
       "    }\n",
       "\n",
       "    .dataframe tbody tr th {\n",
       "        vertical-align: top;\n",
       "    }\n",
       "\n",
       "    .dataframe thead th {\n",
       "        text-align: right;\n",
       "    }\n",
       "</style>\n",
       "<table border=\"1\" class=\"dataframe\">\n",
       "  <thead>\n",
       "    <tr style=\"text-align: center;\">\n",
       "      <th></th>\n",
       "      <th>sno</th>\n",
       "      <th>sna</th>\n",
       "      <th>tot</th>\n",
       "      <th>sbi</th>\n",
       "      <th>ratio</th>\n",
       "    </tr>\n",
       "  </thead>\n",
       "  <tbody>\n",
       "    <tr>\n",
       "      <th>0001</th>\n",
       "      <td>0001</td>\n",
       "      <td>捷運市政府站(3號出口)</td>\n",
       "      <td>84</td>\n",
       "      <td>74</td>\n",
       "      <td>0.880952</td>\n",
       "    </tr>\n",
       "    <tr>\n",
       "      <th>0002</th>\n",
       "      <td>0002</td>\n",
       "      <td>捷運國父紀念館站(2號出口)</td>\n",
       "      <td>16</td>\n",
       "      <td>4</td>\n",
       "      <td>0.250000</td>\n",
       "    </tr>\n",
       "    <tr>\n",
       "      <th>0004</th>\n",
       "      <td>0004</td>\n",
       "      <td>市民廣場</td>\n",
       "      <td>32</td>\n",
       "      <td>0</td>\n",
       "      <td>0.000000</td>\n",
       "    </tr>\n",
       "    <tr>\n",
       "      <th>0005</th>\n",
       "      <td>0005</td>\n",
       "      <td>興雅國中</td>\n",
       "      <td>10</td>\n",
       "      <td>1</td>\n",
       "      <td>0.100000</td>\n",
       "    </tr>\n",
       "    <tr>\n",
       "      <th>0006</th>\n",
       "      <td>0006</td>\n",
       "      <td>臺北南山廣場</td>\n",
       "      <td>54</td>\n",
       "      <td>11</td>\n",
       "      <td>0.203704</td>\n",
       "    </tr>\n",
       "  </tbody>\n",
       "</table>\n",
       "</div>"
      ],
      "text/plain": [
       "      sno        sna       tot sbi    ratio \n",
       "0001  0001    捷運市政府站(3號出口)  84  74  0.880952\n",
       "0002  0002  捷運國父紀念館站(2號出口)  16   4  0.250000\n",
       "0004  0004            市民廣場  32   0  0.000000\n",
       "0005  0005            興雅國中  10   1  0.100000\n",
       "0006  0006          臺北南山廣場  54  11  0.203704"
      ]
     },
     "execution_count": 35,
     "metadata": {},
     "output_type": "execute_result"
    }
   ],
   "source": [
    "# ratio = sbi/tot\n",
    "print(type(ubike_df['sbi']))\n",
    "ubike_df['ratio'] = pd.to_numeric(ubike_df['sbi'])/pd.to_numeric(ubike_df['tot'])\n",
    "ubike_df[['sno', 'sna', 'tot', 'sbi', 'ratio']].head()"
   ]
  },
  {
   "cell_type": "markdown",
   "metadata": {},
   "source": [
    "### 2.8 Mutate new variable\n",
    "\n",
    "* `df = df.assign(new_var = old_var1 / old_var2)` 產生新的變數（方法一） to create or convert new variable. Be careful! You must assign to left to overwrite original df. \n",
    "* `df[\"new_var\"] = df.old_var1 / df.old_var2` 產生新的變數（方法二）\n",
    "* Creating `ratio = sbi/tot` for ubike data\n",
    "* `pd.to_numeric()` to covert one variable type\n"
   ]
  },
  {
   "cell_type": "code",
   "execution_count": 40,
   "metadata": {
    "id": "BudzpOumB4xu",
    "outputId": "dabc7b0c-ab94-4b74-bbb8-79ded228fbff"
   },
   "outputs": [
    {
     "data": {
      "text/html": [
       "<div>\n",
       "<style scoped>\n",
       "    .dataframe tbody tr th:only-of-type {\n",
       "        vertical-align: middle;\n",
       "    }\n",
       "\n",
       "    .dataframe tbody tr th {\n",
       "        vertical-align: top;\n",
       "    }\n",
       "\n",
       "    .dataframe thead th {\n",
       "        text-align: right;\n",
       "    }\n",
       "</style>\n",
       "<table border=\"1\" class=\"dataframe\">\n",
       "  <thead>\n",
       "    <tr style=\"text-align: center;\">\n",
       "      <th></th>\n",
       "      <th>sno</th>\n",
       "      <th>sna</th>\n",
       "      <th>tot</th>\n",
       "      <th>sbi</th>\n",
       "      <th>ratio</th>\n",
       "    </tr>\n",
       "  </thead>\n",
       "  <tbody>\n",
       "    <tr>\n",
       "      <th>0001</th>\n",
       "      <td>0001</td>\n",
       "      <td>捷運市政府站(3號出口)</td>\n",
       "      <td>84</td>\n",
       "      <td>74</td>\n",
       "      <td>0.880952</td>\n",
       "    </tr>\n",
       "    <tr>\n",
       "      <th>0002</th>\n",
       "      <td>0002</td>\n",
       "      <td>捷運國父紀念館站(2號出口)</td>\n",
       "      <td>16</td>\n",
       "      <td>4</td>\n",
       "      <td>0.250000</td>\n",
       "    </tr>\n",
       "    <tr>\n",
       "      <th>0004</th>\n",
       "      <td>0004</td>\n",
       "      <td>市民廣場</td>\n",
       "      <td>32</td>\n",
       "      <td>0</td>\n",
       "      <td>0.000000</td>\n",
       "    </tr>\n",
       "    <tr>\n",
       "      <th>0005</th>\n",
       "      <td>0005</td>\n",
       "      <td>興雅國中</td>\n",
       "      <td>10</td>\n",
       "      <td>1</td>\n",
       "      <td>0.100000</td>\n",
       "    </tr>\n",
       "    <tr>\n",
       "      <th>0006</th>\n",
       "      <td>0006</td>\n",
       "      <td>臺北南山廣場</td>\n",
       "      <td>54</td>\n",
       "      <td>11</td>\n",
       "      <td>0.203704</td>\n",
       "    </tr>\n",
       "  </tbody>\n",
       "</table>\n",
       "</div>"
      ],
      "text/plain": [
       "      sno        sna        tot  sbi    ratio \n",
       "0001  0001    捷運市政府站(3號出口)  84   74   0.880952\n",
       "0002  0002  捷運國父紀念館站(2號出口)  16    4   0.250000\n",
       "0004  0004            市民廣場  32    0   0.000000\n",
       "0005  0005            興雅國中  10    1   0.100000\n",
       "0006  0006          臺北南山廣場  54   11   0.203704"
      ]
     },
     "execution_count": 40,
     "metadata": {},
     "output_type": "execute_result"
    }
   ],
   "source": [
    "ubike_df = ubike_df.assign(\n",
    "    sbi = pd.to_numeric(ubike_df.sbi),\n",
    "    tot = pd.to_numeric(ubike_df.tot))\n",
    "\n",
    "ubike_df[\"ratio\"] = ubike_df.sbi / ubike_df.tot\n",
    "# ubike_df.ratio2 = ubike_df.sbi / ubike_df.tot\n",
    "# ubike_df = ubike_df.assign(ratio = ubike_df.sbi/ubike_df.tot)\n",
    "# ubike_df.info()\n",
    "ubike_df[['sno', 'sna', 'tot', 'sbi', 'ratio']].head()"
   ]
  },
  {
   "cell_type": "code",
   "execution_count": 39,
   "metadata": {
    "id": "sx2O45oZB4xu",
    "outputId": "aed4e1eb-aafa-4d24-a164-f308a203663e"
   },
   "outputs": [
    {
     "data": {
      "text/html": [
       "<div>\n",
       "<style scoped>\n",
       "    .dataframe tbody tr th:only-of-type {\n",
       "        vertical-align: middle;\n",
       "    }\n",
       "\n",
       "    .dataframe tbody tr th {\n",
       "        vertical-align: top;\n",
       "    }\n",
       "\n",
       "    .dataframe thead th {\n",
       "        text-align: right;\n",
       "    }\n",
       "</style>\n",
       "<table border=\"1\" class=\"dataframe\">\n",
       "  <thead>\n",
       "    <tr style=\"text-align: center;\">\n",
       "      <th></th>\n",
       "      <th>tot</th>\n",
       "      <th>sbi</th>\n",
       "      <th>ratio</th>\n",
       "    </tr>\n",
       "  </thead>\n",
       "  <tbody>\n",
       "    <tr>\n",
       "      <th>count</th>\n",
       "      <td>369.000000</td>\n",
       "      <td>369.000000</td>\n",
       "      <td>369.000000</td>\n",
       "    </tr>\n",
       "    <tr>\n",
       "      <th>mean</th>\n",
       "      <td>17.024390</td>\n",
       "      <td>6.094851</td>\n",
       "      <td>0.370046</td>\n",
       "    </tr>\n",
       "    <tr>\n",
       "      <th>std</th>\n",
       "      <td>9.633611</td>\n",
       "      <td>5.780327</td>\n",
       "      <td>0.218623</td>\n",
       "    </tr>\n",
       "    <tr>\n",
       "      <th>min</th>\n",
       "      <td>4.000000</td>\n",
       "      <td>0.000000</td>\n",
       "      <td>0.000000</td>\n",
       "    </tr>\n",
       "    <tr>\n",
       "      <th>25%</th>\n",
       "      <td>10.000000</td>\n",
       "      <td>3.000000</td>\n",
       "      <td>0.200000</td>\n",
       "    </tr>\n",
       "    <tr>\n",
       "      <th>50%</th>\n",
       "      <td>14.000000</td>\n",
       "      <td>5.000000</td>\n",
       "      <td>0.333333</td>\n",
       "    </tr>\n",
       "    <tr>\n",
       "      <th>75%</th>\n",
       "      <td>20.000000</td>\n",
       "      <td>8.000000</td>\n",
       "      <td>0.500000</td>\n",
       "    </tr>\n",
       "    <tr>\n",
       "      <th>max</th>\n",
       "      <td>84.000000</td>\n",
       "      <td>74.000000</td>\n",
       "      <td>1.000000</td>\n",
       "    </tr>\n",
       "  </tbody>\n",
       "</table>\n",
       "</div>"
      ],
      "text/plain": [
       "           tot         sbi        ratio  \n",
       "count  369.000000  369.000000  369.000000\n",
       "mean    17.024390    6.094851    0.370046\n",
       "std      9.633611    5.780327    0.218623\n",
       "min      4.000000    0.000000    0.000000\n",
       "25%     10.000000    3.000000    0.200000\n",
       "50%     14.000000    5.000000    0.333333\n",
       "75%     20.000000    8.000000    0.500000\n",
       "max     84.000000   74.000000    1.000000"
      ]
     },
     "execution_count": 39,
     "metadata": {},
     "output_type": "execute_result"
    }
   ],
   "source": [
    "ubike_df.describe()"
   ]
  },
  {
   "cell_type": "markdown",
   "metadata": {
    "id": "hLTQHcKsB4xu"
   },
   "source": [
    "## P3. Summarizing data\n",
    "\n",
    "- Tutorial: [groupby pandas](https://jamesrledoux.com/code/group-by-aggregate-pandas)\n",
    "* `df.groupby(col1)[col2].count()` summarize col2 according to col1 by counting\n",
    "* `df.groupby(col1)[col2].mean()` summarize col2 according to col1 by calculating their average of each category\n",
    "* `df.groupby([col1, col3])[col2].count()` summarize col2 according to col1 and col3 by counting"
   ]
  },
  {
   "cell_type": "markdown",
   "metadata": {
    "tags": []
   },
   "source": [
    "### 3.1 Count single variable by `value_counts()`"
   ]
  },
  {
   "cell_type": "code",
   "execution_count": 29,
   "metadata": {},
   "outputs": [
    {
     "data": {
      "text/plain": [
       "Counter({'廣播電台': 119, '網路': 2609, '平面媒體': 117, '其他': 16, '電視': 109, nan: 2})"
      ]
     },
     "execution_count": 29,
     "metadata": {},
     "output_type": "execute_result"
    }
   ],
   "source": [
    "# Conventional way\n",
    "from collections import Counter\n",
    "Counter(drug_df.pubMediaType)"
   ]
  },
  {
   "cell_type": "code",
   "execution_count": 41,
   "metadata": {},
   "outputs": [
    {
     "data": {
      "text/html": [
       "<div>\n",
       "<style scoped>\n",
       "    .dataframe tbody tr th:only-of-type {\n",
       "        vertical-align: middle;\n",
       "    }\n",
       "\n",
       "    .dataframe tbody tr th {\n",
       "        vertical-align: top;\n",
       "    }\n",
       "\n",
       "    .dataframe thead th {\n",
       "        text-align: right;\n",
       "    }\n",
       "</style>\n",
       "<table border=\"1\" class=\"dataframe\">\n",
       "  <thead>\n",
       "    <tr style=\"text-align: center;\">\n",
       "      <th></th>\n",
       "      <th>pname</th>\n",
       "      <th>cname</th>\n",
       "      <th>agency</th>\n",
       "      <th>issuedate</th>\n",
       "      <th>law</th>\n",
       "      <th>fact</th>\n",
       "      <th>pubDate</th>\n",
       "      <th>pubMediaType</th>\n",
       "      <th>pubMedia</th>\n",
       "      <th>trace</th>\n",
       "    </tr>\n",
       "  </thead>\n",
       "  <tbody>\n",
       "    <tr>\n",
       "      <th>0</th>\n",
       "      <td>維他肝</td>\n",
       "      <td>豐怡生化科技股份有限公司/朱O</td>\n",
       "      <td>NaN</td>\n",
       "      <td>03 31 2022 12:00AM</td>\n",
       "      <td>NaN</td>\n",
       "      <td>廣告內容誇大不實</td>\n",
       "      <td>02 2 2022 12:00AM</td>\n",
       "      <td>廣播電台</td>\n",
       "      <td>噶瑪蘭廣播電台股份有限公司</td>\n",
       "      <td>NaN</td>\n",
       "    </tr>\n",
       "    <tr>\n",
       "      <th>1</th>\n",
       "      <td>現貨澳洲Swisse ULTIBOOST維他命D片calcium vitamin VITAM...</td>\n",
       "      <td>張O雯/張O雯</td>\n",
       "      <td>NaN</td>\n",
       "      <td>01 21 2022 12:00AM</td>\n",
       "      <td>NaN</td>\n",
       "      <td>廣告違規</td>\n",
       "      <td>11 30 2021 12:00AM</td>\n",
       "      <td>網路</td>\n",
       "      <td>蝦皮購物</td>\n",
       "      <td>輔導結案</td>\n",
       "    </tr>\n",
       "    <tr>\n",
       "      <th>2</th>\n",
       "      <td>✈日本 代購 參天製藥 處方簽點眼液</td>\n",
       "      <td>蘇O涵/蘇O涵</td>\n",
       "      <td>NaN</td>\n",
       "      <td>01 25 2022 12:00AM</td>\n",
       "      <td>NaN</td>\n",
       "      <td>無照藥商</td>\n",
       "      <td>08 27 2021 12:00AM</td>\n",
       "      <td>網路</td>\n",
       "      <td>蝦皮購物</td>\n",
       "      <td>NaN</td>\n",
       "    </tr>\n",
       "    <tr>\n",
       "      <th>3</th>\n",
       "      <td>✈日本 代購 TSUMURA 中將湯 24天包裝</td>\n",
       "      <td>蘇O涵/蘇O涵</td>\n",
       "      <td>NaN</td>\n",
       "      <td>01 25 2022 12:00AM</td>\n",
       "      <td>NaN</td>\n",
       "      <td>無照藥商</td>\n",
       "      <td>08 27 2021 12:00AM</td>\n",
       "      <td>網路</td>\n",
       "      <td>蝦皮購物</td>\n",
       "      <td>輔導結案</td>\n",
       "    </tr>\n",
       "    <tr>\n",
       "      <th>4</th>\n",
       "      <td>_Salty.shop 日本代購 樂敦小花</td>\n",
       "      <td>曾O嫺/曾O嫺</td>\n",
       "      <td>NaN</td>\n",
       "      <td>02 17 2022 12:00AM</td>\n",
       "      <td>藥事法第27條</td>\n",
       "      <td>無照藥商</td>\n",
       "      <td>12 6 2021 12:00AM</td>\n",
       "      <td>網路</td>\n",
       "      <td>蝦皮購物</td>\n",
       "      <td>處分結案</td>\n",
       "    </tr>\n",
       "  </tbody>\n",
       "</table>\n",
       "</div>"
      ],
      "text/plain": [
       "                        pname                             cname       agency      issuedate        law       fact         pubDate       pubMediaType    pubMedia    trace\n",
       "0                                                維他肝  豐怡生化科技股份有限公司/朱O   NaN   03 31 2022 12:00AM      NaN  廣告內容誇大不實   02 2 2022 12:00AM     廣播電台      噶瑪蘭廣播電台股份有限公司   NaN\n",
       "1  現貨澳洲Swisse ULTIBOOST維他命D片calcium vitamin VITAM...          張O雯/張O雯   NaN   01 21 2022 12:00AM      NaN      廣告違規  11 30 2021 12:00AM       網路               蝦皮購物  輔導結案\n",
       "2                                 ✈日本 代購 參天製藥 處方簽點眼液          蘇O涵/蘇O涵   NaN   01 25 2022 12:00AM      NaN      無照藥商  08 27 2021 12:00AM       網路               蝦皮購物   NaN\n",
       "3                           ✈日本 代購 TSUMURA 中將湯 24天包裝          蘇O涵/蘇O涵   NaN   01 25 2022 12:00AM      NaN      無照藥商  08 27 2021 12:00AM       網路               蝦皮購物  輔導結案\n",
       "4                              _Salty.shop 日本代購 樂敦小花          曾O嫺/曾O嫺   NaN   02 17 2022 12:00AM  藥事法第27條      無照藥商   12 6 2021 12:00AM       網路               蝦皮購物  處分結案"
      ]
     },
     "execution_count": 41,
     "metadata": {},
     "output_type": "execute_result"
    }
   ],
   "source": [
    "drug_df.head()"
   ]
  },
  {
   "cell_type": "code",
   "execution_count": 43,
   "metadata": {},
   "outputs": [
    {
     "data": {
      "text/plain": [
       "pubMediaType\n",
       "網路      2609\n",
       "廣播電台     119\n",
       "平面媒體     117\n",
       "電視       109\n",
       "其他        16\n",
       "Name: count, dtype: int64"
      ]
     },
     "execution_count": 43,
     "metadata": {},
     "output_type": "execute_result"
    }
   ],
   "source": [
    "# Pandas way\n",
    "drug_df.pubMediaType.value_counts()"
   ]
  },
  {
   "cell_type": "markdown",
   "metadata": {},
   "source": [
    "### 3.2 `groupby()` then `count()`"
   ]
  },
  {
   "cell_type": "code",
   "execution_count": 32,
   "metadata": {
    "id": "fpLCv0TaB4xu",
    "outputId": "4e9954b4-ad4f-42ef-86ff-6fc6e7afedc8"
   },
   "outputs": [
    {
     "name": "stderr",
     "output_type": "stream",
     "text": [
      "/var/folders/j3/p4x0mssx55nd8dn903h5wdb00000gn/T/ipykernel_8968/942870560.py:1: FutureWarning: Indexing with multiple keys (implicitly converted to a tuple of keys) will be deprecated, use a list instead.\n",
      "  drug_df.groupby('pubMediaType')['pname', 'agency'].count()\n"
     ]
    },
    {
     "data": {
      "text/html": [
       "<div>\n",
       "<style scoped>\n",
       "    .dataframe tbody tr th:only-of-type {\n",
       "        vertical-align: middle;\n",
       "    }\n",
       "\n",
       "    .dataframe tbody tr th {\n",
       "        vertical-align: top;\n",
       "    }\n",
       "\n",
       "    .dataframe thead th {\n",
       "        text-align: right;\n",
       "    }\n",
       "</style>\n",
       "<table border=\"1\" class=\"dataframe\">\n",
       "  <thead>\n",
       "    <tr style=\"text-align: right;\">\n",
       "      <th></th>\n",
       "      <th>pname</th>\n",
       "      <th>agency</th>\n",
       "    </tr>\n",
       "    <tr>\n",
       "      <th>pubMediaType</th>\n",
       "      <th></th>\n",
       "      <th></th>\n",
       "    </tr>\n",
       "  </thead>\n",
       "  <tbody>\n",
       "    <tr>\n",
       "      <th>其他</th>\n",
       "      <td>16</td>\n",
       "      <td>0</td>\n",
       "    </tr>\n",
       "    <tr>\n",
       "      <th>平面媒體</th>\n",
       "      <td>117</td>\n",
       "      <td>117</td>\n",
       "    </tr>\n",
       "    <tr>\n",
       "      <th>廣播電台</th>\n",
       "      <td>119</td>\n",
       "      <td>0</td>\n",
       "    </tr>\n",
       "    <tr>\n",
       "      <th>網路</th>\n",
       "      <td>2609</td>\n",
       "      <td>0</td>\n",
       "    </tr>\n",
       "    <tr>\n",
       "      <th>電視</th>\n",
       "      <td>109</td>\n",
       "      <td>0</td>\n",
       "    </tr>\n",
       "  </tbody>\n",
       "</table>\n",
       "</div>"
      ],
      "text/plain": [
       "              pname  agency\n",
       "pubMediaType               \n",
       "其他               16       0\n",
       "平面媒體            117     117\n",
       "廣播電台            119       0\n",
       "網路             2609       0\n",
       "電視              109       0"
      ]
     },
     "execution_count": 32,
     "metadata": {},
     "output_type": "execute_result"
    }
   ],
   "source": [
    "drug_df.groupby('pubMediaType')['pname', 'agency'].count()"
   ]
  },
  {
   "cell_type": "markdown",
   "metadata": {},
   "source": [
    "### 3.3 `groupby()` then summarize\n",
    "\n",
    "Format: `df.groupby(col_for_group)[variable_to_group].func()`\n",
    "\n",
    "- `col_for_group`: 要作為群組根據的variable，例如將村里彙整為鄉鎮市區資料時，鄉鎮市區資料極為group的根據\n",
    "- `variable_to_group`: 哪些要根據上述的群組來彙整，通常是值，如上例，那就是人口數、土地面積等。\n",
    "- `func()`: 要用什麼函式來計算，是要計算每組組內的加總或平均？ "
   ]
  },
  {
   "cell_type": "code",
   "execution_count": 44,
   "metadata": {},
   "outputs": [
    {
     "data": {
      "text/html": [
       "<div>\n",
       "<style scoped>\n",
       "    .dataframe tbody tr th:only-of-type {\n",
       "        vertical-align: middle;\n",
       "    }\n",
       "\n",
       "    .dataframe tbody tr th {\n",
       "        vertical-align: top;\n",
       "    }\n",
       "\n",
       "    .dataframe thead th {\n",
       "        text-align: right;\n",
       "    }\n",
       "</style>\n",
       "<table border=\"1\" class=\"dataframe\">\n",
       "  <thead>\n",
       "    <tr style=\"text-align: center;\">\n",
       "      <th></th>\n",
       "      <th>sarea</th>\n",
       "      <th>tot</th>\n",
       "      <th>sbi</th>\n",
       "    </tr>\n",
       "  </thead>\n",
       "  <tbody>\n",
       "    <tr>\n",
       "      <th>0001</th>\n",
       "      <td>信義區</td>\n",
       "      <td>84</td>\n",
       "      <td>74</td>\n",
       "    </tr>\n",
       "    <tr>\n",
       "      <th>0002</th>\n",
       "      <td>大安區</td>\n",
       "      <td>16</td>\n",
       "      <td>4</td>\n",
       "    </tr>\n",
       "    <tr>\n",
       "      <th>0004</th>\n",
       "      <td>信義區</td>\n",
       "      <td>32</td>\n",
       "      <td>0</td>\n",
       "    </tr>\n",
       "    <tr>\n",
       "      <th>0005</th>\n",
       "      <td>信義區</td>\n",
       "      <td>10</td>\n",
       "      <td>1</td>\n",
       "    </tr>\n",
       "    <tr>\n",
       "      <th>0006</th>\n",
       "      <td>信義區</td>\n",
       "      <td>54</td>\n",
       "      <td>11</td>\n",
       "    </tr>\n",
       "    <tr>\n",
       "      <th>...</th>\n",
       "      <td>...</td>\n",
       "      <td>...</td>\n",
       "      <td>...</td>\n",
       "    </tr>\n",
       "    <tr>\n",
       "      <th>0401</th>\n",
       "      <td>中山區</td>\n",
       "      <td>8</td>\n",
       "      <td>4</td>\n",
       "    </tr>\n",
       "    <tr>\n",
       "      <th>0402</th>\n",
       "      <td>內湖區</td>\n",
       "      <td>12</td>\n",
       "      <td>3</td>\n",
       "    </tr>\n",
       "    <tr>\n",
       "      <th>0403</th>\n",
       "      <td>內湖區</td>\n",
       "      <td>10</td>\n",
       "      <td>2</td>\n",
       "    </tr>\n",
       "    <tr>\n",
       "      <th>0404</th>\n",
       "      <td>大同區</td>\n",
       "      <td>10</td>\n",
       "      <td>5</td>\n",
       "    </tr>\n",
       "    <tr>\n",
       "      <th>0405</th>\n",
       "      <td>大安區</td>\n",
       "      <td>20</td>\n",
       "      <td>9</td>\n",
       "    </tr>\n",
       "  </tbody>\n",
       "</table>\n",
       "<p>369 rows × 3 columns</p>\n",
       "</div>"
      ],
      "text/plain": [
       "     sarea  tot  sbi\n",
       "0001   信義區  84   74 \n",
       "0002   大安區  16    4 \n",
       "0004   信義區  32    0 \n",
       "0005   信義區  10    1 \n",
       "0006   信義區  54   11 \n",
       "...    ...  ...  ...\n",
       "0401   中山區   8    4 \n",
       "0402   內湖區  12    3 \n",
       "0403   內湖區  10    2 \n",
       "0404   大同區  10    5 \n",
       "0405   大安區  20    9 \n",
       "\n",
       "[369 rows x 3 columns]"
      ]
     },
     "execution_count": 44,
     "metadata": {},
     "output_type": "execute_result"
    }
   ],
   "source": [
    "ubike_df[['sarea', 'tot', 'sbi']]"
   ]
  },
  {
   "cell_type": "code",
   "execution_count": 48,
   "metadata": {},
   "outputs": [
    {
     "data": {
      "text/plain": [
       "sarea\n",
       "中山區    672\n",
       "中正區    588\n",
       "信義區    624\n",
       "內湖區    756\n",
       "北投區    482\n",
       "南港區    388\n",
       "士林區    620\n",
       "大同區    238\n",
       "大安區    666\n",
       "文山區    450\n",
       "松山區    442\n",
       "萬華區    356\n",
       "Name: tot, dtype: int64"
      ]
     },
     "execution_count": 48,
     "metadata": {},
     "output_type": "execute_result"
    }
   ],
   "source": [
    "# sum up tot in each region(town-level)\n",
    "\n",
    "ubike_df.groupby(\"sarea\")[\"tot\"].sum()"
   ]
  },
  {
   "cell_type": "code",
   "execution_count": 52,
   "metadata": {
    "id": "_26WUfcaB4xu",
    "outputId": "6c7f9ffb-23ef-4cab-b9bc-9bb2a65df1c7"
   },
   "outputs": [
    {
     "data": {
      "text/html": [
       "<div>\n",
       "<style scoped>\n",
       "    .dataframe tbody tr th:only-of-type {\n",
       "        vertical-align: middle;\n",
       "    }\n",
       "\n",
       "    .dataframe tbody tr th {\n",
       "        vertical-align: top;\n",
       "    }\n",
       "\n",
       "    .dataframe thead th {\n",
       "        text-align: right;\n",
       "    }\n",
       "</style>\n",
       "<table border=\"1\" class=\"dataframe\">\n",
       "  <thead>\n",
       "    <tr style=\"text-align: center;\">\n",
       "      <th></th>\n",
       "      <th>sarea</th>\n",
       "      <th>tot</th>\n",
       "      <th>sbi</th>\n",
       "    </tr>\n",
       "  </thead>\n",
       "  <tbody>\n",
       "    <tr>\n",
       "      <th>0</th>\n",
       "      <td>中山區</td>\n",
       "      <td>672</td>\n",
       "      <td>177</td>\n",
       "    </tr>\n",
       "    <tr>\n",
       "      <th>1</th>\n",
       "      <td>中正區</td>\n",
       "      <td>588</td>\n",
       "      <td>236</td>\n",
       "    </tr>\n",
       "    <tr>\n",
       "      <th>2</th>\n",
       "      <td>信義區</td>\n",
       "      <td>624</td>\n",
       "      <td>236</td>\n",
       "    </tr>\n",
       "    <tr>\n",
       "      <th>3</th>\n",
       "      <td>內湖區</td>\n",
       "      <td>756</td>\n",
       "      <td>246</td>\n",
       "    </tr>\n",
       "    <tr>\n",
       "      <th>4</th>\n",
       "      <td>北投區</td>\n",
       "      <td>482</td>\n",
       "      <td>170</td>\n",
       "    </tr>\n",
       "    <tr>\n",
       "      <th>5</th>\n",
       "      <td>南港區</td>\n",
       "      <td>388</td>\n",
       "      <td>168</td>\n",
       "    </tr>\n",
       "    <tr>\n",
       "      <th>6</th>\n",
       "      <td>士林區</td>\n",
       "      <td>620</td>\n",
       "      <td>159</td>\n",
       "    </tr>\n",
       "    <tr>\n",
       "      <th>7</th>\n",
       "      <td>大同區</td>\n",
       "      <td>238</td>\n",
       "      <td>75</td>\n",
       "    </tr>\n",
       "    <tr>\n",
       "      <th>8</th>\n",
       "      <td>大安區</td>\n",
       "      <td>666</td>\n",
       "      <td>235</td>\n",
       "    </tr>\n",
       "    <tr>\n",
       "      <th>9</th>\n",
       "      <td>文山區</td>\n",
       "      <td>450</td>\n",
       "      <td>176</td>\n",
       "    </tr>\n",
       "    <tr>\n",
       "      <th>10</th>\n",
       "      <td>松山區</td>\n",
       "      <td>442</td>\n",
       "      <td>202</td>\n",
       "    </tr>\n",
       "    <tr>\n",
       "      <th>11</th>\n",
       "      <td>萬華區</td>\n",
       "      <td>356</td>\n",
       "      <td>169</td>\n",
       "    </tr>\n",
       "  </tbody>\n",
       "</table>\n",
       "</div>"
      ],
      "text/plain": [
       "   sarea  tot  sbi\n",
       "0    中山區  672  177\n",
       "1    中正區  588  236\n",
       "2    信義區  624  236\n",
       "3    內湖區  756  246\n",
       "4    北投區  482  170\n",
       "5    南港區  388  168\n",
       "6    士林區  620  159\n",
       "7    大同區  238   75\n",
       "8    大安區  666  235\n",
       "9    文山區  450  176\n",
       "10   松山區  442  202\n",
       "11   萬華區  356  169"
      ]
     },
     "execution_count": 52,
     "metadata": {},
     "output_type": "execute_result"
    }
   ],
   "source": [
    "ubike_stat = ubike_df.groupby(\"sarea\").agg({\"tot\": \"sum\", \"sbi\": \"sum\"}).reset_index()\n",
    "ubike_stat"
   ]
  },
  {
   "cell_type": "markdown",
   "metadata": {},
   "source": [
    "## P4. Sort-by (Arrange)"
   ]
  },
  {
   "cell_type": "code",
   "execution_count": 53,
   "metadata": {},
   "outputs": [
    {
     "data": {
      "text/html": [
       "<div>\n",
       "<style scoped>\n",
       "    .dataframe tbody tr th:only-of-type {\n",
       "        vertical-align: middle;\n",
       "    }\n",
       "\n",
       "    .dataframe tbody tr th {\n",
       "        vertical-align: top;\n",
       "    }\n",
       "\n",
       "    .dataframe thead th {\n",
       "        text-align: right;\n",
       "    }\n",
       "</style>\n",
       "<table border=\"1\" class=\"dataframe\">\n",
       "  <thead>\n",
       "    <tr style=\"text-align: center;\">\n",
       "      <th></th>\n",
       "      <th>sarea</th>\n",
       "      <th>tot</th>\n",
       "      <th>sbi</th>\n",
       "    </tr>\n",
       "  </thead>\n",
       "  <tbody>\n",
       "    <tr>\n",
       "      <th>3</th>\n",
       "      <td>內湖區</td>\n",
       "      <td>756</td>\n",
       "      <td>246</td>\n",
       "    </tr>\n",
       "    <tr>\n",
       "      <th>0</th>\n",
       "      <td>中山區</td>\n",
       "      <td>672</td>\n",
       "      <td>177</td>\n",
       "    </tr>\n",
       "    <tr>\n",
       "      <th>8</th>\n",
       "      <td>大安區</td>\n",
       "      <td>666</td>\n",
       "      <td>235</td>\n",
       "    </tr>\n",
       "    <tr>\n",
       "      <th>2</th>\n",
       "      <td>信義區</td>\n",
       "      <td>624</td>\n",
       "      <td>236</td>\n",
       "    </tr>\n",
       "    <tr>\n",
       "      <th>6</th>\n",
       "      <td>士林區</td>\n",
       "      <td>620</td>\n",
       "      <td>159</td>\n",
       "    </tr>\n",
       "    <tr>\n",
       "      <th>1</th>\n",
       "      <td>中正區</td>\n",
       "      <td>588</td>\n",
       "      <td>236</td>\n",
       "    </tr>\n",
       "    <tr>\n",
       "      <th>4</th>\n",
       "      <td>北投區</td>\n",
       "      <td>482</td>\n",
       "      <td>170</td>\n",
       "    </tr>\n",
       "    <tr>\n",
       "      <th>9</th>\n",
       "      <td>文山區</td>\n",
       "      <td>450</td>\n",
       "      <td>176</td>\n",
       "    </tr>\n",
       "    <tr>\n",
       "      <th>10</th>\n",
       "      <td>松山區</td>\n",
       "      <td>442</td>\n",
       "      <td>202</td>\n",
       "    </tr>\n",
       "    <tr>\n",
       "      <th>5</th>\n",
       "      <td>南港區</td>\n",
       "      <td>388</td>\n",
       "      <td>168</td>\n",
       "    </tr>\n",
       "    <tr>\n",
       "      <th>11</th>\n",
       "      <td>萬華區</td>\n",
       "      <td>356</td>\n",
       "      <td>169</td>\n",
       "    </tr>\n",
       "    <tr>\n",
       "      <th>7</th>\n",
       "      <td>大同區</td>\n",
       "      <td>238</td>\n",
       "      <td>75</td>\n",
       "    </tr>\n",
       "  </tbody>\n",
       "</table>\n",
       "</div>"
      ],
      "text/plain": [
       "   sarea  tot  sbi\n",
       "3    內湖區  756  246\n",
       "0    中山區  672  177\n",
       "8    大安區  666  235\n",
       "2    信義區  624  236\n",
       "6    士林區  620  159\n",
       "1    中正區  588  236\n",
       "4    北投區  482  170\n",
       "9    文山區  450  176\n",
       "10   松山區  442  202\n",
       "5    南港區  388  168\n",
       "11   萬華區  356  169\n",
       "7    大同區  238   75"
      ]
     },
     "execution_count": 53,
     "metadata": {},
     "output_type": "execute_result"
    }
   ],
   "source": [
    "# ascending=False to sort by dscending order\n",
    "ubike_stat.sort_values('tot', ascending=False)"
   ]
  },
  {
   "cell_type": "code",
   "execution_count": 55,
   "metadata": {},
   "outputs": [
    {
     "data": {
      "text/html": [
       "<div>\n",
       "<style scoped>\n",
       "    .dataframe tbody tr th:only-of-type {\n",
       "        vertical-align: middle;\n",
       "    }\n",
       "\n",
       "    .dataframe tbody tr th {\n",
       "        vertical-align: top;\n",
       "    }\n",
       "\n",
       "    .dataframe thead th {\n",
       "        text-align: right;\n",
       "    }\n",
       "</style>\n",
       "<table border=\"1\" class=\"dataframe\">\n",
       "  <thead>\n",
       "    <tr style=\"text-align: center;\">\n",
       "      <th></th>\n",
       "      <th>sno</th>\n",
       "      <th>sna</th>\n",
       "      <th>tot</th>\n",
       "      <th>sbi</th>\n",
       "      <th>ratio</th>\n",
       "    </tr>\n",
       "  </thead>\n",
       "  <tbody>\n",
       "    <tr>\n",
       "      <th>0119</th>\n",
       "      <td>0119</td>\n",
       "      <td>捷運劍南路站(2號出口)</td>\n",
       "      <td>10</td>\n",
       "      <td>10</td>\n",
       "      <td>1.000000</td>\n",
       "    </tr>\n",
       "    <tr>\n",
       "      <th>0158</th>\n",
       "      <td>0158</td>\n",
       "      <td>捷運東湖站</td>\n",
       "      <td>18</td>\n",
       "      <td>17</td>\n",
       "      <td>0.944444</td>\n",
       "    </tr>\n",
       "    <tr>\n",
       "      <th>0120</th>\n",
       "      <td>0120</td>\n",
       "      <td>捷運龍山寺站(1號出口)</td>\n",
       "      <td>14</td>\n",
       "      <td>13</td>\n",
       "      <td>0.928571</td>\n",
       "    </tr>\n",
       "    <tr>\n",
       "      <th>0001</th>\n",
       "      <td>0001</td>\n",
       "      <td>捷運市政府站(3號出口)</td>\n",
       "      <td>84</td>\n",
       "      <td>74</td>\n",
       "      <td>0.880952</td>\n",
       "    </tr>\n",
       "    <tr>\n",
       "      <th>0344</th>\n",
       "      <td>0344</td>\n",
       "      <td>捷運忠孝復興站(5號出口)</td>\n",
       "      <td>22</td>\n",
       "      <td>19</td>\n",
       "      <td>0.863636</td>\n",
       "    </tr>\n",
       "    <tr>\n",
       "      <th>0363</th>\n",
       "      <td>0363</td>\n",
       "      <td>復興南路一段340巷口</td>\n",
       "      <td>12</td>\n",
       "      <td>10</td>\n",
       "      <td>0.833333</td>\n",
       "    </tr>\n",
       "    <tr>\n",
       "      <th>0265</th>\n",
       "      <td>0265</td>\n",
       "      <td>中央北路四段30巷口</td>\n",
       "      <td>12</td>\n",
       "      <td>10</td>\n",
       "      <td>0.833333</td>\n",
       "    </tr>\n",
       "    <tr>\n",
       "      <th>0058</th>\n",
       "      <td>0058</td>\n",
       "      <td>捷運善導寺站(1號出口)</td>\n",
       "      <td>12</td>\n",
       "      <td>10</td>\n",
       "      <td>0.833333</td>\n",
       "    </tr>\n",
       "    <tr>\n",
       "      <th>0095</th>\n",
       "      <td>0095</td>\n",
       "      <td>東園國小</td>\n",
       "      <td>12</td>\n",
       "      <td>10</td>\n",
       "      <td>0.833333</td>\n",
       "    </tr>\n",
       "    <tr>\n",
       "      <th>0364</th>\n",
       "      <td>0364</td>\n",
       "      <td>嘉興公園</td>\n",
       "      <td>12</td>\n",
       "      <td>10</td>\n",
       "      <td>0.833333</td>\n",
       "    </tr>\n",
       "  </tbody>\n",
       "</table>\n",
       "</div>"
      ],
      "text/plain": [
       "      sno       sna        tot  sbi    ratio \n",
       "0119  0119   捷運劍南路站(2號出口)  10   10   1.000000\n",
       "0158  0158          捷運東湖站  18   17   0.944444\n",
       "0120  0120   捷運龍山寺站(1號出口)  14   13   0.928571\n",
       "0001  0001   捷運市政府站(3號出口)  84   74   0.880952\n",
       "0344  0344  捷運忠孝復興站(5號出口)  22   19   0.863636\n",
       "0363  0363    復興南路一段340巷口  12   10   0.833333\n",
       "0265  0265     中央北路四段30巷口  12   10   0.833333\n",
       "0058  0058   捷運善導寺站(1號出口)  12   10   0.833333\n",
       "0095  0095           東園國小  12   10   0.833333\n",
       "0364  0364           嘉興公園  12   10   0.833333"
      ]
     },
     "execution_count": 55,
     "metadata": {},
     "output_type": "execute_result"
    }
   ],
   "source": [
    "ubike_df.sort_values('ratio', ascending=False)[['sno', 'sna', 'tot', 'sbi', 'ratio']].head(10)"
   ]
  }
 ],
 "metadata": {
  "colab": {
   "name": "P07_pandas.ipynb",
   "provenance": []
  },
  "kernelspec": {
   "display_name": "Python 3 (ipykernel)",
   "language": "python",
   "name": "python3"
  },
  "language_info": {
   "codemirror_mode": {
    "name": "ipython",
    "version": 3
   },
   "file_extension": ".py",
   "mimetype": "text/x-python",
   "name": "python",
   "nbconvert_exporter": "python",
   "pygments_lexer": "ipython3",
   "version": "3.9.18"
  },
  "toc": {
   "base_numbering": 1,
   "nav_menu": {},
   "number_sections": true,
   "sideBar": true,
   "skip_h1_title": false,
   "title_cell": "Table of Contents",
   "title_sidebar": "Contents",
   "toc_cell": false,
   "toc_position": {},
   "toc_section_display": true,
   "toc_window_display": false
  },
  "toc-autonumbering": false,
  "toc-showcode": false,
  "varInspector": {
   "cols": {
    "lenName": 16,
    "lenType": 16,
    "lenVar": 40
   },
   "kernels_config": {
    "python": {
     "delete_cmd_postfix": "",
     "delete_cmd_prefix": "del ",
     "library": "var_list.py",
     "varRefreshCmd": "print(var_dic_list())"
    },
    "r": {
     "delete_cmd_postfix": ") ",
     "delete_cmd_prefix": "rm(",
     "library": "var_list.r",
     "varRefreshCmd": "cat(var_dic_list()) "
    }
   },
   "types_to_exclude": [
    "module",
    "function",
    "builtin_function_or_method",
    "instance",
    "_Feature"
   ],
   "window_display": false
  }
 },
 "nbformat": 4,
 "nbformat_minor": 4
}
