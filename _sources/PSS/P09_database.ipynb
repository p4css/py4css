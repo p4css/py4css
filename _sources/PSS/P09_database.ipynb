{
 "cells": [
  {
   "cell_type": "markdown",
   "id": "e43b5a44-2bbc-477e-adb3-279a50f9a7a1",
   "metadata": {},
   "source": [
    "# P09 Database\n"
   ]
  },
  {
   "cell_type": "markdown",
   "id": "3ee1dafc-5b09-4ae6-a644-e14448f0a7e3",
   "metadata": {},
   "source": [
    "## Pandas to SQLite\n",
    "\n",
    "Download data of the case from https://github.com/p4css/PSS/raw/master/data/pttpost_20210509_n178.dat"
   ]
  },
  {
   "cell_type": "code",
   "execution_count": 4,
   "id": "a64cc08f-ee01-46dd-9671-c96a7c872f6c",
   "metadata": {},
   "outputs": [],
   "source": [
    "# Load data from pickle file\n",
    "\n",
    "import pickle\n",
    "with open(\"data/pttpost_20210509_n178.dat\", \"rb\") as fin:\n",
    "    all_post = pickle.load(fin)"
   ]
  },
  {
   "cell_type": "code",
   "execution_count": 5,
   "metadata": {},
   "outputs": [
    {
     "data": {
      "text/plain": [
       "178"
      ]
     },
     "execution_count": 5,
     "metadata": {},
     "output_type": "execute_result"
    }
   ],
   "source": [
    "# Convert a list of dictionaries to a pandas DataFrame\n",
    "import pandas as pd\n",
    "df = pd.DataFrame(all_post)\n",
    "\n",
    "# Select columns\n",
    "post_df = df[['author', 'title', 'content', 'authorid', 'nickname', 'link', 'timestamp']]"
   ]
  },
  {
   "cell_type": "code",
   "execution_count": null,
   "metadata": {},
   "outputs": [],
   "source": [
    "# Create a SQLite database pttpost.db\n",
    "# Insert post_df into the table posts\n",
    "\n",
    "import sqlite3\n",
    "conn = sqlite3.connect('data/pttpost.db')\n",
    "post_df.to_sql('posts', conn, if_exists='replace', index=False)\n",
    "conn.close()"
   ]
  },
  {
   "cell_type": "markdown",
   "metadata": {},
   "source": [
    "## Design your API using Flask\n",
    "\n",
    "1. Create an app.py file and paste the following code\n",
    "2. Go to the terminal and run the following command: `python app.py`\n",
    "3. Open a browser and send a request to http://localhost:8070/\n",
    "4. Open a browser and send a request to http://localhost:8070/data?n=10\n",
    "5. Open a browser and send a request to http://localhost:8070/data?fields=author,title,content&n=10\n",
    "6. Open a browser and send a request to http://localhost:8070/data?fields=author,title,content&keyword=中國&n=10\n"
   ]
  },
  {
   "cell_type": "code",
   "execution_count": null,
   "metadata": {},
   "outputs": [],
   "source": [
    "\"\"\"\n",
    "from flask import Flask, jsonify, request\n",
    "import sqlite3\n",
    "\n",
    "app = Flask(__name__)\n",
    "\n",
    "DATABASE = 'data/pttpost.db'\n",
    "\n",
    "def get_db_connection():\n",
    "    conn = sqlite3.connect(DATABASE)\n",
    "    conn.row_factory = sqlite3.Row\n",
    "    return conn\n",
    "\n",
    "def get_data(fields=None, keyword=None, n=5):\n",
    "    conn = get_db_connection()\n",
    "\n",
    "    # 確保提供的欄位有效\n",
    "    valid_fields = {'title', 'content', 'author', 'authorid', 'timestamp', 'link'}\n",
    "    if fields:\n",
    "        query_fields = fields.split(',')\n",
    "        query_fields = [field for field in query_fields if field in valid_fields]\n",
    "        if not query_fields:\n",
    "            query_fields = ['*']\n",
    "    else:\n",
    "        query_fields = ['*']\n",
    "\n",
    "    # 構建SQL查詢\n",
    "    if keyword:\n",
    "        query = f'SELECT {\", \".join(query_fields)} FROM posts WHERE title LIKE ? LIMIT ?'\n",
    "        data = conn.execute(query, ('%' + keyword + '%', n)).fetchall()\n",
    "    else:\n",
    "        query = f'SELECT {\", \".join(query_fields)} FROM posts LIMIT ?'\n",
    "        data = conn.execute(query, (n,)).fetchall()\n",
    "\n",
    "    conn.close()\n",
    "    return [dict(row) for row in data]\n",
    "\n",
    "\n",
    "@app.route('/')\n",
    "def welcome():\n",
    "    return get_data(n=5)\n",
    "\n",
    "\n",
    "@app.route('/data')\n",
    "def data():\n",
    "    fields = request.args.get('fields')\n",
    "    keyword = request.args.get('keyword')  # 從URL獲取關鍵字\n",
    "    n = request.args.get('n', default=5, type=int)\n",
    "    data = get_data(fields, keyword, n)\n",
    "    return jsonify(data)\n",
    "\n",
    "\n",
    "if __name__ == '__main__':\n",
    "    app.run(debug=False, port=8070)\n",
    "\"\"\""
   ]
  }
 ],
 "metadata": {
  "kernelspec": {
   "display_name": "Python 3 (ipykernel)",
   "language": "python",
   "name": "python3"
  },
  "language_info": {
   "codemirror_mode": {
    "name": "ipython",
    "version": 3
   },
   "file_extension": ".py",
   "mimetype": "text/x-python",
   "name": "python",
   "nbconvert_exporter": "python",
   "pygments_lexer": "ipython3",
   "version": "3.9.18"
  }
 },
 "nbformat": 4,
 "nbformat_minor": 5
}
