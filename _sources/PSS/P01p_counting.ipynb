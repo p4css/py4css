{
 "cells": [
  {
   "cell_type": "markdown",
   "id": "fdb51112",
   "metadata": {},
   "source": [
    "# P01-Practice"
   ]
  },
  {
   "cell_type": "markdown",
   "id": "b6d4f027",
   "metadata": {},
   "source": [
    "## Q1. Counting fruits\n",
    "\n",
    "現有一堆水果，假設有6個，請計算每種水果各出現幾次。假設水果為`['apple', 'banana', 'cherry', 'apple', 'banana', 'apple']`。這個練習主要是為了讓你熟悉程式碼的撰寫，來增加手感，所以請務必自己打打看。\n"
   ]
  },
  {
   "cell_type": "code",
   "execution_count": 1,
   "id": "b38d607e",
   "metadata": {},
   "outputs": [],
   "source": [
    "# Create a list of fruits\n",
    "\n",
    "# Create a fruit_dict dictionary to count the number of fruits\n",
    "\n",
    "# Using a for loop, count the number of each fruit in the list\n",
    "\n",
    "# Print the fruit_dict dictionary\n"
   ]
  },
  {
   "cell_type": "markdown",
   "id": "e5414b33-36ae-4567-9a4c-5a56cc7902df",
   "metadata": {},
   "source": [
    "## Q2. NTU's GPA Grading\n",
    "參考「成績百分制轉等第制」的程式碼（如下），再參考[台大百分制轉等第的規定](https://www.aca.ntu.edu.tw/WebUPD/aca/UAADForms/%E7%AD%89%E7%AC%AC%E5%88%B6%E6%88%90%E7%B8%BE%E5%AE%9A%E7%BE%A9%E8%88%87%E7%AD%89%E7%AC%AC%E7%B8%BE%E5%88%86%E8%A1%A8.pdf)，寫出完整且合乎規定的百分制的轉換if-else邏輯判斷式。\n",
    "\n",
    "```\n",
    "# Initializing level frequency\n",
    "grade_dict = {'F':0, \"C\":0, \"B\":0, \"A\":0}\n",
    "\n",
    "# Counting level frequency\n",
    "for g in grades:\n",
    "    if 100 >= g >= 80:\n",
    "        grade_dict[\"A\"] += 1\n",
    "    elif 79 >= g >= 72:\n",
    "        grade_dict[\"B\"] += 1\n",
    "    elif 71 >= g >= 60:\n",
    "        grade_dict[\"C\"] += 1\n",
    "    else:\n",
    "        grade_dict[\"F\"] += 1\n",
    "print(grade_dict)\n",
    "```"
   ]
  },
  {
   "cell_type": "code",
   "execution_count": 1,
   "id": "542db291-d1fa-4873-b444-2ff1b8553a29",
   "metadata": {},
   "outputs": [],
   "source": [
    "grades = [45, 55, 100, 90, 89, 79, 38, 61, 71, 91, 85, 75, 65, 44, 66, 77, 88]\n",
    "# Your code should be here\n",
    "\n",
    "\n"
   ]
  },
  {
   "cell_type": "markdown",
   "id": "e3b3a253-ca67-44a5-960d-46800a0d1b0b",
   "metadata": {},
   "source": [
    "用for-loop列印出每個等第個有多少人？"
   ]
  },
  {
   "cell_type": "code",
   "execution_count": null,
   "id": "57956a9c-9c57-4372-bd79-faa9bf3040e4",
   "metadata": {},
   "outputs": [],
   "source": [
    "# Your code should be here\n"
   ]
  },
  {
   "cell_type": "markdown",
   "id": "efa8e29b-118f-4f12-b96b-6a8a87bb6e3d",
   "metadata": {},
   "source": [
    "## Q3. Sorting keyword frequency\n",
    "仿照教學範例中最後一節的排序函式，將Wikipedia詞頻計算結果由大而小排序，並用for-loop將排序結果印出來。觀察一下，詞頻高的字詞有哪些呢？一共有三種寫法，請三種寫法都寫寫看。"
   ]
  },
  {
   "cell_type": "code",
   "execution_count": 5,
   "id": "93d66af1-4b0a-4395-830b-a4e9d3b4d4de",
   "metadata": {},
   "outputs": [],
   "source": [
    "import wikipedia    # import a 3rd-party library into runtime\n",
    "string_a  = wikipedia.summary(\"Big_data\", sentences = 10)   # get data by 3rd-party function\n",
    "\n",
    "import string\n",
    "translator = str.maketrans('','',string.punctuation)\n",
    "string_a = string_a.translate(translator)\n",
    "string_a = string_a.lower()\n",
    "\n",
    "from collections import Counter\n",
    "words = string_a.split()\n",
    "word_freq = Counter(words)"
   ]
  },
  {
   "cell_type": "code",
   "execution_count": null,
   "id": "df840144-fd33-428e-b7ab-ec7302b2f806",
   "metadata": {},
   "outputs": [],
   "source": [
    "# Method 1: sorting tuples \n",
    "\n"
   ]
  },
  {
   "cell_type": "code",
   "execution_count": null,
   "id": "ddad561e-8799-4490-9f95-a5e599b11de3",
   "metadata": {},
   "outputs": [],
   "source": [
    "# Method 2: sort by dict.get()\n",
    "\n"
   ]
  },
  {
   "cell_type": "code",
   "execution_count": 6,
   "id": "d19189f2-5ebd-4a26-b4f2-043b88117844",
   "metadata": {},
   "outputs": [
    {
     "name": "stdout",
     "output_type": "stream",
     "text": [
      "data 23\n",
      "and 15\n",
      "of 11\n",
      "to 9\n",
      "big 8\n",
      "the 8\n",
      "with 5\n",
      "that 4\n",
      "or 4\n",
      "analysis 4\n",
      "in 4\n",
      "analytics 4\n",
      "sets 3\n",
      "large 3\n",
      "a 3\n",
      "business 3\n",
      "devices 3\n",
      "refers 2\n",
      "are 2\n",
      "complex 2\n",
      "by 2\n",
      "software 2\n",
      "higher 2\n",
      "challenges 2\n",
      "information 2\n",
      "volume 2\n",
      "variety 2\n",
      "sampling 2\n",
      "thus 2\n",
      "for 2\n",
      "veracity 2\n",
      "can 2\n",
      "value 2\n",
      "from 2\n",
      "size 2\n",
      "is 2\n",
      "available 2\n",
      "new 2\n",
      "scientists 2\n",
      "including 2\n",
      "internet 2\n",
      "informatics 2\n",
      "as 2\n",
      "too 1\n",
      "be 1\n",
      "dealt 1\n",
      "traditional 1\n",
      "dataprocessing 1\n",
      "application 1\n",
      "many 1\n",
      "fields 1\n",
      "rows 1\n",
      "offer 1\n",
      "greater 1\n",
      "statistical 1\n",
      "power 1\n",
      "while 1\n",
      "complexity 1\n",
      "more 1\n",
      "attributes 1\n",
      "columns 1\n",
      "may 1\n",
      "lead 1\n",
      "false 1\n",
      "discovery 1\n",
      "rate 1\n",
      "include 1\n",
      "capturing 1\n",
      "storage 1\n",
      "search 1\n",
      "sharing 1\n",
      "transfer 1\n",
      "visualization 1\n",
      "querying 1\n",
      "updating 1\n",
      "privacy 1\n",
      "source 1\n",
      "was 1\n",
      "originally 1\n",
      "associated 1\n",
      "three 1\n",
      "key 1\n",
      "concepts 1\n",
      "velocity 1\n",
      "presents 1\n",
      "previously 1\n",
      "allowing 1\n",
      "only 1\n",
      "observations 1\n",
      "fourth 1\n",
      "concept 1\n",
      "quality 1\n",
      "insightfulness 1\n",
      "without 1\n",
      "sufficient 1\n",
      "investment 1\n",
      "expertise 1\n",
      "then 1\n",
      "produce 1\n",
      "costs 1\n",
      "risks 1\n",
      "exceed 1\n",
      "an 1\n",
      "organizations 1\n",
      "capacity 1\n",
      "create 1\n",
      "capture 1\n",
      "datacurrent 1\n",
      "usage 1\n",
      "term 1\n",
      "tends 1\n",
      "refer 1\n",
      "use 1\n",
      "predictive 1\n",
      "user 1\n",
      "behavior 1\n",
      "certain 1\n",
      "other 1\n",
      "advanced 1\n",
      "methods 1\n",
      "extract 1\n",
      "seldom 1\n",
      "particular 1\n",
      "set 1\n",
      "there 1\n",
      "little 1\n",
      "doubt 1\n",
      "quantities 1\n",
      "now 1\n",
      "indeed 1\n",
      "but 1\n",
      "thats 1\n",
      "not 1\n",
      "most 1\n",
      "relevant 1\n",
      "characteristic 1\n",
      "this 1\n",
      "ecosystem 1\n",
      "find 1\n",
      "correlations 1\n",
      "spot 1\n",
      "trends 1\n",
      "prevent 1\n",
      "diseases 1\n",
      "combat 1\n",
      "crime 1\n",
      "so 1\n",
      "on 1\n",
      "executives 1\n",
      "medical 1\n",
      "practitioners 1\n",
      "advertising 1\n",
      "governments 1\n",
      "alike 1\n",
      "regularly 1\n",
      "meet 1\n",
      "difficulties 1\n",
      "datasets 1\n",
      "areas 1\n",
      "searches 1\n",
      "fintech 1\n",
      "healthcare 1\n",
      "geographic 1\n",
      "systems 1\n",
      "urban 1\n",
      "encounter 1\n",
      "limitations 1\n",
      "escience 1\n",
      "work 1\n",
      "meteorology 1\n",
      "genomics 1\n",
      "connectomics 1\n",
      "physics 1\n",
      "simulations 1\n",
      "biology 1\n",
      "environmental 1\n",
      "researchthe 1\n",
      "number 1\n",
      "have 1\n",
      "grown 1\n",
      "rapidly 1\n",
      "collected 1\n",
      "such 1\n",
      "mobile 1\n",
      "cheap 1\n",
      "numerous 1\n",
      "informationsensing 1\n",
      "things 1\n",
      "aerial 1\n",
      "remote 1\n",
      "sensing 1\n",
      "logs 1\n",
      "cameras 1\n",
      "microphones 1\n",
      "radiofrequency 1\n",
      "identification 1\n",
      "rfid 1\n",
      "readers 1\n",
      "wireless 1\n",
      "sensor 1\n",
      "networks 1\n"
     ]
    }
   ],
   "source": [
    "# Method 3: sort by Counter's most_common() function\n",
    "\n"
   ]
  },
  {
   "cell_type": "markdown",
   "id": "8e9eb508",
   "metadata": {},
   "source": [
    "## Q4. Plotting\n",
    "\n",
    "上述`Counter()`的計算結果，我希望把他繪製成橫向的長條圖，且需要排序過資料，讓最多的項目在最上面。請問要怎麼做？（問ChatGPT看看會得到什麼答案？）"
   ]
  },
  {
   "cell_type": "code",
   "execution_count": null,
   "id": "d745c96d",
   "metadata": {},
   "outputs": [],
   "source": [
    "# your code should be here"
   ]
  },
  {
   "cell_type": "markdown",
   "id": "1b5d6ddb",
   "metadata": {},
   "source": [
    "**Visualized by seaborn or plotly?**: 還有沒有其他種視覺化方法"
   ]
  },
  {
   "cell_type": "code",
   "execution_count": null,
   "id": "c28ed2cc",
   "metadata": {},
   "outputs": [],
   "source": [
    "# Your code should be here"
   ]
  },
  {
   "cell_type": "markdown",
   "id": "b8300124-70c9-4f2c-97ab-638da63ddfb7",
   "metadata": {},
   "source": [
    "## Q5. (Option) Frequency of typing\n",
    "\n",
    "我想知道，讓一個人隨機打字的時候，除了按到標點符號外，他最常打的26個英文字母為何，我該如何寫程式來測試？問問看ChatGPT。"
   ]
  },
  {
   "cell_type": "code",
   "execution_count": null,
   "id": "77908d22-c723-496e-84c2-94d882a0b854",
   "metadata": {},
   "outputs": [],
   "source": [
    "# your code should be here\n"
   ]
  }
 ],
 "metadata": {
  "kernelspec": {
   "display_name": "Python 3 (ipykernel)",
   "language": "python",
   "name": "python3"
  },
  "language_info": {
   "codemirror_mode": {
    "name": "ipython",
    "version": 3
   },
   "file_extension": ".py",
   "mimetype": "text/x-python",
   "name": "python",
   "nbconvert_exporter": "python",
   "pygments_lexer": "ipython3",
   "version": "3.10.9"
  }
 },
 "nbformat": 4,
 "nbformat_minor": 5
}
