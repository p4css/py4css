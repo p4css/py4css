{
 "cells": [
  {
   "cell_type": "markdown",
   "id": "98ea41e2-65a8-43fe-a24f-2ada9c3a484e",
   "metadata": {},
   "source": [
    "# P07 Visualization\n",
    "\n",
    "\n",
    "以下為本章節的目錄：\n",
    "```{tableofcontents}\n",
    "```"
   ]
  },
  {
   "cell_type": "code",
   "execution_count": null,
   "id": "def099dc-8f6b-462f-b3e6-3e70d7e14a29",
   "metadata": {},
   "outputs": [],
   "source": []
  }
 ],
 "metadata": {
  "kernelspec": {
   "display_name": "Python 3 (ipykernel)",
   "language": "python",
   "name": "python3"
  },
  "language_info": {
   "codemirror_mode": {
    "name": "ipython",
    "version": 3
   },
   "file_extension": ".py",
   "mimetype": "text/x-python",
   "name": "python",
   "nbconvert_exporter": "python",
   "pygments_lexer": "ipython3",
   "version": "3.9.12"
  }
 },
 "nbformat": 4,
 "nbformat_minor": 5
}
