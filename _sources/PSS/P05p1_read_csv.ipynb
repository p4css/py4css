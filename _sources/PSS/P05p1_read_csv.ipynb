{
 "cells": [
  {
   "cell_type": "markdown",
   "metadata": {
    "id": "RFRYjjGZGl7d"
   },
   "source": [
    "# P05-1 Read CSV\n",
    "\n",
    "資料來源：政府開放資料[違規藥品廣告資料集](https://data.gov.tw/dataset/14196)\n",
    "\n",
    "<div style=\"border:2px solid gray; padding:5px; background-color:#F8F8F8\">\n",
    "\n",
    "- Get and open file\n",
    "  - Get file by link then read\n",
    "  - Read file on local machine\n",
    "  - Mount Google Drive and read file using Colab\n",
    "- Read CSV\n",
    "  - by `f.read()`\n",
    "  - by `f.readlines()`\n",
    "  - **by `csv.reader()`**\n",
    "- Write CSV\n",
    "    - by `f.write()`\n",
    "    - by `csv.writer()`\n",
    "\n",
    "</div>\n",
    "\n"
   ]
  },
  {
   "cell_type": "markdown",
   "metadata": {
    "id": "k8mUeHqLbls_"
   },
   "source": [
    "## Get and Open File\n",
    "\n",
    "1. 如果是在Colab或JupyterLab上，可以用`wget`指令將該檔案抓回來現在的資料夾中（推薦上課中這麼做）。\n",
    "2. 如果是用VSCode或jupyter撰寫，建議把csv檔下載回本機端，放到程式碼的資料夾。接下來只要弄懂資料路徑就可以讀取。https://raw.githubusercontent.com/p4css/py4css/main/data/drug_156_2.csv\n",
    "3. 如果是在colab上執行，可以先在程式中mount google drive，並把位置指到相對應的路徑。"
   ]
  },
  {
   "cell_type": "markdown",
   "metadata": {},
   "source": [
    "### Method 1：Colab/jupyterlab. Read file via link\n",
    "\n",
    "在Colab上可以用`wget`指令，將該檔案讀回來，`-o`的意思是代表如果已經有一樣的檔案就覆寫（Overwrite）過去，`-o`後面是新的檔名，可以用此命名為比較好記的檔名，但我個人習慣保持一樣的檔名。`wget`的步驟是把檔案抓回Colab的工作環境中。下一步才是開啟檔案。"
   ]
  },
  {
   "cell_type": "code",
   "execution_count": 5,
   "metadata": {},
   "outputs": [],
   "source": [
    "# Uncomment the following code when you run on colab or jupyter-lab\n",
    "\n",
    "# !wget https://raw.githubusercontent.com/p4css/py4css/main/data/drug_156_2.csv -O drug_156_2.csv\n",
    "# with open(\"drug_156_2.csv\", \"r\", encoding=\"utf-8-sig\") as f:\n",
    "#     print(f)\n",
    "#     print(type(f))"
   ]
  },
  {
   "cell_type": "markdown",
   "metadata": {},
   "source": [
    "### Method 2：Jupyterlab. Read from local PC\n",
    "\n",
    "如果是在個人PC上，用VS Code或Jupyter等自行安裝的編輯器寫作的話，那就需要在程式碼中指定該檔案的路徑，通常以指定相對路徑為佳。相關說明如[相對路徑](https://www.injerry.com/blog_view/131#:~:text=%E7%9B%B8%E5%B0%8D%E8%B7%AF%E5%BE%91%E6%8C%87%E7%9A%84%E6%98%AF,%E5%9C%A8%E9%80%99%E5%80%8B%E8%B3%87%E6%96%99%E5%A4%BE%E8%A3%A1%E9%9D%A2%E3%80%82)\n",
    "1. 如果.ipynb和test.csv在同一個資料夾內，用`test.csv`或者`./test.csv`便可讀取在同一個資料夾內的檔案。\n",
    "2. 如果test.csv被放置在.ipynb所在位置的test資料夾中，用`test/test.csv`便可讀取，意即，在同一層中的test資料夾中的test.csv。\n",
    "3. 如果test.csv被放置在.ipynb所在位置的外部資料夾中，那就要用`../test.csv`往外跳出這層資料夾，每多一個`..`就代表往外跳一層，例如`../../test.csv`代表往外跳兩層"
   ]
  },
  {
   "cell_type": "code",
   "execution_count": 4,
   "metadata": {
    "executionInfo": {
     "elapsed": 837,
     "status": "ok",
     "timestamp": 1616055278111,
     "user": {
      "displayName": "JILUNG",
      "photoUrl": "https://lh3.googleusercontent.com/a-/AOh14Gg6zj7prBu9I41dXrwQwaD6D0pMAipXePNpoU-MZ30=s64",
      "userId": "08765716966079614016"
     },
     "user_tz": -480
    },
    "id": "IGmUSERvKoiw"
   },
   "outputs": [
    {
     "name": "stdout",
     "output_type": "stream",
     "text": [
      "<_io.TextIOWrapper name='drug_156_2.csv' mode='r' encoding='utf-8-sig'>\n",
      "<class '_io.TextIOWrapper'>\n"
     ]
    }
   ],
   "source": [
    "# Be sure to specify right path\n",
    "with open(\"drug_156_2.csv\", \"r\", encoding=\"utf-8-sig\") as f:\n",
    "    print(f)\n",
    "    print(type(f))"
   ]
  },
  {
   "cell_type": "markdown",
   "metadata": {},
   "source": [
    "### Method 3：Colab. Mount drive then read\n",
    "\n",
    "Google Colab提供一個選項是把個人的Google Drive 掛載（Mount）到Colab的執行環境中，意味著可以用程式直接讀取個人放在Google drive裡面的資料。"
   ]
  },
  {
   "cell_type": "markdown",
   "metadata": {},
   "source": [
    "\n",
    "```python\n",
    "\n",
    "# Mount google drive as data\n",
    "from google.colab import drive\n",
    "drive.mount('/content/drive')\n",
    "\n",
    "#data path using google colab\n",
    "gdrive_path = \"/content/drive/My Drive/Colab Notebooks/PSS1092/data/14196_drug_adv.csv\" \n",
    "\n",
    "```"
   ]
  },
  {
   "cell_type": "markdown",
   "metadata": {},
   "source": [
    "## Read opened CSV\n",
    "\n",
    "當規劃要讀進一個CSV檔時，可以有三種做法：\n",
    "\n",
    "<div style=\"border:2px solid gray; padding:5px; background-color:#F8F8F8\">\n",
    "\n",
    "1. **`f.read()`**：這個函式讀取整個檔案的內容為一個字串，需要手動使用 `split('\\n')` 來將其切割成一行一行的資料。\n",
    "2. **`f.readlines()`**：這個函式遇到換行符號 `\\n` 會自動將檔案內容分成多個行，每一行是一個字串。然後，你可以使用 `split(',')` 將每一行的資料進一步切割成欄位。\n",
    "3. **`csv.reader()`**：利用 `csv` 函式庫的 `csv.reader()` 函式，將文字資料轉換為 Python 物件，並自動切割成 List 中的元素。\n",
    "4. **Pandas**：另一個選擇是使用 Pandas 函式庫，它提供了更高級的功能來處理 CSV 檔案，後面的章節會介紹詳細內容。\n",
    "\n",
    "</div>\n",
    "\n",
    "當直接將已打開的檔案 `f` 印出時，實際上會顯示的是 `f` 這個變數的內容（為一個檔案物件如下列程式碼`<_io.TextIOWrapper name='drug_156_2.csv' mode='r' encoding='utf-8-sig'>`，而非檔案內容本身。要讀取檔案內容，我們需要使用 `f.readlines()` 或 `f.read()` 函式。使用 `f.readlines()` 可以讓我們方便地讀取每一行的文字內容，而 `f.read()` 則會返回整個檔案的文字內容，我們可以後續自行處理。這兩者的選擇取決於我們需要處理的資料形式以及後續的處理需求。"
   ]
  },
  {
   "cell_type": "code",
   "execution_count": 11,
   "metadata": {
    "colab": {
     "base_uri": "https://localhost:8080/"
    },
    "executionInfo": {
     "elapsed": 889,
     "status": "ok",
     "timestamp": 1616055882936,
     "user": {
      "displayName": "JILUNG",
      "photoUrl": "https://lh3.googleusercontent.com/a-/AOh14Gg6zj7prBu9I41dXrwQwaD6D0pMAipXePNpoU-MZ30=s64",
      "userId": "08765716966079614016"
     },
     "user_tz": -480
    },
    "id": "h2IRI7qJbrXf",
    "outputId": "bdb6bcca-aa55-4db7-91d6-cf597a32bd67"
   },
   "outputs": [
    {
     "name": "stdout",
     "output_type": "stream",
     "text": [
      "<_io.TextIOWrapper name='drug_156_2.csv' mode='r' encoding='utf-8-sig'>\n",
      "<class '_io.TextIOWrapper'>\n"
     ]
    }
   ],
   "source": [
    "with open(\"drug_156_2.csv\", \"r\", encoding=\"utf-8-sig\") as f:\n",
    "    print(f)\n",
    "    print(type(f))"
   ]
  },
  {
   "cell_type": "markdown",
   "metadata": {
    "id": "Qup5q06uZpai"
   },
   "source": [
    "### Method 1: by `f.read()`\n",
    "\n",
    "當我用`f.read()`讀取純文字檔案內的內容時，整個內容會被轉為單一string。由於我加了Slicing `f.read()[:400]`來取出前400個字，剛好可以看見第一列的詮釋資料、第一二三筆資料，但到了第三筆資料的一半，便超過400個字。"
   ]
  },
  {
   "cell_type": "code",
   "execution_count": null,
   "metadata": {
    "colab": {
     "base_uri": "https://localhost:8080/"
    },
    "executionInfo": {
     "elapsed": 883,
     "status": "ok",
     "timestamp": 1616055383590,
     "user": {
      "displayName": "JILUNG",
      "photoUrl": "https://lh3.googleusercontent.com/a-/AOh14Gg6zj7prBu9I41dXrwQwaD6D0pMAipXePNpoU-MZ30=s64",
      "userId": "08765716966079614016"
     },
     "user_tz": -480
    },
    "id": "o3zri5svZu50",
    "outputId": "2a030d27-fbe6-4fc3-c9f1-475f4f60087e"
   },
   "outputs": [
    {
     "name": "stdout",
     "output_type": "stream",
     "text": [
      "違規產品名稱,違規廠商名稱或負責人,處分機關,處分日期,處分法條,違規情節,刊播日期,刊播媒體類別,刊播媒體,查處情形\n",
      "\"維他肝\",\"豐怡生化科技股份有限公司/朱O\",\"\",\"03 31 2022 12:00AM\",\"\",\"廣告內容誇大不實\",\"02 2 2022 12:00AM\",\"廣播電台\",\"噶瑪蘭廣播電台股份有限公司\",\"\"\n",
      "\"現貨澳洲Swisse ULTIBOOST維他命D片calcium vitamin VITAMIN D400粒 補鈣 骨頭\",\"張O雯/張O雯\",\"\",\"01 21 2022 12:00AM\",\"\",\"廣告違規\",\"11 30 2021 12:00AM\",\"網路\",\"蝦皮購物\",\"輔導結案\"\n",
      "\"✈日本 代購 參天製藥 處方簽點眼液\",\"蘇O涵/蘇O涵\",\"\",\"01 25 2022 12:00AM\",\"\",\"無照藥商\",\"08 27 2021 12:00AM\n"
     ]
    }
   ],
   "source": [
    "with open(\"drug_156_2.csv\", \"r\") as f:\n",
    "    print(f.read()[:400])    "
   ]
  },
  {
   "cell_type": "code",
   "execution_count": 1,
   "metadata": {},
   "outputs": [],
   "source": [
    "all_list = []\n",
    "with open('drug_156_2.csv', \"r\", encoding=\"utf-8-sig\") as f:\n",
    "    s = f.read()\n",
    "    for line in s.split(\"\\n\"):\n",
    "        row = line.split(\",\")\n",
    "        all_list.append(row)\n",
    "\n",
    "# s.split(\"\\n\")[0].split(\",\")"
   ]
  },
  {
   "cell_type": "markdown",
   "metadata": {},
   "source": [
    "### Method 2: by `readlines()`\n",
    "\n",
    "逐行讀取 CSV 檔案時，我們使用 `readlines()` 函式，它會自動判斷換行符號，將所有資料按行切割成一個清單中的元素。每一行都是一個字串，表示檔案中的一行資料。這是相對於使用 `read()` 函式的方式，後者讀取整個檔案內容為一個大字串，然後我們需要手動根據換行符號 `\\n` 來切割成各行。\n",
    "\n",
    "CSV 檔案的每一列都以換行符號 `\\n` 作為換行，因此我們可以使用 `readlines()` 讀取每一行的資料。這個函式遇到換行符號 `\\n` 時就會自動將資料分成多個行，每一行的資料都被存儲為字串。接著，我們可以遍歷這些行（例如，使用變數 `line`），再使用逗號 `,` 來切割每一行的資料，例如 `line.split(\",\")`，這樣每一列的資料就變成了一個 List。最終，我們會得到一個兩層的 List，也就是 List of Lists，其中每個內部的 List 代表 CSV 檔案的一行資料。"
   ]
  },
  {
   "cell_type": "code",
   "execution_count": 20,
   "metadata": {
    "ExecuteTime": {
     "end_time": "2020-03-14T06:50:00.683566Z",
     "start_time": "2020-03-14T06:50:00.671035Z"
    },
    "id": "ELGae_5MGl7j"
   },
   "outputs": [],
   "source": [
    "all_list = []\n",
    "with open('drug_156_2.csv', \"r\", encoding=\"utf-8-sig\") as f:\n",
    "    # s = f.read()\n",
    "    for line in f.readlines():\n",
    "    # for line in f.read().split(\"\\n\"):\n",
    "        row = line.split(\",\")\n",
    "        all_list.append(row)"
   ]
  },
  {
   "cell_type": "code",
   "execution_count": 2,
   "metadata": {},
   "outputs": [],
   "source": [
    "# all_list[:3]\n",
    "# print(type(all_list))\n",
    "# print(len(all_list))\n",
    "# print(all_list[:3])\n",
    "\n",
    "# # print the first 5 lists by for-loop\n",
    "# for li in all_list[:5]:\n",
    "#     print(li)\n",
    "\n",
    "# # print the length of data (the length of the outer list)\n",
    "# print(len(all_list))\n",
    "\n",
    "# # print element by index with two dimensions\n",
    "# print(all_list[1][-2])"
   ]
  },
  {
   "cell_type": "markdown",
   "metadata": {
    "id": "TPiR9C17Gl7l"
   },
   "source": [
    "### Method 3: by `csv.reader()`"
   ]
  },
  {
   "cell_type": "markdown",
   "metadata": {},
   "source": [
    "`csv_read()`並非預載於python runtime environment的基本函式，因此要import csv library，才可以使用該library中的`csv_read()`\n",
    "\n",
    "**Code Sample 1**\n",
    "```python\n",
    "import csv\n",
    "with open(\"drug_156_2.csv\", \"r\", encoding=\"utf-8-sig\") as csv_file:\n",
    "    csv_reader = csv.reader(csv_file, delimiter=',') # delimiter: \\t , ;\n",
    "    data_list  = list(csv_reader)\n",
    "```\n",
    "\n",
    "**Code Sample 2**\n",
    "```python\n",
    "import csv\n",
    "\n",
    "all_list = []\n",
    "with open('drug_156_2.csv', mode='r', newline='') as file: # 讀取CSV檔案\n",
    "    reader = csv.reader(file) # 建立CSV讀取器\n",
    "    next(reader, None) # 跳過標題行\n",
    "    for row in reader:\n",
    "        all_list.append(row)\n",
    "print(all_list)"
   ]
  },
  {
   "cell_type": "code",
   "execution_count": 34,
   "metadata": {},
   "outputs": [],
   "source": [
    "# Exploring data by ...\n",
    "\n",
    "# type(all_list)\n",
    "# datall_lista_list[0]\n",
    "# all_list[:3]\n",
    "# print(all_list[0])\n",
    "# print(all_list[1])\n",
    "# print(dataall_list_list[1][-2])\n",
    "# print(len(all_list))"
   ]
  },
  {
   "cell_type": "markdown",
   "metadata": {},
   "source": [
    "## Write CSV\n",
    "\n",
    "\n",
    "### by `csv.writer()`  <- Recommended!\n",
    "\n",
    "如果要將list-of-list的資料寫回CSV檔的話，可以使用`csv`這個函式庫的`writer.writerows()`函式，就可以直接把一個list-of-list寫回CSV檔\n",
    "\n",
    "```python\n",
    "import csv\n",
    "with open(\"output.csv\", \"w\") as fout:\n",
    "    writer = csv.writer(fout)\n",
    "    writer.writerows(all_list)\n",
    "```\n",
    "\n",
    "### Write line by line\n",
    "\n",
    "但如果你有一種「寫程式的浪漫」想自己操控寫回一個文字檔案的每一行每一個字的話，可以用下面的方式寫回去。\n",
    "把第二層list的每一個元素用`,`給黏起來，在後面再黏上一個`\\n`。\n",
    "\n",
    "```python\n",
    "with open(\"output.csv\", \"w\") as fout:\n",
    "    for row in all_list:\n",
    "        fout.write(\"%s\\n\" % ','.join(str(cell) for cell in row))\n",
    "```"
   ]
  },
  {
   "cell_type": "markdown",
   "metadata": {},
   "source": [
    "### (Option) 字串操作的小技巧\n",
    "\n",
    "`\",\".join(a-list)`是一個非常好用的字串函式，可以把一個list中的每個項目用某個符號（例如前面的`,`)黏成字串。測試並觀察以下`.join()`函式的操作\n",
    "\n",
    "\n",
    "**Code for Practice 01**\n",
    "```python\n",
    "blist = [3, 2, 1]\n",
    "\",\".join(str(b) for b in blist)\n",
    "\n",
    "[str(b) for b in blist]\n",
    "```\n",
    "\n",
    "**Code for Practice 02**\n",
    "```python\n",
    "alist = [[1, 2, 3], [4, 5, 6], [7, 8, 9], [11, 12, 13]]\n",
    "\",\".join(str(a) for a in alist[0])\n",
    "[str(cell) for cell in alist[0]]\n",
    "```"
   ]
  }
 ],
 "metadata": {
  "colab": {
   "collapsed_sections": [],
   "name": "P05_read_csv_json.ipynb",
   "provenance": [
    {
     "file_id": "1JVorXfUiLWA5pkLFiTGPChD9PdxhySq8",
     "timestamp": 1616037915685
    }
   ],
   "toc_visible": true
  },
  "kernelspec": {
   "display_name": "Python 3 (ipykernel)",
   "language": "python",
   "name": "python3"
  },
  "language_info": {
   "codemirror_mode": {
    "name": "ipython",
    "version": 3
   },
   "file_extension": ".py",
   "mimetype": "text/x-python",
   "name": "python",
   "nbconvert_exporter": "python",
   "pygments_lexer": "ipython3",
   "version": "3.9.18"
  },
  "toc": {
   "base_numbering": 1,
   "nav_menu": {},
   "number_sections": true,
   "sideBar": true,
   "skip_h1_title": false,
   "title_cell": "Table of Contents",
   "title_sidebar": "Contents",
   "toc_cell": false,
   "toc_position": {},
   "toc_section_display": true,
   "toc_window_display": true
  },
  "toc-autonumbering": false,
  "toc-showcode": false,
  "toc-showmarkdowntxt": false,
  "toc-showtags": false
 },
 "nbformat": 4,
 "nbformat_minor": 4
}
