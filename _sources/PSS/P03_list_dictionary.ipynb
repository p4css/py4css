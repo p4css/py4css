{
 "cells": [
  {
   "cell_type": "markdown",
   "metadata": {
    "id": "MI-XzzYfC9Dk"
   },
   "source": [
    "# P03-List and Dictionary\n",
    "\n",
    "<div style=\"border:2px solid gray; padding:5px; background-color:#F8F8F8\">\n",
    "\n",
    "當然，以下是中文版本的資料結構說明：\n",
    "\n",
    "**Objectives**\n",
    "\n",
    "List（串列）\n",
    "- **串列的創建與定義**：使用方括號 `[]` 來定義一個串列。\n",
    "  - 例如：`my_list = [1, 2, 3]`\n",
    "  \n",
    "- **串列的屬性**：\n",
    "  - 有序（Ordered）\n",
    "  - 可索引（Indexable）\n",
    "  - 可變（Mutable）\n",
    "\n",
    "- **串列操作**：\n",
    "  - 增加元素：`append()`, `extend()`, `insert()`\n",
    "  - 刪除元素：`remove()`, `pop()`, `del`\n",
    "  - 通過索引訪問：`my_list[0]`（返回第一個元素）\n",
    "\n",
    "- **串列切片**（Slicing）：\n",
    "  - 例如：`my_list[1:3]`（返回索引為1和2的元素）\n",
    "\n",
    "- **巢狀串列**（Nested List）：\n",
    "  - 例如：`nested_list = [[1, 2], [3, 4]]`\n",
    "\n",
    "Dictionary（字典）\n",
    "- **字典的創建與定義**：使用大括號 `{}` 來定義一個字典。\n",
    "  - 例如：`my_dict = {'key1': 'value1', 'key2': 'value2'}`\n",
    "  \n",
    "- **字典的屬性**：\n",
    "  - 無序（Unordered）\n",
    "  - 以鍵值對（Key-Value Pairs）的形式儲存\n",
    "  - 可變（Mutable）\n",
    "\n",
    "- **巢狀字典**（Nested Dict）：\n",
    "  - 例如：`nested_dict = {'outer_key': {'inner_key': 'value'}}`\n",
    "\n",
    "- **字典函數**：\n",
    "  - `.keys()`：返回所有鍵\n",
    "  - `.values()`：返回所有值\n",
    "  - `.items()`：返回所有鍵值對\n",
    "  - `.get()`：取得指定鍵的值\n",
    "  - `.update()`：更新字典\n",
    "\n",
    "- **字典的替代方案**：\n",
    "  - `defaultdict()`：自動創建不存在的鍵並賦予預設值\n",
    "  - `Counter()`：計數物件的頻率\n",
    "\n",
    "Practice: YouBike data\n",
    "1. read data from url\n",
    "2. convert data to json format\n",
    "3. extract data from json format\n",
    "4. convert data to list and dict\n",
    "\n",
    "</div>\n",
    "\n",
    "**Link to useful data**\n",
    "- Youbike https://tcgbusfs.blob.core.windows.net/blobyoubike/YouBikeTP.gz\n",
    "\n"
   ]
  },
  {
   "cell_type": "markdown",
   "metadata": {
    "id": "yzEoLKunC9Dp"
   },
   "source": [
    "## List\n",
    "\n",
    "在Python程式語言中，**List（串列）** 是一種有序集合（ordered collection）。List能夠容納多種不同型態的元素，包括數值、字串、其他資料結構，甚至是函式。每個元素都會被指定一個從0開始的索引（index）。\n",
    "\n",
    "**定義與建立**\n",
    "\n",
    "一個List可以通過方括號（`[]`）來定義，並可用等號（`=`）賦值給一個變數。方括號內的元素由逗號（`,`）分隔。"
   ]
  },
  {
   "cell_type": "code",
   "execution_count": null,
   "metadata": {},
   "outputs": [],
   "source": [
    "empty_list = []  # 空的List\n",
    "number_list = [1, 2, 3]  # 數值型List\n",
    "mixed_list = [1, \"two\", 3.0]  # 混合型態的List"
   ]
  },
  {
   "cell_type": "markdown",
   "metadata": {},
   "source": [
    "\n",
    "**List的特性**\n",
    "\n",
    "1. 有序性（Ordered）: List的元素有明確的順序。\n",
    "2. 可索引存取（Indexed）: 可以用索引來存取List中的元素，從頭（正數索引）或尾（負數索引）。\n",
    "3. 可變性（Mutable）: List的內容可以被修改，包括增加、刪除和更新元素，因而不能當成Dict（字典）的鍵（key）。\n",
    "\n",
    "**常用操作**\n",
    "\n",
    "* 新增元素\n",
    "  - `.append(element)`: 在List尾部增加單一元素。\n",
    "  - `.extend([elements])`: 在List尾部增加多個元素。\n",
    "* 刪除元素\n",
    "  - `.pop()`: 移除並返回List尾部的元素。\n",
    "* 索引存取\n",
    "  - `list[index]`: 存取特定索引位置的元素。"
   ]
  },
  {
   "cell_type": "code",
   "execution_count": null,
   "metadata": {},
   "outputs": [],
   "source": [
    "my_list = [1, 2, 3]\n",
    "print(my_list)\n",
    "\n",
    "my_list.append(4)  # [1, 2, 3, 4]\n",
    "print(my_list)\n",
    "\n",
    "my_list.extend([5, 6])  # [1, 2, 3, 4, 5, 6]\n",
    "print(my_list)\n",
    "\n",
    "my_list.pop()  # 返回 6，my_list 變成 [1, 2, 3, 4, 5]\n",
    "print(my_list)"
   ]
  },
  {
   "cell_type": "markdown",
   "metadata": {},
   "source": [
    "\n",
    "**資料型態的一致性**\n",
    "\n",
    "雖然List可以包含不同型態的元素，但在實際應用中，為了程式碼寫簡單和效能考量，通常會讓List內的所有元素型態保持一致。\n",
    "\n",
    "---\n"
   ]
  },
  {
   "cell_type": "markdown",
   "metadata": {
    "id": "FpwYTbVEC9Dp"
   },
   "source": [
    "### Access a List\n",
    "\n",
    "在Python中，List的索引（Index）是從0開始的。以`alist = [3, 4, 5]`為例，元素`3`位於索引`0`的位置，因此可以用`alist[0]`來存取它。同理，元素`4`位於索引`1`的位置，可用`alist[1]`來存取。以下為基本規則：\n",
    "* **從頭開始索引**: <br>Python List的索引從0開始計數。\n",
    "* **最後元素的索引**: <br>若List的長度為`n`，則最後一個元素的索引將會是`n - 1`。\n",
    "* **負數索引**: <br>`alist[-1]`可用來存取List的最後一個元素，`alist[-2]`則為倒數第二個元素，依此類推。\n",
    "\n",
    "**用途舉例：更新List內容**\n",
    "\n",
    "要修改List中特定索引的元素，您可以使用賦值運算符（`=`）來重新賦值。例如，`alist[2] = 6`會將索引`2`的元素更改為`6`。"
   ]
  },
  {
   "cell_type": "code",
   "execution_count": 2,
   "metadata": {
    "ExecuteTime": {
     "end_time": "2020-03-16T17:02:15.725746Z",
     "start_time": "2020-03-16T17:02:15.719196Z"
    },
    "id": "eW8kRhJwC9Dq",
    "outputId": "85dd2d29-f2ed-4a6d-fde6-f94a0caf5341"
   },
   "outputs": [
    {
     "name": "stdout",
     "output_type": "stream",
     "text": [
      "[10, 9, 8, 7, 6, 5, 4, 3, 2, 1]\n",
      "1\n",
      "10 9\n",
      "10\n"
     ]
    }
   ],
   "source": [
    "alist = [10, 9, 8, 7, 6, 5, 4, 3, 2, 1]\n",
    "\n",
    "# print whole list\n",
    "print(alist)\n",
    "\n",
    "# print the last one element\n",
    "print(alist[-1])\n",
    "\n",
    "# print the first and second elements\n",
    "print(alist[0], alist[1])\n",
    "\n",
    "# print the length of the list by function len()\n",
    "print(len(alist))\n"
   ]
  },
  {
   "cell_type": "markdown",
   "metadata": {
    "id": "qNrz57ayC9Dr"
   },
   "source": [
    "### Slice a List\n",
    "\n",
    "**基本操作**\n",
    "在Python的List中，切片（Slicing）是一個非常實用的特性，讓我們能夠取出List中一段連續（或不連續）的元素。基本語法是`alist[start:stop:step]`，其中`start`是起始索引，`stop`是結束索引（不包括此索引），`step`是步進值。以下為基本用法：\n",
    "* **從索引 1 到 2**: <br>`alist[1:3]` 會取得索引從1到2（不包含3）的元素，因此會取得`alist`中索引為1和2的元素。\n",
    "* **倒數第三個到倒數第一個**: <br>`alist[-3:-1]` 會取得從倒數第三個到倒數第二個的元素（注意這裡不包含倒數第一個）。\n",
    "* **前三個元素**: <br>`alist[:3]` 會取得`alist`中前三個元素，即索引0、1、2。\n",
    "* **除了最後三個以外的所有元素**: <br>`alist[:-3]` 會取得直到倒數第四個元素的所有元素。\n",
    "* **從第三個元素到最後**: <br>`alist[3:]` 會取得從索引3開始到最後的所有元素。\n",
    "* **從倒數第三個元素到最後**: <br>`alist[-3:]` 會取得從倒數第三個元素到最後的所有元素。\n",
    "\n",
    "**進階用法**\n",
    "* **每隔一個（step=2）的切片**: <br>`alist[::2]` 會取得索引為0、2、4...的元素。\n",
    "* **反轉List**: <br>`alist[::-1]` 會得到一個完全反轉的新List。"
   ]
  },
  {
   "cell_type": "code",
   "execution_count": 3,
   "metadata": {
    "ExecuteTime": {
     "end_time": "2020-03-16T17:03:07.184691Z",
     "start_time": "2020-03-16T17:03:07.180458Z"
    },
    "id": "9gfeTAknC9Dr",
    "outputId": "101d0069-af79-4c56-fb63-04a85c1b0093"
   },
   "outputs": [
    {
     "name": "stdout",
     "output_type": "stream",
     "text": [
      "[10, 9]\n",
      "[10, 9]\n",
      "[3, 2]\n",
      "[10, 9, 8]\n",
      "[10, 9, 8, 7, 6, 5, 4]\n",
      "[7, 6, 5, 4, 3, 2, 1]\n",
      "[3, 2, 1]\n"
     ]
    }
   ],
   "source": [
    "# print the 1 to 2 elements\n",
    "alist = [10, 9, 8, 7, 6, 5, 4, 3, 2, 1]\n",
    "print(alist[0:2])\n",
    "print(alist[:2])\n",
    "\n",
    "\n",
    "# print the last 3 to 2 elements from the end\n",
    "print(alist[-3:-1])\n",
    "\n",
    "print(alist[:3])\n",
    "print(alist[:-3])\n",
    "\n",
    "print(alist[3:])\n",
    "print(alist[-3:])"
   ]
  },
  {
   "cell_type": "markdown",
   "metadata": {
    "id": "L5pzYAFYC9Dr"
   },
   "source": [
    "### Update List：`append()`, `extend()` and  `+`  operator\n",
    "\n",
    "在Python中，更新List的元素可以透過多種方式，其中`append()`、`extend()`和`+`操作符是常用的方法。雖然這三種操作在名稱或用法上可能相似，但它們有著不同的用途和效果。\n",
    "\n",
    "#### `append()` 方法\n",
    "* `append()`用於在List的末尾追加一個元素。如果您追加的是另一個List，那麼這個List會作為單一元素添加到原List的末尾。"
   ]
  },
  {
   "cell_type": "code",
   "execution_count": 4,
   "metadata": {},
   "outputs": [
    {
     "name": "stdout",
     "output_type": "stream",
     "text": [
      "[1, 2, 3, 2]\n",
      "[1, 2, 3, 2, [3, 2, 1]]\n"
     ]
    }
   ],
   "source": [
    "alist = [1, 2, 3]\n",
    "blist = [3, 2, 1]\n",
    "\n",
    "alist.append(2) # 結果會是 [1, 2, 3, 2]\n",
    "print(alist) #\n",
    "\n",
    "alist.append(blist)  \n",
    "print(alist) # 結果會是 [1, 2, 3, 2, [3, 2, 1]]"
   ]
  },
  {
   "cell_type": "markdown",
   "metadata": {},
   "source": [
    "#### `extend()` 方法\n",
    "\n",
    "`append()`是把某一物件當成最後一個元素加入List的最末，但`extend()`則是用於合併兩個List，把第二個List的所有元素追加到第一個List的末尾。"
   ]
  },
  {
   "cell_type": "code",
   "execution_count": 7,
   "metadata": {},
   "outputs": [
    {
     "name": "stdout",
     "output_type": "stream",
     "text": [
      "[1, 2, 3, 3, 2, 1]\n",
      "[1, 2, 3, 3, 2, 1, [3, 2, 1]]\n"
     ]
    }
   ],
   "source": [
    "alist = [1, 2, 3]\n",
    "blist = [3, 2, 1]\n",
    "alist.extend(blist)  # 結果會是 [1, 2, 3, 3, 2, 1]\n",
    "print(alist)\n",
    "\n",
    "alist.append(blist)\n",
    "print(alist)"
   ]
  },
  {
   "cell_type": "markdown",
   "metadata": {},
   "source": [
    "\n",
    "#### `+` 操作符\n",
    "\n",
    "使用`+`操作符也能達到合併List的效果，但其不像`append()`或`extend()`操作後就會更改內容，其不會更改原有的`alist`，必須要透過重新賦值給`alist`才能達到相同的效果。\n",
    "\n",
    "**結論**\n",
    "* `alist.extend(blist)` 會修改原來的 `alist`，使其包括 `blist` 的所有元素。\n",
    "* `alist = alist + blist` 或 `alist += blist` 會有相同的效果，也就是合併兩個List，但這需要重新賦值給 `alist`。"
   ]
  },
  {
   "cell_type": "code",
   "execution_count": 8,
   "metadata": {
    "ExecuteTime": {
     "end_time": "2020-03-16T17:04:29.098318Z",
     "start_time": "2020-03-16T17:04:29.092636Z"
    },
    "id": "FAwOZGiQC9Ds",
    "outputId": "1912d254-16b6-4aa3-f191-ea9c62a07146"
   },
   "outputs": [
    {
     "name": "stdout",
     "output_type": "stream",
     "text": [
      "[1, 2, 3, 3, 2, 1]\n",
      "[1, 2, 3]\n",
      "[1, 2, 3, 3, 2, 1]\n"
     ]
    }
   ],
   "source": [
    "alist = [1, 2, 3]\n",
    "blist = [3, 2, 1]\n",
    "\n",
    "print(alist + blist)\n",
    "print(alist)\n",
    "\n",
    "alist.extend(blist)\n",
    "print(alist)"
   ]
  },
  {
   "cell_type": "markdown",
   "metadata": {
    "id": "almaaxeGC9Ds"
   },
   "source": [
    "### Access Nested List\n",
    "\n",
    "在Python中，List不僅可以存儲基本數據類型（如整數、浮點數和字符串）的元素，還可以存儲其他的資料結構，包括另一個List。當一個List內部包含另一個List時，我們稱之為「雙層List」或「嵌套（Nested）List」。\n",
    "\n",
    "**存取嵌套元素**: 存取雙層List的元素稍微複雜一點，因為每個元素本身也可能是一個List。例如，我們有一個雙層List `nested_list = [[1, 2, 3], [4, 5, 6], [7, 8, 9]]`。\n",
    "* 存取第一個子List可以用 `nested_list[0]`，這會返回 `[1, 2, 3]`。\n",
    "* 如果要存取子List中的具體一個元素，比如第一個子List中的第二個元素（也就是2），則可以使用 `nested_list[0][1]`。\n",
    "\n",
    "**多維索引**: 在雙層或多層嵌套List中，你可以透過多維索引來存取元素。例如，`nested_list[0][1]` 中的第一個索引 `0` 是外層List的索引，第二個索引 `1` 是內層List的索引。\n",
    "\n",
    "**更新嵌套List**: 更新雙層List的元素與單層List相似，只是你需要指定更多的索引層級。例如，如果你想將上面例子中的數字2改為20，可以這樣做：`nested_list[0][1] = 20`。\n",
    "\n",
    "**遍歷雙層List**: 雙層List也可以使用嵌套的迴圈來遍歷。例如，\n",
    "  ```python\n",
    "  for sublist in nested_list:\n",
    "      for element in sublist:\n",
    "          print(element)\n",
    "  ```"
   ]
  },
  {
   "cell_type": "code",
   "execution_count": 11,
   "metadata": {},
   "outputs": [
    {
     "name": "stdout",
     "output_type": "stream",
     "text": [
      "26\n"
     ]
    }
   ],
   "source": [
    "mlist = [[1, 2, 3, 4, 5, 6, 7],\n",
    "         [11, 12, 13, 14, 15, 16, 17],\n",
    "         [21, 22, 23, 24, 25, 26, 27]]\n",
    "print(mlist[2][5])"
   ]
  },
  {
   "cell_type": "code",
   "execution_count": 6,
   "metadata": {
    "ExecuteTime": {
     "end_time": "2020-03-17T15:56:38.523921Z",
     "start_time": "2020-03-17T15:56:38.518163Z"
    },
    "id": "0UmlN67wC9Dt",
    "outputId": "c4619580-7d0c-464c-d9e8-04fef2d46cfd"
   },
   "outputs": [
    {
     "name": "stdout",
     "output_type": "stream",
     "text": [
      "8\n",
      "[1, 2, 3] <class 'list'>\n",
      "3\n"
     ]
    }
   ],
   "source": [
    "alist = [1, 2, 3, 4, 'abc', '123', '123.1', [1, 2, 3] ]\n",
    "print(len(alist)) #length len()\n",
    "print(alist[7], type(alist[7]))\n",
    "\n",
    "\n",
    "# Access any elements in the second layers of alsit\n",
    "print(alist[-1][2]) # Review: -1 indicates the last element in a list\n"
   ]
  },
  {
   "cell_type": "markdown",
   "metadata": {
    "id": "kPWr-BHiC9Dt"
   },
   "source": [
    "## Dictionary（字典）\n",
    "\n",
    "在Python中，Dictionary（通常簡稱為dict）是一種極為靈活並廣泛使用的數據結構。dict是用於存儲鍵（key）與值（value）對應的集合。與List不同，dict的元素並不是按照順序來排列的，因此我們不能用索引（index）來存取元素，而是要用相應的鍵。\n",
    "\n",
    "1. **基本語法**: <br>例如，考慮以下的dict，在這個例子中，你可以通過鍵來存取相對應的值。`adict[1]` 會返回 `3`，而 `adict['2']` 會返回 `4`。\n",
    "    ```python\n",
    "    adict = {1: 3, '2': 4}\n",
    "    ```\n",
    "2. **鍵的不可變性（Immutable）**：<br>Dict的鍵可以是多種不同的數據類型，例如整數、浮點數、字符串等。然而，有一些數據類型（如List和另一個dict）是不允許作為鍵的。這是因為這些數據類型是「可變」的，意即你可以在任何時間點修改它們的內容，這可能會導致數據不一致或錯誤。\n",
    "3. **值的多樣性**：<br>Dict的值（value）可以是任何數據類型，包括基本類型（如整數、字符串）和其他的數據結構（如List、Tuple、另一個dict等）。\n",
    "4. **Nested Dictionary**：<br>Dict中的值也可以是另一個dict，這種結構稱為「Nested （嵌套）Dictionary」。例如，在這個例子中，`nested_dict['key1']` 會返回一個dict：`{'subkey1': 1, 'subkey2': 2}`。\n",
    "    ```python\n",
    "    nested_dict = {'key1': {'subkey1': 1, 'subkey2': 2}, 'key2': {'subkey3': 3}}\n",
    "    ```\n",
    "\n",
    "**其他注意事項**\n",
    "* Tuple可以作為dict的鍵，因為它是不可變的（Immutable）；List不可以作為dict的鍵，因為它是可變的（Mutable）。\n",
    "* 使用 `.get()` 方法來存取鍵可以避免引發KeyError。例如，`adict.get('key', 'default_value')`。但我們通常會使用 `adict['key']` 來存取鍵，因為這樣可以讓程式碼更簡潔。\n",
    "* 使用 `.keys()` 和 `.values()` 方法，你可以分別獲取dict中所有的鍵和值。\n",
    "* `update()` 方法可以用來合併兩個dict。例如，`adict.update(bdict)` 會將 `bdict` 中的所有鍵值對合併到 `adict` 中。\n",
    "  \n"
   ]
  },
  {
   "cell_type": "code",
   "execution_count": 13,
   "metadata": {
    "ExecuteTime": {
     "end_time": "2020-03-17T16:14:49.232834Z",
     "start_time": "2020-03-17T16:14:49.223745Z"
    },
    "id": "e5k7ECpIC9Dt",
    "outputId": "923f9e84-82ee-4f65-aac2-adb4aec6b6cb"
   },
   "outputs": [
    {
     "name": "stdout",
     "output_type": "stream",
     "text": [
      "3 4\n",
      "8\n",
      "5\n",
      "<class 'dict'>\n",
      "2\n",
      "2\n"
     ]
    }
   ],
   "source": [
    "adict = {1:3, '2':4}\n",
    "print(adict[1], adict['2'])\n",
    "alist = [1, 2, 3, \"a\", 'b', 'c', [1, 2, 3], [4, 5, 6]]\n",
    "print(len(alist))\n",
    "\n",
    "adict = {'3':3, 2:4, '3':5, '4':6, 1.13: '123', 'a': alist}\n",
    "print(len(adict))\n",
    "print(type(adict))\n",
    "print(adict['a'][6][1])\n",
    "\n",
    "bdict = {1:alist, 2:adict}\n",
    "print(bdict[2]['a'][6][1])"
   ]
  },
  {
   "cell_type": "markdown",
   "metadata": {
    "id": "Wxj5z1DJC9Dt"
   },
   "source": [
    "### Accessing dictionary\n",
    "\n",
    "在Python中，存取Dictionary（或簡稱為dict）的元素主要是通過其對應的鍵（key）來實現。以下是一些常見的操作方式：\n",
    "\n",
    "1. **印出整個字典**：使用`print()`函數可以輸出整個字典的內容。例如以下例子會會列印出`bdict`字典中所有的鍵值對。\n",
    "    ```python\n",
    "    print(bdict)\n",
    "    ```\n",
    "\n",
    "2. **使用鍵來存取值**：如果你知道某個鍵（key），就可以直接用這個鍵來獲取其對應的值（value）。下例這將會打印出與鍵 `'3'` 相關聯的值。\n",
    "    ```python\n",
    "    print(adict['3'])\n",
    "    ```\n",
    "\n",
    "\n",
    "3. **獲取所有鍵和值**：你可以使用 `.keys()` 和 `.values()` 方法來分別獲取所有的鍵和值。下例`.keys()` 將返回一個包含所有鍵的列表，而 `.values()` 將返回一個包含所有值的列表。\n",
    "    ```python\n",
    "    print(adict.keys())\n",
    "    print(adict.values())\n",
    "    ```"
   ]
  },
  {
   "cell_type": "code",
   "execution_count": 14,
   "metadata": {
    "ExecuteTime": {
     "end_time": "2020-03-17T16:16:02.030373Z",
     "start_time": "2020-03-17T16:16:02.025319Z"
    },
    "id": "1MVPwi4fC9Dt",
    "outputId": "b8b3e8c4-de54-4a0e-c46d-9406da8fddba"
   },
   "outputs": [
    {
     "name": "stdout",
     "output_type": "stream",
     "text": [
      "{1: [1, 2, 3, 'a', 'b', 'c', [1, 2, 3], [4, 5, 6]], 2: {'3': 5, 2: 4, '4': 6, 1.13: '123', 'a': [1, 2, 3, 'a', 'b', 'c', [1, 2, 3], [4, 5, 6]]}}\n",
      "5\n",
      "dict_keys(['3', 2, '4', 1.13, 'a'])\n",
      "dict_values([5, 4, 6, '123', [1, 2, 3, 'a', 'b', 'c', [1, 2, 3], [4, 5, 6]]])\n"
     ]
    }
   ],
   "source": [
    "# access the dictionary\n",
    "\n",
    "# print whole dict\n",
    "print(bdict)\n",
    "\n",
    "# print the value of key '1'\n",
    "print(adict['3'])\n",
    "\n",
    "# print the value of key 1\n",
    "print(adict.keys())\n",
    "print(adict.values())\n",
    "\n",
    "# print the first element of the list mapped by key 4\n"
   ]
  },
  {
   "cell_type": "markdown",
   "metadata": {},
   "source": [
    "### Counter() and defaultdict()\n",
    "\n",
    "有兩個資料結構與dict非常近似，一個是 `defaultdict()`，另一個是 `Counter()`。\n",
    "\n",
    "#### `defaultdict()`\n",
    "\n",
    "`defaultdict()` 是一個非常方便的資料結構，來自於 `collections` 模塊。它的主要優點是當你試圖存取一個不存在的鍵時，它會自動初始化這個鍵，而不會引發 `KeyError`。在創建 `defaultdict` 的時候，你可以傳入一個工廠函數，用於生成預設值。例如："
   ]
  },
  {
   "cell_type": "code",
   "execution_count": 17,
   "metadata": {},
   "outputs": [
    {
     "name": "stdout",
     "output_type": "stream",
     "text": [
      "defaultdict(<class 'list'>, {'a': [1, 3], 'b': [2]})\n",
      "defaultdict(<class 'int'>, {'a': 1, 'b': 1})\n"
     ]
    }
   ],
   "source": [
    "from collections import defaultdict\n",
    "\n",
    "adict = defaultdict(list)\n",
    "adict['a'].append(1)\n",
    "adict['b'].append(2)\n",
    "adict['a'].append(3)\n",
    "print(adict)\n",
    "\n",
    "bdict = defaultdict(int)\n",
    "bdict['a'] += 1\n",
    "bdict['b'] += 1\n",
    "print(bdict)\n"
   ]
  },
  {
   "cell_type": "markdown",
   "metadata": {},
   "source": [
    "\n",
    "**`defaultdict()`與 `dict` 的比較：**：使用普通的 `dict`，你需要手動檢查鍵是否存在或使用 `setdefault` 方法：\n"
   ]
  },
  {
   "cell_type": "code",
   "execution_count": 18,
   "metadata": {},
   "outputs": [],
   "source": [
    "d = {}\n",
    "d.setdefault('a', []).append(1)"
   ]
  },
  {
   "cell_type": "markdown",
   "metadata": {},
   "source": [
    "\n",
    "#### `Counter()`\n",
    "\n",
    "- `Counter` 是另一個來自於 `collections` 模塊的資料結構，專門用於計數。它非常適合於頻率計數等應用。\n",
    "- `Counter`可以使用 `most_common(n)` 方法來獲取出現次數最多的 `n` 個元素。\n",
    "- **`Counter` 與 `dict` 的比較：**：<br>使用普通的 `dict` 進行計數會相對複雜，需要檢查每個鍵是否已經存在於字典中："
   ]
  },
  {
   "cell_type": "code",
   "execution_count": 19,
   "metadata": {},
   "outputs": [
    {
     "name": "stdout",
     "output_type": "stream",
     "text": [
      "Counter({'a': 3, 'b': 2, 'c': 1})\n",
      "[('a', 3), ('b', 2)]\n"
     ]
    }
   ],
   "source": [
    "from collections import Counter\n",
    "\n",
    "c = Counter(['a', 'b', 'c', 'a', 'b', 'a'])\n",
    "print(c)\n",
    "\n",
    "print(c.most_common(2))"
   ]
  }
 ],
 "metadata": {
  "colab": {
   "collapsed_sections": [],
   "name": "P03_list_dictionary_blank.ipynb",
   "provenance": [],
   "toc_visible": true
  },
  "kernelspec": {
   "display_name": "Python 3 (ipykernel)",
   "language": "python",
   "name": "python3"
  },
  "language_info": {
   "codemirror_mode": {
    "name": "ipython",
    "version": 3
   },
   "file_extension": ".py",
   "mimetype": "text/x-python",
   "name": "python",
   "nbconvert_exporter": "python",
   "pygments_lexer": "ipython3",
   "version": "3.10.9"
  },
  "toc": {
   "base_numbering": 1,
   "nav_menu": {},
   "number_sections": true,
   "sideBar": true,
   "skip_h1_title": false,
   "title_cell": "Table of Contents",
   "title_sidebar": "Contents",
   "toc_cell": false,
   "toc_position": {
    "height": "calc(100% - 180px)",
    "left": "10px",
    "top": "150px",
    "width": "257px"
   },
   "toc_section_display": true,
   "toc_window_display": true
  },
  "varInspector": {
   "cols": {
    "lenName": 16,
    "lenType": 16,
    "lenVar": 40
   },
   "kernels_config": {
    "python": {
     "delete_cmd_postfix": "",
     "delete_cmd_prefix": "del ",
     "library": "var_list.py",
     "varRefreshCmd": "print(var_dic_list())"
    },
    "r": {
     "delete_cmd_postfix": ") ",
     "delete_cmd_prefix": "rm(",
     "library": "var_list.r",
     "varRefreshCmd": "cat(var_dic_list()) "
    }
   },
   "types_to_exclude": [
    "module",
    "function",
    "builtin_function_or_method",
    "instance",
    "_Feature"
   ],
   "window_display": false
  }
 },
 "nbformat": 4,
 "nbformat_minor": 4
}
