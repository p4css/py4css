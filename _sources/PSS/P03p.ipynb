{
 "cells": [
  {
   "cell_type": "markdown",
   "metadata": {},
   "source": [
    "# P03 Practice: Accessing dict and list\n",
    "\n",
    "## Q1. Accessing youbike data\n",
    "\n",
    "**資料來源**：（[https://tcgbusfs.blob.core.windows.net/blobyoubike/YouBikeTP.gz](https://tcgbusfs.blob.core.windows.net/blobyoubike/YouBikeTP.gz)）。\n",
    "\n",
    "**目的**：使用該API可以取得當下所有YouBike站點的資訊，包括站點名稱、經緯度、可借車輛數、可停空位數等。我想要統計，目前全台北市的可借車輛數和可停空位數的總和，藉此來計算目前全台北市的YouBike使用率。此時我會需要用到Python中的List和Dictionary，來幫助我遍歷（traverse）YouBike資料，並進行加總計數。\n",
    "\n",
    "**擷取YouBike資料的步驟**\n",
    "\n",
    "1. 利用 `requests` 庫中的 `.get()` 方法來向指定的URL發送HTTP GET請求，以獲得該網址的回應。\n",
    "2. 獲得的HTTP回應會存儲在 `response` 物件中，這個物件的 `.text` 屬性包含了回應的文字內容，其資料型態為 `str`（字串）。\n",
    "3. 因為我們知道返回的文字內容是用JSON格式儲存的，我們可以使用兩種方式將其轉換成Python的資料結構：\n",
    "   - 使用 `response.json()` 直接轉換。\n",
    "   - 或是使用 `json.loads(response.text)`，這會將JSON格式的字串轉換成Python的字典和列表結構。\n",
    "4. 一旦資料被轉換成Python的資料結構，我們就可以按照需求來存取其各個部分，通常這會是一個由多層的列表和字典組成的巢狀結構。"
   ]
  },
  {
   "cell_type": "markdown",
   "metadata": {},
   "source": [
    "### Getting Data\n",
    "\n",
    "這一節將教授如何從網路上獲取資料並將其轉換成Python的字典（dict）和列表（list）結構。注意，不要太在意抓取資料的細節暫，未來會有更詳細的教學。這裡主要是使用一個實際例子來展示如何存取字典（dict）。\n",
    "\n",
    "1. `requests` 是一個專門用來發送網路請求的Python函式庫。在這裡，我們使用 `.get()` 方法來向指定的URL發送HTTP GET請求，並獲得回應。你可以使用 `type()` 函數來查看 `response` 的資料型態，它應該會返回 `<class 'requests.models.Response'>`。\n",
    "\n",
    "2. `response` 是儲存網路請求回應的物件，其中包含了很多有用的資訊。關於這個物件的更多細節，你可以參考 [Python_request_response](https://www.w3schools.com/python/ref_requests_response.asp)。\n",
    "    * `response.text`：這個屬性包含了HTTP回應的主要文本內容。\n",
    "    * `response.status_code`：這個屬性會返回HTTP狀態碼，這個碼可以告訴你請求是成功還是失敗，或者是其他情況。對狀態碼的完整列表，請參見 [Wikipedia: Network Status Code](https://en.wikipedia.org/wiki/List_of_HTTP_status_codes)。\n",
    "    * `response.json()`：如果你事先知道返回的內容是以JSON格式儲存的，那麼你可以使用 `.json()` 方法將其轉換為Python的字典和列表結構。JSON（JavaScript Object Notation）是一種廣泛用於JavaScript的資料格式，它的結構類似於Python的字典和列表，因此能夠很容易地轉換過來。\n",
    "\n",
    "透過這些步驟，你就能夠從網路上獲取資料，並將其轉換為Python程式能夠操作的數據格式。"
   ]
  },
  {
   "cell_type": "code",
   "execution_count": 9,
   "metadata": {},
   "outputs": [
    {
     "name": "stdout",
     "output_type": "stream",
     "text": [
      "<class 'requests.models.Response'>\n",
      "<class 'str'>\n",
      "<class 'dict'>\n"
     ]
    }
   ],
   "source": [
    "# import requests library to send web query\n",
    "import requests\n",
    "\n",
    "# import json library to parse json format\n",
    "import json\n",
    "\n",
    "response = requests.get('https://tcgbusfs.blob.core.windows.net/blobyoubike/YouBikeTP.gz')\n",
    "print(type(response)) # <class 'requests.models.Response'>\n",
    "print(type(response.text)) # <class 'str'>\n",
    "data = response.json()\n",
    "# data = json.loads(response.text) # Alternative way\n",
    "print(type(data))"
   ]
  },
  {
   "cell_type": "markdown",
   "metadata": {},
   "source": [
    "### Traversing JSON data: \n",
    "\n",
    "採用系統性的測試策略，逐步探索由列表（list）與字典（dict）所組成的資料結構。透過這兩個基本法則，我們可以有系統地探索和理解複雜的JSON資料結構：\n",
    "\n",
    "* **法則一：用type()確認資料型態**。\n",
    "* **法則二：遇到列表型態（list）時**，選擇第0筆資料作為出發點繼續深入探索。\n",
    "\n",
    "* **法則三：遇到字典型態（dict）時**，使用`dict.keys()`方法列出所有的鍵（key）。接著，不失一般性地，抽取你感興趣的鍵（key）作為下一步的追蹤目標，通常會第0個。特別注意，如果`.keys()`的輸出顯示為一系列類似於識別碼（id）的鍵（例如，youbike資料），那通常意味著設計者使用這些id來映射對應的資料。在這種情況下，你同樣可以選擇第一個識別碼（id）作為下一步追蹤的起點。"
   ]
  },
  {
   "cell_type": "code",
   "execution_count": 2,
   "metadata": {},
   "outputs": [],
   "source": [
    "# Your code here\n",
    "\n"
   ]
  },
  {
   "cell_type": "markdown",
   "metadata": {},
   "source": [
    "### Observing data\n",
    "\n",
    "實際觀察該JSON資料結構後，你可能會注意到以下幾個特點：\n",
    "* 資料結構由三層字典（dictionary）構成。\n",
    "* `'tot'`這個鍵（key）所對應的值（value）是一個字串。這是十分常見的，因為大多數開放資料來源會選擇以文字型態儲存資料以便網路傳輸。\n",
    "\n",
    "    ```python\n",
    "    {'retCode':\"\",\n",
    "    'retValue':{\n",
    "            {'0001':{'sno': '0001', 'sna': '捷運市政府站(3號出口)', 'tot': '88', ...},\n",
    "            '0002':{'sno': '0002', 'sna': '捷運國父紀念館站(2號出口)', 'tot': '16', ...},\n",
    "            '0004':{'sno': '0004', 'sna': '市民廣場', 'tot': '32', ...},\n",
    "            }\n",
    "        }\n",
    "    }\n",
    "    ```"
   ]
  },
  {
   "cell_type": "markdown",
   "metadata": {},
   "source": [
    "### Getting all keys and values\n",
    "使用`.keys()`與`.values()`與`.items()`分別取出dict的內容"
   ]
  },
  {
   "cell_type": "code",
   "execution_count": 3,
   "metadata": {},
   "outputs": [],
   "source": [
    "# Your code here"
   ]
  },
  {
   "cell_type": "markdown",
   "metadata": {},
   "source": [
    "### Iterating data\n",
    "\n",
    "嘗試用`for`-loop將所有的`sbi`值給列印出來，請觀察看看不使用`.items()`和使用`.items()`的用法有何差異。\n",
    "```\n",
    "for k in data[\"retVal\"].keys():\n",
    "    print(data[\"retVal\"][k][\"sbi\"])\n",
    "for k in data[\"retVal\"]:\n",
    "    print(data[\"retVal\"][k][\"sbi\"])\n",
    "for k in data[\"retVal\"].items():\n",
    "    print(k[1][\"sbi\"])\n",
    "for k, v in data['retVal'].items():\n",
    "    print(k, v[\"sbi\"])\n",
    "```"
   ]
  },
  {
   "cell_type": "code",
   "execution_count": 4,
   "metadata": {},
   "outputs": [],
   "source": [
    "# Your code here"
   ]
  },
  {
   "cell_type": "markdown",
   "metadata": {},
   "source": [
    "## Q2. Sum-up total number of sbi and tot\n",
    "\n",
    "我想要知道，在全天候24小時中，ubike的使用率何時較高、何時較低。所以我打算統計全台北市所有YouBike站點的可借車輛數（sbi）和可停空位數（tot）的總和，並計算兩者的比例。這樣一來，我就可以知道該時刻全台北市的YouBike使用率了。未來，我只需要寫一隻爬蟲，每五分鐘就收一次YouBike的資料，並計算出YouBike的使用率，就可以知道全天候24小時中，YouBike的使用率何時較高、何時較低了。\n",
    "\n",
    "所以接下來，我打算計算 `data['retVal']`中所有 `sbi` 和 `tot` 值的總和，以及這兩個總和的比例：\n",
    "\n",
    "1. **Initialize variables**<br> `sbi_sum` 和 `tot_sum`，都設為0。這兩個變數將用於累加特定的數值。\n",
    "2. **Traversing data**<br>資料使用 `for` 迴圈遍歷 `data['retVal']` 字典的所有鍵（`key`）。\n",
    "    - `sbi_sum` 累加每個 `key` 對應的 `sbi` 值（需先轉換為整數）。\n",
    "    - `tot_sum` 累加每個 `key` 對應的 `tot` 值（需先轉換為整數）。\n",
    "3. **Sum-up data**<br>最後，返回三個值：`sbi_sum`（`sbi` 的總和）、`tot_sum`（`tot` 的總和）以及 `sbi_sum/tot_sum`（`sbi` 總和與 `tot` 總和的比例）。"
   ]
  },
  {
   "cell_type": "code",
   "execution_count": 5,
   "metadata": {},
   "outputs": [],
   "source": [
    "# Your code here"
   ]
  },
  {
   "cell_type": "markdown",
   "metadata": {},
   "source": [
    "## Q3: Counting ubike site number of each area\n",
    "\n",
    "現在，我們已經可以用簡單的for-loop逐一跑過所有的Youbike即時資料。但我發現在資料中，`area`欄位資料為行政區，所以我想要統計，每個行政區有幾個Youbike站點。這樣一來，我就可以知道哪個行政區的Youbike站點最多了。相同的，我也可以統計，每個行政區的Youbike站點的可借車輛數（sbi）和可停空位數（tot）的總和，並計算兩者的比例。這樣一來，我就可以知道哪個行政區的Youbike使用率最高了。"
   ]
  },
  {
   "cell_type": "markdown",
   "metadata": {},
   "source": [
    "### Counting sites by area"
   ]
  },
  {
   "cell_type": "code",
   "execution_count": 6,
   "metadata": {},
   "outputs": [],
   "source": [
    "# Your code here"
   ]
  },
  {
   "cell_type": "markdown",
   "metadata": {},
   "source": [
    "### Method 2\n",
    "\n",
    "我可以用`items()`一次取出一對key-value pair，但因為是(key, value)的型態，所以我for-loop前面要用兩個參數去接每一對數值，我將之命名為`key, row`。如果這樣寫，if-else中的表示式就可以跟著改。我不用一定要用`key`才能存取dictionary中的資料，我可以直接用後面的row，也就是key所對應到的value來取用dictionary中的資料。"
   ]
  },
  {
   "cell_type": "code",
   "execution_count": 11,
   "metadata": {},
   "outputs": [
    {
     "data": {
      "text/plain": [
       "{}"
      ]
     },
     "execution_count": 11,
     "metadata": {},
     "output_type": "execute_result"
    }
   ],
   "source": [
    "area_dict = {}\n",
    "for key, row in data[\"retVal\"].items():\n",
    "    # Your code should replace pass\n",
    "    pass\n",
    "area_dict"
   ]
  },
  {
   "cell_type": "markdown",
   "metadata": {},
   "source": [
    "# Q4: Traversing AQI data\n",
    "\n",
    "以下為存取環保署開放資料平台空品資料的API連結與方法，請仿照Trace Youbike data的方法依序回答以下兩個問題。"
   ]
  },
  {
   "cell_type": "code",
   "execution_count": 12,
   "metadata": {},
   "outputs": [
    {
     "name": "stdout",
     "output_type": "stream",
     "text": [
      "<class 'list'>\n"
     ]
    }
   ],
   "source": [
    "import requests\n",
    "import json\n",
    "url = \"https://airtw.epa.gov.tw/gis_ajax.aspx?Type=GetAQInfo&Layer=EPA&QueryTime=2023/09/17%2011:00\"\n",
    "aqdata = requests.get(url).json()\n",
    "print(type(aqdata))"
   ]
  },
  {
   "cell_type": "markdown",
   "metadata": {},
   "source": [
    "### AQI.1 Accessing list\n",
    "\n",
    "請Access該筆資料列印出第一個站台的站台名稱為何？"
   ]
  },
  {
   "cell_type": "code",
   "execution_count": 13,
   "metadata": {},
   "outputs": [],
   "source": [
    "# Your code here"
   ]
  },
  {
   "cell_type": "markdown",
   "metadata": {},
   "source": [
    "###  AQI.2 Checking data type\n",
    "\n",
    "請Access空品資料的任一筆資料，觀察資料內容，用程式列印出AQI的Data type為何？"
   ]
  },
  {
   "cell_type": "code",
   "execution_count": 14,
   "metadata": {},
   "outputs": [],
   "source": [
    "# Your code here"
   ]
  },
  {
   "cell_type": "markdown",
   "metadata": {},
   "source": [
    "### AQI.3: Converting data structure\n",
    "\n",
    "目前的資料是將所有測站資料存放在一個List中，這樣會使得我們無法查詢例如「三重」測站的資料。因此，我們需要將資料結構轉換成Dictionary，以便我們可以透過測站名稱來查詢資料。怎麼做？"
   ]
  },
  {
   "cell_type": "code",
   "execution_count": 15,
   "metadata": {},
   "outputs": [
    {
     "name": "stdout",
     "output_type": "stream",
     "text": [
      "54\n"
     ]
    }
   ],
   "source": [
    "for site in aqdata:\n",
    "    if site['SiteName'] == '三重': \n",
    "        print(site['AQI'])   "
   ]
  },
  {
   "cell_type": "code",
   "execution_count": 16,
   "metadata": {},
   "outputs": [],
   "source": [
    "aqdict = {}\n",
    "# Your code here"
   ]
  }
 ],
 "metadata": {
  "kernelspec": {
   "display_name": "Python 3 (ipykernel)",
   "language": "python",
   "name": "python3"
  },
  "language_info": {
   "codemirror_mode": {
    "name": "ipython",
    "version": 3
   },
   "file_extension": ".py",
   "mimetype": "text/x-python",
   "name": "python",
   "nbconvert_exporter": "python",
   "pygments_lexer": "ipython3",
   "version": "3.10.9"
  }
 },
 "nbformat": 4,
 "nbformat_minor": 4
}
