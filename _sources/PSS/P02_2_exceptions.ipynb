{
 "cells": [
  {
   "cell_type": "markdown",
   "id": "5b7e0117-89db-4757-9ae1-b4fb37f4a5df",
   "metadata": {},
   "source": [
    "# Exceptions(Errors) Handling\n",
    "\n",
    "程式撰寫過程有時候會因為語法錯誤、鍵盤輸入錯誤、變數型態錯誤或數值錯誤等被程式終止執行。這時候通常稱為有「例外事件（Exception）」發生了，當有例外事件發生時，程式便會停止執行。\n",
    "\n",
    "但即使語法或邏輯寫得很完整的程式碼，也常常因為輸入資料很多變的關係而產生例外。例如用while迴圈一直撈撈到沒資料可以撈了，或者在擷取政府開放資料時，109年的資料比108年多一個欄位，程式沒寫好可能就沒辦法讓變數和資料給Match起來。雖然不知道何時會發生例外，但通常在發生幾次例外後，程式設計師也知道會產生哪一種例外，例如語法例外，變數型態例外等。此時，通常會用一個try-catch的程式碼來捕捉這個例外，並做點事（例如把發生該例外的值給列印出來）。當在try的區段發生例外時，該例外會被捕捉，而讓程式得以繼續前進，而不會直接中斷。"
   ]
  },
  {
   "cell_type": "code",
   "execution_count": null,
   "id": "3e15603f-5c98-4ded-938d-19f422115d5e",
   "metadata": {},
   "outputs": [],
   "source": []
  }
 ],
 "metadata": {
  "kernelspec": {
   "display_name": "Python 3 (ipykernel)",
   "language": "python",
   "name": "python3"
  },
  "language_info": {
   "codemirror_mode": {
    "name": "ipython",
    "version": 3
   },
   "file_extension": ".py",
   "mimetype": "text/x-python",
   "name": "python",
   "nbconvert_exporter": "python",
   "pygments_lexer": "ipython3",
   "version": "3.9.12"
  }
 },
 "nbformat": 4,
 "nbformat_minor": 5
}
