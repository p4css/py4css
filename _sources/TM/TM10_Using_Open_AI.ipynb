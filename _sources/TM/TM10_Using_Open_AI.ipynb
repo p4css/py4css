{
 "cells": [
  {
   "cell_type": "markdown",
   "metadata": {},
   "source": [
    "# TM10 Using Open AI\n"
   ]
  },
  {
   "cell_type": "code",
   "execution_count": 4,
   "metadata": {},
   "outputs": [],
   "source": [
    "import pandas as pd\n",
    "from IPython.display import display\n",
    "pd.options.display.float_format = '{:.4f}'.format\n",
    "\n",
    "import warnings\n",
    "warnings.filterwarnings(\"ignore\", message=\".*The 'nopython' keyword.*\")\n",
    "# import os\n",
    "# os.environ[\"TOKENIZERS_PARALLELISM\"] = \"false\"\n",
    "\n",
    "import re\n",
    "import zhon.hanzi\n",
    "from collections import Counter\n",
    "zh_pat = f\"[{zhon.hanzi.characters}|{zhon.hanzi.punctuation}]\"\n",
    "\n",
    "with open(\"data/stopwords_zh-tw.txt\", encoding=\"utf-8\") as fin:\n",
    "    stopwords = fin.read().split(\"\\n\")[1:]"
   ]
  },
  {
   "cell_type": "markdown",
   "metadata": {},
   "source": [
    "## Step 1. Import and clean data\n",
    "\n",
    "Notes that we don't need tokenization and stop-word removal here. Just clean up space or punctuation. "
   ]
  },
  {
   "cell_type": "code",
   "execution_count": 5,
   "metadata": {},
   "outputs": [],
   "source": [
    "import pandas as pd\n",
    "df = pd.read_csv('data/sentiment.csv')\n",
    "\n",
    "def clean_text(text):\n",
    "    text = re.sub(\"[\\r\\t ]+\", \" \", text)\n",
    "    text = \"\".join(re.findall(zh_pat, text))\n",
    "    return text\n",
    "\n",
    "df[\"cleaned\"] = df[\"text\"].apply(clean_text)"
   ]
  },
  {
   "cell_type": "markdown",
   "metadata": {},
   "source": [
    "## Using Open AI"
   ]
  },
  {
   "cell_type": "code",
   "execution_count": 27,
   "metadata": {},
   "outputs": [],
   "source": [
    "from openai import OpenAI\n",
    "OPEN_API_KEY = \"YOUR_API_KEY\"\n",
    "client = OpenAI(api_key = OPEN_API_KEY)\n",
    "\n",
    "from tenacity import (\n",
    "    retry,\n",
    "    stop_after_attempt,\n",
    "    wait_random_exponential,\n",
    ") \n",
    "\n",
    "# @retry(wait=wait_random_exponential(min=3, max=10), stop=stop_after_attempt(3))\n",
    "def ask_gpt(query):\n",
    "    completion = client.chat.completions.create(\n",
    "        model=\"gpt-3.5-turbo-1106\",\n",
    "        messages=[\n",
    "            {\"role\": \"system\", \"content\": \"以下留言是各類商店討論版中的評論，請協助分析，這些留言的評論對象是\"},\n",
    "            {\"role\": \"system\", \"content\": \"\"\"\n",
    "                A-旅館\n",
    "                B-食品\n",
    "                C-餐廳\n",
    "                D-3C用品\n",
    "                E-其他\"\"\"},\n",
    "            {\"role\": \"system\", \"content\": \"只要回答A|B|C|D|E即可，謝謝！你也可以照你的判斷新增新label!\"},\n",
    "            {\"role\": \"user\", \"content\": f\"留言內容為「{query}」\"},\n",
    "            {\"role\": \"assistant\", \"content\": \"你的答案是：\"},\n",
    "            ],\n",
    "        # n=1,\n",
    "        # stop=[\"\\n\"], \n",
    "        temperature=0,\n",
    "        frequency_penalty=0.0,\n",
    "        presence_penalty=0.0\n",
    "    )\n",
    "    return completion\n",
    "    # return completion.choices[0].message.content.strip()"
   ]
  },
  {
   "cell_type": "code",
   "execution_count": 28,
   "metadata": {},
   "outputs": [
    {
     "name": "stdout",
     "output_type": "stream",
     "text": [
      "D-3C用品 \t 店家很給力，快遞也是相當快，第三次光顧啦\n",
      "D-3C用品 \t 這樣的配置用系統還是有點卡。指紋收集器。沒送原裝滑鼠還需要自己買，不太好。\n",
      "A-旅館 \t 不錯，在同等檔次酒店中應該是值得推薦的！\n",
      "B-食品 \t 哎！不會是蒙牛乾的吧嚴懲真凶！\n",
      "D-3C用品 \t 空尤其是三立電視臺女主播做的序尤其無趣像是硬湊那麼多字\n",
      "D-3C用品 \t 明明買了本書，只到了本，也沒有說是什麼原因，以後怎麼信的過？？？？？？？？？？？\n",
      "E-其他 \t 看了一下感覺還可以\n",
      "D-3C用品 \t 散熱還不錯，玩遊戲溫度和硬碟溫度都在以下，速度很好，顯示卡也不錯\n",
      "D-3C用品 \t 外觀好看，白色的自己貼紙也方便，執行起來速度也還不錯屬於主流配置了。一般用用可以的\n",
      "D-3C用品 \t 水超級小用的時候還要先修理一下花灑售後還說是水壓問題說本來標配都是這樣還要自己重新換一個\n"
     ]
    }
   ],
   "source": [
    "for i in range(10):\n",
    "    comment = df[\"cleaned\"][i]\n",
    "    completion = ask_gpt(comment)\n",
    "    response = completion.choices[0].message.content.strip()\n",
    "    print(response, \"\\t\", comment)\n",
    "\n",
    "\"\"\"\n",
    "D-3C用品 \t 店家很給力，快遞也是相當快，第三次光顧啦\n",
    "D-3C用品 \t 這樣的配置用系統還是有點卡。指紋收集器。沒送原裝滑鼠還需要自己買，不太好。\n",
    "A-旅館 \t 不錯，在同等檔次酒店中應該是值得推薦的！\n",
    "B-食品 \t 哎！不會是蒙牛乾的吧嚴懲真凶！\n",
    "D-3C用品 \t 空尤其是三立電視臺女主播做的序尤其無趣像是硬湊那麼多字\n",
    "D-3C用品 \t 明明買了本書，只到了本，也沒有說是什麼原因，以後怎麼信的過？？？？？？？？？？？\n",
    "E-其他 \t 看了一下感覺還可以\n",
    "D-3C用品 \t 散熱還不錯，玩遊戲溫度和硬碟溫度都在以下，速度很好，顯示卡也不錯\n",
    "D-3C用品 \t 外觀好看，白色的自己貼紙也方便，執行起來速度也還不錯屬於主流配置了。一般用用可以的\n",
    "D-3C用品 \t 水超級小用的時候還要先修理一下花灑售後還說是水壓問題說本來標配都是這樣還要自己重新換一個\n",
    "\"\"\""
   ]
  }
 ],
 "metadata": {
  "kernelspec": {
   "display_name": "new_tm",
   "language": "python",
   "name": "python3"
  },
  "language_info": {
   "codemirror_mode": {
    "name": "ipython",
    "version": 3
   },
   "file_extension": ".py",
   "mimetype": "text/x-python",
   "name": "python",
   "nbconvert_exporter": "python",
   "pygments_lexer": "ipython3",
   "version": "3.9.18"
  }
 },
 "nbformat": 4,
 "nbformat_minor": 2
}
