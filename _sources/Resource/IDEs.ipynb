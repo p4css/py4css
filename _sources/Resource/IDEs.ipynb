{
 "cells": [
  {
   "cell_type": "markdown",
   "id": "74056be9-3357-42c5-85c2-c06cb03bfe3b",
   "metadata": {},
   "source": [
    "# Python開發環境"
   ]
  },
  {
   "cell_type": "markdown",
   "id": "e7daedf6-c953-4b57-8605-a22063617a23",
   "metadata": {},
   "source": [
    "開始開發程式之前均需安裝程式開發環境，所謂的「開發環境」是一支程式，安裝後讓你可以執行你所撰寫的程式碼。然而，程式開發環境實際上非常多種，支援的功能差異也很大，因此有不少工程師均有他自己選擇或喜好的開發環境（例如我喜歡用Anaconda和Jupyter notebook來做教學，但我喜歡用pyCharm來做我的專案）。"
   ]
  },
  {
   "cell_type": "markdown",
   "id": "36aac536-89ea-49c2-9ad4-991dc2bcc2d1",
   "metadata": {},
   "source": [
    "## Colab"
   ]
  },
  {
   "cell_type": "markdown",
   "id": "9b5a8e58-21d3-41df-a4d2-d995c7a3fa3f",
   "metadata": {},
   "source": [
    "## Anaconda 3.x\n",
    "\n",
    "本課程將使用python 3.x版本、以Anaconda來安裝Python套件、以jupyter notebook為教學環境，因此請上Anaconda網站 [https://www.anaconda.com/download/](https://www.anaconda.com/download/) 下載符合你的作業系統的Python3.x Anaconda版本。並觀看以下說明了解要如何使用Anaconda IDE\n",
    "\n",
    "1. 1.下載並安裝Anaconda [https://docs.anaconda.com/anaconda/install/](https://docs.anaconda.com/anaconda/install/)\n",
    "2. 2.如何使用Anaconda Navigator [https://docs.anaconda.com/anaconda/navigator/](https://docs.anaconda.com/anaconda/navigator/)\n",
    "\n",
    "Tip. 你可以上網搜尋「install anaconda」或「using jupyter notebook」，可以在youtube找到相當多的教學影片，教你如何安裝或啟用jupyter notebook\n",
    "\n",
    "### **使用conda指令來安裝或更新套件**\n",
    "\n",
    "通常一個程式語言的執行會啟動其預載的基本套件，讓你可以使用該程式語言的基本功能，如資料結構、流程控制，以及部分的數學函式。而要做更多的科學計算、資料分析或機器學習就要仰賴第三方所開發的套件，這些套件如numpy、matplotlib、pandas、beautifulsoup4、gensim等，都需要先安裝在電腦上，並在程式碼執行前，加載入現下的執行環境才可以使用這些套件所提供的函式。Anaconda提供了一套便利的安裝方式，可以在Mac上的Terminal或Win上的CMD的命令列輸入conda指令就安裝所需要的套件。所謂安裝的概念是把該套件從遠端第三方伺服器上載回你的電腦並安裝在你電腦裡，但這不代表你的程式已經可以開始使用它了，每次你要執行該程式的時候，都還必須要載入（import）它才可以開始使用。請見以下Anaconda的官方說明了解要如何用conda安裝與更新python套件。[https://conda.io/docs/user-guide/getting-started.html](https://conda.io/docs/user-guide/getting-started.html)"
   ]
  },
  {
   "cell_type": "markdown",
   "id": "53ba9a93-e599-441e-b503-efef8bc2826c",
   "metadata": {},
   "source": [
    "### jupyter notebook\n",
    "\n",
    "1. **下載課程內容**: [https://github.com/P4CSS/PSS](https://github.com/P4CSS/PSS)\n",
    "2. **開啟jupyter notebook**: 開啟cmd.exe (wins) 或terminal.app (osx)，並輸入`jupyter notebook` 以啟動他。\n",
    "    \n",
    "    ![Open cmd.exe (wins) or terminal.app (osx), type jupyter notebook to start it](https://s3-us-west-2.amazonaws.com/secure.notion-static.com/d13849e9-2d86-403a-91a1-5b1338d9a907/Untitled.png)\n",
    "    \n",
    "    Open cmd.exe (wins) or terminal.app (osx), type jupyter notebook to start it\n",
    "    \n",
    "    也可以打開Anaconda Navigator，然後選擇Jupyter notebook執行它。\n",
    "    \n",
    "    ![Open Anaconda-Navigator then Start the jupyter notebook](https://s3-us-west-2.amazonaws.com/secure.notion-static.com/af39db82-0da0-49ff-a253-172e4f5aa218/Untitled.png)\n",
    "    \n",
    "    Open Anaconda-Navigator then Start the jupyter notebook\n",
    "    \n",
    "3. 啟動後命令視窗（cmd.exe或terminal.app）會出現一段有token的網址，請記得有這回事，當不小心關掉所有視窗後，只要用這段網址貼在網址列就可以重新打開jupyter notebook。\n",
    "    \n",
    "    ![Copy/paste the URL into your browser to open the jupyter notebook](https://s3-us-west-2.amazonaws.com/secure.notion-static.com/38434cf0-5178-43c0-93ab-bcf88c4c0210/Untitled.png)\n",
    "    \n",
    "    Copy/paste the URL into your browser to open the jupyter notebook\n",
    "    \n",
    "\n",
    "#### **快速鍵jupyter notebook**\n",
    "\n",
    "* `Shift + Enter` run the current cell, select below\n",
    "* `Ctrl + Enter` run selected cells\n",
    "* `Alt + Enter` run the current cell, insert below\n",
    "* `Ctrl + S` save and checkpoint\n",
    "* `Enter` take you into edit mode\n",
    "* `D, D (press the key twice)` delete selected cells\n",
    "* `Esc` take you into command mode\n",
    "* `Y` change the cell type to *Code*\n",
    "* `M` change the cell type to *Markdown*\n",
    "* `A` insert cell above\n",
    "* `B` insert cell below"
   ]
  },
  {
   "cell_type": "markdown",
   "id": "4a995ac9-0b62-4544-9975-762eef8416f5",
   "metadata": {},
   "source": [
    "## **jupyter lab**\n",
    "\n",
    "建議jupyter notebook的使用者可直接改用jupyter lab，用法和jupyter notebook一樣，又可以讓存取檔案、操作資料變的更方便。打開Anaconda-Navigator就可以找到JupyterLab，或者直接在Command Line輸入jupyter lab就可以啟動。編輯起來跟jupyter notebook一樣，但可以拖拉Cell，和有完整的Topic-of-content supports，拜訪整個檔案結構也比較方便。"
   ]
  },
  {
   "cell_type": "markdown",
   "id": "fa3ef42c-be19-40e0-9f48-958dcd97593c",
   "metadata": {},
   "source": [
    "## PyCharm\n",
    "\n",
    "1. Applying PyChamr free license for students and faculties. \n",
    "[Free Educational Licenses - Community Support (jetbrains.com)](https://www.jetbrains.com/community/education/#students)\n",
    "2. Install PyCharm\n",
    "3. Set up Project interpreter of PyCharm to Anaconda existing environment. \n",
    "[How to setup PyCharm with an anaconda virtual environment already created | by Aseem Bansal](https://medium.com/infinity-aka-aseem/how-to-setup-pycharm-with-an-anaconda-virtual-environment-already-created-fb927bacbe61)\n"
   ]
  }
 ],
 "metadata": {
  "kernelspec": {
   "display_name": "Python 3 (ipykernel)",
   "language": "python",
   "name": "python3"
  },
  "language_info": {
   "codemirror_mode": {
    "name": "ipython",
    "version": 3
   },
   "file_extension": ".py",
   "mimetype": "text/x-python",
   "name": "python",
   "nbconvert_exporter": "python",
   "pygments_lexer": "ipython3",
   "version": "3.9.12"
  }
 },
 "nbformat": 4,
 "nbformat_minor": 5
}
